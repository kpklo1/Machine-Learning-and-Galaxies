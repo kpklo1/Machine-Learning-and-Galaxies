{
 "cells": [
  {
   "cell_type": "code",
   "execution_count": 9,
   "metadata": {},
   "outputs": [],
   "source": [
    "import keras\n",
    "import tensorflow as tf\n",
    "import glob\n",
    "from pathlib import Path\n",
    "from astropy.io import fits\n",
    "import numpy as np\n",
    "import pandas as pd\n",
    "from sklearn.model_selection import train_test_split\n",
    "from keras import Sequential\n",
    "from keras.layers import Dense\n",
    "from keras.models import Sequential\n",
    "from keras.layers import Dense, Flatten, Activation, Dropout\n",
    "import time"
   ]
  },
  {
   "cell_type": "code",
   "execution_count": 10,
   "metadata": {},
   "outputs": [
    {
     "name": "stdout",
     "output_type": "stream",
     "text": [
      "2.0.0\n"
     ]
    }
   ],
   "source": [
    "print(tf.__version__)"
   ]
  },
  {
   "cell_type": "markdown",
   "metadata": {},
   "source": [
    "# DFNN"
   ]
  },
  {
   "cell_type": "markdown",
   "metadata": {},
   "source": [
    "# CNN"
   ]
  },
  {
   "cell_type": "code",
   "execution_count": 11,
   "metadata": {},
   "outputs": [
    {
     "name": "stdout",
     "output_type": "stream",
     "text": [
      "3123\n",
      "Runtime 46.23882932400011 seconds\n"
     ]
    }
   ],
   "source": [
    "tic = time.perf_counter()\n",
    "galaxy = np.zeros((40,40))\n",
    "for filepath in glob.iglob('../Data/npycutouts/galaxyfits/*npy', recursive=True):\n",
    "    fp = Path(filepath)\n",
    "    array = np.load(fp)\n",
    "    galaxy = np.dstack((galaxy,array))\n",
    "galaxy = galaxy[:,:,1:]\n",
    "print(galaxy.shape[2])\n",
    "toc = time.perf_counter()\n",
    "print(f\"Runtime {toc - tic} seconds\")"
   ]
  },
  {
   "cell_type": "code",
   "execution_count": 12,
   "metadata": {},
   "outputs": [
    {
     "name": "stdout",
     "output_type": "stream",
     "text": [
      "40\n"
     ]
    }
   ],
   "source": [
    "from scipy.ndimage import rotate\n",
    "galaxy = np.dstack((galaxy, np.rot90(galaxy,1),np.rot90(galaxy,2),np.rot90(galaxy,3)))\n",
    "galaxy = np.dstack((galaxy,np.flip(galaxy,axis=0)))\n",
    "print(len(galaxy))"
   ]
  },
  {
   "cell_type": "code",
   "execution_count": 13,
   "metadata": {},
   "outputs": [
    {
     "name": "stdout",
     "output_type": "stream",
     "text": [
      "(40, 40, 24984)\n"
     ]
    }
   ],
   "source": [
    "print(galaxy.shape)"
   ]
  },
  {
   "cell_type": "code",
   "execution_count": 12,
   "metadata": {},
   "outputs": [
    {
     "data": {
      "text/plain": [
       "'\\ndatagen = ImageDataGenerator(\\n    featurewise_center=True,\\n    featurewise_std_normalization=True,\\n    rotation_range=20,\\n    width_shift_range=0.2,\\n    height_shift_range=0.2,\\n    horizontal_flip=True)\\n    '"
      ]
     },
     "execution_count": 12,
     "metadata": {},
     "output_type": "execute_result"
    }
   ],
   "source": [
    "'''\n",
    "datagen = ImageDataGenerator(\n",
    "    featurewise_center=True,\n",
    "    featurewise_std_normalization=True,\n",
    "    rotation_range=20,\n",
    "    width_shift_range=0.2,\n",
    "    height_shift_range=0.2,\n",
    "    horizontal_flip=True)\n",
    "    '''"
   ]
  },
  {
   "cell_type": "code",
   "execution_count": 14,
   "metadata": {},
   "outputs": [
    {
     "name": "stdout",
     "output_type": "stream",
     "text": [
      "(40, 40, 24984)\n",
      "Runtime 2872.2398550420003 seconds\n"
     ]
    }
   ],
   "source": [
    "tic = time.perf_counter()\n",
    "star = np.zeros((40,40))\n",
    "count = 0\n",
    "for filepath in glob.iglob('../Data/npycutouts/starfits/*npy', recursive=True):\n",
    "    fp = Path(filepath)\n",
    "    array = np.load(fp)\n",
    "    star = np.dstack((star,array))\n",
    "    count += 1\n",
    "    if count == galaxy.shape[2]:\n",
    "        break\n",
    "star = star[:,:,1:]\n",
    "print(star.shape)\n",
    "toc = time.perf_counter()\n",
    "print(f\"Runtime {toc - tic} seconds\")"
   ]
  },
  {
   "cell_type": "code",
   "execution_count": 15,
   "metadata": {},
   "outputs": [
    {
     "name": "stdout",
     "output_type": "stream",
     "text": [
      "(40, 40, 49968)\n"
     ]
    }
   ],
   "source": [
    "X = np.dstack((galaxy,star))\n",
    "y = np.dstack((np.ones((1,1,galaxy.shape[2])),np.zeros((1,1,star.shape[2]))))\n",
    "print(X.shape)"
   ]
  },
  {
   "cell_type": "code",
   "execution_count": 16,
   "metadata": {},
   "outputs": [],
   "source": [
    "X = np.moveaxis(X, -1, 0)\n",
    "y = np.moveaxis(y, -1, 0)"
   ]
  },
  {
   "cell_type": "code",
   "execution_count": 17,
   "metadata": {},
   "outputs": [
    {
     "name": "stdout",
     "output_type": "stream",
     "text": [
      "(49968, 1, 1)\n"
     ]
    }
   ],
   "source": [
    "print(y.shape)"
   ]
  },
  {
   "cell_type": "code",
   "execution_count": 18,
   "metadata": {},
   "outputs": [],
   "source": [
    "X_train, X_test, y_train, y_test = train_test_split(X, y, test_size=0.2)"
   ]
  },
  {
   "cell_type": "code",
   "execution_count": 19,
   "metadata": {},
   "outputs": [],
   "source": [
    "y_train = y_train.reshape(-1, 1)\n",
    "y_test = y_test.reshape(-1, 1)"
   ]
  },
  {
   "cell_type": "code",
   "execution_count": 20,
   "metadata": {},
   "outputs": [],
   "source": [
    "X_train = X_train.reshape(len(X_train),40,40,1)\n",
    "X_test = X_test.reshape(len(X_test),40,40,1)"
   ]
  },
  {
   "cell_type": "code",
   "execution_count": null,
   "metadata": {},
   "outputs": [],
   "source": [
    "from keras.models import Sequential\n",
    "from keras.layers import Dense, Conv2D, Flatten, MaxPooling2D\n",
    "#create model\n",
    "model = Sequential()\n",
    "#add model layers\n",
    "model.add(Conv2D(16, kernel_size=5, activation='relu', input_shape=(40,40,1)))\n",
    "model.add(MaxPooling2D(pool_size=(2, 2)))\n",
    "model.add(Conv2D(32, kernel_size=3, activation='relu'))\n",
    "model.add(MaxPooling2D(pool_size=(2, 2)))\n",
    "model.add(Conv2D(64, kernel_size=3, activation='relu'))\n",
    "model.add(MaxPooling2D(pool_size=(2, 2)))\n",
    "model.add(Dropout(0.25))\n",
    "model.add(Flatten())\n",
    "model.add(Dense(256, activation='relu', kernel_initializer='random_normal'))\n",
    "model.add(Dropout(0.5))\n",
    "model.add(Dense(1, activation='sigmoid'))\n",
    "#Compiling the neural network\n",
    "model.compile(optimizer ='Adadelta',loss='binary_crossentropy', metrics =['accuracy'])\n",
    "#Fitting the data to the training dataset\n",
    "model.fit(X_train,y_train, batch_size=32, epochs=1024, shuffle=True, use_multiprocessing=True)"
   ]
  },
  {
   "cell_type": "code",
   "execution_count": null,
   "metadata": {},
   "outputs": [
    {
     "name": "stdout",
     "output_type": "stream",
     "text": [
      "Epoch 1/1024\n",
      "39974/39974 [==============================] - 126s 3ms/step - loss: 2.1681 - accuracy: 0.7317\n",
      "Epoch 2/1024\n",
      "39974/39974 [==============================] - 125s 3ms/step - loss: 0.4785 - accuracy: 0.7827\n",
      "Epoch 3/1024\n",
      "39974/39974 [==============================] - 126s 3ms/step - loss: 0.4540 - accuracy: 0.7948\n",
      "Epoch 4/1024\n",
      "39974/39974 [==============================] - 125s 3ms/step - loss: 0.4295 - accuracy: 0.8049\n",
      "Epoch 5/1024\n",
      "39974/39974 [==============================] - 125s 3ms/step - loss: 0.4155 - accuracy: 0.8107\n",
      "Epoch 6/1024\n",
      "39974/39974 [==============================] - 125s 3ms/step - loss: 0.4035 - accuracy: 0.8203\n",
      "Epoch 7/1024\n",
      "39974/39974 [==============================] - 125s 3ms/step - loss: 0.3978 - accuracy: 0.8238\n",
      "Epoch 8/1024\n",
      "39974/39974 [==============================] - 125s 3ms/step - loss: 0.3849 - accuracy: 0.8315\n",
      "Epoch 9/1024\n",
      "39974/39974 [==============================] - 125s 3ms/step - loss: 0.3808 - accuracy: 0.8356\n",
      "Epoch 10/1024\n",
      "39974/39974 [==============================] - 126s 3ms/step - loss: 0.3702 - accuracy: 0.8403\n",
      "Epoch 11/1024\n",
      "39974/39974 [==============================] - 125s 3ms/step - loss: 0.3619 - accuracy: 0.8465\n",
      "Epoch 12/1024\n",
      "39974/39974 [==============================] - 125s 3ms/step - loss: 0.3546 - accuracy: 0.8500\n",
      "Epoch 13/1024\n",
      "39974/39974 [==============================] - 125s 3ms/step - loss: 0.3488 - accuracy: 0.8545\n",
      "Epoch 14/1024\n",
      "39974/39974 [==============================] - 126s 3ms/step - loss: 0.3424 - accuracy: 0.8568\n",
      "Epoch 15/1024\n",
      "39974/39974 [==============================] - 126s 3ms/step - loss: 0.3360 - accuracy: 0.8615\n",
      "Epoch 16/1024\n",
      "39974/39974 [==============================] - 126s 3ms/step - loss: 0.3322 - accuracy: 0.8631\n",
      "Epoch 17/1024\n",
      "39974/39974 [==============================] - 126s 3ms/step - loss: 0.3261 - accuracy: 0.8663\n",
      "Epoch 18/1024\n",
      "39974/39974 [==============================] - 125s 3ms/step - loss: 0.3250 - accuracy: 0.8668\n",
      "Epoch 19/1024\n",
      "39974/39974 [==============================] - 126s 3ms/step - loss: 0.3214 - accuracy: 0.8702\n",
      "Epoch 20/1024\n",
      "39974/39974 [==============================] - 126s 3ms/step - loss: 0.3168 - accuracy: 0.8740\n",
      "Epoch 21/1024\n",
      "39974/39974 [==============================] - 126s 3ms/step - loss: 0.3132 - accuracy: 0.8742\n",
      "Epoch 22/1024\n",
      "39974/39974 [==============================] - 126s 3ms/step - loss: 0.3096 - accuracy: 0.8770\n",
      "Epoch 23/1024\n",
      "39974/39974 [==============================] - 126s 3ms/step - loss: 0.3022 - accuracy: 0.8797\n",
      "Epoch 24/1024\n",
      "39974/39974 [==============================] - 125s 3ms/step - loss: 0.3017 - accuracy: 0.8814\n",
      "Epoch 25/1024\n",
      "39974/39974 [==============================] - 126s 3ms/step - loss: 0.2980 - accuracy: 0.8822\n",
      "Epoch 26/1024\n",
      "39974/39974 [==============================] - 126s 3ms/step - loss: 0.2927 - accuracy: 0.8834\n",
      "Epoch 27/1024\n",
      "39974/39974 [==============================] - 126s 3ms/step - loss: 0.2916 - accuracy: 0.8849\n",
      "Epoch 28/1024\n",
      "39974/39974 [==============================] - 126s 3ms/step - loss: 0.2941 - accuracy: 0.8852\n",
      "Epoch 29/1024\n",
      "39974/39974 [==============================] - 126s 3ms/step - loss: 0.2867 - accuracy: 0.8875\n",
      "Epoch 30/1024\n",
      "39974/39974 [==============================] - 126s 3ms/step - loss: 0.2853 - accuracy: 0.8880\n",
      "Epoch 31/1024\n",
      "39974/39974 [==============================] - 126s 3ms/step - loss: 0.2816 - accuracy: 0.8925\n",
      "Epoch 32/1024\n",
      "39974/39974 [==============================] - 126s 3ms/step - loss: 0.2821 - accuracy: 0.8905\n",
      "Epoch 33/1024\n",
      "39974/39974 [==============================] - 126s 3ms/step - loss: 0.2792 - accuracy: 0.8920\n",
      "Epoch 34/1024\n",
      "39974/39974 [==============================] - 127s 3ms/step - loss: 0.2733 - accuracy: 0.8949\n",
      "Epoch 35/1024\n",
      "39974/39974 [==============================] - 126s 3ms/step - loss: 0.2735 - accuracy: 0.8950\n",
      "Epoch 36/1024\n",
      "39974/39974 [==============================] - 126s 3ms/step - loss: 0.2731 - accuracy: 0.8934\n",
      "Epoch 37/1024\n",
      "39974/39974 [==============================] - 126s 3ms/step - loss: 0.2661 - accuracy: 0.8965\n",
      "Epoch 38/1024\n",
      "39974/39974 [==============================] - 126s 3ms/step - loss: 0.2680 - accuracy: 0.8964\n",
      "Epoch 39/1024\n",
      "39974/39974 [==============================] - 126s 3ms/step - loss: 0.2665 - accuracy: 0.8986\n",
      "Epoch 40/1024\n",
      "39974/39974 [==============================] - 126s 3ms/step - loss: 0.2655 - accuracy: 0.8967\n",
      "Epoch 41/1024\n",
      "39974/39974 [==============================] - 126s 3ms/step - loss: 0.2689 - accuracy: 0.8995\n",
      "Epoch 42/1024\n",
      "39974/39974 [==============================] - 126s 3ms/step - loss: 0.2586 - accuracy: 0.9020\n",
      "Epoch 43/1024\n",
      "39974/39974 [==============================] - 126s 3ms/step - loss: 0.2602 - accuracy: 0.9004\n",
      "Epoch 44/1024\n",
      "39974/39974 [==============================] - 126s 3ms/step - loss: 0.2548 - accuracy: 0.9024\n",
      "Epoch 45/1024\n",
      "39974/39974 [==============================] - 126s 3ms/step - loss: 0.2544 - accuracy: 0.9035\n",
      "Epoch 46/1024\n",
      "39974/39974 [==============================] - 126s 3ms/step - loss: 0.2522 - accuracy: 0.9028\n",
      "Epoch 47/1024\n",
      "39974/39974 [==============================] - 126s 3ms/step - loss: 0.2526 - accuracy: 0.9033\n",
      "Epoch 48/1024\n",
      "39974/39974 [==============================] - 126s 3ms/step - loss: 0.2506 - accuracy: 0.9051\n",
      "Epoch 49/1024\n",
      "39974/39974 [==============================] - 126s 3ms/step - loss: 0.2474 - accuracy: 0.9075\n",
      "Epoch 50/1024\n",
      "39974/39974 [==============================] - 126s 3ms/step - loss: 0.2424 - accuracy: 0.9079\n",
      "Epoch 51/1024\n",
      "39974/39974 [==============================] - 126s 3ms/step - loss: 0.2470 - accuracy: 0.9064\n",
      "Epoch 52/1024\n",
      "39974/39974 [==============================] - 126s 3ms/step - loss: 0.2429 - accuracy: 0.9079\n",
      "Epoch 53/1024\n",
      "39974/39974 [==============================] - 126s 3ms/step - loss: 0.2428 - accuracy: 0.9088\n",
      "Epoch 54/1024\n",
      "39974/39974 [==============================] - 126s 3ms/step - loss: 0.2395 - accuracy: 0.9094\n",
      "Epoch 55/1024\n",
      "39974/39974 [==============================] - 126s 3ms/step - loss: 0.2392 - accuracy: 0.9089\n",
      "Epoch 56/1024\n",
      "39974/39974 [==============================] - 126s 3ms/step - loss: 0.2398 - accuracy: 0.9110\n",
      "Epoch 57/1024\n",
      "39974/39974 [==============================] - 126s 3ms/step - loss: 0.2385 - accuracy: 0.9107\n",
      "Epoch 58/1024\n",
      "39974/39974 [==============================] - 126s 3ms/step - loss: 0.2367 - accuracy: 0.9101\n",
      "Epoch 59/1024\n",
      "39974/39974 [==============================] - 126s 3ms/step - loss: 0.2373 - accuracy: 0.9113\n",
      "Epoch 60/1024\n",
      "39974/39974 [==============================] - 126s 3ms/step - loss: 0.2329 - accuracy: 0.9129\n",
      "Epoch 61/1024\n",
      "39974/39974 [==============================] - 126s 3ms/step - loss: 0.2335 - accuracy: 0.9115\n",
      "Epoch 62/1024\n",
      "39974/39974 [==============================] - 126s 3ms/step - loss: 0.2360 - accuracy: 0.9138\n",
      "Epoch 63/1024\n",
      "39974/39974 [==============================] - 126s 3ms/step - loss: 0.2296 - accuracy: 0.9141\n",
      "Epoch 64/1024\n",
      "39974/39974 [==============================] - 126s 3ms/step - loss: 0.2306 - accuracy: 0.9129\n",
      "Epoch 65/1024\n",
      "39974/39974 [==============================] - 126s 3ms/step - loss: 0.2309 - accuracy: 0.9144\n",
      "Epoch 66/1024\n",
      "39974/39974 [==============================] - 126s 3ms/step - loss: 0.2280 - accuracy: 0.9150\n",
      "Epoch 67/1024\n",
      "39974/39974 [==============================] - 126s 3ms/step - loss: 0.2237 - accuracy: 0.9160\n",
      "Epoch 68/1024\n",
      "39974/39974 [==============================] - 126s 3ms/step - loss: 0.2245 - accuracy: 0.9169\n",
      "Epoch 69/1024\n",
      "39974/39974 [==============================] - 126s 3ms/step - loss: 0.2260 - accuracy: 0.9165\n",
      "Epoch 70/1024\n",
      "39974/39974 [==============================] - 126s 3ms/step - loss: 0.2231 - accuracy: 0.9173\n",
      "Epoch 71/1024\n",
      "39974/39974 [==============================] - 126s 3ms/step - loss: 0.2226 - accuracy: 0.9168\n",
      "Epoch 72/1024\n",
      "39974/39974 [==============================] - 126s 3ms/step - loss: 0.2195 - accuracy: 0.9187\n",
      "Epoch 73/1024\n",
      "39974/39974 [==============================] - 126s 3ms/step - loss: 0.2225 - accuracy: 0.9176\n",
      "Epoch 74/1024\n",
      "39974/39974 [==============================] - 126s 3ms/step - loss: 0.2212 - accuracy: 0.9167\n",
      "Epoch 75/1024\n",
      "39974/39974 [==============================] - 126s 3ms/step - loss: 0.2226 - accuracy: 0.9173\n",
      "Epoch 76/1024\n"
     ]
    },
    {
     "name": "stdout",
     "output_type": "stream",
     "text": [
      "39974/39974 [==============================] - 126s 3ms/step - loss: 0.2159 - accuracy: 0.9209\n",
      "Epoch 77/1024\n",
      "39974/39974 [==============================] - 126s 3ms/step - loss: 0.2163 - accuracy: 0.9203\n",
      "Epoch 78/1024\n",
      "39974/39974 [==============================] - 126s 3ms/step - loss: 0.2124 - accuracy: 0.9206\n",
      "Epoch 79/1024\n",
      "39974/39974 [==============================] - 126s 3ms/step - loss: 0.2142 - accuracy: 0.9212\n",
      "Epoch 80/1024\n",
      "39974/39974 [==============================] - 126s 3ms/step - loss: 0.2128 - accuracy: 0.9217\n",
      "Epoch 81/1024\n",
      "39974/39974 [==============================] - 126s 3ms/step - loss: 0.2139 - accuracy: 0.9208\n",
      "Epoch 82/1024\n",
      "39974/39974 [==============================] - 126s 3ms/step - loss: 0.2110 - accuracy: 0.9218\n",
      "Epoch 83/1024\n",
      "39974/39974 [==============================] - 126s 3ms/step - loss: 0.2109 - accuracy: 0.9224\n",
      "Epoch 84/1024\n",
      "39974/39974 [==============================] - 126s 3ms/step - loss: 0.2138 - accuracy: 0.9208\n",
      "Epoch 85/1024\n",
      "39974/39974 [==============================] - 126s 3ms/step - loss: 0.2112 - accuracy: 0.9227\n",
      "Epoch 86/1024\n",
      "39974/39974 [==============================] - 125s 3ms/step - loss: 0.2110 - accuracy: 0.9219\n",
      "Epoch 87/1024\n",
      "39974/39974 [==============================] - 126s 3ms/step - loss: 0.2104 - accuracy: 0.9232\n",
      "Epoch 88/1024\n",
      "39974/39974 [==============================] - 126s 3ms/step - loss: 0.2112 - accuracy: 0.9217\n",
      "Epoch 89/1024\n",
      "39974/39974 [==============================] - 126s 3ms/step - loss: 0.2078 - accuracy: 0.9232\n",
      "Epoch 90/1024\n",
      "39974/39974 [==============================] - 126s 3ms/step - loss: 0.2167 - accuracy: 0.9183\n",
      "Epoch 91/1024\n",
      "39974/39974 [==============================] - 126s 3ms/step - loss: 0.2092 - accuracy: 0.9224\n",
      "Epoch 92/1024\n",
      "39974/39974 [==============================] - 126s 3ms/step - loss: 0.2068 - accuracy: 0.9241\n",
      "Epoch 93/1024\n",
      "39974/39974 [==============================] - 126s 3ms/step - loss: 0.2061 - accuracy: 0.9245\n",
      "Epoch 94/1024\n",
      "39974/39974 [==============================] - 126s 3ms/step - loss: 0.2030 - accuracy: 0.9257\n",
      "Epoch 95/1024\n",
      "39974/39974 [==============================] - 126s 3ms/step - loss: 0.2028 - accuracy: 0.9247\n",
      "Epoch 96/1024\n",
      "39974/39974 [==============================] - 126s 3ms/step - loss: 0.2022 - accuracy: 0.9265\n",
      "Epoch 97/1024\n",
      "39974/39974 [==============================] - 126s 3ms/step - loss: 0.1991 - accuracy: 0.9263\n",
      "Epoch 98/1024\n",
      "39974/39974 [==============================] - 125s 3ms/step - loss: 0.1988 - accuracy: 0.9269\n",
      "Epoch 99/1024\n",
      "39974/39974 [==============================] - 126s 3ms/step - loss: 0.2018 - accuracy: 0.9256\n",
      "Epoch 100/1024\n",
      "39974/39974 [==============================] - 125s 3ms/step - loss: 0.1992 - accuracy: 0.9257\n",
      "Epoch 101/1024\n",
      "39974/39974 [==============================] - 125s 3ms/step - loss: 0.1986 - accuracy: 0.9277\n",
      "Epoch 102/1024\n",
      "39974/39974 [==============================] - 126s 3ms/step - loss: 0.1951 - accuracy: 0.9283\n",
      "Epoch 103/1024\n",
      "39974/39974 [==============================] - 125s 3ms/step - loss: 0.1972 - accuracy: 0.9280\n",
      "Epoch 104/1024\n",
      "39974/39974 [==============================] - 125s 3ms/step - loss: 0.1970 - accuracy: 0.9273\n",
      "Epoch 105/1024\n",
      "39974/39974 [==============================] - 125s 3ms/step - loss: 0.1952 - accuracy: 0.9286\n",
      "Epoch 106/1024\n",
      "39974/39974 [==============================] - 126s 3ms/step - loss: 0.1951 - accuracy: 0.9286\n",
      "Epoch 107/1024\n",
      "39974/39974 [==============================] - 125s 3ms/step - loss: 0.1956 - accuracy: 0.9283\n",
      "Epoch 108/1024\n",
      "39974/39974 [==============================] - 125s 3ms/step - loss: 0.1886 - accuracy: 0.9322\n",
      "Epoch 109/1024\n",
      "39974/39974 [==============================] - 126s 3ms/step - loss: 0.1930 - accuracy: 0.9301\n",
      "Epoch 110/1024\n",
      "39974/39974 [==============================] - 125s 3ms/step - loss: 0.1961 - accuracy: 0.9300\n",
      "Epoch 111/1024\n",
      "39974/39974 [==============================] - 125s 3ms/step - loss: 0.1919 - accuracy: 0.9301\n",
      "Epoch 112/1024\n",
      "39974/39974 [==============================] - 127s 3ms/step - loss: 0.1923 - accuracy: 0.9291\n",
      "Epoch 113/1024\n",
      "39974/39974 [==============================] - 125s 3ms/step - loss: 0.1918 - accuracy: 0.9301\n",
      "Epoch 114/1024\n",
      "39974/39974 [==============================] - 125s 3ms/step - loss: 0.1905 - accuracy: 0.9303\n",
      "Epoch 115/1024\n",
      "39974/39974 [==============================] - 125s 3ms/step - loss: 0.1913 - accuracy: 0.9310\n",
      "Epoch 116/1024\n",
      "39974/39974 [==============================] - 126s 3ms/step - loss: 0.1917 - accuracy: 0.9298\n",
      "Epoch 117/1024\n",
      "39974/39974 [==============================] - 126s 3ms/step - loss: 0.1878 - accuracy: 0.9314\n",
      "Epoch 118/1024\n",
      "39974/39974 [==============================] - 126s 3ms/step - loss: 0.1841 - accuracy: 0.9321\n",
      "Epoch 119/1024\n",
      "39974/39974 [==============================] - 125s 3ms/step - loss: 0.1879 - accuracy: 0.9318\n",
      "Epoch 120/1024\n",
      "39974/39974 [==============================] - 125s 3ms/step - loss: 0.1858 - accuracy: 0.9323\n",
      "Epoch 121/1024\n",
      "39974/39974 [==============================] - 125s 3ms/step - loss: 0.1885 - accuracy: 0.9312\n",
      "Epoch 122/1024\n",
      "39974/39974 [==============================] - 125s 3ms/step - loss: 0.1863 - accuracy: 0.9324\n",
      "Epoch 123/1024\n",
      "39974/39974 [==============================] - 126s 3ms/step - loss: 0.1847 - accuracy: 0.9339\n",
      "Epoch 124/1024\n",
      "39974/39974 [==============================] - 125s 3ms/step - loss: 0.1837 - accuracy: 0.9321\n",
      "Epoch 125/1024\n",
      "39974/39974 [==============================] - 126s 3ms/step - loss: 0.1845 - accuracy: 0.9317\n",
      "Epoch 126/1024\n",
      "39974/39974 [==============================] - 125s 3ms/step - loss: 0.1816 - accuracy: 0.9330\n",
      "Epoch 127/1024\n",
      "39974/39974 [==============================] - 125s 3ms/step - loss: 0.1810 - accuracy: 0.9327\n",
      "Epoch 128/1024\n",
      "39974/39974 [==============================] - 125s 3ms/step - loss: 0.1815 - accuracy: 0.9346\n",
      "Epoch 129/1024\n",
      "39974/39974 [==============================] - 125s 3ms/step - loss: 0.1823 - accuracy: 0.9339\n",
      "Epoch 130/1024\n",
      "39974/39974 [==============================] - 126s 3ms/step - loss: 0.1817 - accuracy: 0.9333\n",
      "Epoch 131/1024\n",
      "39974/39974 [==============================] - 126s 3ms/step - loss: 0.1814 - accuracy: 0.9333\n",
      "Epoch 132/1024\n",
      "39974/39974 [==============================] - 125s 3ms/step - loss: 0.1795 - accuracy: 0.9353\n",
      "Epoch 133/1024\n",
      "39974/39974 [==============================] - 125s 3ms/step - loss: 0.1764 - accuracy: 0.9356\n",
      "Epoch 134/1024\n",
      "39974/39974 [==============================] - 126s 3ms/step - loss: 0.1785 - accuracy: 0.9355\n",
      "Epoch 135/1024\n",
      "39974/39974 [==============================] - 125s 3ms/step - loss: 0.1788 - accuracy: 0.9357\n",
      "Epoch 136/1024\n",
      "39974/39974 [==============================] - 125s 3ms/step - loss: 0.1772 - accuracy: 0.9337\n",
      "Epoch 137/1024\n",
      "39974/39974 [==============================] - 126s 3ms/step - loss: 0.1753 - accuracy: 0.9358\n",
      "Epoch 138/1024\n",
      "39974/39974 [==============================] - 126s 3ms/step - loss: 0.1764 - accuracy: 0.9356\n",
      "Epoch 139/1024\n",
      "39974/39974 [==============================] - 125s 3ms/step - loss: 0.1768 - accuracy: 0.9353\n",
      "Epoch 140/1024\n",
      "39974/39974 [==============================] - 126s 3ms/step - loss: 0.1741 - accuracy: 0.9370\n",
      "Epoch 141/1024\n",
      "39974/39974 [==============================] - 126s 3ms/step - loss: 0.1774 - accuracy: 0.9363\n",
      "Epoch 142/1024\n",
      "39974/39974 [==============================] - 126s 3ms/step - loss: 0.1746 - accuracy: 0.9360\n",
      "Epoch 143/1024\n",
      "39974/39974 [==============================] - 126s 3ms/step - loss: 0.1759 - accuracy: 0.9368\n",
      "Epoch 144/1024\n",
      "39974/39974 [==============================] - 126s 3ms/step - loss: 0.1742 - accuracy: 0.9368\n",
      "Epoch 145/1024\n",
      "39974/39974 [==============================] - 126s 3ms/step - loss: 0.1728 - accuracy: 0.9369\n",
      "Epoch 146/1024\n",
      "39974/39974 [==============================] - 126s 3ms/step - loss: 0.1710 - accuracy: 0.9380\n",
      "Epoch 147/1024\n",
      "39974/39974 [==============================] - 126s 3ms/step - loss: 0.1707 - accuracy: 0.9371\n",
      "Epoch 148/1024\n",
      "39974/39974 [==============================] - 126s 3ms/step - loss: 0.1719 - accuracy: 0.9382\n",
      "Epoch 149/1024\n",
      "39974/39974 [==============================] - 126s 3ms/step - loss: 0.1718 - accuracy: 0.9382\n",
      "Epoch 150/1024\n"
     ]
    },
    {
     "name": "stdout",
     "output_type": "stream",
     "text": [
      "39974/39974 [==============================] - 126s 3ms/step - loss: 0.1726 - accuracy: 0.9375\n",
      "Epoch 151/1024\n",
      "39974/39974 [==============================] - 125s 3ms/step - loss: 0.1726 - accuracy: 0.9379\n",
      "Epoch 152/1024\n",
      "39974/39974 [==============================] - 125s 3ms/step - loss: 0.1701 - accuracy: 0.9385\n",
      "Epoch 153/1024\n",
      "39974/39974 [==============================] - 126s 3ms/step - loss: 0.1686 - accuracy: 0.9390\n",
      "Epoch 154/1024\n",
      "39974/39974 [==============================] - 125s 3ms/step - loss: 0.1710 - accuracy: 0.9383\n",
      "Epoch 155/1024\n",
      "39974/39974 [==============================] - 126s 3ms/step - loss: 0.1670 - accuracy: 0.9389\n",
      "Epoch 156/1024\n",
      "39974/39974 [==============================] - 126s 3ms/step - loss: 0.1667 - accuracy: 0.9398\n",
      "Epoch 157/1024\n",
      "39974/39974 [==============================] - 126s 3ms/step - loss: 0.1670 - accuracy: 0.9396\n",
      "Epoch 158/1024\n",
      "39974/39974 [==============================] - 125s 3ms/step - loss: 0.1667 - accuracy: 0.9390\n",
      "Epoch 159/1024\n",
      "39974/39974 [==============================] - 126s 3ms/step - loss: 0.1702 - accuracy: 0.9382\n",
      "Epoch 160/1024\n",
      "39974/39974 [==============================] - 126s 3ms/step - loss: 0.1653 - accuracy: 0.9390\n",
      "Epoch 161/1024\n",
      "39974/39974 [==============================] - 126s 3ms/step - loss: 0.1659 - accuracy: 0.9408\n",
      "Epoch 162/1024\n",
      "39974/39974 [==============================] - 126s 3ms/step - loss: 0.1684 - accuracy: 0.9401\n",
      "Epoch 163/1024\n",
      "39974/39974 [==============================] - 126s 3ms/step - loss: 0.1676 - accuracy: 0.9386\n",
      "Epoch 164/1024\n",
      "39974/39974 [==============================] - 126s 3ms/step - loss: 0.1636 - accuracy: 0.9403\n",
      "Epoch 165/1024\n",
      "39974/39974 [==============================] - 125s 3ms/step - loss: 0.1632 - accuracy: 0.9421\n",
      "Epoch 166/1024\n",
      "39974/39974 [==============================] - 126s 3ms/step - loss: 0.1632 - accuracy: 0.9417\n",
      "Epoch 167/1024\n",
      "39974/39974 [==============================] - 126s 3ms/step - loss: 0.1654 - accuracy: 0.9398\n",
      "Epoch 168/1024\n",
      "39974/39974 [==============================] - 126s 3ms/step - loss: 0.1603 - accuracy: 0.9407\n",
      "Epoch 169/1024\n",
      "39974/39974 [==============================] - 126s 3ms/step - loss: 0.1612 - accuracy: 0.9411\n",
      "Epoch 170/1024\n",
      "39974/39974 [==============================] - 126s 3ms/step - loss: 0.1643 - accuracy: 0.9406\n",
      "Epoch 171/1024\n",
      "39974/39974 [==============================] - 126s 3ms/step - loss: 0.1627 - accuracy: 0.9417\n",
      "Epoch 172/1024\n",
      "39974/39974 [==============================] - 126s 3ms/step - loss: 0.1608 - accuracy: 0.9415\n",
      "Epoch 173/1024\n",
      "39974/39974 [==============================] - 126s 3ms/step - loss: 0.1596 - accuracy: 0.9438\n",
      "Epoch 174/1024\n",
      "39974/39974 [==============================] - 126s 3ms/step - loss: 0.1622 - accuracy: 0.9404\n",
      "Epoch 175/1024\n",
      "39974/39974 [==============================] - 126s 3ms/step - loss: 0.1615 - accuracy: 0.9411\n",
      "Epoch 176/1024\n",
      "39974/39974 [==============================] - 126s 3ms/step - loss: 0.1621 - accuracy: 0.9410\n",
      "Epoch 177/1024\n",
      "39974/39974 [==============================] - 126s 3ms/step - loss: 0.1612 - accuracy: 0.9423\n",
      "Epoch 178/1024\n",
      "39974/39974 [==============================] - 126s 3ms/step - loss: 0.1568 - accuracy: 0.9431\n",
      "Epoch 179/1024\n",
      "39974/39974 [==============================] - 126s 3ms/step - loss: 0.1581 - accuracy: 0.9425\n",
      "Epoch 180/1024\n",
      "39974/39974 [==============================] - 126s 3ms/step - loss: 0.1561 - accuracy: 0.9434\n",
      "Epoch 181/1024\n",
      "39974/39974 [==============================] - 126s 3ms/step - loss: 0.1614 - accuracy: 0.9406\n",
      "Epoch 182/1024\n",
      "39974/39974 [==============================] - 126s 3ms/step - loss: 0.1610 - accuracy: 0.9412\n",
      "Epoch 183/1024\n",
      "39974/39974 [==============================] - 126s 3ms/step - loss: 0.1600 - accuracy: 0.9416\n",
      "Epoch 184/1024\n",
      "39974/39974 [==============================] - 126s 3ms/step - loss: 0.1610 - accuracy: 0.9410\n",
      "Epoch 185/1024\n",
      "39974/39974 [==============================] - 126s 3ms/step - loss: 0.1546 - accuracy: 0.9424\n",
      "Epoch 186/1024\n",
      "39974/39974 [==============================] - 126s 3ms/step - loss: 0.1578 - accuracy: 0.9425\n",
      "Epoch 187/1024\n",
      "39974/39974 [==============================] - 126s 3ms/step - loss: 0.1581 - accuracy: 0.9422\n",
      "Epoch 188/1024\n",
      "39974/39974 [==============================] - 126s 3ms/step - loss: 0.1546 - accuracy: 0.9437\n",
      "Epoch 189/1024\n",
      "39974/39974 [==============================] - 126s 3ms/step - loss: 0.1553 - accuracy: 0.9433\n",
      "Epoch 190/1024\n",
      "39974/39974 [==============================] - 126s 3ms/step - loss: 0.1591 - accuracy: 0.9416\n",
      "Epoch 191/1024\n",
      "39974/39974 [==============================] - 126s 3ms/step - loss: 0.1526 - accuracy: 0.9443\n",
      "Epoch 192/1024\n",
      "39974/39974 [==============================] - 126s 3ms/step - loss: 0.1555 - accuracy: 0.9440\n",
      "Epoch 193/1024\n",
      "39974/39974 [==============================] - 126s 3ms/step - loss: 0.1498 - accuracy: 0.9447\n",
      "Epoch 194/1024\n",
      "39974/39974 [==============================] - 126s 3ms/step - loss: 0.1561 - accuracy: 0.9427\n",
      "Epoch 195/1024\n",
      "39974/39974 [==============================] - 126s 3ms/step - loss: 0.1577 - accuracy: 0.9425\n",
      "Epoch 196/1024\n",
      "39974/39974 [==============================] - 126s 3ms/step - loss: 0.1563 - accuracy: 0.9429\n",
      "Epoch 197/1024\n",
      "39974/39974 [==============================] - 126s 3ms/step - loss: 0.1539 - accuracy: 0.9448\n",
      "Epoch 198/1024\n",
      "39974/39974 [==============================] - 127s 3ms/step - loss: 0.1489 - accuracy: 0.9465\n",
      "Epoch 199/1024\n",
      "39974/39974 [==============================] - 126s 3ms/step - loss: 0.1506 - accuracy: 0.9458\n",
      "Epoch 200/1024\n",
      "39974/39974 [==============================] - 126s 3ms/step - loss: 0.1541 - accuracy: 0.9439\n",
      "Epoch 201/1024\n",
      "39974/39974 [==============================] - 126s 3ms/step - loss: 0.1497 - accuracy: 0.9448\n",
      "Epoch 202/1024\n",
      "39974/39974 [==============================] - 126s 3ms/step - loss: 0.1512 - accuracy: 0.9445\n",
      "Epoch 203/1024\n",
      "39974/39974 [==============================] - 126s 3ms/step - loss: 0.1509 - accuracy: 0.9440\n",
      "Epoch 204/1024\n",
      "39974/39974 [==============================] - 126s 3ms/step - loss: 0.1517 - accuracy: 0.9447\n",
      "Epoch 205/1024\n",
      "39974/39974 [==============================] - 126s 3ms/step - loss: 0.1497 - accuracy: 0.9453\n",
      "Epoch 206/1024\n",
      "39974/39974 [==============================] - 127s 3ms/step - loss: 0.1475 - accuracy: 0.9457\n",
      "Epoch 207/1024\n",
      "39974/39974 [==============================] - 127s 3ms/step - loss: 0.1475 - accuracy: 0.9468\n",
      "Epoch 208/1024\n",
      "39974/39974 [==============================] - 126s 3ms/step - loss: 0.1450 - accuracy: 0.9464\n",
      "Epoch 209/1024\n",
      "39974/39974 [==============================] - 126s 3ms/step - loss: 0.1503 - accuracy: 0.9451\n",
      "Epoch 210/1024\n",
      "39974/39974 [==============================] - 126s 3ms/step - loss: 0.1474 - accuracy: 0.9461\n",
      "Epoch 211/1024\n",
      "39974/39974 [==============================] - 126s 3ms/step - loss: 0.1468 - accuracy: 0.9472\n",
      "Epoch 212/1024\n",
      "39974/39974 [==============================] - 126s 3ms/step - loss: 0.1485 - accuracy: 0.9462\n",
      "Epoch 213/1024\n",
      "39974/39974 [==============================] - 126s 3ms/step - loss: 0.1465 - accuracy: 0.9471\n",
      "Epoch 214/1024\n",
      "39974/39974 [==============================] - 126s 3ms/step - loss: 0.1491 - accuracy: 0.9456\n",
      "Epoch 215/1024\n",
      "39974/39974 [==============================] - 126s 3ms/step - loss: 0.1474 - accuracy: 0.9454\n",
      "Epoch 216/1024\n",
      "39974/39974 [==============================] - 126s 3ms/step - loss: 0.1501 - accuracy: 0.9461\n",
      "Epoch 217/1024\n",
      "39974/39974 [==============================] - 126s 3ms/step - loss: 0.1430 - accuracy: 0.9480\n",
      "Epoch 218/1024\n",
      "39974/39974 [==============================] - 127s 3ms/step - loss: 0.1480 - accuracy: 0.9465\n",
      "Epoch 219/1024\n",
      "39974/39974 [==============================] - 127s 3ms/step - loss: 0.1430 - accuracy: 0.9479\n",
      "Epoch 220/1024\n",
      "39974/39974 [==============================] - 126s 3ms/step - loss: 0.1463 - accuracy: 0.9457\n",
      "Epoch 221/1024\n",
      "39974/39974 [==============================] - 126s 3ms/step - loss: 0.1448 - accuracy: 0.9487\n",
      "Epoch 222/1024\n",
      "39974/39974 [==============================] - 127s 3ms/step - loss: 0.1457 - accuracy: 0.9478\n",
      "Epoch 223/1024\n",
      "39974/39974 [==============================] - 126s 3ms/step - loss: 0.1456 - accuracy: 0.9469\n",
      "Epoch 224/1024\n"
     ]
    },
    {
     "name": "stdout",
     "output_type": "stream",
     "text": [
      "39974/39974 [==============================] - 126s 3ms/step - loss: 0.1447 - accuracy: 0.9481\n",
      "Epoch 225/1024\n",
      "39974/39974 [==============================] - 126s 3ms/step - loss: 0.1445 - accuracy: 0.9469\n",
      "Epoch 226/1024\n",
      "39974/39974 [==============================] - 126s 3ms/step - loss: 0.1453 - accuracy: 0.9476\n",
      "Epoch 227/1024\n",
      "39974/39974 [==============================] - 126s 3ms/step - loss: 0.1383 - accuracy: 0.9501\n",
      "Epoch 228/1024\n",
      "39974/39974 [==============================] - 126s 3ms/step - loss: 0.1430 - accuracy: 0.9476\n",
      "Epoch 229/1024\n",
      "39974/39974 [==============================] - 126s 3ms/step - loss: 0.1413 - accuracy: 0.9484\n",
      "Epoch 230/1024\n",
      "39974/39974 [==============================] - 126s 3ms/step - loss: 0.1420 - accuracy: 0.9481\n",
      "Epoch 231/1024\n",
      "39974/39974 [==============================] - 126s 3ms/step - loss: 0.1413 - accuracy: 0.9487\n",
      "Epoch 232/1024\n",
      "39974/39974 [==============================] - 126s 3ms/step - loss: 0.1452 - accuracy: 0.9462\n",
      "Epoch 233/1024\n",
      "39974/39974 [==============================] - 126s 3ms/step - loss: 0.1434 - accuracy: 0.9478\n",
      "Epoch 234/1024\n",
      "39974/39974 [==============================] - 126s 3ms/step - loss: 0.1411 - accuracy: 0.9491\n",
      "Epoch 235/1024\n",
      "39974/39974 [==============================] - 126s 3ms/step - loss: 0.1404 - accuracy: 0.9485\n",
      "Epoch 236/1024\n",
      "39974/39974 [==============================] - 126s 3ms/step - loss: 0.1395 - accuracy: 0.9493\n",
      "Epoch 237/1024\n",
      "39974/39974 [==============================] - 126s 3ms/step - loss: 0.1404 - accuracy: 0.9502\n",
      "Epoch 238/1024\n",
      "39974/39974 [==============================] - 126s 3ms/step - loss: 0.1379 - accuracy: 0.9497\n",
      "Epoch 239/1024\n",
      "39974/39974 [==============================] - 126s 3ms/step - loss: 0.1528 - accuracy: 0.9447\n",
      "Epoch 240/1024\n",
      "39974/39974 [==============================] - 126s 3ms/step - loss: 0.1395 - accuracy: 0.9486\n",
      "Epoch 241/1024\n",
      "39974/39974 [==============================] - 126s 3ms/step - loss: 0.1353 - accuracy: 0.9496\n",
      "Epoch 242/1024\n",
      "39974/39974 [==============================] - 126s 3ms/step - loss: 0.1384 - accuracy: 0.9497\n",
      "Epoch 243/1024\n",
      "39974/39974 [==============================] - 126s 3ms/step - loss: 0.1389 - accuracy: 0.9493\n",
      "Epoch 244/1024\n",
      "39974/39974 [==============================] - 131s 3ms/step - loss: 0.1414 - accuracy: 0.9487\n",
      "Epoch 245/1024\n",
      "39974/39974 [==============================] - 128s 3ms/step - loss: 0.1395 - accuracy: 0.9494\n",
      "Epoch 246/1024\n",
      "39974/39974 [==============================] - 129s 3ms/step - loss: 0.1378 - accuracy: 0.9491\n",
      "Epoch 247/1024\n",
      "39974/39974 [==============================] - 134s 3ms/step - loss: 0.1369 - accuracy: 0.9493\n",
      "Epoch 248/1024\n",
      "39974/39974 [==============================] - 129s 3ms/step - loss: 0.1423 - accuracy: 0.9472\n",
      "Epoch 249/1024\n",
      "39974/39974 [==============================] - 128s 3ms/step - loss: 0.1406 - accuracy: 0.9487\n",
      "Epoch 250/1024\n",
      "39974/39974 [==============================] - 128s 3ms/step - loss: 0.1373 - accuracy: 0.9503\n",
      "Epoch 251/1024\n",
      "39974/39974 [==============================] - 127s 3ms/step - loss: 0.1367 - accuracy: 0.9500\n",
      "Epoch 252/1024\n",
      "39974/39974 [==============================] - 127s 3ms/step - loss: 0.1342 - accuracy: 0.9501\n",
      "Epoch 253/1024\n",
      "39974/39974 [==============================] - 127s 3ms/step - loss: 0.1395 - accuracy: 0.9482\n",
      "Epoch 254/1024\n",
      "39974/39974 [==============================] - 126s 3ms/step - loss: 0.1353 - accuracy: 0.9503\n",
      "Epoch 255/1024\n",
      "39974/39974 [==============================] - 126s 3ms/step - loss: 0.1359 - accuracy: 0.9512\n",
      "Epoch 256/1024\n",
      "39974/39974 [==============================] - 141s 4ms/step - loss: 0.1359 - accuracy: 0.9505\n",
      "Epoch 257/1024\n",
      "39974/39974 [==============================] - 138s 3ms/step - loss: 0.1343 - accuracy: 0.95020s - loss: 0.1342 - accura\n",
      "Epoch 258/1024\n",
      "39974/39974 [==============================] - 134s 3ms/step - loss: 0.1343 - accuracy: 0.9505\n",
      "Epoch 259/1024\n",
      "39974/39974 [==============================] - 136s 3ms/step - loss: 0.1365 - accuracy: 0.9497\n",
      "Epoch 260/1024\n",
      "39974/39974 [==============================] - 135s 3ms/step - loss: 0.1348 - accuracy: 0.9503\n",
      "Epoch 261/1024\n",
      "39974/39974 [==============================] - 134s 3ms/step - loss: 0.1325 - accuracy: 0.9521\n",
      "Epoch 262/1024\n",
      "39974/39974 [==============================] - 132s 3ms/step - loss: 0.1343 - accuracy: 0.9509\n",
      "Epoch 263/1024\n",
      "39974/39974 [==============================] - 132s 3ms/step - loss: 0.1334 - accuracy: 0.9504\n",
      "Epoch 264/1024\n",
      "39974/39974 [==============================] - 132s 3ms/step - loss: 0.1300 - accuracy: 0.9524\n",
      "Epoch 265/1024\n",
      "39974/39974 [==============================] - 132s 3ms/step - loss: 0.1341 - accuracy: 0.9504\n",
      "Epoch 266/1024\n",
      "39974/39974 [==============================] - 135s 3ms/step - loss: 0.1326 - accuracy: 0.9513\n",
      "Epoch 267/1024\n",
      "39974/39974 [==============================] - 130s 3ms/step - loss: 0.1304 - accuracy: 0.9521\n",
      "Epoch 268/1024\n",
      "39974/39974 [==============================] - 132s 3ms/step - loss: 0.1327 - accuracy: 0.9511\n",
      "Epoch 269/1024\n",
      "39974/39974 [==============================] - 131s 3ms/step - loss: 0.1331 - accuracy: 0.9508\n",
      "Epoch 270/1024\n",
      "39974/39974 [==============================] - 140s 3ms/step - loss: 0.1335 - accuracy: 0.9507\n",
      "Epoch 271/1024\n",
      "39974/39974 [==============================] - 133s 3ms/step - loss: 0.1330 - accuracy: 0.9521\n",
      "Epoch 272/1024\n",
      "39974/39974 [==============================] - 131s 3ms/step - loss: 0.1345 - accuracy: 0.9505\n",
      "Epoch 273/1024\n",
      "39974/39974 [==============================] - 133s 3ms/step - loss: 0.1319 - accuracy: 0.9518\n",
      "Epoch 274/1024\n",
      "39974/39974 [==============================] - 130s 3ms/step - loss: 0.1323 - accuracy: 0.9510\n",
      "Epoch 275/1024\n",
      "39974/39974 [==============================] - 131s 3ms/step - loss: 0.1348 - accuracy: 0.9510\n",
      "Epoch 276/1024\n",
      "39974/39974 [==============================] - 135s 3ms/step - loss: 0.1291 - accuracy: 0.9527\n",
      "Epoch 277/1024\n",
      "39974/39974 [==============================] - 136s 3ms/step - loss: 0.1270 - accuracy: 0.9543\n",
      "Epoch 278/1024\n",
      "39974/39974 [==============================] - 133s 3ms/step - loss: 0.1276 - accuracy: 0.9525\n",
      "Epoch 279/1024\n",
      "39974/39974 [==============================] - 137s 3ms/step - loss: 0.1291 - accuracy: 0.9519\n",
      "Epoch 280/1024\n",
      "39974/39974 [==============================] - 153s 4ms/step - loss: 0.1272 - accuracy: 0.9530\n",
      "Epoch 281/1024\n",
      "39974/39974 [==============================] - 135s 3ms/step - loss: 0.1304 - accuracy: 0.9521\n",
      "Epoch 282/1024\n",
      "39974/39974 [==============================] - 129s 3ms/step - loss: 0.1278 - accuracy: 0.9529\n",
      "Epoch 283/1024\n",
      "39974/39974 [==============================] - 128s 3ms/step - loss: 0.1282 - accuracy: 0.9528\n",
      "Epoch 284/1024\n",
      "39974/39974 [==============================] - 128s 3ms/step - loss: 0.1292 - accuracy: 0.9531\n",
      "Epoch 285/1024\n",
      "39974/39974 [==============================] - 128s 3ms/step - loss: 0.1308 - accuracy: 0.9523\n",
      "Epoch 286/1024\n",
      "39974/39974 [==============================] - 130s 3ms/step - loss: 0.1288 - accuracy: 0.9517\n",
      "Epoch 287/1024\n",
      "39974/39974 [==============================] - 130s 3ms/step - loss: 0.1289 - accuracy: 0.9518\n",
      "Epoch 288/1024\n",
      "39974/39974 [==============================] - 131s 3ms/step - loss: 0.1254 - accuracy: 0.9531\n",
      "Epoch 289/1024\n",
      "39974/39974 [==============================] - 128s 3ms/step - loss: 0.1278 - accuracy: 0.9537\n",
      "Epoch 290/1024\n",
      "39974/39974 [==============================] - 127s 3ms/step - loss: 0.1280 - accuracy: 0.9530\n",
      "Epoch 291/1024\n",
      "39974/39974 [==============================] - 127s 3ms/step - loss: 0.1268 - accuracy: 0.9535\n",
      "Epoch 292/1024\n",
      "39974/39974 [==============================] - 127s 3ms/step - loss: 0.1259 - accuracy: 0.9538\n",
      "Epoch 293/1024\n",
      "19168/39974 [=============>................] - ETA: 1:06 - loss: 0.1312 - accuracy: 0.9516"
     ]
    }
   ],
   "source": [
    "from keras import optimizers\n",
    "from keras.models import Sequential\n",
    "from keras.layers import Dense, Conv2D, Flatten, MaxPooling2D\n",
    "#create model\n",
    "model = Sequential()\n",
    "#add model layers\n",
    "model.add(Conv2D(32, kernel_size=3, activation='relu', input_shape=(40,40,1)))\n",
    "model.add(Conv2D(32, kernel_size=3, activation='relu'))\n",
    "model.add(Conv2D(32, kernel_size=5, activation='relu',strides=(2,2)))\n",
    "model.add(Dropout(0.4))\n",
    "model.add(Conv2D(64, kernel_size=3, activation='relu'))\n",
    "model.add(Conv2D(64, kernel_size=3, activation='relu'))\n",
    "model.add(Conv2D(64, kernel_size=5, activation='relu',strides=(2,2)))\n",
    "model.add(Dropout(0.4))\n",
    "model.add(Flatten())\n",
    "model.add(Dense(128, activation='relu', kernel_initializer='random_normal'))\n",
    "model.add(Dropout(0.4))\n",
    "model.add(Dense(1, activation='sigmoid'))\n",
    "#Compiling the neural network\n",
    "model.compile(optimizer =optimizers.Adam(amsgrad=True),loss='binary_crossentropy', metrics =['accuracy'])\n",
    "#Fitting the data to the training dataset\n",
    "history = model.fit(X_train,y_train, batch_size=32, epochs=1024, shuffle=True, use_multiprocessing=True)"
   ]
  },
  {
   "cell_type": "code",
   "execution_count": 19,
   "metadata": {},
   "outputs": [
    {
     "name": "stdout",
     "output_type": "stream",
     "text": [
      "{'loss': [1.3569059150738279, 0.42428966149610975, 0.3932865221570955, 0.37639109414571664, 0.3523866596150411, 0.3367994757072901, 0.32364883910794323, 0.30924839981680496, 0.29446538898546076, 0.29523310030378075, 0.2789766810349432, 0.2820472923114575, 0.27207972413145054, 0.2666166394385329, 0.26171009380515947, 0.2637414573369105, 0.2662456844885663, 0.26001761454139966, 0.2535205616079807, 0.2620049939733762, 0.25630708995412704, 0.25349282424641795, 0.2529768664021737, 0.2498266767219694, 0.26526551470509024, 0.2732925797729839, 0.24420100400117062, 0.24792279668464343, 0.2732022386419831, 0.24833832988715396, 0.24096741417463244, 0.24156946512196847, 0.24869519680277705, 0.2587937611059363, 0.26750511736126537, 0.24942816900903983, 0.23563979464349324, 0.2668432127224914, 0.2468693182002838, 0.2333991577162054, 0.2966167067803896, 0.25501799527817576, 0.23190362492482397, 0.22318437741279554, 0.2429902915079442, 0.24508023465258855, 0.2657131154017289, 0.251793342926864, 0.26282960865051097, 0.22865479578428868, 0.22918776905589736, 0.2554852810790876, 0.2388064022681399, 0.2458034246025242, 0.24973700083309472, 0.25125089044561855, 0.3985278236282685, 0.3872902869049471, 0.28821826820919394, 0.26542800391958565, 0.2548691170214533, 0.29307600872080164, 0.25070258758076075, 0.2856049091332121, 0.258888478550372, 0.26958649541591656, 0.2760417563862647, 0.23082519531422965, 0.24334371162178386, 0.2621176527908972, 0.24965796015987807, 0.24323674654344404, 0.35947394566066676, 0.2960012860094057, 0.26078293457188917, 0.31121671285647823, 0.2971857983030742, 0.24985724465516412, 0.242609764777011, 0.26704879144604854, 0.2617405456012596, 0.2809743524259759, 0.2916481604792825, 0.4002093447166082, 0.4787739459851102, 0.30446244857736743, 0.2763650829314756, 0.3232169180382316, 0.28561667285256814, 0.26094463354685526, 0.23270357615454354, 0.24494509283974547, 0.2699523276854952, 0.27381553234172845, 0.3093520639334814, 0.3198923034505023, 0.2418649990202732, 0.29949826706807897, 0.24016992676435228, 0.2914317791217526, 0.28239896236081763, 0.2797796735799574, 0.2548739203469818, 1.1541594913962867, 0.5139963193373247, 0.31979553071306616, 0.3003663122659553, 0.2789718631324889, 0.2863884998273246, 0.4223915481522501, 0.5379017334771191, 0.366607445204527, 0.3710233175483766, 0.5265392074650808, 0.3506144377395832, 0.33856552391301226, 0.7352393694110515, 0.4815984406250035, 0.4439851000026042, 0.46095783392013734, 0.47875421292911735, 1.0884552939547578, 0.5441569119383194, 0.4328390625888162, 0.47753207150768623, 0.4367954735192409, 0.5028717641135718, 0.49827285343634337, 0.4562459973794616, 0.5154466675744024, 0.509054313471159, 0.5568331294803626, 0.7835590765815836, 0.5190708146357349, 0.4722667669542568, 1.038588292260427, 0.6327103531267583, 0.500601291671405, 0.48899894744022104, 0.5566451141524352, 0.4743634767313338, 0.4812903147977916, 0.5119299958423454, 0.5364049935690391, 0.47973986009906827, 1.7336724406842527, 0.7007500405708094, 0.6968822797415833, 0.6137378914393091, 0.5457786838062506, 0.5257837883276312, 0.7089763024817497, 0.5466577142869191, 0.5716839364722879, 0.5529824991966251, 2.9263491030541466, 0.7058747233707848, 1.021365937630411, 0.6414094012257288, 0.7114523930672965, 1.2963077717270066, 0.5581816285647321, 0.537360931326129, 0.5300344575541132, 0.5387550492982005, 0.6585895033600678, 0.6187964832585325, 0.8466349256165706, 0.7028290950357929, 0.6298382999901536, 0.5433117241113178, 0.9622438597889083, 0.6354047141903223, 0.8068432150860704, 0.6101787568760972, 0.6299356892753424, 0.6859767250863931, 0.6596380889269614, 0.6576771249588967, 0.5805842740417523, 0.5512055026952278, 0.5657806518634085, 0.5633916624590092, 0.6737226414520636, 0.7617424718493989, 0.6392851496116165, 0.65145333287607, 0.6897734750317389, 0.7033122573391758, 0.7523735418722654, 0.6986009445288006, 1.3916917768510983, 0.6423665037142984, 0.8723739992476586, 0.6392568106522953, 0.6237027665717884, 0.620952721172797, 0.823342919552458, 0.6990907327620772, 0.698465584551536, 0.6970810294509167, 0.6974300705856337, 0.6963260966577853, 0.704817312308427, 0.6966097056075417, 0.6957801318624316, 0.6955381258900935, 0.6955112354277181, 0.6954960193463214, 0.6951801658583276, 0.6909151807037488, 0.6525429865904423, 0.7977476814572483, 1.4478564699725462, 0.6895238162071152, 0.6852541789706987, 0.6833588278877518, 0.6680284312209533, 1.8489306853091538, 0.6386375315757644, 0.633747844335918, 0.6322440820094101, 0.6220333617952781, 0.6320909598986991, 0.626878386844169, 0.634111214594837, 16.876109228229225, 0.6411196223378641, 0.9043239757635585, 0.6433132645300952, 0.6781495937042848, 1.3853410790673597, 0.6813533967358524, 0.7297368329915801, 2.7743084456788574, 0.6800971421465638, 0.7220787793456056, 1.5276827531274348, 0.6608592109082668, 0.6612637801305621, 0.6589403352241432, 0.6595810356812676, 0.6579159646428603, 0.6967099576527941, 0.6805774625934082, 0.6729814138414623, 0.6595195306959604, 0.6614575708867336, 0.6596672511681696, 0.6593957828170405, 0.6595413163382611, 4.670012200448884, 0.696537285955193, 0.6968012052276109, 0.6952659130788299, 0.6957203467426528, 0.6952702579374471, 0.6950638763494345, 0.6943738611796467, 0.6944520492476651, 0.6947339681178136, 0.6942597821868545, 0.6941409630606542, 0.694231126288401, 0.6942928499026029, 0.694106407876954, 0.6940105102034432, 0.6937591214514472, 0.6940349062828577, 0.6941530068311826, 0.6939211622981698, 0.6939269271620744, 0.6938296362959725, 0.6935456342722671, 0.6937622045119123, 0.6936026359771056, 0.6937604023504026, 0.6934554060958257, 0.6934981376906372, 0.6933301974155239, 1.0737294200279406, 0.6936165716993199, 0.6933996871597634, 0.6933085443336907, 0.6932937678331944, 0.693354124292137, 0.6932329873244962, 0.6931899990870607, 0.6933361085936671, 0.693282177883431, 0.6932837450856796, 0.6933294546671553, 0.6933125631515908, 0.6931644734866552, 0.6933051514107844, 0.6932341699489999, 0.6932347731377463, 0.6930820887888116, 0.6932335187413416, 0.6932507999550379, 0.6931782095883305, 0.6932175670121248, 0.693195317624395, 0.6932042178977882, 0.6931559149372146, 0.6931916617068413, 0.693185394379986, 0.6931628952593218, 0.693166998466687, 0.6931795345518393, 0.6931230363566933, 0.6931906675823623, 0.6931661375736637, 0.6931801048442613, 0.6931712806818275, 0.6931574617891306, 0.6931890851710434, 0.6931781756899967, 0.6931696194845423, 0.6931761658948555, 0.6931640471167709, 0.6931889681238276, 0.6931821897095842, 0.6931738964361517, 0.6931673396031519, 0.6931835635777095, 0.6931880482076829, 0.6931905807624281, 0.6931666483061736, 0.6931744668597891, 0.6931756533640969, 0.6931761903695302, 0.6931884825966241, 0.6931624716002306, 0.6931648569818721, 0.6931796207276245, 0.6931855087462305, 0.6931861134409731, 0.6931776462234909, 0.6931826310529474, 0.6931722243837652, 0.6931732784737318, 0.6931558839017647, 0.6931767567433799, 0.6931771618295123, 0.6931801447188651, 0.6931790131073725, 0.6931712915458752, 0.6931753973745683, 0.6931826372260406, 0.6931845545828381, 0.6931899762466157, 0.6931721115354457, 0.6931737902052687, 0.6931793896541317, 0.6931592867403884, 0.6931757715355911, 0.6931811460691437, 0.6931856511985581, 0.6931741948589863, 0.69317856080155, 0.6931890015390497, 0.6931863424179999, 0.6931726422097306, 0.693184570972848, 0.6931858985576849, 0.6931841586877557, 0.6931815798437577, 0.6931770143820488, 0.6931715814009336, 0.6931641317537561, 0.6931878372608599, 0.6931781247962724, 0.6931665478338622, 0.6931788078386024, 0.6931797578567775, 0.6931589420909264, 0.6931924649634523, 0.693189689200762, 0.6931850584026764, 0.6931899413522369, 0.6931751657434096, 0.6931857697279128, 0.6931722329575059, 0.6931658569036909, 0.6931779829165216, 0.6931759675238461, 0.6931867848528376, 0.6931733784987175, 0.6931776390662814, 0.6931689194796257, 0.6931830424374241, 0.6931781169382527, 0.6931761565546971, 0.693187818216718, 0.693171732778898, 0.6931777984811955, 0.6931755179616207, 0.6931871850869783, 0.6931883695097308, 0.693177551053479, 0.6931586104288177, 0.6931865705182686, 0.6931823551246258, 0.6931827589701752, 0.6931758492569225, 0.6931745691243851, 0.6931828577754532, 0.6931813172338103, 0.6931731599354306, 0.6931751560334619, 0.6931631524089148, 0.6931649409776907, 0.6931880168471763, 0.6931798644216636, 0.6931788857806145, 0.6931785788317538, 0.6931887993687549, 0.6931754905912585, 0.6931818951904108, 0.6931820351257865, 0.6931809426016046, 0.6931929313958172, 0.6931755778615004, 0.6931801705951598, 0.6931721335229899, 0.6931783196632314, 0.6931841514202058, 0.6931779740654391, 0.6931846203993444, 0.6931695822998565, 0.6931686175944908, 0.6931867609000429, 0.6931893339675763, 0.6931837608989949, 0.6931953376735284, 0.6931668231985535, 0.6931817687255001, 0.6931789188320118, 0.6931891956664303, 0.6931871722010189, 0.6931778968808984, 0.6931718241854106, 0.6931696240025308, 0.6931730062164623, 0.6931751108863805, 0.6931726017446571, 0.6931831087102025, 0.6931774780409949, 0.6931857666473304, 0.6931826726333528, 0.6931812611839129, 0.6931791696892247, 0.6931840222653771, 0.6931785101642924, 0.693186489525496, 0.6931529122551953, 0.6931797121013332, 0.6931701753611513, 0.6931787981107617, 0.6931874130202453, 0.6931537298053502, 0.6931684792903626, 0.6931835381576869, 0.6931821091015116, 0.6931980900738938, 0.6931793549297367, 0.6931859883747005, 0.69318823290544, 0.6931721506794176, 0.6931863078993747, 0.6931815980469274, 0.69317450112493, 0.6931869326999118, 0.6931835382471521, 0.6931865059363811, 0.6931814618989085, 0.6931756822613304, 0.6931831850060564, 0.6931715645844734, 0.6931787993752021, 0.6931839150503779, 0.693160703044802, 0.6931498286311001, 0.6931916070108495, 0.6931802660007632, 0.6931798392879294, 0.6931698969785034, 0.6931812387072928, 0.6931802758717481, 0.6931804767805848, 0.6931824869067469, 0.693164225244806, 0.6931550479307417, 0.6931784798684208, 0.6931905599528413, 0.6931802433332841, 0.6931639581019592, 0.6932004078139405, 0.6931764088791379, 0.6931796263669092, 0.6931850670867573, 0.693178917874735, 0.6931682649557936, 0.6931851546611806, 0.6931521136835743, 0.693200374846044, 0.6931923514113405, 0.6931767272348013, 0.6931808524923362, 0.6931917623163325, 0.6931832479895005, 0.6931762949632013, 0.693186056660444, 0.6931773265228686, 0.69319407147071, 0.6931860311032415, 0.6931756532984891, 0.6931762045646624, 0.693176927708241, 0.6931651015854731, 0.6931777038599031, 0.6931870919746641, 0.6931783267190471, 0.6931759958127169, 0.6931802209192895, 0.6931770686575547, 0.6931405328681997, 0.6931924218770508, 0.6931753822430344, 0.6931778070310788, 0.6931883717553053, 0.6931840860540074, 0.6931862423631925, 0.6931800525071664, 0.69318047963154, 0.6931879514332632, 0.6931576315641057, 0.693181062857636, 0.693166223433339, 0.6931764699838145, 0.693182482015987, 0.6931821522535209, 0.6931788287615116, 0.6931857035684569, 0.6931737194264306, 0.6931772697542681, 0.69316681376893, 0.6931756975181155, 0.6931869445778975, 0.6931859726288394, 0.693184394225558, 0.6931872086729659, 0.6931741252789808, 0.6931307123386944, 0.6932042723671351, 0.69318144574449, 0.6931811999450386, 0.6931744676470822, 0.6931712322245366, 0.6931913427308865, 0.6931670639998869, 0.6931791783405017, 0.693176593559002, 0.6931810487788084, 0.6931648338700496, 0.693177909772822, 0.6931790032483164, 0.6931741653265504, 0.6931800295951493, 0.693183915697509, 0.693178607791613, 0.6931627973367663, 0.6931905202840073, 0.6931721251251973, 0.6931810938573, 0.6931786083641898, 0.6931883507936278, 0.6931855982024034, 0.6931784522803601, 0.6931711786677339, 0.6931791288275224, 0.693171037050414, 0.6931837884572338, 0.6931856785182234, 0.6931759573546442, 0.6931847189242983, 0.6931756020976012, 0.6931728233944906, 0.6931690497229467, 0.6931624317554486, 0.6931824385180458, 0.6931553163439932, 0.6931859734459541, 0.6931701946677241, 0.6931826132762281, 0.6931786074218238, 0.6931874375187773, 0.6931844675780094, 0.6931753501399673, 0.6931803483534057, 0.6931901183589758, 0.6931776434053396, 0.6931811785658573, 0.6931791592098769, 0.6931713228169166, 0.6931860528850159, 0.6931733988013353, 0.6931675809442582, 0.6931680583390823, 0.6931910481550518, 0.6931814013697908, 0.6931888967783769, 0.6931751925590881, 0.693183336667327, 0.69318213437839, 0.6931731681811325, 0.6931811629899799, 0.693178288672514, 0.6931803708747585, 0.693183000651249, 0.6931815339958661, 0.6931807927326186, 0.6931747554325143, 0.6931863922381428, 0.6931894470186836, 0.693182808474208, 0.6931767610675273, 0.6931586435458227, 0.6931841228748684, 0.6931863614442487, 0.6931838173604318, 0.6931777791209437, 0.6931886202029244, 0.6931806147715851, 0.6931394119090206, 0.693194788187711, 0.6931763728574987, 0.6931724662825375, 0.6931784317809191, 0.693170471475786, 0.693186840884842, 0.6931609412248075, 0.6931753835790468, 0.6931821121791116, 0.6931812143638337, 0.6931896713345777, 0.6931858116631964, 0.6931707376166235, 0.6931650041997084, 0.6931755958976684, 0.6931678277844873, 0.6931966440819713, 0.6931733076304142, 0.6931813638689949, 0.6931784213194645, 0.6931840936287208, 0.6931784004919846, 0.6931751705894369, 0.6931851714418549, 0.6931862930213253, 0.6931612263918937, 0.6931907734017055, 0.6931646970152563, 0.6931709175369432, 0.693159133492603, 0.6931796230686286, 0.6931813554890953, 0.69317947598499, 0.6931791322957869, 0.6931891881871464, 0.6931844228573784, 0.6931856437580424, 0.6931722570444983, 0.693192615786733, 0.6931815998123724, 0.6931826374228639, 0.693165619135225, 0.6931694139503589, 0.6931778074277075, 0.6931755732272071, 0.693191009204921, 0.6931738780451052, 0.6931807352005824, 0.6931789031368476, 0.6931927584657055, 0.6931452946312915, 0.6932008520857953, 0.6931840939150091, 0.6931768692785716, 0.6931853313219877, 0.6931780751043629, 0.6931951646330764, 0.6931817965312592, 0.6931691818211777, 0.693183186449427, 0.6931849013049087, 0.693184599911832, 0.6931827008804732, 0.693178701983473, 0.6931696905735262, 0.6931861700545008, 0.6931752496527451, 0.6931825327069236, 0.6931730454588458, 0.6931817838301945, 0.6931787029914467, 0.6931796854407276, 0.6931878682187733, 0.6931779939386243, 0.6931834495693255, 0.693179667010913, 0.6931783408962864, 0.6931832748678046, 0.6931718511710728, 0.6931699304295116, 0.693177991189063, 0.6931743525442416, 0.6931778112329573, 0.6931845509088039, 0.6931852363726564, 0.6931857691076213, 0.6931853471364386, 0.6931841507671105, 0.693182593999477, 0.6931556566991294, 0.6931605160507737, 0.693158006643637, 0.6931576074443095, 0.6931718096860969, 0.693187584220698, 0.6931716014411204, 0.6931818195744919, 0.6931899227166526, 0.6931856191104019, 0.6931777469582333, 0.6931829434353229, 0.693183886707828, 0.6931618585643567, 0.6931992604834265, 0.693181526776031, 0.6931861741520032, 0.6931786622848173, 0.6931709037951008, 0.693170043590959, 0.6931802690753812, 0.6931803668398816, 0.693177866922012, 0.6931760947551747, 0.6931725082715002, 0.6931849961826679, 0.6931915979629437, 0.6931705308299285, 0.693173195974963, 0.6931888198652137, 0.6931566232295835, 0.6931749525838159, 0.6931653214072361, 0.6931822132329463, 0.6931791375324785, 0.6931769999692181, 0.6931767007024291, 0.6931781712495446, 0.6931728082450638, 0.6931867021989958, 0.6931735484108724, 0.6931642832301321, 0.6931835432363235, 0.6931714674939435, 0.6931861190951687, 0.6931808938997757, 0.6931939414331588, 0.6931850837451625, 0.6931890262045831, 0.6931814672638335, 0.693179978107973, 0.6931775100993294, 0.693165645977743, 0.6931965282962137, 0.6931731298572574, 0.6931864790312374, 0.6931733743803399, 0.6931957198595723, 0.6931773871026832, 0.693176737049125, 0.6931781836344993, 0.6931859057626091, 0.6931831887665736, 0.6931662186737946, 0.6931799925893938, 0.6931686009062639, 0.6931734950777326, 0.6931873458051011, 0.6931771596376168, 0.6931785637956495, 0.6931804231671208, 0.693176540837207, 0.6931889486442889, 0.6931484197224697, 0.693197614623445, 0.6931823646556432, 0.6931882418280945, 0.6931802595771677, 0.6931670240298538, 0.6931822662708513, 0.693173762336884, 0.6931541068262745, 0.693163605934445, 0.6931866545349623, 0.6931790792877036, 0.6931722707296794, 0.6931881235373135, 0.6931801626685502, 0.6931802850210477, 0.6931751818948458, 0.693169741771432, 0.6931812427272588, 0.6931520322285651, 0.6931868564905409, 0.6931810285000479, 0.693168764600593, 0.6931835388346397, 0.6931678580684302, 0.6931713453859841, 0.693180948673304, 0.6931921660753989, 0.693174131959043, 0.6931857497354407, 0.6931587024496574, 0.6931726468380595, 0.6931891284840899, 0.6931535725167236, 0.6931829013151447, 0.6931758856990479, 0.6931806052614429, 0.6931875723307837, 0.693191693034544, 0.6931777732639606, 0.693185322640889, 0.6931727238377057, 0.6931859104475993, 0.6931771886571194, 0.6931855222256419, 0.6931675051225695, 0.6931729148010032, 0.6931844991920004, 0.6931849313085277, 0.6931837983878621, 0.6931726962228054, 0.6931772583743049, 0.6931796537670932, 0.6931659936600726, 0.6931866996373113, 0.6931715283600465, 0.6931769778772979, 0.6931794636775717, 0.6931808922536175, 0.6931842057106224, 0.6931878509788448, 0.6931970063530797, 0.6931486487859794, 0.6931636174187842, 0.6931820145995059, 0.6931716817002791, 0.6931560545087654, 0.693180935375805, 0.6931798264168808, 0.6931763725443707, 0.6931827795411883, 0.6931768862888729, 0.6931789690398368, 0.6931762327879254, 0.6931803463106189, 0.6931789826295884, 0.6931783051728642, 0.6931933920904856, 0.6931707515970396, 0.6931879917850142, 0.693181632675893, 0.6931776182358194, 0.6932028560865788, 0.6931720864553905, 0.693177431015146, 0.6931652204905813, 0.6931865037236105, 0.693174227984938, 0.6931802941643829, 0.6931848247585525, 0.6931601875885339, 0.693185792905343, 0.6931822184278876, 0.693194718932762, 0.6931618504230308, 0.6931828090736243, 0.6931776512037159, 0.6931820802340997, 0.6931804868782145, 0.6931733886112582, 0.6931643892761205, 0.6931462426245728, 0.6931833173786472, 0.6931749642112993, 0.69318401766687, 0.6931682122668026, 0.6931778335455581, 0.6931775922760238, 0.6931862482291222, 0.6931920800487222, 0.6931756476621866, 0.693186438324608, 0.6931731720847939, 0.6931708377012527, 0.6931599804827466, 0.6931857214883204, 0.6931877426455316, 0.6931763863249814, 0.693177181991968, 0.693173762721584, 0.6931821344350513, 0.6931824902169562, 0.6931672433386833, 0.6931638672113621, 0.6931894034402238, 0.6931913914297332, 0.6931736232931774, 0.6931787757444818, 0.6931765156468116, 0.6931896449751712, 0.6931843436747832, 0.6931931254546079, 0.6931885955493197, 0.6931799214288377, 0.6931771601535324, 0.6931777083570164, 0.6931686729644533, 0.6931894990635257, 0.6931943711132525, 0.6931666776745902, 0.6931875243416936, 0.693181736360002, 0.6931818746492194, 0.6931741729668717, 0.6931789812816473, 0.6931867539575496, 0.6931837171833554, 0.6931860398410015, 0.6931841253172661, 0.6931732327391626, 0.6931857057007089, 0.6931888093649908, 0.693185395006242, 0.6931752901983373, 0.6931852579933936, 0.693172092491304, 0.6931790984213104, 0.6931576650121317, 0.6931872634375478, 0.6931759533466069, 0.6931611386445045, 0.693184921389828, 0.6931843421986088, 0.6931773553037975, 0.693187387883529, 0.6931789955901021, 0.6931743664739608, 0.6931833437320892, 0.6931560163966245, 0.6932022741159766, 0.6931702733284394, 0.6931594285903175, 0.6931897746459155, 0.6931701350183468, 0.6931909092783468, 0.69318255630484, 0.6931711258087592, 0.6931858449024705, 0.693186135160122, 0.6931813004024391, 0.6931912756439755, 0.6931812508566559, 0.6931543559090959, 0.6931887713363507, 0.6931814749190656, 0.6931772417904539, 0.6931684171150867, 0.6931896740036203, 0.6931917533698205, 0.693174676300616, 0.6931601248943603, 0.6931663162474361, 0.693175557636419, 0.6931865778186224, 0.6931780162273677, 0.693180350437943, 0.6931643062196856, 0.6931852456501892, 0.6931756236169446, 0.6931804927173048, 0.6931863360898338, 0.6931550119776924, 0.6932002887000804, 0.6932007427355619, 0.6931900815649543, 0.6931651628810086, 0.6931809099796399, 0.693187818476167, 0.6931830194240133, 0.693182226980753, 0.6931777374510733, 0.6931852363249417, 0.6931802935768953, 0.6931815013053114, 0.6931856529461101, 0.6931766340628437, 0.6931773286759958, 0.6931624833827869, 0.6931904575659764, 0.6931784922175895, 0.6931751277744129, 0.6931827620746148, 0.693165364326636, 0.6931890440976071, 0.6931874324371585, 0.6931863208062092], 'accuracy': [0.73690397, 0.80867565, 0.8282884, 0.83746934, 0.8521539, 0.8626607, 0.87091607, 0.87732023, 0.8857507, 0.8867514, 0.89285535, 0.89150447, 0.89595735, 0.8988843, 0.90266174, 0.9003602, 0.9013359, 0.9038375, 0.9047631, 0.9044379, 0.9048131, 0.90756494, 0.9059639, 0.9066143, 0.90058535, 0.89823383, 0.9095662, 0.9078651, 0.90038526, 0.91011655, 0.91186774, 0.9104918, 0.90959126, 0.90543854, 0.8994346, 0.9083654, 0.9146195, 0.9047631, 0.91024166, 0.91577023, 0.896858, 0.9066143, 0.91542, 0.91912246, 0.9140691, 0.91361886, 0.90316206, 0.91071695, 0.9078651, 0.916846, 0.9196228, 0.9055386, 0.91542, 0.9098664, 0.9113424, 0.9064392, 0.83376694, 0.83899534, 0.89160454, 0.9049132, 0.91024166, 0.89298046, 0.9139691, 0.9020363, 0.9066143, 0.9023615, 0.9044379, 0.918497, 0.9135688, 0.9089408, 0.90909094, 0.91279334, 0.866138, 0.88947815, 0.90658927, 0.8924551, 0.8942563, 0.9097664, 0.91577023, 0.9093661, 0.9097664, 0.9041127, 0.8997598, 0.8466503, 0.8460499, 0.89400613, 0.9039376, 0.90766495, 0.90441287, 0.9093661, 0.9188973, 0.91496974, 0.90761495, 0.9044379, 0.89945966, 0.89483166, 0.91839695, 0.90223646, 0.9170711, 0.90178615, 0.9083404, 0.9038875, 0.9154951, 0.7633962, 0.7472107, 0.8864762, 0.8988843, 0.90511334, 0.9013859, 0.84204733, 0.85958374, 0.87521887, 0.87179166, 0.8191575, 0.8741432, 0.8835243, 0.7867614, 0.7957422, 0.8356682, 0.8275629, 0.82145894, 0.78160805, 0.7527643, 0.81052685, 0.7856857, 0.79776853, 0.7760044, 0.764647, 0.7879622, 0.78586084, 0.75416523, 0.79391605, 0.5611147, 0.78618604, 0.80960125, 0.7857357, 0.7442337, 0.79589236, 0.80992645, 0.77175164, 0.8115525, 0.82080853, 0.7948667, 0.7981438, 0.81713116, 0.7760795, 0.7487367, 0.7932406, 0.7917647, 0.7883875, 0.7879872, 0.8095512, 0.7789563, 0.74098164, 0.73395205, 0.7147896, 0.7135388, 0.7265973, 0.676915, 0.7248962, 0.73978084, 0.76036924, 0.779957, 0.7746785, 0.7733777, 0.73958075, 0.7849602, 0.62875867, 0.5006504, 0.6298594, 0.77790564, 0.67804074, 0.70510834, 0.721519, 0.66498226, 0.71641564, 0.5880572, 0.6104968, 0.7253215, 0.7412818, 0.7660729, 0.7387302, 0.77192676, 0.6678841, 0.59716314, 0.60729474, 0.58345425, 0.5125331, 0.56874466, 0.6207285, 0.52424073, 0.64356834, 0.6191524, 0.6060189, 0.6316856, 0.6619803, 0.6730625, 0.5640416, 0.49954972, 0.5005503, 0.50172615, 0.50080055, 0.5042027, 0.49849904, 0.4966228, 0.49852404, 0.5001501, 0.4966228, 0.49832392, 0.50285184, 0.50885576, 0.63708913, 0.670761, 0.55133337, 0.52556664, 0.5335968, 0.5357232, 0.5930855, 0.6271576, 0.6596788, 0.6688097, 0.6733377, 0.6899985, 0.68992347, 0.6804173, 0.6648321, 0.64837146, 0.6509982, 0.68131787, 0.65935355, 0.6387652, 0.52644217, 0.5389253, 0.6100966, 0.5910342, 0.5363236, 0.6027668, 0.65560114, 0.6098214, 0.6098214, 0.613874, 0.6141742, 0.61677593, 0.5362986, 0.5321459, 0.5561365, 0.595362, 0.5872567, 0.59080905, 0.5935108, 0.59396106, 0.53407216, 0.50215137, 0.49802372, 0.50257665, 0.5003252, 0.49974984, 0.50057536, 0.5060039, 0.50215137, 0.49612248, 0.50450295, 0.49979988, 0.4978736, 0.50172615, 0.49914944, 0.50100064, 0.50390255, 0.4990744, 0.4959974, 0.49554712, 0.49872416, 0.5008255, 0.50182617, 0.4972232, 0.5003252, 0.49842396, 0.50542855, 0.50117576, 0.49992496, 0.5010507, 0.49469656, 0.49637264, 0.5021264, 0.5010757, 0.49522188, 0.5062791, 0.50297695, 0.5001001, 0.4958473, 0.49764848, 0.49912444, 0.49634764, 0.5044779, 0.49587232, 0.49717316, 0.49979988, 0.5054535, 0.49902436, 0.4956972, 0.49859908, 0.49702308, 0.5019012, 0.5021264, 0.5022765, 0.49727324, 0.49887428, 0.5029269, 0.5003252, 0.4975484, 0.50520337, 0.49714816, 0.5012508, 0.49794868, 0.50005, 0.50205135, 0.49804872, 0.49929956, 0.49979988, 0.49819884, 0.5018012, 0.49679792, 0.49484664, 0.49734828, 0.5011007, 0.49684796, 0.49774852, 0.49704808, 0.5006504, 0.4981488, 0.49789864, 0.49579728, 0.5, 0.5023015, 0.50160104, 0.49914944, 0.49749836, 0.49764848, 0.49709812, 0.49984992, 0.5005003, 0.5, 0.5030019, 0.49884924, 0.5011507, 0.4978486, 0.50080055, 0.49639764, 0.49839896, 0.4981488, 0.49649772, 0.49664783, 0.50005, 0.50095063, 0.49919948, 0.49869916, 0.5017011, 0.49819884, 0.4990994, 0.49799868, 0.49859908, 0.4975484, 0.493846, 0.49974984, 0.49959973, 0.49914944, 0.49699804, 0.5013009, 0.49809876, 0.4990494, 0.50155103, 0.49859908, 0.4935458, 0.5001501, 0.49704808, 0.49794868, 0.5023515, 0.49489668, 0.49809876, 0.49494672, 0.49769852, 0.50085056, 0.49834892, 0.49959973, 0.50165105, 0.50080055, 0.49729824, 0.4962976, 0.50040025, 0.5005503, 0.5005003, 0.496948, 0.498449, 0.49929956, 0.49714816, 0.50080055, 0.4959974, 0.49809876, 0.49514684, 0.49644768, 0.49799868, 0.50265175, 0.49774852, 0.4962976, 0.49619752, 0.49699804, 0.50005, 0.4990994, 0.49489668, 0.5006004, 0.49794868, 0.50225145, 0.5010507, 0.49989992, 0.4958473, 0.49984992, 0.49849904, 0.4993996, 0.5011007, 0.49709812, 0.49554712, 0.49729824, 0.4932456, 0.50005, 0.4981488, 0.4987492, 0.5013009, 0.4950968, 0.49859908, 0.49744835, 0.49779856, 0.50095063, 0.49944964, 0.4965978, 0.5005503, 0.49574724, 0.5006004, 0.50040025, 0.49974984, 0.49519688, 0.49894932, 0.49829888, 0.5, 0.4996998, 0.49779856, 0.5004503, 0.49829888, 0.49399608, 0.49634764, 0.49719816, 0.49749836, 0.4990494, 0.5013009, 0.496948, 0.5024016, 0.49744835, 0.5023015, 0.49794868, 0.50040025, 0.4987492, 0.49524692, 0.5017011, 0.49954972, 0.4987992, 0.49749836, 0.49609748, 0.49959973, 0.49624756, 0.49579728, 0.496948, 0.49524692, 0.49769852, 0.50020015, 0.49914944, 0.49794868, 0.49264523, 0.4990994, 0.49919948, 0.49789864, 0.49829888, 0.49749836, 0.49884924, 0.5018012, 0.5031521, 0.49709812, 0.49959973, 0.498449, 0.50080055, 0.49989992, 0.49834892, 0.49524692, 0.49544704, 0.49899936, 0.50215137, 0.4990494, 0.49744835, 0.49829888, 0.503052, 0.49194476, 0.49859908, 0.49609748, 0.49594736, 0.49799868, 0.5001501, 0.49709812, 0.50400263, 0.498449, 0.49459648, 0.49894932, 0.49994996, 0.49669784, 0.49649772, 0.49699804, 0.49869916, 0.49869916, 0.49614748, 0.49864912, 0.49944964, 0.49744835, 0.50160104, 0.50080055, 0.49929956, 0.4956972, 0.49794868, 0.5001501, 0.49734828, 0.49329564, 0.49954972, 0.49894932, 0.49929956, 0.49854904, 0.49589732, 0.49339572, 0.49759844, 0.49759844, 0.49704808, 0.49674788, 0.50220144, 0.49574724, 0.4990994, 0.4993996, 0.49644768, 0.49734828, 0.49579728, 0.49889928, 0.49934956, 0.4987492, 0.50225145, 0.49989992, 0.4978486, 0.4932456, 0.4990494, 0.49254516, 0.49934956, 0.50265175, 0.50145096, 0.4987492, 0.4950468, 0.5, 0.49829888, 0.49769852, 0.5006504, 0.49924952, 0.50030017, 0.5, 0.49989992, 0.49974984, 0.50040025, 0.49799868, 0.49549708, 0.4981488, 0.49769852, 0.49829888, 0.49869916, 0.49924952, 0.49794868, 0.49749836, 0.49729824, 0.49739832, 0.4965978, 0.50020015, 0.49824888, 0.49749836, 0.49644768, 0.49404612, 0.49649772, 0.496948, 0.49819884, 0.4993996, 0.50210136, 0.5006504, 0.5005003, 0.5013009, 0.49884924, 0.5012008, 0.49954972, 0.49679792, 0.49794868, 0.49714816, 0.5, 0.49929956, 0.49734828, 0.49749836, 0.49614748, 0.4978486, 0.50090057, 0.496948, 0.50020015, 0.49989992, 0.49944964, 0.4965978, 0.49774852, 0.49609748, 0.4972482, 0.49949968, 0.49964976, 0.49899936, 0.496898, 0.49699804, 0.49984992, 0.49934956, 0.49949968, 0.4981488, 0.49799868, 0.49704808, 0.4936959, 0.49929956, 0.49959973, 0.5029519, 0.49714816, 0.49839896, 0.49789864, 0.49974984, 0.49849904, 0.4959974, 0.5042027, 0.49729824, 0.49894932, 0.5005003, 0.49889928, 0.50165105, 0.495397, 0.5025016, 0.49994996, 0.49714816, 0.49699804, 0.49469656, 0.49799868, 0.498449, 0.5, 0.4993996, 0.49929956, 0.49704808, 0.49869916, 0.49894932, 0.49789864, 0.49819884, 0.49624756, 0.49869916, 0.49789864, 0.49624756, 0.49889928, 0.49644768, 0.50210136, 0.5013009, 0.5024016, 0.49564716, 0.49544704, 0.49994996, 0.49869916, 0.4962976, 0.49934956, 0.49789864, 0.50145096, 0.49549708, 0.4996998, 0.4987992, 0.49729824, 0.5012508, 0.49894932, 0.49854904, 0.4950968, 0.49979988, 0.49949968, 0.49729824, 0.49499676, 0.50280184, 0.49804872, 0.49534696, 0.49799868, 0.49859908, 0.49709812, 0.49589732, 0.49524692, 0.5018512, 0.49609748, 0.49779856, 0.4975484, 0.49624756, 0.4978486, 0.4981488, 0.49639764, 0.49699804, 0.49919948, 0.49964976, 0.49809876, 0.49914944, 0.49769852, 0.49769852, 0.49869916, 0.49889928, 0.49914944, 0.49959973, 0.49669784, 0.50160104, 0.5004503, 0.49919948, 0.49719816, 0.49884924, 0.49499676, 0.4950468, 0.49644768, 0.49624756, 0.49589732, 0.49664783, 0.5014009, 0.503102, 0.50340223, 0.5019513, 0.50025016, 0.49334568, 0.4996998, 0.49949968, 0.4987492, 0.49564716, 0.49634764, 0.4965978, 0.49699804, 0.5017511, 0.49594736, 0.50095063, 0.49854904, 0.49889928, 0.50155103, 0.49849904, 0.4987992, 0.49849904, 0.49974984, 0.49574724, 0.50095063, 0.49799868, 0.49574724, 0.4996998, 0.50155103, 0.49394608, 0.50155103, 0.50090057, 0.5007505, 0.49494672, 0.50030017, 0.49829888, 0.49809876, 0.49669784, 0.50030017, 0.49919948, 0.5013009, 0.5023515, 0.49769852, 0.5012008, 0.49804872, 0.49764848, 0.49489668, 0.493846, 0.49609748, 0.49709812, 0.50005, 0.49979988, 0.50025016, 0.49809876, 0.50030017, 0.49494672, 0.50100064, 0.4925952, 0.49804872, 0.50040025, 0.49344575, 0.4990994, 0.49984992, 0.49649772, 0.49769852, 0.49954972, 0.50005, 0.49674788, 0.5005503, 0.49674788, 0.49849904, 0.50035024, 0.49484664, 0.5, 0.49949968, 0.49359584, 0.49339572, 0.498449, 0.5013009, 0.4981488, 0.49734828, 0.5036023, 0.50225145, 0.50020015, 0.4956972, 0.5013509, 0.49574724, 0.50080055, 0.49779856, 0.5001501, 0.5001001, 0.49729824, 0.5038025, 0.4981488, 0.49764848, 0.49984992, 0.49894932, 0.5001501, 0.49934956, 0.4996998, 0.49429628, 0.49769852, 0.49714816, 0.49924952, 0.50020015, 0.49579728, 0.5023515, 0.4987992, 0.49989992, 0.49869916, 0.496948, 0.49284536, 0.49519688, 0.49759844, 0.50165105, 0.4958473, 0.4990994, 0.49654776, 0.4987492, 0.49964976, 0.5001001, 0.49274528, 0.49989992, 0.49809876, 0.49624756, 0.49709812, 0.5017511, 0.49869916, 0.49979988, 0.49884924, 0.49929956, 0.4959974, 0.49524692, 0.495397, 0.49799868, 0.50215137, 0.5013009, 0.49669784, 0.4981488, 0.50265175, 0.49974984, 0.49749836, 0.49809876, 0.49824888, 0.49889928, 0.49789864, 0.4993996, 0.49564716, 0.49809876, 0.49819884, 0.49254516, 0.5006004, 0.49399608, 0.4990994, 0.49964976, 0.49559712, 0.50155103, 0.49824888, 0.49984992, 0.49794868, 0.49609748, 0.49864912, 0.5011507, 0.50025016, 0.49759844, 0.49534696, 0.49424627, 0.50340223, 0.49549708, 0.4990994, 0.5005503, 0.49739832, 0.50035024, 0.50160104, 0.50270176, 0.49759844, 0.4993996, 0.49994996, 0.4987492, 0.49644768, 0.4965978, 0.4987492, 0.49424627, 0.49934956, 0.496898, 0.49984992, 0.49819884, 0.5018012, 0.5006004, 0.49669784, 0.50160104, 0.5010507, 0.49829888, 0.4987492, 0.49779856, 0.49739832, 0.5007005, 0.49804872, 0.496898, 0.49744835, 0.49859908, 0.49979988, 0.49729824, 0.49469656, 0.49674788, 0.49774852, 0.5006004, 0.4993996, 0.49839896, 0.4972482, 0.49729824, 0.49634764, 0.50035024, 0.4936959, 0.49839896, 0.49769852, 0.4993996, 0.49959973, 0.49669784, 0.49944964, 0.49644768, 0.49809876, 0.49954972, 0.4965978, 0.49779856, 0.4958473, 0.50085056, 0.49804872, 0.50080055, 0.49389604, 0.50270176, 0.49739832, 0.49789864, 0.50155103, 0.49929956, 0.49739832, 0.49829888, 0.49739832, 0.50095063, 0.5006504, 0.49809876, 0.50085056, 0.49849904, 0.49944964, 0.5029519, 0.49594736, 0.49819884, 0.49664783, 0.49899936, 0.5004503, 0.4944464, 0.49604744, 0.498449, 0.49499676, 0.4987992, 0.5038525, 0.4981488, 0.4990494, 0.49819884, 0.50020015, 0.49279532, 0.49269524, 0.4990494, 0.5001501, 0.50155103, 0.50080055, 0.49574724, 0.50090057, 0.49824888, 0.5005003, 0.49804872, 0.50035024, 0.49944964, 0.4975484, 0.50220144, 0.4978486, 0.4929454, 0.49699804, 0.5012008, 0.4981488, 0.49799868, 0.49604744, 0.49964976, 0.49889928, 0.49929956, 0.49834892, 0.49889928, 0.49769852, 0.49759844, 0.49774852, 0.50215137, 0.49699804, 0.49959973, 0.49914944, 0.49774852, 0.50165105, 0.49574724, 0.49829888, 0.49699804]}\n"
     ]
    }
   ],
   "source": [
    "print(history.history)"
   ]
  },
  {
   "cell_type": "code",
   "execution_count": null,
   "metadata": {},
   "outputs": [],
   "source": [
    "# Plot training & validation accuracy values\n",
    "import matplotlib.pyplot as plt \n",
    "plt.plot(history.history['accuracy'])\n",
    "plt.title('Model accuracy')\n",
    "plt.ylabel('Accuracy')\n",
    "plt.xlabel('Epoch')\n",
    "plt.show()"
   ]
  },
  {
   "cell_type": "code",
   "execution_count": null,
   "metadata": {},
   "outputs": [],
   "source": [
    "model.summary()"
   ]
  },
  {
   "cell_type": "code",
   "execution_count": null,
   "metadata": {},
   "outputs": [],
   "source": [
    "eval_model=model.evaluate(X_train, y_train)\n",
    "eval_model\n",
    "y_pred=model.predict(X_test)\n",
    "y_pred =(y_pred>0.5)"
   ]
  },
  {
   "cell_type": "code",
   "execution_count": null,
   "metadata": {},
   "outputs": [],
   "source": [
    "from sklearn.metrics import confusion_matrix\n",
    "cm = confusion_matrix(y_test, y_pred)\n",
    "print(cm)"
   ]
  },
  {
   "cell_type": "code",
   "execution_count": null,
   "metadata": {},
   "outputs": [],
   "source": [
    "print(cm[0,1])"
   ]
  },
  {
   "cell_type": "code",
   "execution_count": null,
   "metadata": {},
   "outputs": [],
   "source": [
    "def MCC(matrix):\n",
    "    '''\n",
    "    Calcualtes the Matthews Correlation Coefficient from a confusion matrix\n",
    "    '''\n",
    "    return ((matrix[0,0]*matrix[1,1])-(matrix[1,0]*matrix[0,1]))/np.sqrt((cm[0,0]+cm[1,0])*(cm[0,0]+cm[0,1])*(cm[1,1]+cm[1,0])*(cm[1,1]+cm[0,1]))"
   ]
  },
  {
   "cell_type": "code",
   "execution_count": null,
   "metadata": {},
   "outputs": [],
   "source": [
    "print(\"Error Rate:\"+'{:.3%}'.format((cm[0,1]+cm[1,0])/np.sum(cm)))\n",
    "print(\"Accuracy:\"+'{:.3%}'.format((cm[0,0]+cm[1,1])/np.sum(cm)))\n",
    "print(\"Sensitivity:\"+'{:.3%}'.format((cm[0,0])/np.sum(cm[0,:])))\n",
    "print(\"Specificity :\"+'{:.3%}'.format((cm[1,1])/np.sum(cm[1,:])))\n",
    "print(\"Precision:\"+'{:.3%}'.format((cm[0,0])/np.sum(cm[:,0])))\n",
    "print(\"False Positive Rate:\"+'{:.3%}'.format(1-((cm[1,1])/np.sum(cm[1,:]))))\n",
    "print(\"Matthews Correlation Coefficient:\"+'{:.3%}'.format(MCC(cm)))"
   ]
  },
  {
   "cell_type": "markdown",
   "metadata": {},
   "source": [
    "## Sanity Check"
   ]
  },
  {
   "cell_type": "code",
   "execution_count": null,
   "metadata": {},
   "outputs": [],
   "source": [
    "for filepath in glob.iglob('../Data/cutouts/starfits/*fits', recursive=True):\n",
    "    fp = Path(filepath)\n",
    "    hdulist = fits.open(fp)\n",
    "    scidata = hdulist[0].data\n",
    "    "
   ]
  },
  {
   "cell_type": "code",
   "execution_count": 179,
   "metadata": {},
   "outputs": [],
   "source": [
    "filepath = '../Data/cutouts/starfits/starfits-256.fits'\n",
    "fp = Path(filepath)\n",
    "hdulist = fits.open(fp)\n",
    "scidata = hdulist[0].data"
   ]
  },
  {
   "cell_type": "code",
   "execution_count": 181,
   "metadata": {},
   "outputs": [
    {
     "data": {
      "text/plain": [
       "array([[0.36742818]], dtype=float32)"
      ]
     },
     "execution_count": 181,
     "metadata": {},
     "output_type": "execute_result"
    }
   ],
   "source": [
    "# Stars should return 0, galaxies return 1\n",
    "model.predict(scidata.reshape(1,40,40,1))"
   ]
  },
  {
   "cell_type": "code",
   "execution_count": 30,
   "metadata": {},
   "outputs": [
    {
     "data": {
      "text/plain": [
       "'2.1.0'"
      ]
     },
     "execution_count": 30,
     "metadata": {},
     "output_type": "execute_result"
    }
   ],
   "source": [
    "tf.__version__"
   ]
  },
  {
   "cell_type": "markdown",
   "metadata": {},
   "source": [
    "# Autokeras"
   ]
  },
  {
   "cell_type": "code",
   "execution_count": 163,
   "metadata": {},
   "outputs": [
    {
     "name": "stdout",
     "output_type": "stream",
     "text": [
      "Train for 125 steps, validate for 32 steps\n",
      "Epoch 1/1000\n",
      "125/125 [==============================] - ETA: 53s - loss: 0.7693 - accuracy: 0.437 - ETA: 4s - loss: 0.5806 - accuracy: 0.645 - ETA: 2s - loss: 0.5931 - accuracy: 0.65 - ETA: 1s - loss: 0.5914 - accuracy: 0.65 - ETA: 0s - loss: 0.5795 - accuracy: 0.66 - ETA: 0s - loss: 0.5759 - accuracy: 0.66 - ETA: 0s - loss: 0.5747 - accuracy: 0.67 - ETA: 0s - loss: 0.5720 - accuracy: 0.67 - ETA: 0s - loss: 0.5700 - accuracy: 0.67 - ETA: 0s - loss: 0.5691 - accuracy: 0.68 - 1s 10ms/step - loss: 0.5686 - accuracy: 0.6800 - val_loss: 0.5803 - val_accuracy: 0.6997\n",
      "Epoch 2/1000\n",
      "125/125 [==============================] - ETA: 3s - loss: 0.4150 - accuracy: 0.71 - ETA: 0s - loss: 0.5196 - accuracy: 0.72 - ETA: 0s - loss: 0.5432 - accuracy: 0.69 - ETA: 0s - loss: 0.5454 - accuracy: 0.70 - ETA: 0s - loss: 0.5393 - accuracy: 0.71 - ETA: 0s - loss: 0.5360 - accuracy: 0.71 - ETA: 0s - loss: 0.5324 - accuracy: 0.71 - ETA: 0s - loss: 0.5332 - accuracy: 0.71 - ETA: 0s - loss: 0.5286 - accuracy: 0.72 - 1s 5ms/step - loss: 0.5283 - accuracy: 0.7240 - val_loss: 0.5455 - val_accuracy: 0.7688\n",
      "Epoch 3/1000\n",
      "125/125 [==============================] - ETA: 3s - loss: 0.4019 - accuracy: 0.81 - ETA: 0s - loss: 0.4915 - accuracy: 0.73 - ETA: 0s - loss: 0.5052 - accuracy: 0.75 - ETA: 0s - loss: 0.4928 - accuracy: 0.76 - ETA: 0s - loss: 0.4850 - accuracy: 0.76 - ETA: 0s - loss: 0.4809 - accuracy: 0.77 - ETA: 0s - loss: 0.4736 - accuracy: 0.77 - ETA: 0s - loss: 0.4725 - accuracy: 0.78 - ETA: 0s - loss: 0.4700 - accuracy: 0.78 - 1s 5ms/step - loss: 0.4683 - accuracy: 0.7858 - val_loss: 0.4708 - val_accuracy: 0.8118\n",
      "Epoch 4/1000\n",
      "125/125 [==============================] - ETA: 3s - loss: 0.3683 - accuracy: 0.84 - ETA: 0s - loss: 0.4336 - accuracy: 0.81 - ETA: 0s - loss: 0.4333 - accuracy: 0.81 - ETA: 0s - loss: 0.4285 - accuracy: 0.82 - ETA: 0s - loss: 0.4245 - accuracy: 0.82 - ETA: 0s - loss: 0.4285 - accuracy: 0.81 - ETA: 0s - loss: 0.4233 - accuracy: 0.82 - ETA: 0s - loss: 0.4213 - accuracy: 0.82 - ETA: 0s - loss: 0.4169 - accuracy: 0.82 - 1s 5ms/step - loss: 0.4198 - accuracy: 0.8221 - val_loss: 0.4416 - val_accuracy: 0.8238\n",
      "Epoch 5/1000\n",
      "125/125 [==============================] - ETA: 3s - loss: 0.2882 - accuracy: 0.84 - ETA: 0s - loss: 0.3932 - accuracy: 0.82 - ETA: 0s - loss: 0.3880 - accuracy: 0.83 - ETA: 0s - loss: 0.3844 - accuracy: 0.84 - ETA: 0s - loss: 0.3862 - accuracy: 0.84 - ETA: 0s - loss: 0.3877 - accuracy: 0.83 - ETA: 0s - loss: 0.3845 - accuracy: 0.84 - ETA: 0s - loss: 0.3848 - accuracy: 0.84 - ETA: 0s - loss: 0.3845 - accuracy: 0.84 - 1s 5ms/step - loss: 0.3844 - accuracy: 0.8401 - val_loss: 0.3783 - val_accuracy: 0.8579\n",
      "Epoch 6/1000\n",
      "125/125 [==============================] - ETA: 3s - loss: 0.2867 - accuracy: 0.87 - ETA: 0s - loss: 0.3483 - accuracy: 0.85 - ETA: 0s - loss: 0.3517 - accuracy: 0.86 - ETA: 0s - loss: 0.3573 - accuracy: 0.86 - ETA: 0s - loss: 0.3612 - accuracy: 0.85 - ETA: 0s - loss: 0.3594 - accuracy: 0.85 - ETA: 0s - loss: 0.3554 - accuracy: 0.85 - ETA: 0s - loss: 0.3568 - accuracy: 0.85 - ETA: 0s - loss: 0.3552 - accuracy: 0.85 - 1s 5ms/step - loss: 0.3560 - accuracy: 0.8559 - val_loss: 0.3607 - val_accuracy: 0.8619\n",
      "Epoch 7/1000\n",
      "125/125 [==============================] - ETA: 3s - loss: 0.3046 - accuracy: 0.87 - ETA: 0s - loss: 0.3221 - accuracy: 0.86 - ETA: 0s - loss: 0.3310 - accuracy: 0.87 - ETA: 0s - loss: 0.3328 - accuracy: 0.87 - ETA: 0s - loss: 0.3374 - accuracy: 0.87 - ETA: 0s - loss: 0.3409 - accuracy: 0.87 - ETA: 0s - loss: 0.3389 - accuracy: 0.87 - ETA: 0s - loss: 0.3416 - accuracy: 0.87 - ETA: 0s - loss: 0.3389 - accuracy: 0.87 - ETA: 0s - loss: 0.3376 - accuracy: 0.87 - 1s 5ms/step - loss: 0.3393 - accuracy: 0.8684 - val_loss: 0.3297 - val_accuracy: 0.8809\n",
      "Epoch 8/1000\n",
      "125/125 [==============================] - ETA: 3s - loss: 0.2789 - accuracy: 0.87 - ETA: 0s - loss: 0.3171 - accuracy: 0.88 - ETA: 0s - loss: 0.3272 - accuracy: 0.88 - ETA: 0s - loss: 0.3235 - accuracy: 0.88 - ETA: 0s - loss: 0.3240 - accuracy: 0.87 - ETA: 0s - loss: 0.3247 - accuracy: 0.87 - ETA: 0s - loss: 0.3234 - accuracy: 0.87 - ETA: 0s - loss: 0.3237 - accuracy: 0.87 - ETA: 0s - loss: 0.3196 - accuracy: 0.87 - ETA: 0s - loss: 0.3207 - accuracy: 0.87 - 1s 5ms/step - loss: 0.3233 - accuracy: 0.8742 - val_loss: 0.3351 - val_accuracy: 0.8749\n",
      "Epoch 9/1000\n",
      "125/125 [==============================] - ETA: 3s - loss: 0.2877 - accuracy: 0.90 - ETA: 0s - loss: 0.3154 - accuracy: 0.88 - ETA: 0s - loss: 0.3131 - accuracy: 0.89 - ETA: 0s - loss: 0.3154 - accuracy: 0.89 - ETA: 0s - loss: 0.3164 - accuracy: 0.88 - ETA: 0s - loss: 0.3176 - accuracy: 0.88 - ETA: 0s - loss: 0.3190 - accuracy: 0.88 - ETA: 0s - loss: 0.3205 - accuracy: 0.88 - ETA: 0s - loss: 0.3170 - accuracy: 0.88 - ETA: 0s - loss: 0.3157 - accuracy: 0.88 - 1s 5ms/step - loss: 0.3158 - accuracy: 0.8812 - val_loss: 0.3116 - val_accuracy: 0.8969\n",
      "Epoch 10/1000\n",
      "125/125 [==============================] - ETA: 3s - loss: 0.2513 - accuracy: 0.90 - ETA: 0s - loss: 0.3004 - accuracy: 0.89 - ETA: 0s - loss: 0.2850 - accuracy: 0.90 - ETA: 0s - loss: 0.2851 - accuracy: 0.89 - ETA: 0s - loss: 0.2928 - accuracy: 0.89 - ETA: 0s - loss: 0.2994 - accuracy: 0.89 - ETA: 0s - loss: 0.2997 - accuracy: 0.89 - ETA: 0s - loss: 0.3040 - accuracy: 0.89 - ETA: 0s - loss: 0.3018 - accuracy: 0.89 - ETA: 0s - loss: 0.3006 - accuracy: 0.89 - 1s 5ms/step - loss: 0.3025 - accuracy: 0.8897 - val_loss: 0.3031 - val_accuracy: 0.8919\n",
      "Epoch 11/1000\n",
      "125/125 [==============================] - ETA: 3s - loss: 0.2095 - accuracy: 0.90 - ETA: 0s - loss: 0.2774 - accuracy: 0.88 - ETA: 0s - loss: 0.2832 - accuracy: 0.89 - ETA: 0s - loss: 0.2966 - accuracy: 0.88 - ETA: 0s - loss: 0.2927 - accuracy: 0.89 - ETA: 0s - loss: 0.2961 - accuracy: 0.88 - ETA: 0s - loss: 0.2940 - accuracy: 0.89 - ETA: 0s - loss: 0.2981 - accuracy: 0.88 - ETA: 0s - loss: 0.2981 - accuracy: 0.88 - 1s 5ms/step - loss: 0.2979 - accuracy: 0.8874 - val_loss: 0.2937 - val_accuracy: 0.8999\n",
      "Epoch 12/1000\n",
      "125/125 [==============================] - ETA: 3s - loss: 0.2357 - accuracy: 0.90 - ETA: 0s - loss: 0.2677 - accuracy: 0.90 - ETA: 0s - loss: 0.2554 - accuracy: 0.91 - ETA: 0s - loss: 0.2645 - accuracy: 0.91 - ETA: 0s - loss: 0.2740 - accuracy: 0.90 - ETA: 0s - loss: 0.2813 - accuracy: 0.90 - ETA: 0s - loss: 0.2820 - accuracy: 0.90 - ETA: 0s - loss: 0.2869 - accuracy: 0.89 - ETA: 0s - loss: 0.2837 - accuracy: 0.89 - 1s 5ms/step - loss: 0.2853 - accuracy: 0.8977 - val_loss: 0.3050 - val_accuracy: 0.8899\n",
      "Epoch 13/1000\n",
      "125/125 [==============================] - ETA: 3s - loss: 0.2854 - accuracy: 0.87 - ETA: 0s - loss: 0.2714 - accuracy: 0.90 - ETA: 0s - loss: 0.2728 - accuracy: 0.90 - ETA: 0s - loss: 0.2736 - accuracy: 0.90 - ETA: 0s - loss: 0.2762 - accuracy: 0.90 - ETA: 0s - loss: 0.2815 - accuracy: 0.89 - ETA: 0s - loss: 0.2800 - accuracy: 0.89 - ETA: 0s - loss: 0.2811 - accuracy: 0.89 - ETA: 0s - loss: 0.2806 - accuracy: 0.90 - 1s 5ms/step - loss: 0.2818 - accuracy: 0.8997 - val_loss: 0.2784 - val_accuracy: 0.9009\n",
      "Epoch 14/1000\n",
      "125/125 [==============================] - ETA: 3s - loss: 0.2535 - accuracy: 0.90 - ETA: 0s - loss: 0.2446 - accuracy: 0.91 - ETA: 0s - loss: 0.2519 - accuracy: 0.91 - ETA: 0s - loss: 0.2584 - accuracy: 0.90 - ETA: 0s - loss: 0.2583 - accuracy: 0.90 - ETA: 0s - loss: 0.2615 - accuracy: 0.90 - ETA: 0s - loss: 0.2634 - accuracy: 0.90 - ETA: 0s - loss: 0.2663 - accuracy: 0.90 - ETA: 0s - loss: 0.2670 - accuracy: 0.90 - 1s 5ms/step - loss: 0.2688 - accuracy: 0.8999 - val_loss: 0.2747 - val_accuracy: 0.8999\n",
      "Epoch 15/1000\n",
      "125/125 [==============================] - ETA: 3s - loss: 0.2581 - accuracy: 0.90 - ETA: 0s - loss: 0.2547 - accuracy: 0.91 - ETA: 0s - loss: 0.2522 - accuracy: 0.90 - ETA: 0s - loss: 0.2575 - accuracy: 0.90 - ETA: 0s - loss: 0.2597 - accuracy: 0.90 - ETA: 0s - loss: 0.2613 - accuracy: 0.90 - ETA: 0s - loss: 0.2611 - accuracy: 0.90 - ETA: 0s - loss: 0.2624 - accuracy: 0.90 - ETA: 0s - loss: 0.2611 - accuracy: 0.90 - 1s 5ms/step - loss: 0.2621 - accuracy: 0.9012 - val_loss: 0.2803 - val_accuracy: 0.9009\n",
      "Epoch 16/1000\n",
      "125/125 [==============================] - ETA: 3s - loss: 0.2604 - accuracy: 0.90 - ETA: 0s - loss: 0.2718 - accuracy: 0.90 - ETA: 0s - loss: 0.2641 - accuracy: 0.90 - ETA: 0s - loss: 0.2574 - accuracy: 0.90 - ETA: 0s - loss: 0.2624 - accuracy: 0.90 - ETA: 0s - loss: 0.2652 - accuracy: 0.90 - ETA: 0s - loss: 0.2637 - accuracy: 0.90 - ETA: 0s - loss: 0.2646 - accuracy: 0.90 - ETA: 0s - loss: 0.2598 - accuracy: 0.90 - 1s 5ms/step - loss: 0.2622 - accuracy: 0.9042 - val_loss: 0.2651 - val_accuracy: 0.9009\n",
      "Epoch 17/1000\n",
      "125/125 [==============================] - ETA: 3s - loss: 0.2723 - accuracy: 0.87 - ETA: 0s - loss: 0.2306 - accuracy: 0.92 - ETA: 0s - loss: 0.2211 - accuracy: 0.93 - ETA: 0s - loss: 0.2278 - accuracy: 0.92 - ETA: 0s - loss: 0.2395 - accuracy: 0.91 - ETA: 0s - loss: 0.2472 - accuracy: 0.91 - ETA: 0s - loss: 0.2447 - accuracy: 0.91 - ETA: 0s - loss: 0.2470 - accuracy: 0.91 - ETA: 0s - loss: 0.2446 - accuracy: 0.91 - 1s 5ms/step - loss: 0.2474 - accuracy: 0.9137 - val_loss: 0.3074 - val_accuracy: 0.8909\n",
      "Epoch 18/1000\n",
      "125/125 [==============================] - ETA: 3s - loss: 0.3177 - accuracy: 0.87 - ETA: 0s - loss: 0.2344 - accuracy: 0.91 - ETA: 0s - loss: 0.2289 - accuracy: 0.92 - ETA: 0s - loss: 0.2359 - accuracy: 0.91 - ETA: 0s - loss: 0.2470 - accuracy: 0.90 - ETA: 0s - loss: 0.2514 - accuracy: 0.90 - ETA: 0s - loss: 0.2512 - accuracy: 0.91 - ETA: 0s - loss: 0.2552 - accuracy: 0.90 - ETA: 0s - loss: 0.2539 - accuracy: 0.90 - 1s 5ms/step - loss: 0.2547 - accuracy: 0.9084 - val_loss: 0.2599 - val_accuracy: 0.9079\n",
      "Epoch 19/1000\n",
      "125/125 [==============================] - ETA: 3s - loss: 0.2893 - accuracy: 0.84 - ETA: 0s - loss: 0.2500 - accuracy: 0.89 - ETA: 0s - loss: 0.2424 - accuracy: 0.90 - ETA: 0s - loss: 0.2416 - accuracy: 0.91 - ETA: 0s - loss: 0.2454 - accuracy: 0.91 - ETA: 0s - loss: 0.2422 - accuracy: 0.91 - ETA: 0s - loss: 0.2441 - accuracy: 0.91 - ETA: 0s - loss: 0.2492 - accuracy: 0.91 - ETA: 0s - loss: 0.2483 - accuracy: 0.91 - ETA: 0s - loss: 0.2475 - accuracy: 0.91 - 1s 5ms/step - loss: 0.2478 - accuracy: 0.9102 - val_loss: 0.2647 - val_accuracy: 0.9069\n",
      "Epoch 20/1000\n",
      "125/125 [==============================] - ETA: 3s - loss: 0.2465 - accuracy: 0.90 - ETA: 0s - loss: 0.2354 - accuracy: 0.92 - ETA: 0s - loss: 0.2268 - accuracy: 0.92 - ETA: 0s - loss: 0.2282 - accuracy: 0.92 - ETA: 0s - loss: 0.2322 - accuracy: 0.92 - ETA: 0s - loss: 0.2373 - accuracy: 0.91 - ETA: 0s - loss: 0.2384 - accuracy: 0.91 - ETA: 0s - loss: 0.2424 - accuracy: 0.91 - ETA: 0s - loss: 0.2409 - accuracy: 0.91 - 1s 5ms/step - loss: 0.2433 - accuracy: 0.9137 - val_loss: 0.2690 - val_accuracy: 0.9109\n",
      "Epoch 21/1000\n",
      "125/125 [==============================] - ETA: 3s - loss: 0.2409 - accuracy: 0.84 - ETA: 0s - loss: 0.2189 - accuracy: 0.92 - ETA: 0s - loss: 0.2166 - accuracy: 0.92 - ETA: 0s - loss: 0.2229 - accuracy: 0.92 - ETA: 0s - loss: 0.2341 - accuracy: 0.91 - ETA: 0s - loss: 0.2406 - accuracy: 0.91 - ETA: 0s - loss: 0.2450 - accuracy: 0.91 - ETA: 0s - loss: 0.2426 - accuracy: 0.91 - ETA: 0s - loss: 0.2375 - accuracy: 0.91 - 1s 5ms/step - loss: 0.2389 - accuracy: 0.9127 - val_loss: 0.2482 - val_accuracy: 0.9139\n",
      "Epoch 22/1000\n",
      "125/125 [==============================] - ETA: 3s - loss: 0.2477 - accuracy: 0.87 - ETA: 0s - loss: 0.2131 - accuracy: 0.92 - ETA: 0s - loss: 0.2109 - accuracy: 0.92 - ETA: 0s - loss: 0.2181 - accuracy: 0.92 - ETA: 0s - loss: 0.2215 - accuracy: 0.92 - ETA: 0s - loss: 0.2319 - accuracy: 0.91 - ETA: 0s - loss: 0.2373 - accuracy: 0.91 - ETA: 0s - loss: 0.2378 - accuracy: 0.91 - ETA: 0s - loss: 0.2352 - accuracy: 0.91 - 1s 5ms/step - loss: 0.2370 - accuracy: 0.9167 - val_loss: 0.2318 - val_accuracy: 0.9229\n",
      "Epoch 23/1000\n",
      "125/125 [==============================] - ETA: 3s - loss: 0.2146 - accuracy: 0.93 - ETA: 0s - loss: 0.2092 - accuracy: 0.94 - ETA: 0s - loss: 0.2060 - accuracy: 0.93 - ETA: 0s - loss: 0.2131 - accuracy: 0.92 - ETA: 0s - loss: 0.2156 - accuracy: 0.92 - ETA: 0s - loss: 0.2230 - accuracy: 0.92 - ETA: 0s - loss: 0.2264 - accuracy: 0.92 - ETA: 0s - loss: 0.2249 - accuracy: 0.92 - ETA: 0s - loss: 0.2210 - accuracy: 0.92 - 1s 4ms/step - loss: 0.2219 - accuracy: 0.9229 - val_loss: 0.2437 - val_accuracy: 0.9129\n",
      "Epoch 24/1000\n",
      "125/125 [==============================] - ETA: 3s - loss: 0.1903 - accuracy: 0.90 - ETA: 0s - loss: 0.2023 - accuracy: 0.93 - ETA: 0s - loss: 0.1989 - accuracy: 0.93 - ETA: 0s - loss: 0.2091 - accuracy: 0.93 - ETA: 0s - loss: 0.2100 - accuracy: 0.93 - ETA: 0s - loss: 0.2186 - accuracy: 0.92 - ETA: 0s - loss: 0.2215 - accuracy: 0.92 - ETA: 0s - loss: 0.2258 - accuracy: 0.92 - ETA: 0s - loss: 0.2241 - accuracy: 0.92 - 1s 5ms/step - loss: 0.2245 - accuracy: 0.9209 - val_loss: 0.2599 - val_accuracy: 0.9039\n",
      "Epoch 25/1000\n",
      "125/125 [==============================] - ETA: 3s - loss: 0.1976 - accuracy: 0.93 - ETA: 0s - loss: 0.2050 - accuracy: 0.93 - ETA: 0s - loss: 0.1978 - accuracy: 0.93 - ETA: 0s - loss: 0.2077 - accuracy: 0.93 - ETA: 0s - loss: 0.2113 - accuracy: 0.92 - ETA: 0s - loss: 0.2160 - accuracy: 0.92 - ETA: 0s - loss: 0.2188 - accuracy: 0.92 - ETA: 0s - loss: 0.2223 - accuracy: 0.92 - ETA: 0s - loss: 0.2213 - accuracy: 0.92 - ETA: 0s - loss: 0.2206 - accuracy: 0.92 - 1s 5ms/step - loss: 0.2225 - accuracy: 0.9199 - val_loss: 0.2561 - val_accuracy: 0.9099\n",
      "Epoch 26/1000\n",
      "125/125 [==============================] - ETA: 3s - loss: 0.2161 - accuracy: 0.90 - ETA: 0s - loss: 0.2103 - accuracy: 0.93 - ETA: 0s - loss: 0.1993 - accuracy: 0.93 - ETA: 0s - loss: 0.2067 - accuracy: 0.93 - ETA: 0s - loss: 0.2125 - accuracy: 0.92 - ETA: 0s - loss: 0.2145 - accuracy: 0.92 - ETA: 0s - loss: 0.2212 - accuracy: 0.92 - ETA: 0s - loss: 0.2250 - accuracy: 0.92 - ETA: 0s - loss: 0.2214 - accuracy: 0.92 - 1s 5ms/step - loss: 0.2205 - accuracy: 0.9222 - val_loss: 0.2597 - val_accuracy: 0.9169\n",
      "Epoch 27/1000\n",
      "125/125 [==============================] - ETA: 3s - loss: 0.2425 - accuracy: 0.87 - ETA: 0s - loss: 0.2044 - accuracy: 0.92 - ETA: 0s - loss: 0.1851 - accuracy: 0.93 - ETA: 0s - loss: 0.1964 - accuracy: 0.92 - ETA: 0s - loss: 0.2045 - accuracy: 0.92 - ETA: 0s - loss: 0.2121 - accuracy: 0.92 - ETA: 0s - loss: 0.2143 - accuracy: 0.92 - ETA: 0s - loss: 0.2193 - accuracy: 0.92 - ETA: 0s - loss: 0.2182 - accuracy: 0.92 - 1s 5ms/step - loss: 0.2202 - accuracy: 0.9222 - val_loss: 0.2496 - val_accuracy: 0.9109\n",
      "Epoch 28/1000\n",
      "125/125 [==============================] - ETA: 3s - loss: 0.2263 - accuracy: 0.90 - ETA: 0s - loss: 0.2109 - accuracy: 0.92 - ETA: 0s - loss: 0.2057 - accuracy: 0.93 - ETA: 0s - loss: 0.2072 - accuracy: 0.92 - ETA: 0s - loss: 0.2137 - accuracy: 0.92 - ETA: 0s - loss: 0.2200 - accuracy: 0.92 - ETA: 0s - loss: 0.2186 - accuracy: 0.92 - ETA: 0s - loss: 0.2203 - accuracy: 0.92 - ETA: 0s - loss: 0.2177 - accuracy: 0.92 - 1s 5ms/step - loss: 0.2185 - accuracy: 0.9219 - val_loss: 0.2459 - val_accuracy: 0.9139\n",
      "Epoch 29/1000\n",
      "125/125 [==============================] - ETA: 3s - loss: 0.1913 - accuracy: 0.90 - ETA: 0s - loss: 0.2109 - accuracy: 0.93 - ETA: 0s - loss: 0.1983 - accuracy: 0.93 - ETA: 0s - loss: 0.2074 - accuracy: 0.93 - ETA: 0s - loss: 0.2094 - accuracy: 0.93 - ETA: 0s - loss: 0.2156 - accuracy: 0.92 - ETA: 0s - loss: 0.2164 - accuracy: 0.92 - ETA: 0s - loss: 0.2197 - accuracy: 0.92 - ETA: 0s - loss: 0.2149 - accuracy: 0.92 - ETA: 0s - loss: 0.2145 - accuracy: 0.92 - 1s 5ms/step - loss: 0.2161 - accuracy: 0.9259 - val_loss: 0.2228 - val_accuracy: 0.9149\n",
      "Epoch 30/1000\n",
      "125/125 [==============================] - ETA: 3s - loss: 0.1974 - accuracy: 0.93 - ETA: 0s - loss: 0.1949 - accuracy: 0.94 - ETA: 0s - loss: 0.1915 - accuracy: 0.93 - ETA: 0s - loss: 0.2033 - accuracy: 0.93 - ETA: 0s - loss: 0.2089 - accuracy: 0.92 - ETA: 0s - loss: 0.2092 - accuracy: 0.93 - ETA: 0s - loss: 0.2120 - accuracy: 0.92 - ETA: 0s - loss: 0.2120 - accuracy: 0.92 - ETA: 0s - loss: 0.2116 - accuracy: 0.92 - 1s 5ms/step - loss: 0.2102 - accuracy: 0.9297 - val_loss: 0.2260 - val_accuracy: 0.9189\n",
      "Epoch 31/1000\n"
     ]
    },
    {
     "name": "stdout",
     "output_type": "stream",
     "text": [
      "125/125 [==============================] - ETA: 3s - loss: 0.2455 - accuracy: 0.90 - ETA: 0s - loss: 0.1884 - accuracy: 0.94 - ETA: 0s - loss: 0.1898 - accuracy: 0.93 - ETA: 0s - loss: 0.2040 - accuracy: 0.93 - ETA: 0s - loss: 0.2054 - accuracy: 0.92 - ETA: 0s - loss: 0.2041 - accuracy: 0.92 - ETA: 0s - loss: 0.2081 - accuracy: 0.92 - ETA: 0s - loss: 0.2134 - accuracy: 0.92 - ETA: 0s - loss: 0.2102 - accuracy: 0.92 - ETA: 0s - loss: 0.2080 - accuracy: 0.92 - 1s 5ms/step - loss: 0.2085 - accuracy: 0.9269 - val_loss: 0.2215 - val_accuracy: 0.9199\n",
      "Epoch 32/1000\n",
      "125/125 [==============================] - ETA: 3s - loss: 0.2199 - accuracy: 0.90 - ETA: 0s - loss: 0.1835 - accuracy: 0.93 - ETA: 0s - loss: 0.1804 - accuracy: 0.93 - ETA: 0s - loss: 0.1874 - accuracy: 0.93 - ETA: 0s - loss: 0.1939 - accuracy: 0.93 - ETA: 0s - loss: 0.2000 - accuracy: 0.92 - ETA: 0s - loss: 0.2018 - accuracy: 0.92 - ETA: 0s - loss: 0.2071 - accuracy: 0.92 - ETA: 0s - loss: 0.2048 - accuracy: 0.92 - ETA: 0s - loss: 0.2035 - accuracy: 0.92 - 1s 5ms/step - loss: 0.2037 - accuracy: 0.9274 - val_loss: 0.2457 - val_accuracy: 0.9179\n",
      "Epoch 33/1000\n",
      "125/125 [==============================] - ETA: 3s - loss: 0.2662 - accuracy: 0.84 - ETA: 0s - loss: 0.1886 - accuracy: 0.93 - ETA: 0s - loss: 0.1807 - accuracy: 0.94 - ETA: 0s - loss: 0.1906 - accuracy: 0.93 - ETA: 0s - loss: 0.1955 - accuracy: 0.93 - ETA: 0s - loss: 0.1957 - accuracy: 0.93 - ETA: 0s - loss: 0.2028 - accuracy: 0.93 - ETA: 0s - loss: 0.2040 - accuracy: 0.93 - ETA: 0s - loss: 0.2022 - accuracy: 0.93 - ETA: 0s - loss: 0.2014 - accuracy: 0.93 - 1s 5ms/step - loss: 0.2036 - accuracy: 0.9307 - val_loss: 0.2649 - val_accuracy: 0.9109\n",
      "Epoch 34/1000\n",
      "125/125 [==============================] - ETA: 3s - loss: 0.1710 - accuracy: 0.96 - ETA: 0s - loss: 0.1796 - accuracy: 0.93 - ETA: 0s - loss: 0.1741 - accuracy: 0.94 - ETA: 0s - loss: 0.1847 - accuracy: 0.93 - ETA: 0s - loss: 0.1893 - accuracy: 0.93 - ETA: 0s - loss: 0.1963 - accuracy: 0.93 - ETA: 0s - loss: 0.2035 - accuracy: 0.93 - ETA: 0s - loss: 0.2084 - accuracy: 0.92 - ETA: 0s - loss: 0.2050 - accuracy: 0.93 - 1s 5ms/step - loss: 0.2054 - accuracy: 0.9292 - val_loss: 0.2263 - val_accuracy: 0.9219\n",
      "Epoch 35/1000\n",
      "125/125 [==============================] - ETA: 3s - loss: 0.2274 - accuracy: 0.90 - ETA: 0s - loss: 0.1755 - accuracy: 0.93 - ETA: 0s - loss: 0.1700 - accuracy: 0.94 - ETA: 0s - loss: 0.1793 - accuracy: 0.94 - ETA: 0s - loss: 0.1866 - accuracy: 0.93 - ETA: 0s - loss: 0.1900 - accuracy: 0.93 - ETA: 0s - loss: 0.1921 - accuracy: 0.93 - ETA: 0s - loss: 0.1930 - accuracy: 0.93 - ETA: 0s - loss: 0.1922 - accuracy: 0.93 - 1s 5ms/step - loss: 0.1899 - accuracy: 0.9337 - val_loss: 0.2267 - val_accuracy: 0.9219\n",
      "Epoch 36/1000\n",
      "125/125 [==============================] - ETA: 3s - loss: 0.1943 - accuracy: 0.93 - ETA: 0s - loss: 0.1804 - accuracy: 0.94 - ETA: 0s - loss: 0.1765 - accuracy: 0.95 - ETA: 0s - loss: 0.1915 - accuracy: 0.93 - ETA: 0s - loss: 0.1885 - accuracy: 0.93 - ETA: 0s - loss: 0.1920 - accuracy: 0.93 - ETA: 0s - loss: 0.1940 - accuracy: 0.93 - ETA: 0s - loss: 0.1935 - accuracy: 0.93 - ETA: 0s - loss: 0.1912 - accuracy: 0.93 - 1s 5ms/step - loss: 0.1923 - accuracy: 0.9350 - val_loss: 0.2377 - val_accuracy: 0.9189\n",
      "Epoch 37/1000\n",
      "125/125 [==============================] - ETA: 3s - loss: 0.1829 - accuracy: 0.90 - ETA: 0s - loss: 0.1750 - accuracy: 0.94 - ETA: 0s - loss: 0.1689 - accuracy: 0.94 - ETA: 0s - loss: 0.1728 - accuracy: 0.94 - ETA: 0s - loss: 0.1788 - accuracy: 0.93 - ETA: 0s - loss: 0.1856 - accuracy: 0.93 - ETA: 0s - loss: 0.1890 - accuracy: 0.93 - ETA: 0s - loss: 0.1939 - accuracy: 0.93 - ETA: 0s - loss: 0.1926 - accuracy: 0.93 - 1s 5ms/step - loss: 0.1912 - accuracy: 0.9342 - val_loss: 0.2228 - val_accuracy: 0.9239\n",
      "Epoch 38/1000\n",
      "125/125 [==============================] - ETA: 3s - loss: 0.1912 - accuracy: 0.96 - ETA: 0s - loss: 0.1655 - accuracy: 0.94 - ETA: 0s - loss: 0.1652 - accuracy: 0.94 - ETA: 0s - loss: 0.1717 - accuracy: 0.94 - ETA: 0s - loss: 0.1746 - accuracy: 0.94 - ETA: 0s - loss: 0.1843 - accuracy: 0.93 - ETA: 0s - loss: 0.1899 - accuracy: 0.93 - ETA: 0s - loss: 0.1891 - accuracy: 0.93 - ETA: 0s - loss: 0.1876 - accuracy: 0.93 - 1s 5ms/step - loss: 0.1879 - accuracy: 0.9372 - val_loss: 0.2277 - val_accuracy: 0.9209\n",
      "Epoch 39/1000\n",
      "125/125 [==============================] - ETA: 3s - loss: 0.2134 - accuracy: 0.87 - ETA: 0s - loss: 0.1702 - accuracy: 0.94 - ETA: 0s - loss: 0.1748 - accuracy: 0.94 - ETA: 0s - loss: 0.1860 - accuracy: 0.93 - ETA: 0s - loss: 0.1899 - accuracy: 0.93 - ETA: 0s - loss: 0.1940 - accuracy: 0.93 - ETA: 0s - loss: 0.1958 - accuracy: 0.93 - ETA: 0s - loss: 0.1993 - accuracy: 0.93 - ETA: 0s - loss: 0.1972 - accuracy: 0.93 - 1s 5ms/step - loss: 0.1941 - accuracy: 0.9357 - val_loss: 0.2094 - val_accuracy: 0.9209\n",
      "Epoch 40/1000\n",
      "125/125 [==============================] - ETA: 3s - loss: 0.1495 - accuracy: 0.93 - ETA: 0s - loss: 0.1654 - accuracy: 0.93 - ETA: 0s - loss: 0.1649 - accuracy: 0.94 - ETA: 0s - loss: 0.1716 - accuracy: 0.94 - ETA: 0s - loss: 0.1794 - accuracy: 0.94 - ETA: 0s - loss: 0.1814 - accuracy: 0.93 - ETA: 0s - loss: 0.1809 - accuracy: 0.94 - ETA: 0s - loss: 0.1855 - accuracy: 0.93 - ETA: 0s - loss: 0.1836 - accuracy: 0.93 - ETA: 0s - loss: 0.1826 - accuracy: 0.94 - 1s 5ms/step - loss: 0.1843 - accuracy: 0.9397 - val_loss: 0.2138 - val_accuracy: 0.9299\n",
      "Epoch 41/1000\n",
      "125/125 [==============================] - ETA: 3s - loss: 0.1257 - accuracy: 0.96 - ETA: 0s - loss: 0.1747 - accuracy: 0.94 - ETA: 0s - loss: 0.1653 - accuracy: 0.94 - ETA: 0s - loss: 0.1699 - accuracy: 0.94 - ETA: 0s - loss: 0.1750 - accuracy: 0.94 - ETA: 0s - loss: 0.1832 - accuracy: 0.93 - ETA: 0s - loss: 0.1850 - accuracy: 0.93 - ETA: 0s - loss: 0.1889 - accuracy: 0.93 - ETA: 0s - loss: 0.1866 - accuracy: 0.93 - 1s 5ms/step - loss: 0.1867 - accuracy: 0.9367 - val_loss: 0.2288 - val_accuracy: 0.9229\n",
      "Epoch 42/1000\n",
      "125/125 [==============================] - ETA: 3s - loss: 0.1845 - accuracy: 0.90 - ETA: 0s - loss: 0.1587 - accuracy: 0.95 - ETA: 0s - loss: 0.1541 - accuracy: 0.95 - ETA: 0s - loss: 0.1627 - accuracy: 0.95 - ETA: 0s - loss: 0.1648 - accuracy: 0.94 - ETA: 0s - loss: 0.1725 - accuracy: 0.94 - ETA: 0s - loss: 0.1769 - accuracy: 0.94 - ETA: 0s - loss: 0.1815 - accuracy: 0.94 - ETA: 0s - loss: 0.1798 - accuracy: 0.94 - ETA: 0s - loss: 0.1769 - accuracy: 0.94 - 1s 5ms/step - loss: 0.1794 - accuracy: 0.9392 - val_loss: 0.2203 - val_accuracy: 0.9349\n",
      "Epoch 43/1000\n",
      "125/125 [==============================] - ETA: 3s - loss: 0.1779 - accuracy: 0.93 - ETA: 0s - loss: 0.1612 - accuracy: 0.94 - ETA: 0s - loss: 0.1515 - accuracy: 0.94 - ETA: 0s - loss: 0.1622 - accuracy: 0.93 - ETA: 0s - loss: 0.1707 - accuracy: 0.93 - ETA: 0s - loss: 0.1750 - accuracy: 0.93 - ETA: 0s - loss: 0.1797 - accuracy: 0.93 - ETA: 0s - loss: 0.1809 - accuracy: 0.93 - ETA: 0s - loss: 0.1783 - accuracy: 0.93 - 1s 5ms/step - loss: 0.1786 - accuracy: 0.9365 - val_loss: 0.2157 - val_accuracy: 0.9239\n",
      "Epoch 44/1000\n",
      "125/125 [==============================] - ETA: 3s - loss: 0.1583 - accuracy: 0.93 - ETA: 0s - loss: 0.1458 - accuracy: 0.95 - ETA: 0s - loss: 0.1472 - accuracy: 0.94 - ETA: 0s - loss: 0.1552 - accuracy: 0.94 - ETA: 0s - loss: 0.1631 - accuracy: 0.94 - ETA: 0s - loss: 0.1661 - accuracy: 0.94 - ETA: 0s - loss: 0.1719 - accuracy: 0.93 - ETA: 0s - loss: 0.1748 - accuracy: 0.93 - ETA: 0s - loss: 0.1753 - accuracy: 0.93 - ETA: 0s - loss: 0.1727 - accuracy: 0.93 - 1s 5ms/step - loss: 0.1747 - accuracy: 0.9357 - val_loss: 0.2132 - val_accuracy: 0.9319\n",
      "Epoch 45/1000\n",
      "125/125 [==============================] - ETA: 3s - loss: 0.1607 - accuracy: 0.93 - ETA: 0s - loss: 0.1520 - accuracy: 0.95 - ETA: 0s - loss: 0.1495 - accuracy: 0.94 - ETA: 0s - loss: 0.1530 - accuracy: 0.94 - ETA: 0s - loss: 0.1555 - accuracy: 0.94 - ETA: 0s - loss: 0.1594 - accuracy: 0.94 - ETA: 0s - loss: 0.1644 - accuracy: 0.93 - ETA: 0s - loss: 0.1698 - accuracy: 0.93 - ETA: 0s - loss: 0.1701 - accuracy: 0.93 - ETA: 0s - loss: 0.1704 - accuracy: 0.93 - 1s 5ms/step - loss: 0.1720 - accuracy: 0.9362 - val_loss: 0.2369 - val_accuracy: 0.9249\n",
      "Epoch 46/1000\n",
      "125/125 [==============================] - ETA: 3s - loss: 0.1468 - accuracy: 0.96 - ETA: 0s - loss: 0.1485 - accuracy: 0.95 - ETA: 0s - loss: 0.1588 - accuracy: 0.94 - ETA: 0s - loss: 0.1736 - accuracy: 0.93 - ETA: 0s - loss: 0.1768 - accuracy: 0.93 - ETA: 0s - loss: 0.1730 - accuracy: 0.93 - ETA: 0s - loss: 0.1748 - accuracy: 0.93 - ETA: 0s - loss: 0.1794 - accuracy: 0.93 - ETA: 0s - loss: 0.1744 - accuracy: 0.93 - ETA: 0s - loss: 0.1707 - accuracy: 0.94 - 1s 5ms/step - loss: 0.1715 - accuracy: 0.9400 - val_loss: 0.2174 - val_accuracy: 0.9309\n",
      "Epoch 47/1000\n",
      "125/125 [==============================] - ETA: 3s - loss: 0.1638 - accuracy: 0.93 - ETA: 0s - loss: 0.1421 - accuracy: 0.96 - ETA: 0s - loss: 0.1502 - accuracy: 0.95 - ETA: 0s - loss: 0.1558 - accuracy: 0.94 - ETA: 0s - loss: 0.1612 - accuracy: 0.94 - ETA: 0s - loss: 0.1701 - accuracy: 0.94 - ETA: 0s - loss: 0.1718 - accuracy: 0.94 - ETA: 0s - loss: 0.1744 - accuracy: 0.94 - ETA: 0s - loss: 0.1728 - accuracy: 0.94 - ETA: 0s - loss: 0.1737 - accuracy: 0.94 - 1s 5ms/step - loss: 0.1740 - accuracy: 0.9410 - val_loss: 0.2180 - val_accuracy: 0.9269\n",
      "Epoch 48/1000\n",
      "125/125 [==============================] - ETA: 3s - loss: 0.1936 - accuracy: 0.93 - ETA: 0s - loss: 0.1494 - accuracy: 0.95 - ETA: 0s - loss: 0.1459 - accuracy: 0.94 - ETA: 0s - loss: 0.1487 - accuracy: 0.94 - ETA: 0s - loss: 0.1574 - accuracy: 0.94 - ETA: 0s - loss: 0.1630 - accuracy: 0.94 - ETA: 0s - loss: 0.1656 - accuracy: 0.94 - ETA: 0s - loss: 0.1676 - accuracy: 0.94 - ETA: 0s - loss: 0.1652 - accuracy: 0.94 - ETA: 0s - loss: 0.1637 - accuracy: 0.94 - 1s 5ms/step - loss: 0.1645 - accuracy: 0.9442 - val_loss: 0.2210 - val_accuracy: 0.9249\n",
      "Epoch 49/1000\n",
      "125/125 [==============================] - ETA: 3s - loss: 0.1657 - accuracy: 0.93 - ETA: 0s - loss: 0.1445 - accuracy: 0.95 - ETA: 0s - loss: 0.1394 - accuracy: 0.95 - ETA: 0s - loss: 0.1438 - accuracy: 0.95 - ETA: 0s - loss: 0.1509 - accuracy: 0.94 - ETA: 0s - loss: 0.1533 - accuracy: 0.94 - ETA: 0s - loss: 0.1564 - accuracy: 0.94 - ETA: 0s - loss: 0.1616 - accuracy: 0.94 - ETA: 0s - loss: 0.1587 - accuracy: 0.94 - ETA: 0s - loss: 0.1595 - accuracy: 0.94 - 1s 5ms/step - loss: 0.1594 - accuracy: 0.9462 - val_loss: 0.2366 - val_accuracy: 0.9279\n"
     ]
    },
    {
     "data": {
      "text/html": [
       "<span style=\"color:#4527A0\"><h1 style=\"font-size:18px\">Trial complete</h1></span>"
      ],
      "text/plain": [
       "<IPython.core.display.HTML object>"
      ]
     },
     "metadata": {},
     "output_type": "display_data"
    },
    {
     "data": {
      "text/html": [
       "<span style=\"color:#4527A0\"><h1 style=\"font-size:18px\">Trial summary</h1></span>"
      ],
      "text/plain": [
       "<IPython.core.display.HTML object>"
      ]
     },
     "metadata": {},
     "output_type": "display_data"
    },
    {
     "data": {
      "text/html": [
       "<span style=\"color:cyan\"> |-Trial ID: 0f642c021f9bebc327276cf2eb05cb2c</span>"
      ],
      "text/plain": [
       "<IPython.core.display.HTML object>"
      ]
     },
     "metadata": {},
     "output_type": "display_data"
    },
    {
     "data": {
      "text/html": [
       "<span style=\"color:cyan\"> |-Score: 0.20943040098063648</span>"
      ],
      "text/plain": [
       "<IPython.core.display.HTML object>"
      ]
     },
     "metadata": {},
     "output_type": "display_data"
    },
    {
     "data": {
      "text/html": [
       "<span style=\"color:cyan\"> |-Best step: 0</span>"
      ],
      "text/plain": [
       "<IPython.core.display.HTML object>"
      ]
     },
     "metadata": {},
     "output_type": "display_data"
    },
    {
     "data": {
      "text/html": [
       "<span style=\"color:#7E57C2\"><h2 style=\"font-size:16px\">Hyperparameters:</h2></span>"
      ],
      "text/plain": [
       "<IPython.core.display.HTML object>"
      ]
     },
     "metadata": {},
     "output_type": "display_data"
    },
    {
     "data": {
      "text/html": [
       "<span style=\"color:cyan\"> |-classification_head_1/dropout_rate: 0.5</span>"
      ],
      "text/plain": [
       "<IPython.core.display.HTML object>"
      ]
     },
     "metadata": {},
     "output_type": "display_data"
    },
    {
     "data": {
      "text/html": [
       "<span style=\"color:blue\"> |-classification_head_1/spatial_reduction_1/reduction_type: flatten</span>"
      ],
      "text/plain": [
       "<IPython.core.display.HTML object>"
      ]
     },
     "metadata": {},
     "output_type": "display_data"
    },
    {
     "data": {
      "text/html": [
       "<span style=\"color:cyan\"> |-classification_head_2/dropout_rate: 0</span>"
      ],
      "text/plain": [
       "<IPython.core.display.HTML object>"
      ]
     },
     "metadata": {},
     "output_type": "display_data"
    },
    {
     "data": {
      "text/html": [
       "<span style=\"color:blue\"> |-classification_head_2/spatial_reduction_1/reduction_type: global_avg</span>"
      ],
      "text/plain": [
       "<IPython.core.display.HTML object>"
      ]
     },
     "metadata": {},
     "output_type": "display_data"
    },
    {
     "data": {
      "text/html": [
       "<span style=\"color:cyan\"> |-dense_block_1/dropout_rate: 0</span>"
      ],
      "text/plain": [
       "<IPython.core.display.HTML object>"
      ]
     },
     "metadata": {},
     "output_type": "display_data"
    },
    {
     "data": {
      "text/html": [
       "<span style=\"color:blue\"> |-dense_block_1/num_layers: 1</span>"
      ],
      "text/plain": [
       "<IPython.core.display.HTML object>"
      ]
     },
     "metadata": {},
     "output_type": "display_data"
    },
    {
     "data": {
      "text/html": [
       "<span style=\"color:cyan\"> |-dense_block_1/units_0: 128</span>"
      ],
      "text/plain": [
       "<IPython.core.display.HTML object>"
      ]
     },
     "metadata": {},
     "output_type": "display_data"
    },
    {
     "data": {
      "text/html": [
       "<span style=\"color:blue\"> |-dense_block_1/use_batchnorm: False</span>"
      ],
      "text/plain": [
       "<IPython.core.display.HTML object>"
      ]
     },
     "metadata": {},
     "output_type": "display_data"
    },
    {
     "data": {
      "text/html": [
       "<span style=\"color:cyan\"> |-image_block_1/augment: False</span>"
      ],
      "text/plain": [
       "<IPython.core.display.HTML object>"
      ]
     },
     "metadata": {},
     "output_type": "display_data"
    },
    {
     "data": {
      "text/html": [
       "<span style=\"color:blue\"> |-image_block_1/block_type: vanilla</span>"
      ],
      "text/plain": [
       "<IPython.core.display.HTML object>"
      ]
     },
     "metadata": {},
     "output_type": "display_data"
    },
    {
     "data": {
      "text/html": [
       "<span style=\"color:cyan\"> |-image_block_1/conv_block_1/dropout_rate: 0.25</span>"
      ],
      "text/plain": [
       "<IPython.core.display.HTML object>"
      ]
     },
     "metadata": {},
     "output_type": "display_data"
    },
    {
     "data": {
      "text/html": [
       "<span style=\"color:blue\"> |-image_block_1/conv_block_1/filters_0_0: 32</span>"
      ],
      "text/plain": [
       "<IPython.core.display.HTML object>"
      ]
     },
     "metadata": {},
     "output_type": "display_data"
    },
    {
     "data": {
      "text/html": [
       "<span style=\"color:cyan\"> |-image_block_1/conv_block_1/filters_0_1: 64</span>"
      ],
      "text/plain": [
       "<IPython.core.display.HTML object>"
      ]
     },
     "metadata": {},
     "output_type": "display_data"
    },
    {
     "data": {
      "text/html": [
       "<span style=\"color:blue\"> |-image_block_1/conv_block_1/kernel_size: 3</span>"
      ],
      "text/plain": [
       "<IPython.core.display.HTML object>"
      ]
     },
     "metadata": {},
     "output_type": "display_data"
    },
    {
     "data": {
      "text/html": [
       "<span style=\"color:cyan\"> |-image_block_1/conv_block_1/max_pooling: True</span>"
      ],
      "text/plain": [
       "<IPython.core.display.HTML object>"
      ]
     },
     "metadata": {},
     "output_type": "display_data"
    },
    {
     "data": {
      "text/html": [
       "<span style=\"color:blue\"> |-image_block_1/conv_block_1/num_blocks: 1</span>"
      ],
      "text/plain": [
       "<IPython.core.display.HTML object>"
      ]
     },
     "metadata": {},
     "output_type": "display_data"
    },
    {
     "data": {
      "text/html": [
       "<span style=\"color:cyan\"> |-image_block_1/conv_block_1/num_layers: 2</span>"
      ],
      "text/plain": [
       "<IPython.core.display.HTML object>"
      ]
     },
     "metadata": {},
     "output_type": "display_data"
    },
    {
     "data": {
      "text/html": [
       "<span style=\"color:blue\"> |-image_block_1/conv_block_1/separable: False</span>"
      ],
      "text/plain": [
       "<IPython.core.display.HTML object>"
      ]
     },
     "metadata": {},
     "output_type": "display_data"
    },
    {
     "data": {
      "text/html": [
       "<span style=\"color:cyan\"> |-image_block_1/normalize: True</span>"
      ],
      "text/plain": [
       "<IPython.core.display.HTML object>"
      ]
     },
     "metadata": {},
     "output_type": "display_data"
    },
    {
     "data": {
      "text/html": [
       "<span style=\"color:blue\"> |-image_block_2/augment: False</span>"
      ],
      "text/plain": [
       "<IPython.core.display.HTML object>"
      ]
     },
     "metadata": {},
     "output_type": "display_data"
    },
    {
     "data": {
      "text/html": [
       "<span style=\"color:cyan\"> |-image_block_2/block_type: vanilla</span>"
      ],
      "text/plain": [
       "<IPython.core.display.HTML object>"
      ]
     },
     "metadata": {},
     "output_type": "display_data"
    },
    {
     "data": {
      "text/html": [
       "<span style=\"color:blue\"> |-image_block_2/conv_block_1/dropout_rate: 0</span>"
      ],
      "text/plain": [
       "<IPython.core.display.HTML object>"
      ]
     },
     "metadata": {},
     "output_type": "display_data"
    },
    {
     "data": {
      "text/html": [
       "<span style=\"color:cyan\"> |-image_block_2/conv_block_1/filters_0_0: 32</span>"
      ],
      "text/plain": [
       "<IPython.core.display.HTML object>"
      ]
     },
     "metadata": {},
     "output_type": "display_data"
    },
    {
     "data": {
      "text/html": [
       "<span style=\"color:blue\"> |-image_block_2/conv_block_1/filters_0_1: 32</span>"
      ],
      "text/plain": [
       "<IPython.core.display.HTML object>"
      ]
     },
     "metadata": {},
     "output_type": "display_data"
    },
    {
     "data": {
      "text/html": [
       "<span style=\"color:cyan\"> |-image_block_2/conv_block_1/filters_1_0: 32</span>"
      ],
      "text/plain": [
       "<IPython.core.display.HTML object>"
      ]
     },
     "metadata": {},
     "output_type": "display_data"
    },
    {
     "data": {
      "text/html": [
       "<span style=\"color:blue\"> |-image_block_2/conv_block_1/filters_1_1: 32</span>"
      ],
      "text/plain": [
       "<IPython.core.display.HTML object>"
      ]
     },
     "metadata": {},
     "output_type": "display_data"
    },
    {
     "data": {
      "text/html": [
       "<span style=\"color:cyan\"> |-image_block_2/conv_block_1/kernel_size: 3</span>"
      ],
      "text/plain": [
       "<IPython.core.display.HTML object>"
      ]
     },
     "metadata": {},
     "output_type": "display_data"
    },
    {
     "data": {
      "text/html": [
       "<span style=\"color:blue\"> |-image_block_2/conv_block_1/max_pooling: True</span>"
      ],
      "text/plain": [
       "<IPython.core.display.HTML object>"
      ]
     },
     "metadata": {},
     "output_type": "display_data"
    },
    {
     "data": {
      "text/html": [
       "<span style=\"color:cyan\"> |-image_block_2/conv_block_1/num_blocks: 2</span>"
      ],
      "text/plain": [
       "<IPython.core.display.HTML object>"
      ]
     },
     "metadata": {},
     "output_type": "display_data"
    },
    {
     "data": {
      "text/html": [
       "<span style=\"color:blue\"> |-image_block_2/conv_block_1/num_layers: 2</span>"
      ],
      "text/plain": [
       "<IPython.core.display.HTML object>"
      ]
     },
     "metadata": {},
     "output_type": "display_data"
    },
    {
     "data": {
      "text/html": [
       "<span style=\"color:cyan\"> |-image_block_2/conv_block_1/separable: False</span>"
      ],
      "text/plain": [
       "<IPython.core.display.HTML object>"
      ]
     },
     "metadata": {},
     "output_type": "display_data"
    },
    {
     "data": {
      "text/html": [
       "<span style=\"color:blue\"> |-image_block_2/normalize: False</span>"
      ],
      "text/plain": [
       "<IPython.core.display.HTML object>"
      ]
     },
     "metadata": {},
     "output_type": "display_data"
    },
    {
     "data": {
      "text/html": [
       "<span style=\"color:cyan\"> |-optimizer: adam</span>"
      ],
      "text/plain": [
       "<IPython.core.display.HTML object>"
      ]
     },
     "metadata": {},
     "output_type": "display_data"
    },
    {
     "name": "stdout",
     "output_type": "stream",
     "text": [
      "Train for 125 steps, validate for 32 steps\n",
      "Epoch 1/1000\n",
      "125/125 [==============================] - ETA: 11:34 - loss: 0.6038 - accuracy: 0.687 - ETA: 3:50 - loss: 1.5287 - accuracy: 0.687 - ETA: 2:18 - loss: 1.2057 - accuracy: 0.63 - ETA: 1:38 - loss: 1.0812 - accuracy: 0.61 - ETA: 1:15 - loss: 0.9618 - accuracy: 0.60 - ETA: 1:01 - loss: 0.8859 - accuracy: 0.62 - ETA: 51s - loss: 0.8541 - accuracy: 0.6418 - ETA: 44s - loss: 0.8404 - accuracy: 0.633 - ETA: 39s - loss: 0.8151 - accuracy: 0.625 - ETA: 34s - loss: 0.8278 - accuracy: 0.615 - ETA: 31s - loss: 0.8242 - accuracy: 0.595 - ETA: 28s - loss: 0.8016 - accuracy: 0.604 - ETA: 25s - loss: 0.7851 - accuracy: 0.608 - ETA: 23s - loss: 0.7713 - accuracy: 0.608 - ETA: 21s - loss: 0.7601 - accuracy: 0.609 - ETA: 20s - loss: 0.7485 - accuracy: 0.610 - ETA: 18s - loss: 0.7430 - accuracy: 0.612 - ETA: 17s - loss: 0.7337 - accuracy: 0.615 - ETA: 16s - loss: 0.7271 - accuracy: 0.618 - ETA: 15s - loss: 0.7163 - accuracy: 0.624 - ETA: 14s - loss: 0.7079 - accuracy: 0.628 - ETA: 13s - loss: 0.6999 - accuracy: 0.631 - ETA: 12s - loss: 0.6940 - accuracy: 0.634 - ETA: 11s - loss: 0.6912 - accuracy: 0.634 - ETA: 11s - loss: 0.6874 - accuracy: 0.639 - ETA: 10s - loss: 0.6808 - accuracy: 0.642 - ETA: 9s - loss: 0.6748 - accuracy: 0.646 - ETA: 9s - loss: 0.6728 - accuracy: 0.64 - ETA: 8s - loss: 0.6681 - accuracy: 0.64 - ETA: 8s - loss: 0.6657 - accuracy: 0.64 - ETA: 7s - loss: 0.6628 - accuracy: 0.64 - ETA: 7s - loss: 0.6589 - accuracy: 0.65 - ETA: 7s - loss: 0.6564 - accuracy: 0.65 - ETA: 6s - loss: 0.6523 - accuracy: 0.65 - ETA: 6s - loss: 0.6499 - accuracy: 0.65 - ETA: 6s - loss: 0.6471 - accuracy: 0.65 - ETA: 5s - loss: 0.6461 - accuracy: 0.65 - ETA: 5s - loss: 0.6440 - accuracy: 0.65 - ETA: 5s - loss: 0.6409 - accuracy: 0.66 - ETA: 4s - loss: 0.6377 - accuracy: 0.66 - ETA: 4s - loss: 0.6353 - accuracy: 0.66 - ETA: 4s - loss: 0.6323 - accuracy: 0.66 - ETA: 3s - loss: 0.6293 - accuracy: 0.66 - ETA: 3s - loss: 0.6296 - accuracy: 0.66 - ETA: 3s - loss: 0.6283 - accuracy: 0.66 - ETA: 3s - loss: 0.6261 - accuracy: 0.66 - ETA: 2s - loss: 0.6233 - accuracy: 0.67 - ETA: 2s - loss: 0.6217 - accuracy: 0.67 - ETA: 2s - loss: 0.6214 - accuracy: 0.67 - ETA: 2s - loss: 0.6198 - accuracy: 0.67 - ETA: 2s - loss: 0.6180 - accuracy: 0.67 - ETA: 1s - loss: 0.6153 - accuracy: 0.67 - ETA: 1s - loss: 0.6132 - accuracy: 0.67 - ETA: 1s - loss: 0.6104 - accuracy: 0.67 - ETA: 1s - loss: 0.6078 - accuracy: 0.67 - ETA: 1s - loss: 0.6078 - accuracy: 0.68 - ETA: 0s - loss: 0.6065 - accuracy: 0.68 - ETA: 0s - loss: 0.6023 - accuracy: 0.68 - ETA: 0s - loss: 0.5989 - accuracy: 0.68 - ETA: 0s - loss: 0.5967 - accuracy: 0.69 - ETA: 0s - loss: 0.5944 - accuracy: 0.69 - ETA: 0s - loss: 0.5923 - accuracy: 0.69 - 14s 109ms/step - loss: 0.5898 - accuracy: 0.6950 - val_loss: 0.4779 - val_accuracy: 0.7958\n",
      "Epoch 2/1000\n",
      "125/125 [==============================] - ETA: 6s - loss: 0.5679 - accuracy: 0.78 - ETA: 4s - loss: 0.4914 - accuracy: 0.81 - ETA: 4s - loss: 0.4337 - accuracy: 0.83 - ETA: 4s - loss: 0.4372 - accuracy: 0.81 - ETA: 4s - loss: 0.4322 - accuracy: 0.81 - ETA: 3s - loss: 0.4519 - accuracy: 0.80 - ETA: 3s - loss: 0.4364 - accuracy: 0.81 - ETA: 3s - loss: 0.4390 - accuracy: 0.81 - ETA: 3s - loss: 0.4354 - accuracy: 0.81 - ETA: 3s - loss: 0.4448 - accuracy: 0.82 - ETA: 3s - loss: 0.4468 - accuracy: 0.82 - ETA: 3s - loss: 0.4373 - accuracy: 0.83 - ETA: 3s - loss: 0.4276 - accuracy: 0.83 - ETA: 3s - loss: 0.4173 - accuracy: 0.83 - ETA: 3s - loss: 0.4035 - accuracy: 0.84 - ETA: 3s - loss: 0.3981 - accuracy: 0.84 - ETA: 3s - loss: 0.3948 - accuracy: 0.84 - ETA: 3s - loss: 0.4020 - accuracy: 0.84 - ETA: 2s - loss: 0.4020 - accuracy: 0.84 - ETA: 2s - loss: 0.3950 - accuracy: 0.84 - ETA: 2s - loss: 0.3930 - accuracy: 0.84 - ETA: 2s - loss: 0.3877 - accuracy: 0.85 - ETA: 2s - loss: 0.3845 - accuracy: 0.85 - ETA: 2s - loss: 0.3837 - accuracy: 0.85 - ETA: 2s - loss: 0.3804 - accuracy: 0.85 - ETA: 2s - loss: 0.3877 - accuracy: 0.85 - ETA: 2s - loss: 0.3866 - accuracy: 0.85 - ETA: 2s - loss: 0.3920 - accuracy: 0.84 - ETA: 2s - loss: 0.3928 - accuracy: 0.84 - ETA: 2s - loss: 0.3961 - accuracy: 0.84 - ETA: 2s - loss: 0.3976 - accuracy: 0.84 - ETA: 2s - loss: 0.3989 - accuracy: 0.84 - ETA: 2s - loss: 0.3972 - accuracy: 0.84 - ETA: 1s - loss: 0.3962 - accuracy: 0.84 - ETA: 1s - loss: 0.3894 - accuracy: 0.84 - ETA: 1s - loss: 0.3906 - accuracy: 0.84 - ETA: 1s - loss: 0.3935 - accuracy: 0.84 - ETA: 1s - loss: 0.3946 - accuracy: 0.84 - ETA: 1s - loss: 0.3914 - accuracy: 0.84 - ETA: 1s - loss: 0.3905 - accuracy: 0.84 - ETA: 1s - loss: 0.3879 - accuracy: 0.84 - ETA: 1s - loss: 0.3872 - accuracy: 0.84 - ETA: 1s - loss: 0.3835 - accuracy: 0.85 - ETA: 1s - loss: 0.3840 - accuracy: 0.85 - ETA: 1s - loss: 0.3843 - accuracy: 0.85 - ETA: 1s - loss: 0.3822 - accuracy: 0.85 - ETA: 1s - loss: 0.3804 - accuracy: 0.85 - ETA: 0s - loss: 0.3797 - accuracy: 0.85 - ETA: 0s - loss: 0.3793 - accuracy: 0.85 - ETA: 0s - loss: 0.3780 - accuracy: 0.85 - ETA: 0s - loss: 0.3763 - accuracy: 0.85 - ETA: 0s - loss: 0.3747 - accuracy: 0.85 - ETA: 0s - loss: 0.3715 - accuracy: 0.85 - ETA: 0s - loss: 0.3685 - accuracy: 0.85 - ETA: 0s - loss: 0.3678 - accuracy: 0.85 - ETA: 0s - loss: 0.3691 - accuracy: 0.85 - ETA: 0s - loss: 0.3684 - accuracy: 0.85 - ETA: 0s - loss: 0.3668 - accuracy: 0.85 - ETA: 0s - loss: 0.3661 - accuracy: 0.85 - ETA: 0s - loss: 0.3643 - accuracy: 0.86 - ETA: 0s - loss: 0.3632 - accuracy: 0.86 - ETA: 0s - loss: 0.3641 - accuracy: 0.86 - 4s 36ms/step - loss: 0.3628 - accuracy: 0.8604 - val_loss: 0.7259 - val_accuracy: 0.7578\n",
      "Epoch 3/1000\n",
      "125/125 [==============================] - ETA: 6s - loss: 0.3123 - accuracy: 0.87 - ETA: 4s - loss: 0.3506 - accuracy: 0.85 - ETA: 4s - loss: 0.3224 - accuracy: 0.86 - ETA: 4s - loss: 0.3406 - accuracy: 0.86 - ETA: 4s - loss: 0.3365 - accuracy: 0.86 - ETA: 3s - loss: 0.3299 - accuracy: 0.86 - ETA: 3s - loss: 0.3281 - accuracy: 0.86 - ETA: 3s - loss: 0.3287 - accuracy: 0.86 - ETA: 3s - loss: 0.3299 - accuracy: 0.86 - ETA: 3s - loss: 0.3299 - accuracy: 0.86 - ETA: 3s - loss: 0.3470 - accuracy: 0.85 - ETA: 3s - loss: 0.3380 - accuracy: 0.86 - ETA: 3s - loss: 0.3281 - accuracy: 0.86 - ETA: 3s - loss: 0.3210 - accuracy: 0.86 - ETA: 3s - loss: 0.3090 - accuracy: 0.87 - ETA: 3s - loss: 0.3089 - accuracy: 0.87 - ETA: 3s - loss: 0.3093 - accuracy: 0.87 - ETA: 3s - loss: 0.3154 - accuracy: 0.87 - ETA: 2s - loss: 0.3151 - accuracy: 0.87 - ETA: 2s - loss: 0.3123 - accuracy: 0.87 - ETA: 2s - loss: 0.3137 - accuracy: 0.87 - ETA: 2s - loss: 0.3099 - accuracy: 0.87 - ETA: 2s - loss: 0.3082 - accuracy: 0.88 - ETA: 2s - loss: 0.3085 - accuracy: 0.88 - ETA: 2s - loss: 0.3058 - accuracy: 0.88 - ETA: 2s - loss: 0.3097 - accuracy: 0.87 - ETA: 2s - loss: 0.3091 - accuracy: 0.88 - ETA: 2s - loss: 0.3097 - accuracy: 0.88 - ETA: 2s - loss: 0.3077 - accuracy: 0.88 - ETA: 2s - loss: 0.3084 - accuracy: 0.88 - ETA: 2s - loss: 0.3088 - accuracy: 0.88 - ETA: 2s - loss: 0.3134 - accuracy: 0.88 - ETA: 2s - loss: 0.3138 - accuracy: 0.88 - ETA: 1s - loss: 0.3132 - accuracy: 0.88 - ETA: 1s - loss: 0.3094 - accuracy: 0.88 - ETA: 1s - loss: 0.3117 - accuracy: 0.88 - ETA: 1s - loss: 0.3156 - accuracy: 0.88 - ETA: 1s - loss: 0.3187 - accuracy: 0.87 - ETA: 1s - loss: 0.3160 - accuracy: 0.88 - ETA: 1s - loss: 0.3177 - accuracy: 0.87 - ETA: 1s - loss: 0.3161 - accuracy: 0.87 - ETA: 1s - loss: 0.3173 - accuracy: 0.87 - ETA: 1s - loss: 0.3136 - accuracy: 0.87 - ETA: 1s - loss: 0.3155 - accuracy: 0.87 - ETA: 1s - loss: 0.3159 - accuracy: 0.87 - ETA: 1s - loss: 0.3150 - accuracy: 0.88 - ETA: 1s - loss: 0.3142 - accuracy: 0.88 - ETA: 1s - loss: 0.3131 - accuracy: 0.88 - ETA: 0s - loss: 0.3134 - accuracy: 0.88 - ETA: 0s - loss: 0.3149 - accuracy: 0.88 - ETA: 0s - loss: 0.3177 - accuracy: 0.87 - ETA: 0s - loss: 0.3170 - accuracy: 0.87 - ETA: 0s - loss: 0.3158 - accuracy: 0.88 - ETA: 0s - loss: 0.3147 - accuracy: 0.88 - ETA: 0s - loss: 0.3146 - accuracy: 0.88 - ETA: 0s - loss: 0.3151 - accuracy: 0.88 - ETA: 0s - loss: 0.3140 - accuracy: 0.88 - ETA: 0s - loss: 0.3132 - accuracy: 0.88 - ETA: 0s - loss: 0.3121 - accuracy: 0.88 - ETA: 0s - loss: 0.3116 - accuracy: 0.88 - ETA: 0s - loss: 0.3120 - accuracy: 0.88 - ETA: 0s - loss: 0.3117 - accuracy: 0.88 - 5s 36ms/step - loss: 0.3109 - accuracy: 0.8817 - val_loss: 0.4954 - val_accuracy: 0.7518\n",
      "Epoch 4/1000\n",
      "125/125 [==============================] - ETA: 6s - loss: 0.3138 - accuracy: 0.90 - ETA: 4s - loss: 0.3674 - accuracy: 0.84 - ETA: 4s - loss: 0.3002 - accuracy: 0.86 - ETA: 4s - loss: 0.3153 - accuracy: 0.86 - ETA: 4s - loss: 0.2939 - accuracy: 0.86 - ETA: 4s - loss: 0.2766 - accuracy: 0.88 - ETA: 3s - loss: 0.2753 - accuracy: 0.88 - ETA: 3s - loss: 0.2694 - accuracy: 0.89 - ETA: 3s - loss: 0.2689 - accuracy: 0.89 - ETA: 3s - loss: 0.2709 - accuracy: 0.89 - ETA: 3s - loss: 0.2806 - accuracy: 0.89 - ETA: 3s - loss: 0.2727 - accuracy: 0.89 - ETA: 3s - loss: 0.2649 - accuracy: 0.90 - ETA: 3s - loss: 0.2621 - accuracy: 0.90 - ETA: 3s - loss: 0.2520 - accuracy: 0.90 - ETA: 3s - loss: 0.2536 - accuracy: 0.90 - ETA: 3s - loss: 0.2513 - accuracy: 0.90 - ETA: 3s - loss: 0.2614 - accuracy: 0.90 - ETA: 2s - loss: 0.2645 - accuracy: 0.90 - ETA: 2s - loss: 0.2613 - accuracy: 0.90 - ETA: 2s - loss: 0.2625 - accuracy: 0.90 - ETA: 2s - loss: 0.2601 - accuracy: 0.90 - ETA: 2s - loss: 0.2605 - accuracy: 0.90 - ETA: 2s - loss: 0.2630 - accuracy: 0.90 - ETA: 2s - loss: 0.2618 - accuracy: 0.90 - ETA: 2s - loss: 0.2650 - accuracy: 0.90 - ETA: 2s - loss: 0.2669 - accuracy: 0.90 - ETA: 2s - loss: 0.2668 - accuracy: 0.90 - ETA: 2s - loss: 0.2681 - accuracy: 0.90 - ETA: 2s - loss: 0.2697 - accuracy: 0.90 - ETA: 2s - loss: 0.2704 - accuracy: 0.90 - ETA: 2s - loss: 0.2735 - accuracy: 0.90 - ETA: 2s - loss: 0.2728 - accuracy: 0.90 - ETA: 1s - loss: 0.2743 - accuracy: 0.90 - ETA: 1s - loss: 0.2708 - accuracy: 0.90 - ETA: 1s - loss: 0.2719 - accuracy: 0.90 - ETA: 1s - loss: 0.2750 - accuracy: 0.90 - ETA: 1s - loss: 0.2768 - accuracy: 0.89 - ETA: 1s - loss: 0.2733 - accuracy: 0.90 - ETA: 1s - loss: 0.2748 - accuracy: 0.90 - ETA: 1s - loss: 0.2722 - accuracy: 0.90 - ETA: 1s - loss: 0.2733 - accuracy: 0.90 - ETA: 1s - loss: 0.2708 - accuracy: 0.90 - ETA: 1s - loss: 0.2738 - accuracy: 0.90 - ETA: 1s - loss: 0.2751 - accuracy: 0.90 - ETA: 1s - loss: 0.2744 - accuracy: 0.90 - ETA: 1s - loss: 0.2749 - accuracy: 0.90 - ETA: 0s - loss: 0.2759 - accuracy: 0.90 - ETA: 0s - loss: 0.2774 - accuracy: 0.89 - ETA: 0s - loss: 0.2780 - accuracy: 0.89 - ETA: 0s - loss: 0.2788 - accuracy: 0.89 - ETA: 0s - loss: 0.2783 - accuracy: 0.89 - ETA: 0s - loss: 0.2763 - accuracy: 0.90 - ETA: 0s - loss: 0.2763 - accuracy: 0.90 - ETA: 0s - loss: 0.2760 - accuracy: 0.90 - ETA: 0s - loss: 0.2779 - accuracy: 0.90 - ETA: 0s - loss: 0.2773 - accuracy: 0.90 - ETA: 0s - loss: 0.2762 - accuracy: 0.90 - ETA: 0s - loss: 0.2759 - accuracy: 0.90 - ETA: 0s - loss: 0.2757 - accuracy: 0.90 - ETA: 0s - loss: 0.2758 - accuracy: 0.90 - ETA: 0s - loss: 0.2774 - accuracy: 0.90 - 5s 42ms/step - loss: 0.2759 - accuracy: 0.9022 - val_loss: 0.4022 - val_accuracy: 0.8228\n",
      "Epoch 5/1000\n",
      "125/125 [==============================] - ETA: 6s - loss: 0.3161 - accuracy: 0.87 - ETA: 4s - loss: 0.3555 - accuracy: 0.87 - ETA: 4s - loss: 0.3230 - accuracy: 0.87 - ETA: 4s - loss: 0.3417 - accuracy: 0.86 - ETA: 4s - loss: 0.3192 - accuracy: 0.86 - ETA: 4s - loss: 0.3058 - accuracy: 0.87 - ETA: 3s - loss: 0.3044 - accuracy: 0.87 - ETA: 3s - loss: 0.3003 - accuracy: 0.88 - ETA: 3s - loss: 0.2925 - accuracy: 0.88 - ETA: 3s - loss: 0.2907 - accuracy: 0.88 - ETA: 3s - loss: 0.2948 - accuracy: 0.89 - ETA: 3s - loss: 0.2839 - accuracy: 0.89 - ETA: 3s - loss: 0.2755 - accuracy: 0.90 - ETA: 3s - loss: 0.2727 - accuracy: 0.90 - ETA: 3s - loss: 0.2641 - accuracy: 0.90 - ETA: 3s - loss: 0.2677 - accuracy: 0.90 - ETA: 3s - loss: 0.2686 - accuracy: 0.90 - ETA: 3s - loss: 0.2759 - accuracy: 0.90 - ETA: 2s - loss: 0.2776 - accuracy: 0.90 - ETA: 2s - loss: 0.2737 - accuracy: 0.90 - ETA: 2s - loss: 0.2747 - accuracy: 0.90 - ETA: 2s - loss: 0.2714 - accuracy: 0.90 - ETA: 2s - loss: 0.2725 - accuracy: 0.90 - ETA: 2s - loss: 0.2724 - accuracy: 0.90 - ETA: 2s - loss: 0.2695 - accuracy: 0.90 - ETA: 2s - loss: 0.2726 - accuracy: 0.90 - ETA: 2s - loss: 0.2727 - accuracy: 0.90 - ETA: 2s - loss: 0.2720 - accuracy: 0.90 - ETA: 2s - loss: 0.2706 - accuracy: 0.90 - ETA: 2s - loss: 0.2703 - accuracy: 0.90 - ETA: 2s - loss: 0.2718 - accuracy: 0.90 - ETA: 2s - loss: 0.2803 - accuracy: 0.90 - ETA: 2s - loss: 0.2804 - accuracy: 0.90 - ETA: 1s - loss: 0.2806 - accuracy: 0.90 - ETA: 1s - loss: 0.2773 - accuracy: 0.90 - ETA: 1s - loss: 0.2795 - accuracy: 0.90 - ETA: 1s - loss: 0.2815 - accuracy: 0.90 - ETA: 1s - loss: 0.2840 - accuracy: 0.90 - ETA: 1s - loss: 0.2819 - accuracy: 0.90 - ETA: 1s - loss: 0.2847 - accuracy: 0.90 - ETA: 1s - loss: 0.2816 - accuracy: 0.90 - ETA: 1s - loss: 0.2821 - accuracy: 0.90 - ETA: 1s - loss: 0.2784 - accuracy: 0.90 - ETA: 1s - loss: 0.2807 - accuracy: 0.90 - ETA: 1s - loss: 0.2803 - accuracy: 0.90 - ETA: 1s - loss: 0.2791 - accuracy: 0.90 - ETA: 1s - loss: 0.2808 - accuracy: 0.90 - ETA: 1s - loss: 0.2793 - accuracy: 0.90 - ETA: 0s - loss: 0.2799 - accuracy: 0.90 - ETA: 0s - loss: 0.2813 - accuracy: 0.90 - ETA: 0s - loss: 0.2829 - accuracy: 0.90 - ETA: 0s - loss: 0.2831 - accuracy: 0.90 - ETA: 0s - loss: 0.2817 - accuracy: 0.90 - ETA: 0s - loss: 0.2804 - accuracy: 0.90 - ETA: 0s - loss: 0.2801 - accuracy: 0.90 - ETA: 0s - loss: 0.2817 - accuracy: 0.90 - ETA: 0s - loss: 0.2803 - accuracy: 0.90 - ETA: 0s - loss: 0.2791 - accuracy: 0.90 - ETA: 0s - loss: 0.2779 - accuracy: 0.90 - ETA: 0s - loss: 0.2774 - accuracy: 0.90 - ETA: 0s - loss: 0.2774 - accuracy: 0.90 - ETA: 0s - loss: 0.2784 - accuracy: 0.90 - 5s 42ms/step - loss: 0.2777 - accuracy: 0.9029 - val_loss: 0.2941 - val_accuracy: 0.8859\n"
     ]
    },
    {
     "name": "stdout",
     "output_type": "stream",
     "text": [
      "Epoch 6/1000\n",
      "125/125 [==============================] - ETA: 7s - loss: 0.2376 - accuracy: 0.93 - ETA: 4s - loss: 0.3133 - accuracy: 0.88 - ETA: 4s - loss: 0.2918 - accuracy: 0.88 - ETA: 4s - loss: 0.2956 - accuracy: 0.87 - ETA: 4s - loss: 0.2941 - accuracy: 0.87 - ETA: 4s - loss: 0.2887 - accuracy: 0.88 - ETA: 3s - loss: 0.2931 - accuracy: 0.88 - ETA: 3s - loss: 0.2959 - accuracy: 0.88 - ETA: 3s - loss: 0.3005 - accuracy: 0.87 - ETA: 3s - loss: 0.3042 - accuracy: 0.87 - ETA: 3s - loss: 0.3136 - accuracy: 0.87 - ETA: 3s - loss: 0.3100 - accuracy: 0.88 - ETA: 3s - loss: 0.2973 - accuracy: 0.88 - ETA: 3s - loss: 0.2931 - accuracy: 0.88 - ETA: 3s - loss: 0.2810 - accuracy: 0.89 - ETA: 3s - loss: 0.2784 - accuracy: 0.89 - ETA: 3s - loss: 0.2734 - accuracy: 0.89 - ETA: 3s - loss: 0.2791 - accuracy: 0.89 - ETA: 2s - loss: 0.2865 - accuracy: 0.89 - ETA: 2s - loss: 0.2808 - accuracy: 0.89 - ETA: 2s - loss: 0.2804 - accuracy: 0.89 - ETA: 2s - loss: 0.2762 - accuracy: 0.89 - ETA: 2s - loss: 0.2772 - accuracy: 0.89 - ETA: 2s - loss: 0.2765 - accuracy: 0.89 - ETA: 2s - loss: 0.2742 - accuracy: 0.89 - ETA: 2s - loss: 0.2794 - accuracy: 0.89 - ETA: 2s - loss: 0.2795 - accuracy: 0.89 - ETA: 2s - loss: 0.2786 - accuracy: 0.89 - ETA: 2s - loss: 0.2772 - accuracy: 0.89 - ETA: 2s - loss: 0.2777 - accuracy: 0.89 - ETA: 2s - loss: 0.2796 - accuracy: 0.89 - ETA: 2s - loss: 0.2853 - accuracy: 0.89 - ETA: 2s - loss: 0.2847 - accuracy: 0.89 - ETA: 1s - loss: 0.2854 - accuracy: 0.89 - ETA: 1s - loss: 0.2829 - accuracy: 0.89 - ETA: 1s - loss: 0.2847 - accuracy: 0.89 - ETA: 1s - loss: 0.2876 - accuracy: 0.89 - ETA: 1s - loss: 0.2889 - accuracy: 0.89 - ETA: 1s - loss: 0.2865 - accuracy: 0.89 - ETA: 1s - loss: 0.2885 - accuracy: 0.89 - ETA: 1s - loss: 0.2863 - accuracy: 0.89 - ETA: 1s - loss: 0.2876 - accuracy: 0.89 - ETA: 1s - loss: 0.2833 - accuracy: 0.89 - ETA: 1s - loss: 0.2859 - accuracy: 0.89 - ETA: 1s - loss: 0.2854 - accuracy: 0.89 - ETA: 1s - loss: 0.2842 - accuracy: 0.89 - ETA: 1s - loss: 0.2851 - accuracy: 0.89 - ETA: 1s - loss: 0.2822 - accuracy: 0.89 - ETA: 0s - loss: 0.2822 - accuracy: 0.89 - ETA: 0s - loss: 0.2834 - accuracy: 0.89 - ETA: 0s - loss: 0.2836 - accuracy: 0.89 - ETA: 0s - loss: 0.2828 - accuracy: 0.89 - ETA: 0s - loss: 0.2802 - accuracy: 0.89 - ETA: 0s - loss: 0.2803 - accuracy: 0.89 - ETA: 0s - loss: 0.2801 - accuracy: 0.89 - ETA: 0s - loss: 0.2812 - accuracy: 0.89 - ETA: 0s - loss: 0.2805 - accuracy: 0.89 - ETA: 0s - loss: 0.2796 - accuracy: 0.89 - ETA: 0s - loss: 0.2787 - accuracy: 0.89 - ETA: 0s - loss: 0.2783 - accuracy: 0.89 - ETA: 0s - loss: 0.2786 - accuracy: 0.89 - ETA: 0s - loss: 0.2786 - accuracy: 0.89 - 5s 36ms/step - loss: 0.2785 - accuracy: 0.8974 - val_loss: 0.4701 - val_accuracy: 0.7988\n",
      "Epoch 7/1000\n",
      "125/125 [==============================] - ETA: 6s - loss: 0.2735 - accuracy: 0.90 - ETA: 4s - loss: 0.3454 - accuracy: 0.86 - ETA: 4s - loss: 0.3090 - accuracy: 0.88 - ETA: 4s - loss: 0.3233 - accuracy: 0.87 - ETA: 4s - loss: 0.3131 - accuracy: 0.87 - ETA: 3s - loss: 0.3086 - accuracy: 0.87 - ETA: 3s - loss: 0.3088 - accuracy: 0.88 - ETA: 3s - loss: 0.3105 - accuracy: 0.87 - ETA: 3s - loss: 0.3117 - accuracy: 0.87 - ETA: 3s - loss: 0.3156 - accuracy: 0.87 - ETA: 3s - loss: 0.3207 - accuracy: 0.87 - ETA: 3s - loss: 0.3135 - accuracy: 0.87 - ETA: 3s - loss: 0.3034 - accuracy: 0.88 - ETA: 3s - loss: 0.2944 - accuracy: 0.88 - ETA: 3s - loss: 0.2842 - accuracy: 0.89 - ETA: 3s - loss: 0.2869 - accuracy: 0.89 - ETA: 3s - loss: 0.2811 - accuracy: 0.89 - ETA: 3s - loss: 0.2872 - accuracy: 0.88 - ETA: 2s - loss: 0.2913 - accuracy: 0.88 - ETA: 2s - loss: 0.2864 - accuracy: 0.88 - ETA: 2s - loss: 0.2876 - accuracy: 0.88 - ETA: 2s - loss: 0.2855 - accuracy: 0.88 - ETA: 2s - loss: 0.2846 - accuracy: 0.88 - ETA: 2s - loss: 0.2818 - accuracy: 0.89 - ETA: 2s - loss: 0.2795 - accuracy: 0.89 - ETA: 2s - loss: 0.2831 - accuracy: 0.89 - ETA: 2s - loss: 0.2830 - accuracy: 0.89 - ETA: 2s - loss: 0.2806 - accuracy: 0.89 - ETA: 2s - loss: 0.2787 - accuracy: 0.89 - ETA: 2s - loss: 0.2782 - accuracy: 0.89 - ETA: 2s - loss: 0.2792 - accuracy: 0.89 - ETA: 2s - loss: 0.2790 - accuracy: 0.89 - ETA: 2s - loss: 0.2789 - accuracy: 0.89 - ETA: 1s - loss: 0.2798 - accuracy: 0.89 - ETA: 1s - loss: 0.2755 - accuracy: 0.89 - ETA: 1s - loss: 0.2761 - accuracy: 0.89 - ETA: 1s - loss: 0.2791 - accuracy: 0.89 - ETA: 1s - loss: 0.2806 - accuracy: 0.89 - ETA: 1s - loss: 0.2776 - accuracy: 0.89 - ETA: 1s - loss: 0.2801 - accuracy: 0.89 - ETA: 1s - loss: 0.2788 - accuracy: 0.89 - ETA: 1s - loss: 0.2791 - accuracy: 0.89 - ETA: 1s - loss: 0.2768 - accuracy: 0.89 - ETA: 1s - loss: 0.2791 - accuracy: 0.89 - ETA: 1s - loss: 0.2785 - accuracy: 0.89 - ETA: 1s - loss: 0.2774 - accuracy: 0.89 - ETA: 1s - loss: 0.2779 - accuracy: 0.89 - ETA: 1s - loss: 0.2763 - accuracy: 0.89 - ETA: 0s - loss: 0.2757 - accuracy: 0.89 - ETA: 0s - loss: 0.2769 - accuracy: 0.89 - ETA: 0s - loss: 0.2761 - accuracy: 0.89 - ETA: 0s - loss: 0.2756 - accuracy: 0.89 - ETA: 0s - loss: 0.2730 - accuracy: 0.89 - ETA: 0s - loss: 0.2720 - accuracy: 0.89 - ETA: 0s - loss: 0.2720 - accuracy: 0.89 - ETA: 0s - loss: 0.2725 - accuracy: 0.89 - ETA: 0s - loss: 0.2711 - accuracy: 0.89 - ETA: 0s - loss: 0.2703 - accuracy: 0.89 - ETA: 0s - loss: 0.2699 - accuracy: 0.89 - ETA: 0s - loss: 0.2695 - accuracy: 0.89 - ETA: 0s - loss: 0.2688 - accuracy: 0.89 - ETA: 0s - loss: 0.2695 - accuracy: 0.89 - 5s 36ms/step - loss: 0.2686 - accuracy: 0.8984 - val_loss: 0.4118 - val_accuracy: 0.8148\n",
      "Epoch 8/1000\n",
      "125/125 [==============================] - ETA: 6s - loss: 0.2247 - accuracy: 0.90 - ETA: 4s - loss: 0.3037 - accuracy: 0.87 - ETA: 4s - loss: 0.2646 - accuracy: 0.89 - ETA: 4s - loss: 0.2869 - accuracy: 0.87 - ETA: 4s - loss: 0.2712 - accuracy: 0.88 - ETA: 4s - loss: 0.2592 - accuracy: 0.89 - ETA: 3s - loss: 0.2627 - accuracy: 0.89 - ETA: 3s - loss: 0.2578 - accuracy: 0.90 - ETA: 3s - loss: 0.2510 - accuracy: 0.90 - ETA: 3s - loss: 0.2556 - accuracy: 0.90 - ETA: 3s - loss: 0.2565 - accuracy: 0.90 - ETA: 3s - loss: 0.2484 - accuracy: 0.91 - ETA: 3s - loss: 0.2402 - accuracy: 0.91 - ETA: 3s - loss: 0.2375 - accuracy: 0.91 - ETA: 3s - loss: 0.2284 - accuracy: 0.92 - ETA: 3s - loss: 0.2293 - accuracy: 0.91 - ETA: 3s - loss: 0.2225 - accuracy: 0.92 - ETA: 3s - loss: 0.2285 - accuracy: 0.91 - ETA: 3s - loss: 0.2317 - accuracy: 0.91 - ETA: 2s - loss: 0.2297 - accuracy: 0.91 - ETA: 2s - loss: 0.2368 - accuracy: 0.91 - ETA: 2s - loss: 0.2386 - accuracy: 0.91 - ETA: 2s - loss: 0.2407 - accuracy: 0.91 - ETA: 2s - loss: 0.2415 - accuracy: 0.91 - ETA: 2s - loss: 0.2405 - accuracy: 0.91 - ETA: 2s - loss: 0.2434 - accuracy: 0.91 - ETA: 2s - loss: 0.2463 - accuracy: 0.91 - ETA: 2s - loss: 0.2453 - accuracy: 0.91 - ETA: 2s - loss: 0.2434 - accuracy: 0.91 - ETA: 2s - loss: 0.2441 - accuracy: 0.91 - ETA: 2s - loss: 0.2464 - accuracy: 0.91 - ETA: 2s - loss: 0.2600 - accuracy: 0.91 - ETA: 2s - loss: 0.2617 - accuracy: 0.91 - ETA: 1s - loss: 0.2641 - accuracy: 0.90 - ETA: 1s - loss: 0.2617 - accuracy: 0.91 - ETA: 1s - loss: 0.2636 - accuracy: 0.90 - ETA: 1s - loss: 0.2674 - accuracy: 0.90 - ETA: 1s - loss: 0.2683 - accuracy: 0.90 - ETA: 1s - loss: 0.2655 - accuracy: 0.90 - ETA: 1s - loss: 0.2667 - accuracy: 0.90 - ETA: 1s - loss: 0.2649 - accuracy: 0.90 - ETA: 1s - loss: 0.2672 - accuracy: 0.90 - ETA: 1s - loss: 0.2642 - accuracy: 0.90 - ETA: 1s - loss: 0.2679 - accuracy: 0.90 - ETA: 1s - loss: 0.2684 - accuracy: 0.90 - ETA: 1s - loss: 0.2678 - accuracy: 0.90 - ETA: 1s - loss: 0.2677 - accuracy: 0.90 - ETA: 1s - loss: 0.2659 - accuracy: 0.90 - ETA: 0s - loss: 0.2665 - accuracy: 0.90 - ETA: 0s - loss: 0.2677 - accuracy: 0.90 - ETA: 0s - loss: 0.2678 - accuracy: 0.90 - ETA: 0s - loss: 0.2670 - accuracy: 0.90 - ETA: 0s - loss: 0.2647 - accuracy: 0.90 - ETA: 0s - loss: 0.2644 - accuracy: 0.90 - ETA: 0s - loss: 0.2648 - accuracy: 0.90 - ETA: 0s - loss: 0.2670 - accuracy: 0.90 - ETA: 0s - loss: 0.2667 - accuracy: 0.90 - ETA: 0s - loss: 0.2665 - accuracy: 0.90 - ETA: 0s - loss: 0.2661 - accuracy: 0.90 - ETA: 0s - loss: 0.2657 - accuracy: 0.90 - ETA: 0s - loss: 0.2659 - accuracy: 0.90 - ETA: 0s - loss: 0.2666 - accuracy: 0.90 - 5s 36ms/step - loss: 0.2656 - accuracy: 0.9057 - val_loss: 1.4500 - val_accuracy: 0.8168\n"
     ]
    },
    {
     "name": "stdout",
     "output_type": "stream",
     "text": [
      "Epoch 9/1000\n",
      "125/125 [==============================] - ETA: 6s - loss: 0.2046 - accuracy: 0.93 - ETA: 4s - loss: 0.2807 - accuracy: 0.89 - ETA: 4s - loss: 0.2443 - accuracy: 0.91 - ETA: 4s - loss: 0.2617 - accuracy: 0.90 - ETA: 4s - loss: 0.2479 - accuracy: 0.90 - ETA: 3s - loss: 0.2369 - accuracy: 0.91 - ETA: 3s - loss: 0.2486 - accuracy: 0.90 - ETA: 3s - loss: 0.2497 - accuracy: 0.90 - ETA: 3s - loss: 0.2453 - accuracy: 0.90 - ETA: 3s - loss: 0.2520 - accuracy: 0.90 - ETA: 3s - loss: 0.2589 - accuracy: 0.90 - ETA: 3s - loss: 0.2543 - accuracy: 0.90 - ETA: 3s - loss: 0.2463 - accuracy: 0.91 - ETA: 3s - loss: 0.2437 - accuracy: 0.90 - ETA: 3s - loss: 0.2356 - accuracy: 0.91 - ETA: 3s - loss: 0.2371 - accuracy: 0.91 - ETA: 3s - loss: 0.2316 - accuracy: 0.91 - ETA: 3s - loss: 0.2358 - accuracy: 0.91 - ETA: 2s - loss: 0.2418 - accuracy: 0.90 - ETA: 2s - loss: 0.2377 - accuracy: 0.91 - ETA: 2s - loss: 0.2413 - accuracy: 0.90 - ETA: 2s - loss: 0.2390 - accuracy: 0.90 - ETA: 2s - loss: 0.2414 - accuracy: 0.90 - ETA: 2s - loss: 0.2417 - accuracy: 0.90 - ETA: 2s - loss: 0.2394 - accuracy: 0.91 - ETA: 2s - loss: 0.2437 - accuracy: 0.90 - ETA: 2s - loss: 0.2459 - accuracy: 0.90 - ETA: 2s - loss: 0.2453 - accuracy: 0.90 - ETA: 2s - loss: 0.2451 - accuracy: 0.90 - ETA: 2s - loss: 0.2462 - accuracy: 0.90 - ETA: 2s - loss: 0.2501 - accuracy: 0.90 - ETA: 2s - loss: 0.2540 - accuracy: 0.90 - ETA: 2s - loss: 0.2529 - accuracy: 0.90 - ETA: 1s - loss: 0.2542 - accuracy: 0.90 - ETA: 1s - loss: 0.2528 - accuracy: 0.90 - ETA: 1s - loss: 0.2563 - accuracy: 0.90 - ETA: 1s - loss: 0.2599 - accuracy: 0.90 - ETA: 1s - loss: 0.2621 - accuracy: 0.90 - ETA: 1s - loss: 0.2608 - accuracy: 0.90 - ETA: 1s - loss: 0.2635 - accuracy: 0.90 - ETA: 1s - loss: 0.2617 - accuracy: 0.90 - ETA: 1s - loss: 0.2632 - accuracy: 0.90 - ETA: 1s - loss: 0.2594 - accuracy: 0.90 - ETA: 1s - loss: 0.2616 - accuracy: 0.90 - ETA: 1s - loss: 0.2620 - accuracy: 0.90 - ETA: 1s - loss: 0.2611 - accuracy: 0.90 - ETA: 1s - loss: 0.2639 - accuracy: 0.90 - ETA: 1s - loss: 0.2619 - accuracy: 0.90 - ETA: 0s - loss: 0.2619 - accuracy: 0.90 - ETA: 0s - loss: 0.2633 - accuracy: 0.90 - ETA: 0s - loss: 0.2644 - accuracy: 0.90 - ETA: 0s - loss: 0.2637 - accuracy: 0.90 - ETA: 0s - loss: 0.2611 - accuracy: 0.90 - ETA: 0s - loss: 0.2613 - accuracy: 0.90 - ETA: 0s - loss: 0.2616 - accuracy: 0.90 - ETA: 0s - loss: 0.2626 - accuracy: 0.90 - ETA: 0s - loss: 0.2623 - accuracy: 0.90 - ETA: 0s - loss: 0.2613 - accuracy: 0.90 - ETA: 0s - loss: 0.2620 - accuracy: 0.90 - ETA: 0s - loss: 0.2633 - accuracy: 0.90 - ETA: 0s - loss: 0.2641 - accuracy: 0.90 - ETA: 0s - loss: 0.2637 - accuracy: 0.90 - 5s 42ms/step - loss: 0.2629 - accuracy: 0.9034 - val_loss: 0.2321 - val_accuracy: 0.9279\n",
      "Epoch 10/1000\n",
      "125/125 [==============================] - ETA: 6s - loss: 0.2857 - accuracy: 0.87 - ETA: 4s - loss: 0.3429 - accuracy: 0.83 - ETA: 4s - loss: 0.2735 - accuracy: 0.88 - ETA: 4s - loss: 0.2847 - accuracy: 0.87 - ETA: 4s - loss: 0.2492 - accuracy: 0.89 - ETA: 4s - loss: 0.2404 - accuracy: 0.90 - ETA: 3s - loss: 0.2453 - accuracy: 0.90 - ETA: 3s - loss: 0.2430 - accuracy: 0.90 - ETA: 3s - loss: 0.2425 - accuracy: 0.90 - ETA: 3s - loss: 0.2491 - accuracy: 0.90 - ETA: 3s - loss: 0.2490 - accuracy: 0.90 - ETA: 3s - loss: 0.2441 - accuracy: 0.91 - ETA: 3s - loss: 0.2345 - accuracy: 0.91 - ETA: 3s - loss: 0.2294 - accuracy: 0.91 - ETA: 3s - loss: 0.2210 - accuracy: 0.92 - ETA: 3s - loss: 0.2206 - accuracy: 0.92 - ETA: 3s - loss: 0.2215 - accuracy: 0.91 - ETA: 3s - loss: 0.2268 - accuracy: 0.91 - ETA: 2s - loss: 0.2301 - accuracy: 0.91 - ETA: 2s - loss: 0.2289 - accuracy: 0.91 - ETA: 2s - loss: 0.2313 - accuracy: 0.91 - ETA: 2s - loss: 0.2295 - accuracy: 0.91 - ETA: 2s - loss: 0.2337 - accuracy: 0.91 - ETA: 2s - loss: 0.2345 - accuracy: 0.91 - ETA: 2s - loss: 0.2328 - accuracy: 0.91 - ETA: 2s - loss: 0.2369 - accuracy: 0.91 - ETA: 2s - loss: 0.2372 - accuracy: 0.91 - ETA: 2s - loss: 0.2372 - accuracy: 0.91 - ETA: 2s - loss: 0.2363 - accuracy: 0.91 - ETA: 2s - loss: 0.2361 - accuracy: 0.91 - ETA: 2s - loss: 0.2374 - accuracy: 0.91 - ETA: 2s - loss: 0.2399 - accuracy: 0.91 - ETA: 2s - loss: 0.2406 - accuracy: 0.91 - ETA: 1s - loss: 0.2419 - accuracy: 0.91 - ETA: 1s - loss: 0.2384 - accuracy: 0.91 - ETA: 1s - loss: 0.2405 - accuracy: 0.91 - ETA: 1s - loss: 0.2432 - accuracy: 0.91 - ETA: 1s - loss: 0.2436 - accuracy: 0.91 - ETA: 1s - loss: 0.2411 - accuracy: 0.91 - ETA: 1s - loss: 0.2431 - accuracy: 0.91 - ETA: 1s - loss: 0.2403 - accuracy: 0.91 - ETA: 1s - loss: 0.2422 - accuracy: 0.91 - ETA: 1s - loss: 0.2394 - accuracy: 0.91 - ETA: 1s - loss: 0.2427 - accuracy: 0.91 - ETA: 1s - loss: 0.2426 - accuracy: 0.91 - ETA: 1s - loss: 0.2425 - accuracy: 0.91 - ETA: 1s - loss: 0.2430 - accuracy: 0.91 - ETA: 1s - loss: 0.2413 - accuracy: 0.91 - ETA: 0s - loss: 0.2417 - accuracy: 0.91 - ETA: 0s - loss: 0.2431 - accuracy: 0.91 - ETA: 0s - loss: 0.2431 - accuracy: 0.91 - ETA: 0s - loss: 0.2427 - accuracy: 0.91 - ETA: 0s - loss: 0.2406 - accuracy: 0.91 - ETA: 0s - loss: 0.2396 - accuracy: 0.91 - ETA: 0s - loss: 0.2398 - accuracy: 0.91 - ETA: 0s - loss: 0.2408 - accuracy: 0.91 - ETA: 0s - loss: 0.2400 - accuracy: 0.91 - ETA: 0s - loss: 0.2389 - accuracy: 0.91 - ETA: 0s - loss: 0.2388 - accuracy: 0.91 - ETA: 0s - loss: 0.2388 - accuracy: 0.91 - ETA: 0s - loss: 0.2390 - accuracy: 0.91 - ETA: 0s - loss: 0.2384 - accuracy: 0.91 - 5s 36ms/step - loss: 0.2373 - accuracy: 0.9132 - val_loss: 0.3546 - val_accuracy: 0.8258\n",
      "Epoch 11/1000\n",
      "125/125 [==============================] - ETA: 6s - loss: 0.2008 - accuracy: 0.90 - ETA: 4s - loss: 0.2525 - accuracy: 0.90 - ETA: 4s - loss: 0.2185 - accuracy: 0.92 - ETA: 4s - loss: 0.2433 - accuracy: 0.91 - ETA: 4s - loss: 0.2159 - accuracy: 0.92 - ETA: 4s - loss: 0.2065 - accuracy: 0.93 - ETA: 3s - loss: 0.2132 - accuracy: 0.92 - ETA: 3s - loss: 0.2128 - accuracy: 0.92 - ETA: 3s - loss: 0.2084 - accuracy: 0.92 - ETA: 3s - loss: 0.2253 - accuracy: 0.92 - ETA: 3s - loss: 0.2309 - accuracy: 0.91 - ETA: 3s - loss: 0.2234 - accuracy: 0.92 - ETA: 3s - loss: 0.2186 - accuracy: 0.92 - ETA: 3s - loss: 0.2158 - accuracy: 0.92 - ETA: 3s - loss: 0.2074 - accuracy: 0.93 - ETA: 3s - loss: 0.2053 - accuracy: 0.93 - ETA: 3s - loss: 0.2009 - accuracy: 0.93 - ETA: 3s - loss: 0.2054 - accuracy: 0.92 - ETA: 2s - loss: 0.2103 - accuracy: 0.92 - ETA: 2s - loss: 0.2086 - accuracy: 0.92 - ETA: 2s - loss: 0.2121 - accuracy: 0.92 - ETA: 2s - loss: 0.2088 - accuracy: 0.92 - ETA: 2s - loss: 0.2111 - accuracy: 0.92 - ETA: 2s - loss: 0.2133 - accuracy: 0.92 - ETA: 2s - loss: 0.2125 - accuracy: 0.92 - ETA: 2s - loss: 0.2167 - accuracy: 0.92 - ETA: 2s - loss: 0.2184 - accuracy: 0.92 - ETA: 2s - loss: 0.2185 - accuracy: 0.92 - ETA: 2s - loss: 0.2184 - accuracy: 0.92 - ETA: 2s - loss: 0.2194 - accuracy: 0.92 - ETA: 2s - loss: 0.2227 - accuracy: 0.92 - ETA: 2s - loss: 0.2258 - accuracy: 0.92 - ETA: 2s - loss: 0.2282 - accuracy: 0.91 - ETA: 1s - loss: 0.2312 - accuracy: 0.91 - ETA: 1s - loss: 0.2290 - accuracy: 0.91 - ETA: 1s - loss: 0.2323 - accuracy: 0.91 - ETA: 1s - loss: 0.2365 - accuracy: 0.91 - ETA: 1s - loss: 0.2399 - accuracy: 0.91 - ETA: 1s - loss: 0.2375 - accuracy: 0.91 - ETA: 1s - loss: 0.2407 - accuracy: 0.91 - ETA: 1s - loss: 0.2396 - accuracy: 0.91 - ETA: 1s - loss: 0.2412 - accuracy: 0.91 - ETA: 1s - loss: 0.2403 - accuracy: 0.91 - ETA: 1s - loss: 0.2435 - accuracy: 0.91 - ETA: 1s - loss: 0.2434 - accuracy: 0.91 - ETA: 1s - loss: 0.2427 - accuracy: 0.91 - ETA: 1s - loss: 0.2433 - accuracy: 0.91 - ETA: 1s - loss: 0.2417 - accuracy: 0.91 - ETA: 0s - loss: 0.2419 - accuracy: 0.91 - ETA: 0s - loss: 0.2432 - accuracy: 0.91 - ETA: 0s - loss: 0.2421 - accuracy: 0.91 - ETA: 0s - loss: 0.2418 - accuracy: 0.91 - ETA: 0s - loss: 0.2392 - accuracy: 0.91 - ETA: 0s - loss: 0.2391 - accuracy: 0.91 - ETA: 0s - loss: 0.2391 - accuracy: 0.91 - ETA: 0s - loss: 0.2408 - accuracy: 0.91 - ETA: 0s - loss: 0.2398 - accuracy: 0.91 - ETA: 0s - loss: 0.2391 - accuracy: 0.91 - ETA: 0s - loss: 0.2389 - accuracy: 0.91 - ETA: 0s - loss: 0.2395 - accuracy: 0.91 - ETA: 0s - loss: 0.2401 - accuracy: 0.91 - ETA: 0s - loss: 0.2401 - accuracy: 0.91 - 5s 36ms/step - loss: 0.2396 - accuracy: 0.9142 - val_loss: 0.3605 - val_accuracy: 0.8559\n"
     ]
    },
    {
     "name": "stdout",
     "output_type": "stream",
     "text": [
      "Epoch 12/1000\n",
      "125/125 [==============================] - ETA: 6s - loss: 0.2380 - accuracy: 0.90 - ETA: 4s - loss: 0.2505 - accuracy: 0.91 - ETA: 4s - loss: 0.2067 - accuracy: 0.93 - ETA: 4s - loss: 0.2271 - accuracy: 0.91 - ETA: 4s - loss: 0.2048 - accuracy: 0.93 - ETA: 4s - loss: 0.1957 - accuracy: 0.93 - ETA: 3s - loss: 0.2075 - accuracy: 0.93 - ETA: 3s - loss: 0.2071 - accuracy: 0.92 - ETA: 3s - loss: 0.2032 - accuracy: 0.93 - ETA: 3s - loss: 0.2075 - accuracy: 0.93 - ETA: 3s - loss: 0.2111 - accuracy: 0.93 - ETA: 3s - loss: 0.2063 - accuracy: 0.93 - ETA: 3s - loss: 0.2002 - accuracy: 0.93 - ETA: 3s - loss: 0.1963 - accuracy: 0.93 - ETA: 3s - loss: 0.1887 - accuracy: 0.93 - ETA: 3s - loss: 0.1871 - accuracy: 0.93 - ETA: 3s - loss: 0.1819 - accuracy: 0.94 - ETA: 3s - loss: 0.1885 - accuracy: 0.94 - ETA: 2s - loss: 0.1902 - accuracy: 0.93 - ETA: 2s - loss: 0.1904 - accuracy: 0.93 - ETA: 2s - loss: 0.1949 - accuracy: 0.93 - ETA: 2s - loss: 0.1917 - accuracy: 0.93 - ETA: 2s - loss: 0.1928 - accuracy: 0.93 - ETA: 2s - loss: 0.1934 - accuracy: 0.93 - ETA: 2s - loss: 0.1933 - accuracy: 0.93 - ETA: 2s - loss: 0.1956 - accuracy: 0.93 - ETA: 2s - loss: 0.1961 - accuracy: 0.93 - ETA: 2s - loss: 0.1964 - accuracy: 0.93 - ETA: 2s - loss: 0.1957 - accuracy: 0.93 - ETA: 2s - loss: 0.1977 - accuracy: 0.93 - ETA: 2s - loss: 0.2000 - accuracy: 0.93 - ETA: 2s - loss: 0.2042 - accuracy: 0.93 - ETA: 2s - loss: 0.2060 - accuracy: 0.92 - ETA: 1s - loss: 0.2076 - accuracy: 0.92 - ETA: 1s - loss: 0.2053 - accuracy: 0.92 - ETA: 1s - loss: 0.2080 - accuracy: 0.92 - ETA: 1s - loss: 0.2110 - accuracy: 0.92 - ETA: 1s - loss: 0.2137 - accuracy: 0.92 - ETA: 1s - loss: 0.2119 - accuracy: 0.92 - ETA: 1s - loss: 0.2152 - accuracy: 0.92 - ETA: 1s - loss: 0.2144 - accuracy: 0.92 - ETA: 1s - loss: 0.2153 - accuracy: 0.92 - ETA: 1s - loss: 0.2130 - accuracy: 0.92 - ETA: 1s - loss: 0.2168 - accuracy: 0.92 - ETA: 1s - loss: 0.2177 - accuracy: 0.92 - ETA: 1s - loss: 0.2174 - accuracy: 0.92 - ETA: 1s - loss: 0.2186 - accuracy: 0.92 - ETA: 1s - loss: 0.2181 - accuracy: 0.92 - ETA: 0s - loss: 0.2180 - accuracy: 0.92 - ETA: 0s - loss: 0.2195 - accuracy: 0.92 - ETA: 0s - loss: 0.2187 - accuracy: 0.92 - ETA: 0s - loss: 0.2191 - accuracy: 0.92 - ETA: 0s - loss: 0.2174 - accuracy: 0.92 - ETA: 0s - loss: 0.2167 - accuracy: 0.92 - ETA: 0s - loss: 0.2171 - accuracy: 0.92 - ETA: 0s - loss: 0.2191 - accuracy: 0.92 - ETA: 0s - loss: 0.2188 - accuracy: 0.92 - ETA: 0s - loss: 0.2187 - accuracy: 0.92 - ETA: 0s - loss: 0.2188 - accuracy: 0.92 - ETA: 0s - loss: 0.2189 - accuracy: 0.92 - ETA: 0s - loss: 0.2196 - accuracy: 0.92 - ETA: 0s - loss: 0.2192 - accuracy: 0.92 - 5s 36ms/step - loss: 0.2186 - accuracy: 0.9244 - val_loss: 0.3243 - val_accuracy: 0.8679\n",
      "Epoch 13/1000\n",
      "125/125 [==============================] - ETA: 6s - loss: 0.1927 - accuracy: 0.93 - ETA: 4s - loss: 0.2168 - accuracy: 0.91 - ETA: 4s - loss: 0.1859 - accuracy: 0.93 - ETA: 4s - loss: 0.2137 - accuracy: 0.91 - ETA: 4s - loss: 0.1900 - accuracy: 0.93 - ETA: 4s - loss: 0.1832 - accuracy: 0.93 - ETA: 4s - loss: 0.1989 - accuracy: 0.93 - ETA: 3s - loss: 0.2088 - accuracy: 0.92 - ETA: 3s - loss: 0.2078 - accuracy: 0.92 - ETA: 3s - loss: 0.2168 - accuracy: 0.92 - ETA: 3s - loss: 0.2179 - accuracy: 0.92 - ETA: 3s - loss: 0.2127 - accuracy: 0.92 - ETA: 3s - loss: 0.2105 - accuracy: 0.92 - ETA: 3s - loss: 0.2072 - accuracy: 0.93 - ETA: 3s - loss: 0.2001 - accuracy: 0.93 - ETA: 3s - loss: 0.1960 - accuracy: 0.93 - ETA: 3s - loss: 0.1910 - accuracy: 0.93 - ETA: 3s - loss: 0.1970 - accuracy: 0.93 - ETA: 3s - loss: 0.1974 - accuracy: 0.93 - ETA: 3s - loss: 0.1962 - accuracy: 0.93 - ETA: 3s - loss: 0.1985 - accuracy: 0.93 - ETA: 2s - loss: 0.1945 - accuracy: 0.93 - ETA: 2s - loss: 0.1962 - accuracy: 0.93 - ETA: 2s - loss: 0.1963 - accuracy: 0.93 - ETA: 2s - loss: 0.1966 - accuracy: 0.93 - ETA: 2s - loss: 0.1987 - accuracy: 0.93 - ETA: 2s - loss: 0.1980 - accuracy: 0.93 - ETA: 2s - loss: 0.1970 - accuracy: 0.93 - ETA: 2s - loss: 0.1958 - accuracy: 0.93 - ETA: 2s - loss: 0.1964 - accuracy: 0.93 - ETA: 2s - loss: 0.1981 - accuracy: 0.93 - ETA: 2s - loss: 0.2009 - accuracy: 0.93 - ETA: 2s - loss: 0.2021 - accuracy: 0.93 - ETA: 2s - loss: 0.2029 - accuracy: 0.93 - ETA: 1s - loss: 0.2001 - accuracy: 0.93 - ETA: 1s - loss: 0.2037 - accuracy: 0.92 - ETA: 1s - loss: 0.2079 - accuracy: 0.92 - ETA: 1s - loss: 0.2105 - accuracy: 0.92 - ETA: 1s - loss: 0.2087 - accuracy: 0.92 - ETA: 1s - loss: 0.2119 - accuracy: 0.92 - ETA: 1s - loss: 0.2111 - accuracy: 0.92 - ETA: 1s - loss: 0.2119 - accuracy: 0.92 - ETA: 1s - loss: 0.2103 - accuracy: 0.92 - ETA: 1s - loss: 0.2143 - accuracy: 0.92 - ETA: 1s - loss: 0.2170 - accuracy: 0.92 - ETA: 1s - loss: 0.2173 - accuracy: 0.92 - ETA: 1s - loss: 0.2180 - accuracy: 0.92 - ETA: 1s - loss: 0.2170 - accuracy: 0.92 - ETA: 0s - loss: 0.2177 - accuracy: 0.92 - ETA: 0s - loss: 0.2191 - accuracy: 0.92 - ETA: 0s - loss: 0.2187 - accuracy: 0.92 - ETA: 0s - loss: 0.2190 - accuracy: 0.92 - ETA: 0s - loss: 0.2171 - accuracy: 0.92 - ETA: 0s - loss: 0.2168 - accuracy: 0.92 - ETA: 0s - loss: 0.2169 - accuracy: 0.92 - ETA: 0s - loss: 0.2184 - accuracy: 0.92 - ETA: 0s - loss: 0.2178 - accuracy: 0.92 - ETA: 0s - loss: 0.2171 - accuracy: 0.92 - ETA: 0s - loss: 0.2170 - accuracy: 0.92 - ETA: 0s - loss: 0.2167 - accuracy: 0.92 - ETA: 0s - loss: 0.2170 - accuracy: 0.92 - ETA: 0s - loss: 0.2168 - accuracy: 0.92 - 5s 38ms/step - loss: 0.2160 - accuracy: 0.9254 - val_loss: 0.2449 - val_accuracy: 0.9179\n",
      "Epoch 14/1000\n",
      "125/125 [==============================] - ETA: 6s - loss: 0.2008 - accuracy: 0.93 - ETA: 4s - loss: 0.2099 - accuracy: 0.93 - ETA: 4s - loss: 0.1799 - accuracy: 0.94 - ETA: 4s - loss: 0.2007 - accuracy: 0.93 - ETA: 4s - loss: 0.1831 - accuracy: 0.94 - ETA: 4s - loss: 0.1789 - accuracy: 0.94 - ETA: 3s - loss: 0.1905 - accuracy: 0.94 - ETA: 3s - loss: 0.1937 - accuracy: 0.93 - ETA: 3s - loss: 0.1998 - accuracy: 0.93 - ETA: 3s - loss: 0.2114 - accuracy: 0.92 - ETA: 3s - loss: 0.2240 - accuracy: 0.92 - ETA: 3s - loss: 0.2165 - accuracy: 0.93 - ETA: 3s - loss: 0.2080 - accuracy: 0.93 - ETA: 3s - loss: 0.2079 - accuracy: 0.93 - ETA: 3s - loss: 0.1995 - accuracy: 0.93 - ETA: 3s - loss: 0.1951 - accuracy: 0.93 - ETA: 3s - loss: 0.1906 - accuracy: 0.93 - ETA: 3s - loss: 0.1956 - accuracy: 0.93 - ETA: 3s - loss: 0.1981 - accuracy: 0.93 - ETA: 2s - loss: 0.1967 - accuracy: 0.93 - ETA: 2s - loss: 0.2022 - accuracy: 0.93 - ETA: 2s - loss: 0.1975 - accuracy: 0.93 - ETA: 2s - loss: 0.2010 - accuracy: 0.93 - ETA: 2s - loss: 0.2026 - accuracy: 0.93 - ETA: 2s - loss: 0.2004 - accuracy: 0.93 - ETA: 2s - loss: 0.2020 - accuracy: 0.93 - ETA: 2s - loss: 0.2020 - accuracy: 0.93 - ETA: 2s - loss: 0.2007 - accuracy: 0.93 - ETA: 2s - loss: 0.2000 - accuracy: 0.93 - ETA: 2s - loss: 0.2002 - accuracy: 0.93 - ETA: 2s - loss: 0.2020 - accuracy: 0.93 - ETA: 2s - loss: 0.2045 - accuracy: 0.92 - ETA: 2s - loss: 0.2038 - accuracy: 0.92 - ETA: 1s - loss: 0.2057 - accuracy: 0.92 - ETA: 1s - loss: 0.2028 - accuracy: 0.92 - ETA: 1s - loss: 0.2056 - accuracy: 0.92 - ETA: 1s - loss: 0.2093 - accuracy: 0.92 - ETA: 1s - loss: 0.2114 - accuracy: 0.92 - ETA: 1s - loss: 0.2094 - accuracy: 0.92 - ETA: 1s - loss: 0.2105 - accuracy: 0.92 - ETA: 1s - loss: 0.2100 - accuracy: 0.92 - ETA: 1s - loss: 0.2112 - accuracy: 0.92 - ETA: 1s - loss: 0.2085 - accuracy: 0.92 - ETA: 1s - loss: 0.2113 - accuracy: 0.92 - ETA: 1s - loss: 0.2119 - accuracy: 0.92 - ETA: 1s - loss: 0.2113 - accuracy: 0.92 - ETA: 1s - loss: 0.2128 - accuracy: 0.92 - ETA: 1s - loss: 0.2127 - accuracy: 0.92 - ETA: 0s - loss: 0.2136 - accuracy: 0.92 - ETA: 0s - loss: 0.2159 - accuracy: 0.92 - ETA: 0s - loss: 0.2171 - accuracy: 0.92 - ETA: 0s - loss: 0.2172 - accuracy: 0.92 - ETA: 0s - loss: 0.2159 - accuracy: 0.92 - ETA: 0s - loss: 0.2154 - accuracy: 0.92 - ETA: 0s - loss: 0.2154 - accuracy: 0.92 - ETA: 0s - loss: 0.2163 - accuracy: 0.92 - ETA: 0s - loss: 0.2156 - accuracy: 0.92 - ETA: 0s - loss: 0.2147 - accuracy: 0.92 - ETA: 0s - loss: 0.2145 - accuracy: 0.92 - ETA: 0s - loss: 0.2137 - accuracy: 0.92 - ETA: 0s - loss: 0.2145 - accuracy: 0.92 - ETA: 0s - loss: 0.2136 - accuracy: 0.92 - 5s 38ms/step - loss: 0.2123 - accuracy: 0.9247 - val_loss: 0.4596 - val_accuracy: 0.7648\n"
     ]
    },
    {
     "name": "stdout",
     "output_type": "stream",
     "text": [
      "Epoch 15/1000\n",
      "125/125 [==============================] - ETA: 6s - loss: 0.2007 - accuracy: 0.90 - ETA: 4s - loss: 0.2788 - accuracy: 0.89 - ETA: 4s - loss: 0.2220 - accuracy: 0.91 - ETA: 4s - loss: 0.2359 - accuracy: 0.91 - ETA: 4s - loss: 0.2048 - accuracy: 0.93 - ETA: 4s - loss: 0.1926 - accuracy: 0.93 - ETA: 3s - loss: 0.2024 - accuracy: 0.93 - ETA: 3s - loss: 0.1941 - accuracy: 0.93 - ETA: 3s - loss: 0.1893 - accuracy: 0.93 - ETA: 3s - loss: 0.1960 - accuracy: 0.93 - ETA: 3s - loss: 0.2064 - accuracy: 0.93 - ETA: 3s - loss: 0.2013 - accuracy: 0.93 - ETA: 3s - loss: 0.1943 - accuracy: 0.93 - ETA: 3s - loss: 0.1894 - accuracy: 0.93 - ETA: 3s - loss: 0.1807 - accuracy: 0.93 - ETA: 3s - loss: 0.1767 - accuracy: 0.94 - ETA: 3s - loss: 0.1755 - accuracy: 0.94 - ETA: 3s - loss: 0.1793 - accuracy: 0.93 - ETA: 2s - loss: 0.1797 - accuracy: 0.93 - ETA: 2s - loss: 0.1793 - accuracy: 0.93 - ETA: 2s - loss: 0.1830 - accuracy: 0.93 - ETA: 2s - loss: 0.1786 - accuracy: 0.93 - ETA: 2s - loss: 0.1818 - accuracy: 0.93 - ETA: 2s - loss: 0.1833 - accuracy: 0.93 - ETA: 2s - loss: 0.1829 - accuracy: 0.93 - ETA: 2s - loss: 0.1841 - accuracy: 0.93 - ETA: 2s - loss: 0.1839 - accuracy: 0.93 - ETA: 2s - loss: 0.1842 - accuracy: 0.93 - ETA: 2s - loss: 0.1832 - accuracy: 0.93 - ETA: 2s - loss: 0.1840 - accuracy: 0.93 - ETA: 2s - loss: 0.1844 - accuracy: 0.93 - ETA: 2s - loss: 0.1856 - accuracy: 0.93 - ETA: 2s - loss: 0.1853 - accuracy: 0.93 - ETA: 1s - loss: 0.1865 - accuracy: 0.93 - ETA: 1s - loss: 0.1840 - accuracy: 0.93 - ETA: 1s - loss: 0.1864 - accuracy: 0.93 - ETA: 1s - loss: 0.1885 - accuracy: 0.93 - ETA: 1s - loss: 0.1907 - accuracy: 0.93 - ETA: 1s - loss: 0.1891 - accuracy: 0.93 - ETA: 1s - loss: 0.1915 - accuracy: 0.93 - ETA: 1s - loss: 0.1906 - accuracy: 0.93 - ETA: 1s - loss: 0.1924 - accuracy: 0.93 - ETA: 1s - loss: 0.1904 - accuracy: 0.93 - ETA: 1s - loss: 0.1946 - accuracy: 0.93 - ETA: 1s - loss: 0.1965 - accuracy: 0.92 - ETA: 1s - loss: 0.1963 - accuracy: 0.93 - ETA: 1s - loss: 0.1982 - accuracy: 0.92 - ETA: 1s - loss: 0.1970 - accuracy: 0.93 - ETA: 0s - loss: 0.1971 - accuracy: 0.93 - ETA: 0s - loss: 0.1978 - accuracy: 0.92 - ETA: 0s - loss: 0.1974 - accuracy: 0.92 - ETA: 0s - loss: 0.1973 - accuracy: 0.92 - ETA: 0s - loss: 0.1957 - accuracy: 0.93 - ETA: 0s - loss: 0.1954 - accuracy: 0.93 - ETA: 0s - loss: 0.1951 - accuracy: 0.93 - ETA: 0s - loss: 0.1977 - accuracy: 0.92 - ETA: 0s - loss: 0.1969 - accuracy: 0.93 - ETA: 0s - loss: 0.1964 - accuracy: 0.93 - ETA: 0s - loss: 0.1965 - accuracy: 0.93 - ETA: 0s - loss: 0.1967 - accuracy: 0.93 - ETA: 0s - loss: 0.1974 - accuracy: 0.92 - ETA: 0s - loss: 0.1968 - accuracy: 0.92 - 5s 37ms/step - loss: 0.1961 - accuracy: 0.9299 - val_loss: 0.3564 - val_accuracy: 0.8579\n",
      "Epoch 16/1000\n",
      "125/125 [==============================] - ETA: 7s - loss: 0.1834 - accuracy: 0.93 - ETA: 5s - loss: 0.2191 - accuracy: 0.90 - ETA: 4s - loss: 0.1826 - accuracy: 0.93 - ETA: 4s - loss: 0.2064 - accuracy: 0.91 - ETA: 4s - loss: 0.1846 - accuracy: 0.93 - ETA: 4s - loss: 0.1760 - accuracy: 0.93 - ETA: 3s - loss: 0.1906 - accuracy: 0.93 - ETA: 3s - loss: 0.1873 - accuracy: 0.93 - ETA: 3s - loss: 0.1850 - accuracy: 0.93 - ETA: 3s - loss: 0.1911 - accuracy: 0.93 - ETA: 3s - loss: 0.1953 - accuracy: 0.92 - ETA: 3s - loss: 0.1938 - accuracy: 0.93 - ETA: 3s - loss: 0.1919 - accuracy: 0.93 - ETA: 3s - loss: 0.1878 - accuracy: 0.93 - ETA: 3s - loss: 0.1799 - accuracy: 0.93 - ETA: 3s - loss: 0.1759 - accuracy: 0.93 - ETA: 3s - loss: 0.1726 - accuracy: 0.93 - ETA: 3s - loss: 0.1764 - accuracy: 0.93 - ETA: 3s - loss: 0.1777 - accuracy: 0.93 - ETA: 2s - loss: 0.1766 - accuracy: 0.93 - ETA: 2s - loss: 0.1810 - accuracy: 0.93 - ETA: 2s - loss: 0.1774 - accuracy: 0.93 - ETA: 2s - loss: 0.1791 - accuracy: 0.93 - ETA: 2s - loss: 0.1811 - accuracy: 0.93 - ETA: 2s - loss: 0.1791 - accuracy: 0.93 - ETA: 2s - loss: 0.1793 - accuracy: 0.93 - ETA: 2s - loss: 0.1784 - accuracy: 0.93 - ETA: 2s - loss: 0.1785 - accuracy: 0.93 - ETA: 2s - loss: 0.1800 - accuracy: 0.93 - ETA: 2s - loss: 0.1801 - accuracy: 0.93 - ETA: 2s - loss: 0.1821 - accuracy: 0.93 - ETA: 2s - loss: 0.1817 - accuracy: 0.93 - ETA: 2s - loss: 0.1810 - accuracy: 0.93 - ETA: 1s - loss: 0.1804 - accuracy: 0.93 - ETA: 1s - loss: 0.1782 - accuracy: 0.93 - ETA: 1s - loss: 0.1797 - accuracy: 0.93 - ETA: 1s - loss: 0.1831 - accuracy: 0.93 - ETA: 1s - loss: 0.1854 - accuracy: 0.93 - ETA: 1s - loss: 0.1830 - accuracy: 0.93 - ETA: 1s - loss: 0.1851 - accuracy: 0.93 - ETA: 1s - loss: 0.1854 - accuracy: 0.93 - ETA: 1s - loss: 0.1892 - accuracy: 0.93 - ETA: 1s - loss: 0.1884 - accuracy: 0.93 - ETA: 1s - loss: 0.1940 - accuracy: 0.92 - ETA: 1s - loss: 0.1966 - accuracy: 0.92 - ETA: 1s - loss: 0.1969 - accuracy: 0.92 - ETA: 1s - loss: 0.1986 - accuracy: 0.92 - ETA: 1s - loss: 0.1981 - accuracy: 0.92 - ETA: 0s - loss: 0.1990 - accuracy: 0.92 - ETA: 0s - loss: 0.2007 - accuracy: 0.92 - ETA: 0s - loss: 0.2007 - accuracy: 0.92 - ETA: 0s - loss: 0.2008 - accuracy: 0.92 - ETA: 0s - loss: 0.1991 - accuracy: 0.92 - ETA: 0s - loss: 0.1992 - accuracy: 0.92 - ETA: 0s - loss: 0.1993 - accuracy: 0.92 - ETA: 0s - loss: 0.2005 - accuracy: 0.92 - ETA: 0s - loss: 0.1999 - accuracy: 0.92 - ETA: 0s - loss: 0.1990 - accuracy: 0.92 - ETA: 0s - loss: 0.1992 - accuracy: 0.92 - ETA: 0s - loss: 0.1987 - accuracy: 0.92 - ETA: 0s - loss: 0.1991 - accuracy: 0.92 - ETA: 0s - loss: 0.1986 - accuracy: 0.92 - 5s 37ms/step - loss: 0.1979 - accuracy: 0.9277 - val_loss: 0.4550 - val_accuracy: 0.7528\n",
      "Epoch 17/1000\n",
      "125/125 [==============================] - ETA: 7s - loss: 0.2157 - accuracy: 0.90 - ETA: 5s - loss: 0.2314 - accuracy: 0.90 - ETA: 4s - loss: 0.1856 - accuracy: 0.92 - ETA: 4s - loss: 0.2002 - accuracy: 0.92 - ETA: 4s - loss: 0.1787 - accuracy: 0.93 - ETA: 4s - loss: 0.1726 - accuracy: 0.94 - ETA: 3s - loss: 0.1895 - accuracy: 0.93 - ETA: 3s - loss: 0.1828 - accuracy: 0.93 - ETA: 3s - loss: 0.1818 - accuracy: 0.94 - ETA: 3s - loss: 0.1894 - accuracy: 0.93 - ETA: 3s - loss: 0.1924 - accuracy: 0.93 - ETA: 3s - loss: 0.1874 - accuracy: 0.94 - ETA: 3s - loss: 0.1822 - accuracy: 0.94 - ETA: 3s - loss: 0.1796 - accuracy: 0.94 - ETA: 3s - loss: 0.1724 - accuracy: 0.94 - ETA: 3s - loss: 0.1707 - accuracy: 0.94 - ETA: 3s - loss: 0.1680 - accuracy: 0.94 - ETA: 3s - loss: 0.1730 - accuracy: 0.94 - ETA: 3s - loss: 0.1815 - accuracy: 0.93 - ETA: 2s - loss: 0.1804 - accuracy: 0.93 - ETA: 2s - loss: 0.1855 - accuracy: 0.93 - ETA: 2s - loss: 0.1843 - accuracy: 0.93 - ETA: 2s - loss: 0.1898 - accuracy: 0.93 - ETA: 2s - loss: 0.1922 - accuracy: 0.93 - ETA: 2s - loss: 0.1899 - accuracy: 0.93 - ETA: 2s - loss: 0.1937 - accuracy: 0.93 - ETA: 2s - loss: 0.1937 - accuracy: 0.93 - ETA: 2s - loss: 0.1941 - accuracy: 0.93 - ETA: 2s - loss: 0.1930 - accuracy: 0.93 - ETA: 2s - loss: 0.1926 - accuracy: 0.93 - ETA: 2s - loss: 0.1944 - accuracy: 0.93 - ETA: 2s - loss: 0.1976 - accuracy: 0.92 - ETA: 2s - loss: 0.1974 - accuracy: 0.92 - ETA: 1s - loss: 0.1978 - accuracy: 0.92 - ETA: 1s - loss: 0.1952 - accuracy: 0.92 - ETA: 1s - loss: 0.1974 - accuracy: 0.92 - ETA: 1s - loss: 0.1993 - accuracy: 0.92 - ETA: 1s - loss: 0.1990 - accuracy: 0.92 - ETA: 1s - loss: 0.1986 - accuracy: 0.92 - ETA: 1s - loss: 0.1999 - accuracy: 0.92 - ETA: 1s - loss: 0.1999 - accuracy: 0.92 - ETA: 1s - loss: 0.1986 - accuracy: 0.92 - ETA: 1s - loss: 0.1974 - accuracy: 0.92 - ETA: 1s - loss: 0.1971 - accuracy: 0.92 - ETA: 1s - loss: 0.1977 - accuracy: 0.92 - ETA: 1s - loss: 0.1996 - accuracy: 0.92 - ETA: 1s - loss: 0.1976 - accuracy: 0.92 - ETA: 1s - loss: 0.1999 - accuracy: 0.92 - ETA: 1s - loss: 0.2006 - accuracy: 0.92 - ETA: 0s - loss: 0.2004 - accuracy: 0.92 - ETA: 0s - loss: 0.2021 - accuracy: 0.92 - ETA: 0s - loss: 0.2039 - accuracy: 0.92 - ETA: 0s - loss: 0.2032 - accuracy: 0.92 - ETA: 0s - loss: 0.2035 - accuracy: 0.92 - ETA: 0s - loss: 0.2034 - accuracy: 0.92 - ETA: 0s - loss: 0.2040 - accuracy: 0.92 - ETA: 0s - loss: 0.2033 - accuracy: 0.92 - ETA: 0s - loss: 0.2056 - accuracy: 0.92 - ETA: 0s - loss: 0.2041 - accuracy: 0.92 - ETA: 0s - loss: 0.2043 - accuracy: 0.92 - ETA: 0s - loss: 0.2046 - accuracy: 0.92 - ETA: 0s - loss: 0.2045 - accuracy: 0.92 - ETA: 0s - loss: 0.2035 - accuracy: 0.92 - 5s 39ms/step - loss: 0.2033 - accuracy: 0.9264 - val_loss: 0.2691 - val_accuracy: 0.9019\n",
      "Epoch 18/1000\n",
      "125/125 [==============================] - ETA: 7s - loss: 0.2122 - accuracy: 0.90 - ETA: 5s - loss: 0.2160 - accuracy: 0.90 - ETA: 4s - loss: 0.1838 - accuracy: 0.92 - ETA: 4s - loss: 0.2006 - accuracy: 0.91 - ETA: 4s - loss: 0.1755 - accuracy: 0.93 - ETA: 4s - loss: 0.1711 - accuracy: 0.93 - ETA: 4s - loss: 0.1880 - accuracy: 0.93 - ETA: 4s - loss: 0.1858 - accuracy: 0.93 - ETA: 4s - loss: 0.1842 - accuracy: 0.93 - ETA: 4s - loss: 0.1898 - accuracy: 0.93 - ETA: 3s - loss: 0.1882 - accuracy: 0.93 - ETA: 3s - loss: 0.1858 - accuracy: 0.93 - ETA: 3s - loss: 0.1810 - accuracy: 0.93 - ETA: 3s - loss: 0.1782 - accuracy: 0.93 - ETA: 3s - loss: 0.1716 - accuracy: 0.93 - ETA: 3s - loss: 0.1668 - accuracy: 0.94 - ETA: 3s - loss: 0.1626 - accuracy: 0.94 - ETA: 3s - loss: 0.1669 - accuracy: 0.94 - ETA: 3s - loss: 0.1699 - accuracy: 0.93 - ETA: 3s - loss: 0.1707 - accuracy: 0.93 - ETA: 3s - loss: 0.1729 - accuracy: 0.93 - ETA: 3s - loss: 0.1694 - accuracy: 0.94 - ETA: 2s - loss: 0.1737 - accuracy: 0.94 - ETA: 2s - loss: 0.1739 - accuracy: 0.94 - ETA: 2s - loss: 0.1716 - accuracy: 0.94 - ETA: 2s - loss: 0.1790 - accuracy: 0.93 - ETA: 2s - loss: 0.1812 - accuracy: 0.93 - ETA: 2s - loss: 0.1818 - accuracy: 0.93 - ETA: 2s - loss: 0.1841 - accuracy: 0.93 - ETA: 2s - loss: 0.1908 - accuracy: 0.93 - ETA: 2s - loss: 0.1944 - accuracy: 0.93 - ETA: 2s - loss: 0.1945 - accuracy: 0.92 - ETA: 2s - loss: 0.1972 - accuracy: 0.92 - ETA: 2s - loss: 0.1989 - accuracy: 0.92 - ETA: 2s - loss: 0.1981 - accuracy: 0.92 - ETA: 2s - loss: 0.1999 - accuracy: 0.92 - ETA: 1s - loss: 0.2026 - accuracy: 0.92 - ETA: 1s - loss: 0.2062 - accuracy: 0.92 - ETA: 1s - loss: 0.2040 - accuracy: 0.92 - ETA: 1s - loss: 0.2060 - accuracy: 0.92 - ETA: 1s - loss: 0.2053 - accuracy: 0.92 - ETA: 1s - loss: 0.2067 - accuracy: 0.92 - ETA: 1s - loss: 0.2051 - accuracy: 0.92 - ETA: 1s - loss: 0.2078 - accuracy: 0.92 - ETA: 1s - loss: 0.2081 - accuracy: 0.92 - ETA: 1s - loss: 0.2079 - accuracy: 0.92 - ETA: 1s - loss: 0.2094 - accuracy: 0.92 - ETA: 1s - loss: 0.2088 - accuracy: 0.92 - ETA: 1s - loss: 0.2087 - accuracy: 0.92 - ETA: 0s - loss: 0.2096 - accuracy: 0.92 - ETA: 0s - loss: 0.2101 - accuracy: 0.92 - ETA: 0s - loss: 0.2099 - accuracy: 0.92 - ETA: 0s - loss: 0.2082 - accuracy: 0.92 - ETA: 0s - loss: 0.2074 - accuracy: 0.92 - ETA: 0s - loss: 0.2071 - accuracy: 0.92 - ETA: 0s - loss: 0.2077 - accuracy: 0.92 - ETA: 0s - loss: 0.2071 - accuracy: 0.92 - ETA: 0s - loss: 0.2061 - accuracy: 0.92 - ETA: 0s - loss: 0.2058 - accuracy: 0.92 - ETA: 0s - loss: 0.2042 - accuracy: 0.92 - ETA: 0s - loss: 0.2047 - accuracy: 0.92 - ETA: 0s - loss: 0.2038 - accuracy: 0.92 - 6s 46ms/step - loss: 0.2036 - accuracy: 0.9234 - val_loss: 0.2300 - val_accuracy: 0.9019\n",
      "Epoch 19/1000\n",
      "125/125 [==============================] - ETA: 6s - loss: 0.2020 - accuracy: 0.93 - ETA: 4s - loss: 0.2330 - accuracy: 0.90 - ETA: 4s - loss: 0.1886 - accuracy: 0.92 - ETA: 4s - loss: 0.2027 - accuracy: 0.92 - ETA: 4s - loss: 0.1853 - accuracy: 0.93 - ETA: 3s - loss: 0.1799 - accuracy: 0.94 - ETA: 3s - loss: 0.1961 - accuracy: 0.93 - ETA: 3s - loss: 0.1910 - accuracy: 0.93 - ETA: 3s - loss: 0.1868 - accuracy: 0.93 - ETA: 3s - loss: 0.1872 - accuracy: 0.93 - ETA: 3s - loss: 0.1933 - accuracy: 0.93 - ETA: 3s - loss: 0.1905 - accuracy: 0.93 - ETA: 3s - loss: 0.1846 - accuracy: 0.94 - ETA: 3s - loss: 0.1807 - accuracy: 0.94 - ETA: 3s - loss: 0.1728 - accuracy: 0.94 - ETA: 3s - loss: 0.1697 - accuracy: 0.94 - ETA: 3s - loss: 0.1697 - accuracy: 0.94 - ETA: 2s - loss: 0.1791 - accuracy: 0.94 - ETA: 2s - loss: 0.1830 - accuracy: 0.93 - ETA: 2s - loss: 0.1821 - accuracy: 0.93 - ETA: 2s - loss: 0.1899 - accuracy: 0.93 - ETA: 2s - loss: 0.1886 - accuracy: 0.93 - ETA: 2s - loss: 0.1901 - accuracy: 0.93 - ETA: 2s - loss: 0.1924 - accuracy: 0.93 - ETA: 2s - loss: 0.1915 - accuracy: 0.93 - ETA: 2s - loss: 0.1917 - accuracy: 0.93 - ETA: 2s - loss: 0.1936 - accuracy: 0.93 - ETA: 2s - loss: 0.1945 - accuracy: 0.93 - ETA: 2s - loss: 0.1941 - accuracy: 0.93 - ETA: 2s - loss: 0.1954 - accuracy: 0.93 - ETA: 2s - loss: 0.1957 - accuracy: 0.93 - ETA: 2s - loss: 0.2002 - accuracy: 0.93 - ETA: 1s - loss: 0.1999 - accuracy: 0.93 - ETA: 1s - loss: 0.1998 - accuracy: 0.93 - ETA: 1s - loss: 0.1985 - accuracy: 0.93 - ETA: 1s - loss: 0.2010 - accuracy: 0.93 - ETA: 1s - loss: 0.2036 - accuracy: 0.93 - ETA: 1s - loss: 0.2049 - accuracy: 0.92 - ETA: 1s - loss: 0.2040 - accuracy: 0.93 - ETA: 1s - loss: 0.2065 - accuracy: 0.92 - ETA: 1s - loss: 0.2051 - accuracy: 0.92 - ETA: 1s - loss: 0.2058 - accuracy: 0.92 - ETA: 1s - loss: 0.2041 - accuracy: 0.92 - ETA: 1s - loss: 0.2075 - accuracy: 0.92 - ETA: 1s - loss: 0.2079 - accuracy: 0.92 - ETA: 1s - loss: 0.2069 - accuracy: 0.92 - ETA: 1s - loss: 0.2080 - accuracy: 0.92 - ETA: 0s - loss: 0.2063 - accuracy: 0.92 - ETA: 0s - loss: 0.2068 - accuracy: 0.92 - ETA: 0s - loss: 0.2084 - accuracy: 0.92 - ETA: 0s - loss: 0.2077 - accuracy: 0.92 - ETA: 0s - loss: 0.2077 - accuracy: 0.92 - ETA: 0s - loss: 0.2056 - accuracy: 0.92 - ETA: 0s - loss: 0.2054 - accuracy: 0.92 - ETA: 0s - loss: 0.2061 - accuracy: 0.92 - ETA: 0s - loss: 0.2077 - accuracy: 0.92 - ETA: 0s - loss: 0.2074 - accuracy: 0.92 - ETA: 0s - loss: 0.2064 - accuracy: 0.92 - ETA: 0s - loss: 0.2063 - accuracy: 0.92 - ETA: 0s - loss: 0.2058 - accuracy: 0.92 - ETA: 0s - loss: 0.2065 - accuracy: 0.92 - ETA: 0s - loss: 0.2080 - accuracy: 0.92 - 4s 35ms/step - loss: 0.2079 - accuracy: 0.9252 - val_loss: 0.5566 - val_accuracy: 0.7758\n"
     ]
    },
    {
     "name": "stdout",
     "output_type": "stream",
     "text": [
      "Epoch 20/1000\n",
      "125/125 [==============================] - ETA: 7s - loss: 0.2149 - accuracy: 0.93 - ETA: 4s - loss: 0.2269 - accuracy: 0.91 - ETA: 4s - loss: 0.1809 - accuracy: 0.93 - ETA: 4s - loss: 0.1898 - accuracy: 0.92 - ETA: 4s - loss: 0.1755 - accuracy: 0.94 - ETA: 3s - loss: 0.1731 - accuracy: 0.94 - ETA: 3s - loss: 0.1988 - accuracy: 0.93 - ETA: 3s - loss: 0.1958 - accuracy: 0.93 - ETA: 3s - loss: 0.1909 - accuracy: 0.93 - ETA: 3s - loss: 0.1989 - accuracy: 0.93 - ETA: 3s - loss: 0.2036 - accuracy: 0.93 - ETA: 3s - loss: 0.2011 - accuracy: 0.93 - ETA: 3s - loss: 0.1948 - accuracy: 0.93 - ETA: 3s - loss: 0.1911 - accuracy: 0.93 - ETA: 3s - loss: 0.1838 - accuracy: 0.93 - ETA: 3s - loss: 0.1809 - accuracy: 0.93 - ETA: 3s - loss: 0.1799 - accuracy: 0.93 - ETA: 2s - loss: 0.1826 - accuracy: 0.93 - ETA: 2s - loss: 0.1827 - accuracy: 0.93 - ETA: 2s - loss: 0.1827 - accuracy: 0.93 - ETA: 2s - loss: 0.1863 - accuracy: 0.93 - ETA: 2s - loss: 0.1818 - accuracy: 0.93 - ETA: 2s - loss: 0.1856 - accuracy: 0.93 - ETA: 2s - loss: 0.1856 - accuracy: 0.93 - ETA: 2s - loss: 0.1829 - accuracy: 0.93 - ETA: 2s - loss: 0.1827 - accuracy: 0.93 - ETA: 2s - loss: 0.1807 - accuracy: 0.93 - ETA: 2s - loss: 0.1800 - accuracy: 0.93 - ETA: 2s - loss: 0.1790 - accuracy: 0.93 - ETA: 2s - loss: 0.1807 - accuracy: 0.93 - ETA: 2s - loss: 0.1813 - accuracy: 0.93 - ETA: 2s - loss: 0.1808 - accuracy: 0.93 - ETA: 1s - loss: 0.1799 - accuracy: 0.93 - ETA: 1s - loss: 0.1811 - accuracy: 0.93 - ETA: 1s - loss: 0.1799 - accuracy: 0.93 - ETA: 1s - loss: 0.1817 - accuracy: 0.93 - ETA: 1s - loss: 0.1834 - accuracy: 0.93 - ETA: 1s - loss: 0.1852 - accuracy: 0.93 - ETA: 1s - loss: 0.1834 - accuracy: 0.93 - ETA: 1s - loss: 0.1861 - accuracy: 0.93 - ETA: 1s - loss: 0.1847 - accuracy: 0.93 - ETA: 1s - loss: 0.1863 - accuracy: 0.93 - ETA: 1s - loss: 0.1842 - accuracy: 0.93 - ETA: 1s - loss: 0.1875 - accuracy: 0.93 - ETA: 1s - loss: 0.1874 - accuracy: 0.93 - ETA: 1s - loss: 0.1866 - accuracy: 0.93 - ETA: 1s - loss: 0.1881 - accuracy: 0.93 - ETA: 0s - loss: 0.1875 - accuracy: 0.93 - ETA: 0s - loss: 0.1876 - accuracy: 0.93 - ETA: 0s - loss: 0.1883 - accuracy: 0.93 - ETA: 0s - loss: 0.1882 - accuracy: 0.93 - ETA: 0s - loss: 0.1883 - accuracy: 0.93 - ETA: 0s - loss: 0.1864 - accuracy: 0.93 - ETA: 0s - loss: 0.1872 - accuracy: 0.93 - ETA: 0s - loss: 0.1867 - accuracy: 0.93 - ETA: 0s - loss: 0.1883 - accuracy: 0.93 - ETA: 0s - loss: 0.1877 - accuracy: 0.93 - ETA: 0s - loss: 0.1871 - accuracy: 0.93 - ETA: 0s - loss: 0.1877 - accuracy: 0.93 - ETA: 0s - loss: 0.1862 - accuracy: 0.93 - ETA: 0s - loss: 0.1871 - accuracy: 0.93 - ETA: 0s - loss: 0.1864 - accuracy: 0.93 - 4s 36ms/step - loss: 0.1865 - accuracy: 0.9317 - val_loss: 0.3242 - val_accuracy: 0.8669\n",
      "Epoch 21/1000\n",
      "125/125 [==============================] - ETA: 6s - loss: 0.2455 - accuracy: 0.87 - ETA: 4s - loss: 0.2331 - accuracy: 0.90 - ETA: 4s - loss: 0.1772 - accuracy: 0.92 - ETA: 4s - loss: 0.1844 - accuracy: 0.91 - ETA: 4s - loss: 0.1612 - accuracy: 0.93 - ETA: 3s - loss: 0.1608 - accuracy: 0.93 - ETA: 3s - loss: 0.1751 - accuracy: 0.93 - ETA: 3s - loss: 0.1708 - accuracy: 0.93 - ETA: 3s - loss: 0.1699 - accuracy: 0.93 - ETA: 3s - loss: 0.1775 - accuracy: 0.93 - ETA: 3s - loss: 0.1809 - accuracy: 0.93 - ETA: 3s - loss: 0.1768 - accuracy: 0.93 - ETA: 3s - loss: 0.1687 - accuracy: 0.94 - ETA: 3s - loss: 0.1674 - accuracy: 0.94 - ETA: 3s - loss: 0.1605 - accuracy: 0.94 - ETA: 3s - loss: 0.1578 - accuracy: 0.94 - ETA: 3s - loss: 0.1557 - accuracy: 0.94 - ETA: 3s - loss: 0.1606 - accuracy: 0.94 - ETA: 2s - loss: 0.1609 - accuracy: 0.94 - ETA: 2s - loss: 0.1606 - accuracy: 0.94 - ETA: 2s - loss: 0.1655 - accuracy: 0.93 - ETA: 2s - loss: 0.1624 - accuracy: 0.94 - ETA: 2s - loss: 0.1675 - accuracy: 0.94 - ETA: 2s - loss: 0.1681 - accuracy: 0.93 - ETA: 2s - loss: 0.1657 - accuracy: 0.94 - ETA: 2s - loss: 0.1674 - accuracy: 0.93 - ETA: 2s - loss: 0.1666 - accuracy: 0.93 - ETA: 2s - loss: 0.1655 - accuracy: 0.93 - ETA: 2s - loss: 0.1651 - accuracy: 0.93 - ETA: 2s - loss: 0.1668 - accuracy: 0.93 - ETA: 2s - loss: 0.1670 - accuracy: 0.93 - ETA: 2s - loss: 0.1685 - accuracy: 0.93 - ETA: 2s - loss: 0.1687 - accuracy: 0.93 - ETA: 1s - loss: 0.1685 - accuracy: 0.93 - ETA: 1s - loss: 0.1661 - accuracy: 0.93 - ETA: 1s - loss: 0.1686 - accuracy: 0.93 - ETA: 1s - loss: 0.1703 - accuracy: 0.93 - ETA: 1s - loss: 0.1703 - accuracy: 0.93 - ETA: 1s - loss: 0.1681 - accuracy: 0.93 - ETA: 1s - loss: 0.1696 - accuracy: 0.93 - ETA: 1s - loss: 0.1693 - accuracy: 0.93 - ETA: 1s - loss: 0.1728 - accuracy: 0.93 - ETA: 1s - loss: 0.1730 - accuracy: 0.93 - ETA: 1s - loss: 0.1775 - accuracy: 0.93 - ETA: 1s - loss: 0.1783 - accuracy: 0.93 - ETA: 1s - loss: 0.1794 - accuracy: 0.93 - ETA: 1s - loss: 0.1813 - accuracy: 0.93 - ETA: 1s - loss: 0.1815 - accuracy: 0.93 - ETA: 0s - loss: 0.1827 - accuracy: 0.93 - ETA: 0s - loss: 0.1835 - accuracy: 0.93 - ETA: 0s - loss: 0.1838 - accuracy: 0.93 - ETA: 0s - loss: 0.1840 - accuracy: 0.93 - ETA: 0s - loss: 0.1822 - accuracy: 0.93 - ETA: 0s - loss: 0.1821 - accuracy: 0.93 - ETA: 0s - loss: 0.1829 - accuracy: 0.93 - ETA: 0s - loss: 0.1843 - accuracy: 0.92 - ETA: 0s - loss: 0.1837 - accuracy: 0.93 - ETA: 0s - loss: 0.1830 - accuracy: 0.93 - ETA: 0s - loss: 0.1834 - accuracy: 0.93 - ETA: 0s - loss: 0.1817 - accuracy: 0.93 - ETA: 0s - loss: 0.1825 - accuracy: 0.93 - ETA: 0s - loss: 0.1811 - accuracy: 0.93 - 5s 37ms/step - loss: 0.1815 - accuracy: 0.9309 - val_loss: 0.2702 - val_accuracy: 0.9039\n",
      "Epoch 22/1000\n",
      "125/125 [==============================] - ETA: 7s - loss: 0.1867 - accuracy: 0.93 - ETA: 4s - loss: 0.2047 - accuracy: 0.91 - ETA: 4s - loss: 0.1655 - accuracy: 0.93 - ETA: 4s - loss: 0.1879 - accuracy: 0.91 - ETA: 4s - loss: 0.1714 - accuracy: 0.93 - ETA: 4s - loss: 0.1707 - accuracy: 0.93 - ETA: 3s - loss: 0.1840 - accuracy: 0.93 - ETA: 3s - loss: 0.1770 - accuracy: 0.93 - ETA: 3s - loss: 0.1758 - accuracy: 0.93 - ETA: 3s - loss: 0.1784 - accuracy: 0.93 - ETA: 3s - loss: 0.1806 - accuracy: 0.93 - ETA: 3s - loss: 0.1773 - accuracy: 0.93 - ETA: 3s - loss: 0.1705 - accuracy: 0.94 - ETA: 3s - loss: 0.1669 - accuracy: 0.94 - ETA: 3s - loss: 0.1595 - accuracy: 0.94 - ETA: 3s - loss: 0.1634 - accuracy: 0.94 - ETA: 3s - loss: 0.1635 - accuracy: 0.94 - ETA: 3s - loss: 0.1675 - accuracy: 0.94 - ETA: 2s - loss: 0.1694 - accuracy: 0.94 - ETA: 2s - loss: 0.1679 - accuracy: 0.94 - ETA: 2s - loss: 0.1726 - accuracy: 0.93 - ETA: 2s - loss: 0.1684 - accuracy: 0.94 - ETA: 2s - loss: 0.1724 - accuracy: 0.94 - ETA: 2s - loss: 0.1729 - accuracy: 0.94 - ETA: 2s - loss: 0.1703 - accuracy: 0.94 - ETA: 2s - loss: 0.1722 - accuracy: 0.94 - ETA: 2s - loss: 0.1722 - accuracy: 0.94 - ETA: 2s - loss: 0.1727 - accuracy: 0.94 - ETA: 2s - loss: 0.1727 - accuracy: 0.94 - ETA: 2s - loss: 0.1738 - accuracy: 0.94 - ETA: 2s - loss: 0.1747 - accuracy: 0.93 - ETA: 2s - loss: 0.1733 - accuracy: 0.94 - ETA: 2s - loss: 0.1733 - accuracy: 0.94 - ETA: 1s - loss: 0.1728 - accuracy: 0.94 - ETA: 1s - loss: 0.1728 - accuracy: 0.94 - ETA: 1s - loss: 0.1740 - accuracy: 0.93 - ETA: 1s - loss: 0.1754 - accuracy: 0.93 - ETA: 1s - loss: 0.1761 - accuracy: 0.93 - ETA: 1s - loss: 0.1731 - accuracy: 0.93 - ETA: 1s - loss: 0.1733 - accuracy: 0.93 - ETA: 1s - loss: 0.1717 - accuracy: 0.94 - ETA: 1s - loss: 0.1717 - accuracy: 0.94 - ETA: 1s - loss: 0.1701 - accuracy: 0.94 - ETA: 1s - loss: 0.1744 - accuracy: 0.94 - ETA: 1s - loss: 0.1746 - accuracy: 0.94 - ETA: 1s - loss: 0.1735 - accuracy: 0.94 - ETA: 1s - loss: 0.1772 - accuracy: 0.93 - ETA: 1s - loss: 0.1770 - accuracy: 0.93 - ETA: 0s - loss: 0.1777 - accuracy: 0.93 - ETA: 0s - loss: 0.1807 - accuracy: 0.93 - ETA: 0s - loss: 0.1806 - accuracy: 0.93 - ETA: 0s - loss: 0.1804 - accuracy: 0.93 - ETA: 0s - loss: 0.1791 - accuracy: 0.93 - ETA: 0s - loss: 0.1789 - accuracy: 0.93 - ETA: 0s - loss: 0.1789 - accuracy: 0.93 - ETA: 0s - loss: 0.1809 - accuracy: 0.93 - ETA: 0s - loss: 0.1803 - accuracy: 0.93 - ETA: 0s - loss: 0.1799 - accuracy: 0.93 - ETA: 0s - loss: 0.1801 - accuracy: 0.93 - ETA: 0s - loss: 0.1794 - accuracy: 0.93 - ETA: 0s - loss: 0.1794 - accuracy: 0.93 - ETA: 0s - loss: 0.1796 - accuracy: 0.93 - 5s 37ms/step - loss: 0.1802 - accuracy: 0.9365 - val_loss: 0.3767 - val_accuracy: 0.8268\n"
     ]
    },
    {
     "name": "stdout",
     "output_type": "stream",
     "text": [
      "Epoch 23/1000\n",
      "125/125 [==============================] - ETA: 7s - loss: 0.2818 - accuracy: 0.87 - ETA: 4s - loss: 0.2243 - accuracy: 0.90 - ETA: 4s - loss: 0.1741 - accuracy: 0.92 - ETA: 4s - loss: 0.1897 - accuracy: 0.91 - ETA: 4s - loss: 0.1749 - accuracy: 0.93 - ETA: 3s - loss: 0.1693 - accuracy: 0.93 - ETA: 3s - loss: 0.1842 - accuracy: 0.93 - ETA: 3s - loss: 0.1779 - accuracy: 0.93 - ETA: 3s - loss: 0.1734 - accuracy: 0.93 - ETA: 3s - loss: 0.1793 - accuracy: 0.93 - ETA: 3s - loss: 0.1824 - accuracy: 0.93 - ETA: 3s - loss: 0.1793 - accuracy: 0.93 - ETA: 3s - loss: 0.1717 - accuracy: 0.93 - ETA: 3s - loss: 0.1680 - accuracy: 0.93 - ETA: 3s - loss: 0.1603 - accuracy: 0.94 - ETA: 3s - loss: 0.1548 - accuracy: 0.94 - ETA: 3s - loss: 0.1545 - accuracy: 0.94 - ETA: 2s - loss: 0.1590 - accuracy: 0.94 - ETA: 2s - loss: 0.1591 - accuracy: 0.94 - ETA: 2s - loss: 0.1596 - accuracy: 0.94 - ETA: 2s - loss: 0.1623 - accuracy: 0.94 - ETA: 2s - loss: 0.1583 - accuracy: 0.94 - ETA: 2s - loss: 0.1624 - accuracy: 0.94 - ETA: 2s - loss: 0.1628 - accuracy: 0.94 - ETA: 2s - loss: 0.1599 - accuracy: 0.94 - ETA: 2s - loss: 0.1616 - accuracy: 0.94 - ETA: 2s - loss: 0.1611 - accuracy: 0.94 - ETA: 2s - loss: 0.1611 - accuracy: 0.94 - ETA: 2s - loss: 0.1613 - accuracy: 0.94 - ETA: 2s - loss: 0.1614 - accuracy: 0.94 - ETA: 2s - loss: 0.1622 - accuracy: 0.94 - ETA: 2s - loss: 0.1601 - accuracy: 0.94 - ETA: 1s - loss: 0.1598 - accuracy: 0.94 - ETA: 1s - loss: 0.1591 - accuracy: 0.94 - ETA: 1s - loss: 0.1571 - accuracy: 0.94 - ETA: 1s - loss: 0.1594 - accuracy: 0.94 - ETA: 1s - loss: 0.1604 - accuracy: 0.94 - ETA: 1s - loss: 0.1615 - accuracy: 0.94 - ETA: 1s - loss: 0.1591 - accuracy: 0.94 - ETA: 1s - loss: 0.1605 - accuracy: 0.94 - ETA: 1s - loss: 0.1586 - accuracy: 0.94 - ETA: 1s - loss: 0.1572 - accuracy: 0.94 - ETA: 1s - loss: 0.1565 - accuracy: 0.94 - ETA: 1s - loss: 0.1601 - accuracy: 0.94 - ETA: 1s - loss: 0.1610 - accuracy: 0.94 - ETA: 1s - loss: 0.1604 - accuracy: 0.94 - ETA: 1s - loss: 0.1613 - accuracy: 0.94 - ETA: 0s - loss: 0.1608 - accuracy: 0.94 - ETA: 0s - loss: 0.1616 - accuracy: 0.94 - ETA: 0s - loss: 0.1632 - accuracy: 0.94 - ETA: 0s - loss: 0.1638 - accuracy: 0.94 - ETA: 0s - loss: 0.1636 - accuracy: 0.94 - ETA: 0s - loss: 0.1623 - accuracy: 0.94 - ETA: 0s - loss: 0.1620 - accuracy: 0.94 - ETA: 0s - loss: 0.1631 - accuracy: 0.94 - ETA: 0s - loss: 0.1636 - accuracy: 0.94 - ETA: 0s - loss: 0.1633 - accuracy: 0.94 - ETA: 0s - loss: 0.1626 - accuracy: 0.94 - ETA: 0s - loss: 0.1642 - accuracy: 0.94 - ETA: 0s - loss: 0.1645 - accuracy: 0.94 - ETA: 0s - loss: 0.1645 - accuracy: 0.94 - ETA: 0s - loss: 0.1652 - accuracy: 0.93 - 4s 36ms/step - loss: 0.1650 - accuracy: 0.9395 - val_loss: 0.4267 - val_accuracy: 0.7988\n",
      "Epoch 24/1000\n",
      "125/125 [==============================] - ETA: 7s - loss: 0.2068 - accuracy: 0.90 - ETA: 5s - loss: 0.2055 - accuracy: 0.90 - ETA: 4s - loss: 0.1745 - accuracy: 0.91 - ETA: 4s - loss: 0.1907 - accuracy: 0.91 - ETA: 4s - loss: 0.1679 - accuracy: 0.93 - ETA: 4s - loss: 0.1654 - accuracy: 0.93 - ETA: 3s - loss: 0.1739 - accuracy: 0.93 - ETA: 3s - loss: 0.1660 - accuracy: 0.93 - ETA: 3s - loss: 0.1621 - accuracy: 0.93 - ETA: 3s - loss: 0.1699 - accuracy: 0.93 - ETA: 3s - loss: 0.1713 - accuracy: 0.93 - ETA: 3s - loss: 0.1684 - accuracy: 0.93 - ETA: 3s - loss: 0.1608 - accuracy: 0.93 - ETA: 3s - loss: 0.1555 - accuracy: 0.93 - ETA: 3s - loss: 0.1482 - accuracy: 0.94 - ETA: 3s - loss: 0.1451 - accuracy: 0.94 - ETA: 3s - loss: 0.1470 - accuracy: 0.94 - ETA: 3s - loss: 0.1456 - accuracy: 0.94 - ETA: 3s - loss: 0.1496 - accuracy: 0.94 - ETA: 2s - loss: 0.1484 - accuracy: 0.94 - ETA: 2s - loss: 0.1530 - accuracy: 0.94 - ETA: 2s - loss: 0.1493 - accuracy: 0.94 - ETA: 2s - loss: 0.1542 - accuracy: 0.94 - ETA: 2s - loss: 0.1555 - accuracy: 0.94 - ETA: 2s - loss: 0.1533 - accuracy: 0.94 - ETA: 2s - loss: 0.1541 - accuracy: 0.94 - ETA: 2s - loss: 0.1534 - accuracy: 0.94 - ETA: 2s - loss: 0.1529 - accuracy: 0.94 - ETA: 2s - loss: 0.1520 - accuracy: 0.94 - ETA: 2s - loss: 0.1528 - accuracy: 0.94 - ETA: 2s - loss: 0.1573 - accuracy: 0.94 - ETA: 2s - loss: 0.1548 - accuracy: 0.94 - ETA: 2s - loss: 0.1581 - accuracy: 0.94 - ETA: 1s - loss: 0.1587 - accuracy: 0.94 - ETA: 1s - loss: 0.1565 - accuracy: 0.94 - ETA: 1s - loss: 0.1592 - accuracy: 0.94 - ETA: 1s - loss: 0.1619 - accuracy: 0.93 - ETA: 1s - loss: 0.1638 - accuracy: 0.93 - ETA: 1s - loss: 0.1619 - accuracy: 0.94 - ETA: 1s - loss: 0.1625 - accuracy: 0.94 - ETA: 1s - loss: 0.1613 - accuracy: 0.94 - ETA: 1s - loss: 0.1599 - accuracy: 0.94 - ETA: 1s - loss: 0.1586 - accuracy: 0.94 - ETA: 1s - loss: 0.1622 - accuracy: 0.93 - ETA: 1s - loss: 0.1637 - accuracy: 0.93 - ETA: 1s - loss: 0.1633 - accuracy: 0.94 - ETA: 1s - loss: 0.1647 - accuracy: 0.93 - ETA: 0s - loss: 0.1639 - accuracy: 0.93 - ETA: 0s - loss: 0.1640 - accuracy: 0.93 - ETA: 0s - loss: 0.1653 - accuracy: 0.93 - ETA: 0s - loss: 0.1638 - accuracy: 0.94 - ETA: 0s - loss: 0.1635 - accuracy: 0.94 - ETA: 0s - loss: 0.1620 - accuracy: 0.94 - ETA: 0s - loss: 0.1627 - accuracy: 0.94 - ETA: 0s - loss: 0.1647 - accuracy: 0.94 - ETA: 0s - loss: 0.1645 - accuracy: 0.94 - ETA: 0s - loss: 0.1641 - accuracy: 0.94 - ETA: 0s - loss: 0.1634 - accuracy: 0.94 - ETA: 0s - loss: 0.1639 - accuracy: 0.94 - ETA: 0s - loss: 0.1634 - accuracy: 0.94 - ETA: 0s - loss: 0.1637 - accuracy: 0.94 - ETA: 0s - loss: 0.1628 - accuracy: 0.94 - 4s 36ms/step - loss: 0.1626 - accuracy: 0.9412 - val_loss: 0.2491 - val_accuracy: 0.9049\n",
      "Epoch 25/1000\n",
      "125/125 [==============================] - ETA: 6s - loss: 0.1799 - accuracy: 0.93 - ETA: 4s - loss: 0.1829 - accuracy: 0.90 - ETA: 4s - loss: 0.1510 - accuracy: 0.93 - ETA: 4s - loss: 0.1682 - accuracy: 0.93 - ETA: 4s - loss: 0.1535 - accuracy: 0.93 - ETA: 3s - loss: 0.1486 - accuracy: 0.94 - ETA: 3s - loss: 0.1594 - accuracy: 0.94 - ETA: 3s - loss: 0.1538 - accuracy: 0.94 - ETA: 3s - loss: 0.1501 - accuracy: 0.94 - ETA: 3s - loss: 0.1533 - accuracy: 0.94 - ETA: 3s - loss: 0.1557 - accuracy: 0.94 - ETA: 3s - loss: 0.1548 - accuracy: 0.94 - ETA: 3s - loss: 0.1503 - accuracy: 0.94 - ETA: 3s - loss: 0.1480 - accuracy: 0.94 - ETA: 3s - loss: 0.1420 - accuracy: 0.94 - ETA: 3s - loss: 0.1375 - accuracy: 0.94 - ETA: 3s - loss: 0.1836 - accuracy: 0.95 - ETA: 2s - loss: 0.1866 - accuracy: 0.94 - ETA: 2s - loss: 0.1873 - accuracy: 0.94 - ETA: 2s - loss: 0.1849 - accuracy: 0.94 - ETA: 2s - loss: 0.1859 - accuracy: 0.94 - ETA: 2s - loss: 0.1800 - accuracy: 0.94 - ETA: 2s - loss: 0.1828 - accuracy: 0.94 - ETA: 2s - loss: 0.1824 - accuracy: 0.94 - ETA: 2s - loss: 0.1817 - accuracy: 0.94 - ETA: 2s - loss: 0.1828 - accuracy: 0.94 - ETA: 2s - loss: 0.1815 - accuracy: 0.94 - ETA: 2s - loss: 0.1797 - accuracy: 0.94 - ETA: 2s - loss: 0.1785 - accuracy: 0.94 - ETA: 2s - loss: 0.1780 - accuracy: 0.94 - ETA: 2s - loss: 0.1783 - accuracy: 0.94 - ETA: 2s - loss: 0.1774 - accuracy: 0.94 - ETA: 1s - loss: 0.1770 - accuracy: 0.94 - ETA: 1s - loss: 0.1772 - accuracy: 0.94 - ETA: 1s - loss: 0.1750 - accuracy: 0.94 - ETA: 1s - loss: 0.1767 - accuracy: 0.94 - ETA: 1s - loss: 0.1774 - accuracy: 0.94 - ETA: 1s - loss: 0.1789 - accuracy: 0.94 - ETA: 1s - loss: 0.1760 - accuracy: 0.94 - ETA: 1s - loss: 0.1760 - accuracy: 0.94 - ETA: 1s - loss: 0.1738 - accuracy: 0.94 - ETA: 1s - loss: 0.1731 - accuracy: 0.94 - ETA: 1s - loss: 0.1705 - accuracy: 0.94 - ETA: 1s - loss: 0.1731 - accuracy: 0.94 - ETA: 1s - loss: 0.1746 - accuracy: 0.94 - ETA: 1s - loss: 0.1733 - accuracy: 0.94 - ETA: 1s - loss: 0.1751 - accuracy: 0.94 - ETA: 0s - loss: 0.1747 - accuracy: 0.94 - ETA: 0s - loss: 0.1748 - accuracy: 0.94 - ETA: 0s - loss: 0.1775 - accuracy: 0.94 - ETA: 0s - loss: 0.1773 - accuracy: 0.94 - ETA: 0s - loss: 0.1789 - accuracy: 0.94 - ETA: 0s - loss: 0.1772 - accuracy: 0.94 - ETA: 0s - loss: 0.1782 - accuracy: 0.94 - ETA: 0s - loss: 0.1786 - accuracy: 0.94 - ETA: 0s - loss: 0.1787 - accuracy: 0.94 - ETA: 0s - loss: 0.1783 - accuracy: 0.94 - ETA: 0s - loss: 0.1778 - accuracy: 0.94 - ETA: 0s - loss: 0.1787 - accuracy: 0.94 - ETA: 0s - loss: 0.1785 - accuracy: 0.93 - ETA: 0s - loss: 0.1791 - accuracy: 0.93 - ETA: 0s - loss: 0.1782 - accuracy: 0.93 - 4s 36ms/step - loss: 0.1779 - accuracy: 0.9387 - val_loss: 0.2736 - val_accuracy: 0.8849\n"
     ]
    },
    {
     "name": "stdout",
     "output_type": "stream",
     "text": [
      "Epoch 26/1000\n",
      "125/125 [==============================] - ETA: 6s - loss: 0.2930 - accuracy: 0.84 - ETA: 4s - loss: 0.2229 - accuracy: 0.90 - ETA: 4s - loss: 0.1732 - accuracy: 0.93 - ETA: 4s - loss: 0.1886 - accuracy: 0.92 - ETA: 4s - loss: 0.1661 - accuracy: 0.93 - ETA: 4s - loss: 0.1626 - accuracy: 0.93 - ETA: 3s - loss: 0.1752 - accuracy: 0.93 - ETA: 3s - loss: 0.1683 - accuracy: 0.93 - ETA: 3s - loss: 0.1625 - accuracy: 0.93 - ETA: 3s - loss: 0.1681 - accuracy: 0.93 - ETA: 3s - loss: 0.1728 - accuracy: 0.93 - ETA: 3s - loss: 0.1708 - accuracy: 0.93 - ETA: 3s - loss: 0.1649 - accuracy: 0.94 - ETA: 3s - loss: 0.1617 - accuracy: 0.94 - ETA: 3s - loss: 0.1549 - accuracy: 0.94 - ETA: 3s - loss: 0.1514 - accuracy: 0.94 - ETA: 3s - loss: 0.1533 - accuracy: 0.94 - ETA: 3s - loss: 0.1516 - accuracy: 0.94 - ETA: 2s - loss: 0.1515 - accuracy: 0.94 - ETA: 2s - loss: 0.1501 - accuracy: 0.94 - ETA: 2s - loss: 0.1522 - accuracy: 0.94 - ETA: 2s - loss: 0.1482 - accuracy: 0.94 - ETA: 2s - loss: 0.1541 - accuracy: 0.94 - ETA: 2s - loss: 0.1560 - accuracy: 0.94 - ETA: 2s - loss: 0.1528 - accuracy: 0.94 - ETA: 2s - loss: 0.1533 - accuracy: 0.94 - ETA: 2s - loss: 0.1527 - accuracy: 0.94 - ETA: 2s - loss: 0.1518 - accuracy: 0.94 - ETA: 2s - loss: 0.1509 - accuracy: 0.94 - ETA: 2s - loss: 0.1507 - accuracy: 0.94 - ETA: 2s - loss: 0.1516 - accuracy: 0.94 - ETA: 2s - loss: 0.1509 - accuracy: 0.94 - ETA: 2s - loss: 0.1500 - accuracy: 0.94 - ETA: 2s - loss: 0.1496 - accuracy: 0.94 - ETA: 1s - loss: 0.1483 - accuracy: 0.94 - ETA: 1s - loss: 0.1504 - accuracy: 0.94 - ETA: 1s - loss: 0.1507 - accuracy: 0.94 - ETA: 1s - loss: 0.1508 - accuracy: 0.94 - ETA: 1s - loss: 0.1484 - accuracy: 0.94 - ETA: 1s - loss: 0.1492 - accuracy: 0.94 - ETA: 1s - loss: 0.1480 - accuracy: 0.94 - ETA: 1s - loss: 0.1458 - accuracy: 0.94 - ETA: 1s - loss: 0.1457 - accuracy: 0.94 - ETA: 1s - loss: 0.1487 - accuracy: 0.94 - ETA: 1s - loss: 0.1497 - accuracy: 0.94 - ETA: 1s - loss: 0.1498 - accuracy: 0.94 - ETA: 1s - loss: 0.1515 - accuracy: 0.94 - ETA: 1s - loss: 0.1510 - accuracy: 0.94 - ETA: 0s - loss: 0.1521 - accuracy: 0.94 - ETA: 0s - loss: 0.1545 - accuracy: 0.94 - ETA: 0s - loss: 0.1558 - accuracy: 0.94 - ETA: 0s - loss: 0.1562 - accuracy: 0.94 - ETA: 0s - loss: 0.1553 - accuracy: 0.94 - ETA: 0s - loss: 0.1556 - accuracy: 0.94 - ETA: 0s - loss: 0.1557 - accuracy: 0.94 - ETA: 0s - loss: 0.1549 - accuracy: 0.94 - ETA: 0s - loss: 0.1556 - accuracy: 0.94 - ETA: 0s - loss: 0.1549 - accuracy: 0.94 - ETA: 0s - loss: 0.1558 - accuracy: 0.94 - ETA: 0s - loss: 0.1542 - accuracy: 0.94 - ETA: 0s - loss: 0.1551 - accuracy: 0.94 - ETA: 0s - loss: 0.1541 - accuracy: 0.94 - 5s 37ms/step - loss: 0.1541 - accuracy: 0.9455 - val_loss: 0.3064 - val_accuracy: 0.8889\n",
      "Epoch 27/1000\n",
      "125/125 [==============================] - ETA: 7s - loss: 0.2034 - accuracy: 0.87 - ETA: 5s - loss: 0.1770 - accuracy: 0.90 - ETA: 4s - loss: 0.1383 - accuracy: 0.93 - ETA: 4s - loss: 0.1533 - accuracy: 0.92 - ETA: 4s - loss: 0.1397 - accuracy: 0.93 - ETA: 4s - loss: 0.1376 - accuracy: 0.93 - ETA: 3s - loss: 0.1600 - accuracy: 0.93 - ETA: 3s - loss: 0.1536 - accuracy: 0.93 - ETA: 3s - loss: 0.1530 - accuracy: 0.94 - ETA: 3s - loss: 0.1589 - accuracy: 0.93 - ETA: 3s - loss: 0.1649 - accuracy: 0.93 - ETA: 3s - loss: 0.1625 - accuracy: 0.93 - ETA: 3s - loss: 0.1552 - accuracy: 0.94 - ETA: 3s - loss: 0.1538 - accuracy: 0.94 - ETA: 3s - loss: 0.1467 - accuracy: 0.94 - ETA: 3s - loss: 0.1435 - accuracy: 0.94 - ETA: 3s - loss: 0.1402 - accuracy: 0.94 - ETA: 3s - loss: 0.1434 - accuracy: 0.94 - ETA: 2s - loss: 0.1450 - accuracy: 0.94 - ETA: 2s - loss: 0.1445 - accuracy: 0.94 - ETA: 2s - loss: 0.1473 - accuracy: 0.94 - ETA: 2s - loss: 0.1430 - accuracy: 0.94 - ETA: 2s - loss: 0.1473 - accuracy: 0.94 - ETA: 2s - loss: 0.1487 - accuracy: 0.94 - ETA: 2s - loss: 0.1470 - accuracy: 0.94 - ETA: 2s - loss: 0.1471 - accuracy: 0.94 - ETA: 2s - loss: 0.1467 - accuracy: 0.94 - ETA: 2s - loss: 0.1465 - accuracy: 0.94 - ETA: 2s - loss: 0.1463 - accuracy: 0.94 - ETA: 2s - loss: 0.1473 - accuracy: 0.94 - ETA: 2s - loss: 0.1471 - accuracy: 0.94 - ETA: 2s - loss: 0.1465 - accuracy: 0.94 - ETA: 2s - loss: 0.1474 - accuracy: 0.94 - ETA: 1s - loss: 0.1472 - accuracy: 0.94 - ETA: 1s - loss: 0.1455 - accuracy: 0.94 - ETA: 1s - loss: 0.1470 - accuracy: 0.94 - ETA: 1s - loss: 0.1467 - accuracy: 0.94 - ETA: 1s - loss: 0.1474 - accuracy: 0.94 - ETA: 1s - loss: 0.1448 - accuracy: 0.94 - ETA: 1s - loss: 0.1452 - accuracy: 0.94 - ETA: 1s - loss: 0.1429 - accuracy: 0.94 - ETA: 1s - loss: 0.1409 - accuracy: 0.94 - ETA: 1s - loss: 0.1401 - accuracy: 0.94 - ETA: 1s - loss: 0.1421 - accuracy: 0.94 - ETA: 1s - loss: 0.1431 - accuracy: 0.94 - ETA: 1s - loss: 0.1426 - accuracy: 0.94 - ETA: 1s - loss: 0.1429 - accuracy: 0.94 - ETA: 1s - loss: 0.1428 - accuracy: 0.94 - ETA: 0s - loss: 0.1423 - accuracy: 0.94 - ETA: 0s - loss: 0.1447 - accuracy: 0.94 - ETA: 0s - loss: 0.1445 - accuracy: 0.94 - ETA: 0s - loss: 0.1452 - accuracy: 0.94 - ETA: 0s - loss: 0.1433 - accuracy: 0.94 - ETA: 0s - loss: 0.1431 - accuracy: 0.94 - ETA: 0s - loss: 0.1449 - accuracy: 0.94 - ETA: 0s - loss: 0.1436 - accuracy: 0.94 - ETA: 0s - loss: 0.1451 - accuracy: 0.94 - ETA: 0s - loss: 0.1441 - accuracy: 0.94 - ETA: 0s - loss: 0.1449 - accuracy: 0.94 - ETA: 0s - loss: 0.1447 - accuracy: 0.94 - ETA: 0s - loss: 0.1457 - accuracy: 0.94 - ETA: 0s - loss: 0.1452 - accuracy: 0.94 - 5s 36ms/step - loss: 0.1453 - accuracy: 0.9472 - val_loss: 0.2728 - val_accuracy: 0.8929\n",
      "Epoch 28/1000\n",
      "125/125 [==============================] - ETA: 6s - loss: 0.1664 - accuracy: 0.93 - ETA: 4s - loss: 0.1651 - accuracy: 0.92 - ETA: 4s - loss: 0.1357 - accuracy: 0.94 - ETA: 4s - loss: 0.1606 - accuracy: 0.93 - ETA: 4s - loss: 0.1397 - accuracy: 0.94 - ETA: 3s - loss: 0.1469 - accuracy: 0.94 - ETA: 3s - loss: 0.1669 - accuracy: 0.93 - ETA: 3s - loss: 0.1606 - accuracy: 0.94 - ETA: 3s - loss: 0.1570 - accuracy: 0.94 - ETA: 3s - loss: 0.1650 - accuracy: 0.94 - ETA: 3s - loss: 0.1651 - accuracy: 0.94 - ETA: 3s - loss: 0.1626 - accuracy: 0.94 - ETA: 3s - loss: 0.1565 - accuracy: 0.94 - ETA: 3s - loss: 0.1532 - accuracy: 0.94 - ETA: 3s - loss: 0.1474 - accuracy: 0.94 - ETA: 3s - loss: 0.1443 - accuracy: 0.95 - ETA: 3s - loss: 0.1447 - accuracy: 0.94 - ETA: 2s - loss: 0.1421 - accuracy: 0.95 - ETA: 2s - loss: 0.1412 - accuracy: 0.95 - ETA: 2s - loss: 0.1415 - accuracy: 0.95 - ETA: 2s - loss: 0.1475 - accuracy: 0.94 - ETA: 2s - loss: 0.1432 - accuracy: 0.95 - ETA: 2s - loss: 0.1467 - accuracy: 0.95 - ETA: 2s - loss: 0.1479 - accuracy: 0.95 - ETA: 2s - loss: 0.1451 - accuracy: 0.95 - ETA: 2s - loss: 0.1470 - accuracy: 0.95 - ETA: 2s - loss: 0.1453 - accuracy: 0.95 - ETA: 2s - loss: 0.1459 - accuracy: 0.95 - ETA: 2s - loss: 0.1464 - accuracy: 0.95 - ETA: 2s - loss: 0.1468 - accuracy: 0.95 - ETA: 2s - loss: 0.1474 - accuracy: 0.94 - ETA: 2s - loss: 0.1463 - accuracy: 0.95 - ETA: 1s - loss: 0.1460 - accuracy: 0.95 - ETA: 1s - loss: 0.1465 - accuracy: 0.94 - ETA: 1s - loss: 0.1449 - accuracy: 0.94 - ETA: 1s - loss: 0.1463 - accuracy: 0.94 - ETA: 1s - loss: 0.1481 - accuracy: 0.94 - ETA: 1s - loss: 0.1505 - accuracy: 0.94 - ETA: 1s - loss: 0.1488 - accuracy: 0.94 - ETA: 1s - loss: 0.1518 - accuracy: 0.94 - ETA: 1s - loss: 0.1507 - accuracy: 0.94 - ETA: 1s - loss: 0.1503 - accuracy: 0.94 - ETA: 1s - loss: 0.1490 - accuracy: 0.94 - ETA: 1s - loss: 0.1519 - accuracy: 0.94 - ETA: 1s - loss: 0.1527 - accuracy: 0.94 - ETA: 1s - loss: 0.1516 - accuracy: 0.94 - ETA: 1s - loss: 0.1526 - accuracy: 0.94 - ETA: 0s - loss: 0.1513 - accuracy: 0.94 - ETA: 0s - loss: 0.1512 - accuracy: 0.94 - ETA: 0s - loss: 0.1523 - accuracy: 0.94 - ETA: 0s - loss: 0.1510 - accuracy: 0.94 - ETA: 0s - loss: 0.1509 - accuracy: 0.94 - ETA: 0s - loss: 0.1489 - accuracy: 0.94 - ETA: 0s - loss: 0.1493 - accuracy: 0.94 - ETA: 0s - loss: 0.1480 - accuracy: 0.94 - ETA: 0s - loss: 0.1487 - accuracy: 0.94 - ETA: 0s - loss: 0.1491 - accuracy: 0.94 - ETA: 0s - loss: 0.1481 - accuracy: 0.94 - ETA: 0s - loss: 0.1485 - accuracy: 0.94 - ETA: 0s - loss: 0.1482 - accuracy: 0.94 - ETA: 0s - loss: 0.1480 - accuracy: 0.94 - ETA: 0s - loss: 0.1475 - accuracy: 0.94 - 5s 36ms/step - loss: 0.1473 - accuracy: 0.9462 - val_loss: 0.2728 - val_accuracy: 0.8999\n"
     ]
    },
    {
     "data": {
      "text/html": [
       "<span style=\"color:#4527A0\"><h1 style=\"font-size:18px\">Trial complete</h1></span>"
      ],
      "text/plain": [
       "<IPython.core.display.HTML object>"
      ]
     },
     "metadata": {},
     "output_type": "display_data"
    },
    {
     "data": {
      "text/html": [
       "<span style=\"color:#4527A0\"><h1 style=\"font-size:18px\">Trial summary</h1></span>"
      ],
      "text/plain": [
       "<IPython.core.display.HTML object>"
      ]
     },
     "metadata": {},
     "output_type": "display_data"
    },
    {
     "data": {
      "text/html": [
       "<span style=\"color:cyan\"> |-Trial ID: bd5957dd36e995680dff70f3cddb5a3c</span>"
      ],
      "text/plain": [
       "<IPython.core.display.HTML object>"
      ]
     },
     "metadata": {},
     "output_type": "display_data"
    },
    {
     "data": {
      "text/html": [
       "<span style=\"color:cyan\"> |-Score: 0.229978765710257</span>"
      ],
      "text/plain": [
       "<IPython.core.display.HTML object>"
      ]
     },
     "metadata": {},
     "output_type": "display_data"
    },
    {
     "data": {
      "text/html": [
       "<span style=\"color:cyan\"> |-Best step: 0</span>"
      ],
      "text/plain": [
       "<IPython.core.display.HTML object>"
      ]
     },
     "metadata": {},
     "output_type": "display_data"
    },
    {
     "data": {
      "text/html": [
       "<span style=\"color:#7E57C2\"><h2 style=\"font-size:16px\">Hyperparameters:</h2></span>"
      ],
      "text/plain": [
       "<IPython.core.display.HTML object>"
      ]
     },
     "metadata": {},
     "output_type": "display_data"
    },
    {
     "data": {
      "text/html": [
       "<span style=\"color:cyan\"> |-classification_head_1/dropout_rate: 0</span>"
      ],
      "text/plain": [
       "<IPython.core.display.HTML object>"
      ]
     },
     "metadata": {},
     "output_type": "display_data"
    },
    {
     "data": {
      "text/html": [
       "<span style=\"color:blue\"> |-dense_block_1/dropout_rate: 0</span>"
      ],
      "text/plain": [
       "<IPython.core.display.HTML object>"
      ]
     },
     "metadata": {},
     "output_type": "display_data"
    },
    {
     "data": {
      "text/html": [
       "<span style=\"color:cyan\"> |-dense_block_1/num_layers: 2</span>"
      ],
      "text/plain": [
       "<IPython.core.display.HTML object>"
      ]
     },
     "metadata": {},
     "output_type": "display_data"
    },
    {
     "data": {
      "text/html": [
       "<span style=\"color:blue\"> |-dense_block_1/units_0: 32</span>"
      ],
      "text/plain": [
       "<IPython.core.display.HTML object>"
      ]
     },
     "metadata": {},
     "output_type": "display_data"
    },
    {
     "data": {
      "text/html": [
       "<span style=\"color:cyan\"> |-dense_block_1/units_1: 32</span>"
      ],
      "text/plain": [
       "<IPython.core.display.HTML object>"
      ]
     },
     "metadata": {},
     "output_type": "display_data"
    },
    {
     "data": {
      "text/html": [
       "<span style=\"color:blue\"> |-dense_block_1/use_batchnorm: False</span>"
      ],
      "text/plain": [
       "<IPython.core.display.HTML object>"
      ]
     },
     "metadata": {},
     "output_type": "display_data"
    },
    {
     "data": {
      "text/html": [
       "<span style=\"color:cyan\"> |-image_block_1/augment: True</span>"
      ],
      "text/plain": [
       "<IPython.core.display.HTML object>"
      ]
     },
     "metadata": {},
     "output_type": "display_data"
    },
    {
     "data": {
      "text/html": [
       "<span style=\"color:blue\"> |-image_block_1/block_type: resnet</span>"
      ],
      "text/plain": [
       "<IPython.core.display.HTML object>"
      ]
     },
     "metadata": {},
     "output_type": "display_data"
    },
    {
     "data": {
      "text/html": [
       "<span style=\"color:cyan\"> |-image_block_1/normalize: True</span>"
      ],
      "text/plain": [
       "<IPython.core.display.HTML object>"
      ]
     },
     "metadata": {},
     "output_type": "display_data"
    },
    {
     "data": {
      "text/html": [
       "<span style=\"color:blue\"> |-image_block_1/res_net_block_1/conv3_depth: 4</span>"
      ],
      "text/plain": [
       "<IPython.core.display.HTML object>"
      ]
     },
     "metadata": {},
     "output_type": "display_data"
    },
    {
     "data": {
      "text/html": [
       "<span style=\"color:cyan\"> |-image_block_1/res_net_block_1/conv4_depth: 6</span>"
      ],
      "text/plain": [
       "<IPython.core.display.HTML object>"
      ]
     },
     "metadata": {},
     "output_type": "display_data"
    },
    {
     "data": {
      "text/html": [
       "<span style=\"color:blue\"> |-image_block_1/res_net_block_1/pooling: avg</span>"
      ],
      "text/plain": [
       "<IPython.core.display.HTML object>"
      ]
     },
     "metadata": {},
     "output_type": "display_data"
    },
    {
     "data": {
      "text/html": [
       "<span style=\"color:cyan\"> |-image_block_1/res_net_block_1/version: v2</span>"
      ],
      "text/plain": [
       "<IPython.core.display.HTML object>"
      ]
     },
     "metadata": {},
     "output_type": "display_data"
    },
    {
     "data": {
      "text/html": [
       "<span style=\"color:blue\"> |-optimizer: adam</span>"
      ],
      "text/plain": [
       "<IPython.core.display.HTML object>"
      ]
     },
     "metadata": {},
     "output_type": "display_data"
    },
    {
     "name": "stdout",
     "output_type": "stream",
     "text": [
      "Train for 125 steps, validate for 32 steps\n",
      "Epoch 1/1000\n",
      "125/125 [==============================] - ETA: 52s - loss: 0.6320 - accuracy: 0.625 - ETA: 3s - loss: 0.5612 - accuracy: 0.669 - ETA: 1s - loss: 0.5861 - accuracy: 0.66 - ETA: 1s - loss: 0.5831 - accuracy: 0.66 - ETA: 0s - loss: 0.5789 - accuracy: 0.67 - ETA: 0s - loss: 0.5752 - accuracy: 0.67 - ETA: 0s - loss: 0.5724 - accuracy: 0.67 - ETA: 0s - loss: 0.5704 - accuracy: 0.68 - ETA: 0s - loss: 0.5681 - accuracy: 0.68 - 1s 9ms/step - loss: 0.5685 - accuracy: 0.6820 - val_loss: 0.5826 - val_accuracy: 0.7077\n",
      "Epoch 2/1000\n",
      "125/125 [==============================] - ETA: 3s - loss: 0.4427 - accuracy: 0.78 - ETA: 0s - loss: 0.5308 - accuracy: 0.71 - ETA: 0s - loss: 0.5520 - accuracy: 0.69 - ETA: 0s - loss: 0.5484 - accuracy: 0.70 - ETA: 0s - loss: 0.5424 - accuracy: 0.70 - ETA: 0s - loss: 0.5398 - accuracy: 0.71 - ETA: 0s - loss: 0.5351 - accuracy: 0.71 - ETA: 0s - loss: 0.5336 - accuracy: 0.71 - ETA: 0s - loss: 0.5282 - accuracy: 0.72 - 1s 5ms/step - loss: 0.5286 - accuracy: 0.7230 - val_loss: 0.5460 - val_accuracy: 0.7568\n",
      "Epoch 3/1000\n",
      "125/125 [==============================] - ETA: 3s - loss: 0.3955 - accuracy: 0.75 - ETA: 0s - loss: 0.4795 - accuracy: 0.74 - ETA: 0s - loss: 0.4910 - accuracy: 0.76 - ETA: 0s - loss: 0.4875 - accuracy: 0.76 - ETA: 0s - loss: 0.4787 - accuracy: 0.77 - ETA: 0s - loss: 0.4766 - accuracy: 0.77 - ETA: 0s - loss: 0.4711 - accuracy: 0.77 - ETA: 0s - loss: 0.4711 - accuracy: 0.78 - ETA: 0s - loss: 0.4672 - accuracy: 0.78 - 1s 5ms/step - loss: 0.4677 - accuracy: 0.7833 - val_loss: 0.4737 - val_accuracy: 0.8198\n",
      "Epoch 4/1000\n",
      "125/125 [==============================] - ETA: 3s - loss: 0.3312 - accuracy: 0.87 - ETA: 0s - loss: 0.4312 - accuracy: 0.80 - ETA: 0s - loss: 0.4359 - accuracy: 0.81 - ETA: 0s - loss: 0.4310 - accuracy: 0.81 - ETA: 0s - loss: 0.4265 - accuracy: 0.82 - ETA: 0s - loss: 0.4264 - accuracy: 0.81 - ETA: 0s - loss: 0.4230 - accuracy: 0.81 - ETA: 0s - loss: 0.4267 - accuracy: 0.81 - ETA: 0s - loss: 0.4218 - accuracy: 0.82 - 1s 5ms/step - loss: 0.4236 - accuracy: 0.8179 - val_loss: 0.4147 - val_accuracy: 0.8438\n",
      "Epoch 5/1000\n",
      "125/125 [==============================] - ETA: 3s - loss: 0.3217 - accuracy: 0.90 - ETA: 0s - loss: 0.3728 - accuracy: 0.85 - ETA: 0s - loss: 0.3806 - accuracy: 0.85 - ETA: 0s - loss: 0.3867 - accuracy: 0.85 - ETA: 0s - loss: 0.3859 - accuracy: 0.84 - ETA: 0s - loss: 0.3839 - accuracy: 0.84 - ETA: 0s - loss: 0.3823 - accuracy: 0.84 - ETA: 0s - loss: 0.3855 - accuracy: 0.84 - ETA: 0s - loss: 0.3830 - accuracy: 0.84 - ETA: 0s - loss: 0.3823 - accuracy: 0.84 - 1s 5ms/step - loss: 0.3823 - accuracy: 0.8461 - val_loss: 0.3843 - val_accuracy: 0.8759\n",
      "Epoch 6/1000\n",
      "125/125 [==============================] - ETA: 3s - loss: 0.2985 - accuracy: 0.90 - ETA: 0s - loss: 0.3486 - accuracy: 0.85 - ETA: 0s - loss: 0.3399 - accuracy: 0.86 - ETA: 0s - loss: 0.3454 - accuracy: 0.86 - ETA: 0s - loss: 0.3457 - accuracy: 0.86 - ETA: 0s - loss: 0.3474 - accuracy: 0.86 - ETA: 0s - loss: 0.3501 - accuracy: 0.86 - ETA: 0s - loss: 0.3530 - accuracy: 0.85 - ETA: 0s - loss: 0.3522 - accuracy: 0.85 - ETA: 0s - loss: 0.3529 - accuracy: 0.85 - 1s 5ms/step - loss: 0.3546 - accuracy: 0.8576 - val_loss: 0.3489 - val_accuracy: 0.8769\n",
      "Epoch 7/1000\n",
      "125/125 [==============================] - ETA: 3s - loss: 0.2677 - accuracy: 0.90 - ETA: 0s - loss: 0.3175 - accuracy: 0.87 - ETA: 0s - loss: 0.3161 - accuracy: 0.88 - ETA: 0s - loss: 0.3202 - accuracy: 0.88 - ETA: 0s - loss: 0.3231 - accuracy: 0.87 - ETA: 0s - loss: 0.3287 - accuracy: 0.87 - ETA: 0s - loss: 0.3334 - accuracy: 0.87 - ETA: 0s - loss: 0.3359 - accuracy: 0.86 - ETA: 0s - loss: 0.3323 - accuracy: 0.87 - 1s 5ms/step - loss: 0.3354 - accuracy: 0.8687 - val_loss: 0.3328 - val_accuracy: 0.8789\n",
      "Epoch 8/1000\n",
      "125/125 [==============================] - ETA: 3s - loss: 0.2479 - accuracy: 0.90 - ETA: 0s - loss: 0.3052 - accuracy: 0.87 - ETA: 0s - loss: 0.3088 - accuracy: 0.87 - ETA: 0s - loss: 0.3162 - accuracy: 0.88 - ETA: 0s - loss: 0.3168 - accuracy: 0.88 - ETA: 0s - loss: 0.3178 - accuracy: 0.88 - ETA: 0s - loss: 0.3213 - accuracy: 0.88 - ETA: 0s - loss: 0.3248 - accuracy: 0.87 - ETA: 0s - loss: 0.3220 - accuracy: 0.88 - ETA: 0s - loss: 0.3228 - accuracy: 0.87 - 1s 5ms/step - loss: 0.3232 - accuracy: 0.8782 - val_loss: 0.3183 - val_accuracy: 0.8959\n",
      "Epoch 9/1000\n",
      "125/125 [==============================] - ETA: 3s - loss: 0.2479 - accuracy: 0.90 - ETA: 0s - loss: 0.2854 - accuracy: 0.89 - ETA: 0s - loss: 0.2972 - accuracy: 0.89 - ETA: 0s - loss: 0.3023 - accuracy: 0.89 - ETA: 0s - loss: 0.3015 - accuracy: 0.89 - ETA: 0s - loss: 0.3059 - accuracy: 0.88 - ETA: 0s - loss: 0.3051 - accuracy: 0.88 - ETA: 0s - loss: 0.3113 - accuracy: 0.88 - ETA: 0s - loss: 0.3094 - accuracy: 0.88 - 1s 5ms/step - loss: 0.3083 - accuracy: 0.8874 - val_loss: 0.3192 - val_accuracy: 0.8909\n",
      "Epoch 10/1000\n",
      "125/125 [==============================] - ETA: 3s - loss: 0.3011 - accuracy: 0.87 - ETA: 0s - loss: 0.2906 - accuracy: 0.90 - ETA: 0s - loss: 0.2915 - accuracy: 0.90 - ETA: 0s - loss: 0.2976 - accuracy: 0.89 - ETA: 0s - loss: 0.3003 - accuracy: 0.89 - ETA: 0s - loss: 0.3042 - accuracy: 0.88 - ETA: 0s - loss: 0.3057 - accuracy: 0.88 - ETA: 0s - loss: 0.3065 - accuracy: 0.88 - ETA: 0s - loss: 0.3045 - accuracy: 0.88 - 1s 5ms/step - loss: 0.3072 - accuracy: 0.8834 - val_loss: 0.3586 - val_accuracy: 0.8789\n",
      "Epoch 11/1000\n",
      "125/125 [==============================] - ETA: 3s - loss: 0.2488 - accuracy: 0.87 - ETA: 0s - loss: 0.3121 - accuracy: 0.86 - ETA: 0s - loss: 0.3077 - accuracy: 0.88 - ETA: 0s - loss: 0.3000 - accuracy: 0.88 - ETA: 0s - loss: 0.2989 - accuracy: 0.88 - ETA: 0s - loss: 0.3007 - accuracy: 0.88 - ETA: 0s - loss: 0.3025 - accuracy: 0.88 - ETA: 0s - loss: 0.3065 - accuracy: 0.88 - ETA: 0s - loss: 0.3019 - accuracy: 0.88 - 1s 5ms/step - loss: 0.3041 - accuracy: 0.8849 - val_loss: 0.3116 - val_accuracy: 0.8939\n",
      "Epoch 12/1000\n",
      "125/125 [==============================] - ETA: 3s - loss: 0.2275 - accuracy: 0.96 - ETA: 0s - loss: 0.2637 - accuracy: 0.90 - ETA: 0s - loss: 0.2658 - accuracy: 0.91 - ETA: 0s - loss: 0.2710 - accuracy: 0.90 - ETA: 0s - loss: 0.2754 - accuracy: 0.90 - ETA: 0s - loss: 0.2759 - accuracy: 0.90 - ETA: 0s - loss: 0.2785 - accuracy: 0.90 - ETA: 0s - loss: 0.2849 - accuracy: 0.89 - ETA: 0s - loss: 0.2819 - accuracy: 0.90 - ETA: 0s - loss: 0.2829 - accuracy: 0.89 - 1s 5ms/step - loss: 0.2853 - accuracy: 0.8962 - val_loss: 0.2956 - val_accuracy: 0.9019\n",
      "Epoch 13/1000\n",
      "125/125 [==============================] - ETA: 4s - loss: 0.2290 - accuracy: 0.93 - ETA: 0s - loss: 0.2646 - accuracy: 0.90 - ETA: 0s - loss: 0.2645 - accuracy: 0.90 - ETA: 0s - loss: 0.2617 - accuracy: 0.90 - ETA: 0s - loss: 0.2621 - accuracy: 0.90 - ETA: 0s - loss: 0.2695 - accuracy: 0.90 - ETA: 0s - loss: 0.2729 - accuracy: 0.90 - ETA: 0s - loss: 0.2814 - accuracy: 0.89 - ETA: 0s - loss: 0.2765 - accuracy: 0.89 - 1s 5ms/step - loss: 0.2802 - accuracy: 0.8969 - val_loss: 0.3450 - val_accuracy: 0.8799\n",
      "Epoch 14/1000\n",
      "125/125 [==============================] - ETA: 3s - loss: 0.2207 - accuracy: 0.90 - ETA: 0s - loss: 0.3050 - accuracy: 0.88 - ETA: 0s - loss: 0.2843 - accuracy: 0.89 - ETA: 0s - loss: 0.2840 - accuracy: 0.89 - ETA: 0s - loss: 0.2854 - accuracy: 0.89 - ETA: 0s - loss: 0.2884 - accuracy: 0.89 - ETA: 0s - loss: 0.2878 - accuracy: 0.89 - ETA: 0s - loss: 0.2895 - accuracy: 0.89 - ETA: 0s - loss: 0.2852 - accuracy: 0.89 - 1s 5ms/step - loss: 0.2862 - accuracy: 0.8934 - val_loss: 0.2925 - val_accuracy: 0.9059\n",
      "Epoch 15/1000\n",
      "125/125 [==============================] - ETA: 3s - loss: 0.2417 - accuracy: 0.93 - ETA: 0s - loss: 0.2597 - accuracy: 0.91 - ETA: 0s - loss: 0.2494 - accuracy: 0.91 - ETA: 0s - loss: 0.2489 - accuracy: 0.91 - ETA: 0s - loss: 0.2584 - accuracy: 0.90 - ETA: 0s - loss: 0.2589 - accuracy: 0.90 - ETA: 0s - loss: 0.2632 - accuracy: 0.90 - ETA: 0s - loss: 0.2653 - accuracy: 0.90 - ETA: 0s - loss: 0.2618 - accuracy: 0.90 - 1s 5ms/step - loss: 0.2623 - accuracy: 0.9042 - val_loss: 0.2936 - val_accuracy: 0.8989\n",
      "Epoch 16/1000\n",
      "125/125 [==============================] - ETA: 3s - loss: 0.2196 - accuracy: 0.96 - ETA: 0s - loss: 0.2754 - accuracy: 0.90 - ETA: 0s - loss: 0.2584 - accuracy: 0.91 - ETA: 0s - loss: 0.2583 - accuracy: 0.91 - ETA: 0s - loss: 0.2617 - accuracy: 0.90 - ETA: 0s - loss: 0.2658 - accuracy: 0.90 - ETA: 0s - loss: 0.2646 - accuracy: 0.90 - ETA: 0s - loss: 0.2677 - accuracy: 0.90 - ETA: 0s - loss: 0.2674 - accuracy: 0.90 - 1s 5ms/step - loss: 0.2673 - accuracy: 0.9029 - val_loss: 0.2793 - val_accuracy: 0.9089\n",
      "Epoch 17/1000\n",
      "125/125 [==============================] - ETA: 3s - loss: 0.3755 - accuracy: 0.78 - ETA: 0s - loss: 0.2607 - accuracy: 0.90 - ETA: 0s - loss: 0.2514 - accuracy: 0.90 - ETA: 0s - loss: 0.2513 - accuracy: 0.90 - ETA: 0s - loss: 0.2503 - accuracy: 0.90 - ETA: 0s - loss: 0.2579 - accuracy: 0.90 - ETA: 0s - loss: 0.2618 - accuracy: 0.90 - ETA: 0s - loss: 0.2638 - accuracy: 0.90 - ETA: 0s - loss: 0.2630 - accuracy: 0.90 - 1s 5ms/step - loss: 0.2641 - accuracy: 0.9014 - val_loss: 0.2869 - val_accuracy: 0.8969\n",
      "Epoch 18/1000\n",
      "125/125 [==============================] - ETA: 3s - loss: 0.2230 - accuracy: 0.90 - ETA: 0s - loss: 0.2579 - accuracy: 0.89 - ETA: 0s - loss: 0.2460 - accuracy: 0.91 - ETA: 0s - loss: 0.2464 - accuracy: 0.91 - ETA: 0s - loss: 0.2502 - accuracy: 0.91 - ETA: 0s - loss: 0.2543 - accuracy: 0.90 - ETA: 0s - loss: 0.2557 - accuracy: 0.90 - ETA: 0s - loss: 0.2597 - accuracy: 0.90 - ETA: 0s - loss: 0.2565 - accuracy: 0.90 - 1s 5ms/step - loss: 0.2571 - accuracy: 0.9037 - val_loss: 0.2901 - val_accuracy: 0.9019\n",
      "Epoch 19/1000\n",
      "125/125 [==============================] - ETA: 3s - loss: 0.2161 - accuracy: 0.87 - ETA: 0s - loss: 0.2535 - accuracy: 0.90 - ETA: 0s - loss: 0.2552 - accuracy: 0.90 - ETA: 0s - loss: 0.2524 - accuracy: 0.90 - ETA: 0s - loss: 0.2497 - accuracy: 0.90 - ETA: 0s - loss: 0.2543 - accuracy: 0.90 - ETA: 0s - loss: 0.2574 - accuracy: 0.90 - ETA: 0s - loss: 0.2561 - accuracy: 0.90 - ETA: 0s - loss: 0.2528 - accuracy: 0.90 - 1s 5ms/step - loss: 0.2545 - accuracy: 0.9052 - val_loss: 0.2944 - val_accuracy: 0.8979\n",
      "Epoch 20/1000\n",
      "125/125 [==============================] - ETA: 3s - loss: 0.2455 - accuracy: 0.93 - ETA: 0s - loss: 0.2503 - accuracy: 0.90 - ETA: 0s - loss: 0.2404 - accuracy: 0.91 - ETA: 0s - loss: 0.2327 - accuracy: 0.91 - ETA: 0s - loss: 0.2408 - accuracy: 0.91 - ETA: 0s - loss: 0.2432 - accuracy: 0.90 - ETA: 0s - loss: 0.2454 - accuracy: 0.90 - ETA: 0s - loss: 0.2490 - accuracy: 0.90 - ETA: 0s - loss: 0.2435 - accuracy: 0.90 - ETA: 0s - loss: 0.2422 - accuracy: 0.91 - 1s 5ms/step - loss: 0.2438 - accuracy: 0.9094 - val_loss: 0.2761 - val_accuracy: 0.9129\n",
      "Epoch 21/1000\n",
      "125/125 [==============================] - ETA: 3s - loss: 0.1939 - accuracy: 0.90 - ETA: 0s - loss: 0.2300 - accuracy: 0.91 - ETA: 0s - loss: 0.2119 - accuracy: 0.92 - ETA: 0s - loss: 0.2235 - accuracy: 0.91 - ETA: 0s - loss: 0.2306 - accuracy: 0.91 - ETA: 0s - loss: 0.2364 - accuracy: 0.91 - ETA: 0s - loss: 0.2388 - accuracy: 0.91 - ETA: 0s - loss: 0.2449 - accuracy: 0.90 - ETA: 0s - loss: 0.2405 - accuracy: 0.91 - ETA: 0s - loss: 0.2420 - accuracy: 0.91 - 1s 5ms/step - loss: 0.2432 - accuracy: 0.9109 - val_loss: 0.2729 - val_accuracy: 0.9049\n",
      "Epoch 22/1000\n",
      "125/125 [==============================] - ETA: 3s - loss: 0.2710 - accuracy: 0.84 - ETA: 0s - loss: 0.2392 - accuracy: 0.91 - ETA: 0s - loss: 0.2274 - accuracy: 0.91 - ETA: 0s - loss: 0.2309 - accuracy: 0.91 - ETA: 0s - loss: 0.2338 - accuracy: 0.91 - ETA: 0s - loss: 0.2430 - accuracy: 0.91 - ETA: 0s - loss: 0.2443 - accuracy: 0.91 - ETA: 0s - loss: 0.2483 - accuracy: 0.90 - ETA: 0s - loss: 0.2443 - accuracy: 0.90 - 1s 5ms/step - loss: 0.2441 - accuracy: 0.9087 - val_loss: 0.2692 - val_accuracy: 0.9149\n",
      "Epoch 23/1000\n",
      "125/125 [==============================] - ETA: 3s - loss: 0.2711 - accuracy: 0.90 - ETA: 0s - loss: 0.2343 - accuracy: 0.91 - ETA: 0s - loss: 0.2237 - accuracy: 0.92 - ETA: 0s - loss: 0.2272 - accuracy: 0.92 - ETA: 0s - loss: 0.2312 - accuracy: 0.91 - ETA: 0s - loss: 0.2338 - accuracy: 0.91 - ETA: 0s - loss: 0.2363 - accuracy: 0.91 - ETA: 0s - loss: 0.2416 - accuracy: 0.91 - ETA: 0s - loss: 0.2396 - accuracy: 0.91 - ETA: 0s - loss: 0.2386 - accuracy: 0.91 - 1s 5ms/step - loss: 0.2398 - accuracy: 0.9154 - val_loss: 0.2663 - val_accuracy: 0.9139\n",
      "Epoch 24/1000\n",
      "125/125 [==============================] - ETA: 3s - loss: 0.2342 - accuracy: 0.90 - ETA: 0s - loss: 0.2196 - accuracy: 0.91 - ETA: 0s - loss: 0.2019 - accuracy: 0.93 - ETA: 0s - loss: 0.2078 - accuracy: 0.92 - ETA: 0s - loss: 0.2157 - accuracy: 0.92 - ETA: 0s - loss: 0.2179 - accuracy: 0.91 - ETA: 0s - loss: 0.2238 - accuracy: 0.91 - ETA: 0s - loss: 0.2318 - accuracy: 0.91 - ETA: 0s - loss: 0.2294 - accuracy: 0.91 - 1s 5ms/step - loss: 0.2305 - accuracy: 0.9149 - val_loss: 0.2653 - val_accuracy: 0.9129\n",
      "Epoch 25/1000\n",
      "125/125 [==============================] - ETA: 3s - loss: 0.2735 - accuracy: 0.90 - ETA: 0s - loss: 0.2365 - accuracy: 0.90 - ETA: 0s - loss: 0.2162 - accuracy: 0.91 - ETA: 0s - loss: 0.2195 - accuracy: 0.91 - ETA: 0s - loss: 0.2231 - accuracy: 0.91 - ETA: 0s - loss: 0.2303 - accuracy: 0.91 - ETA: 0s - loss: 0.2352 - accuracy: 0.90 - ETA: 0s - loss: 0.2357 - accuracy: 0.91 - ETA: 0s - loss: 0.2329 - accuracy: 0.91 - 1s 5ms/step - loss: 0.2334 - accuracy: 0.9124 - val_loss: 0.2525 - val_accuracy: 0.9219\n",
      "Epoch 26/1000\n",
      "125/125 [==============================] - ETA: 3s - loss: 0.2633 - accuracy: 0.84 - ETA: 0s - loss: 0.2097 - accuracy: 0.91 - ETA: 0s - loss: 0.2063 - accuracy: 0.92 - ETA: 0s - loss: 0.2134 - accuracy: 0.92 - ETA: 0s - loss: 0.2218 - accuracy: 0.92 - ETA: 0s - loss: 0.2300 - accuracy: 0.91 - ETA: 0s - loss: 0.2351 - accuracy: 0.91 - ETA: 0s - loss: 0.2330 - accuracy: 0.91 - ETA: 0s - loss: 0.2294 - accuracy: 0.91 - 1s 5ms/step - loss: 0.2290 - accuracy: 0.9172 - val_loss: 0.2513 - val_accuracy: 0.9189\n",
      "Epoch 27/1000\n",
      "125/125 [==============================] - ETA: 3s - loss: 0.2572 - accuracy: 0.84 - ETA: 0s - loss: 0.2010 - accuracy: 0.91 - ETA: 0s - loss: 0.1929 - accuracy: 0.92 - ETA: 0s - loss: 0.2040 - accuracy: 0.91 - ETA: 0s - loss: 0.2075 - accuracy: 0.92 - ETA: 0s - loss: 0.2191 - accuracy: 0.91 - ETA: 0s - loss: 0.2233 - accuracy: 0.91 - ETA: 0s - loss: 0.2224 - accuracy: 0.91 - ETA: 0s - loss: 0.2189 - accuracy: 0.91 - 1s 5ms/step - loss: 0.2192 - accuracy: 0.9167 - val_loss: 0.2424 - val_accuracy: 0.9169\n",
      "Epoch 28/1000\n",
      "125/125 [==============================] - ETA: 3s - loss: 0.3126 - accuracy: 0.81 - ETA: 0s - loss: 0.2105 - accuracy: 0.92 - ETA: 0s - loss: 0.2102 - accuracy: 0.92 - ETA: 0s - loss: 0.2214 - accuracy: 0.91 - ETA: 0s - loss: 0.2190 - accuracy: 0.91 - ETA: 0s - loss: 0.2225 - accuracy: 0.91 - ETA: 0s - loss: 0.2286 - accuracy: 0.91 - ETA: 0s - loss: 0.2273 - accuracy: 0.91 - ETA: 0s - loss: 0.2237 - accuracy: 0.91 - 1s 5ms/step - loss: 0.2224 - accuracy: 0.9179 - val_loss: 0.2453 - val_accuracy: 0.9169\n",
      "Epoch 29/1000\n",
      "125/125 [==============================] - ETA: 3s - loss: 0.2137 - accuracy: 0.93 - ETA: 0s - loss: 0.1837 - accuracy: 0.93 - ETA: 0s - loss: 0.1902 - accuracy: 0.92 - ETA: 0s - loss: 0.2042 - accuracy: 0.92 - ETA: 0s - loss: 0.2073 - accuracy: 0.92 - ETA: 0s - loss: 0.2154 - accuracy: 0.91 - ETA: 0s - loss: 0.2169 - accuracy: 0.91 - ETA: 0s - loss: 0.2196 - accuracy: 0.91 - ETA: 0s - loss: 0.2184 - accuracy: 0.91 - 1s 5ms/step - loss: 0.2179 - accuracy: 0.9189 - val_loss: 0.2584 - val_accuracy: 0.9179\n",
      "Epoch 30/1000\n",
      "125/125 [==============================] - ETA: 3s - loss: 0.2279 - accuracy: 0.90 - ETA: 0s - loss: 0.2111 - accuracy: 0.92 - ETA: 0s - loss: 0.2010 - accuracy: 0.93 - ETA: 0s - loss: 0.2032 - accuracy: 0.92 - ETA: 0s - loss: 0.2047 - accuracy: 0.92 - ETA: 0s - loss: 0.2133 - accuracy: 0.91 - ETA: 0s - loss: 0.2147 - accuracy: 0.91 - ETA: 0s - loss: 0.2171 - accuracy: 0.91 - ETA: 0s - loss: 0.2149 - accuracy: 0.92 - 1s 5ms/step - loss: 0.2134 - accuracy: 0.9209 - val_loss: 0.2497 - val_accuracy: 0.9169\n",
      "Epoch 31/1000\n"
     ]
    },
    {
     "name": "stdout",
     "output_type": "stream",
     "text": [
      "125/125 [==============================] - ETA: 3s - loss: 0.2060 - accuracy: 0.93 - ETA: 0s - loss: 0.1932 - accuracy: 0.93 - ETA: 0s - loss: 0.1920 - accuracy: 0.93 - ETA: 0s - loss: 0.2034 - accuracy: 0.92 - ETA: 0s - loss: 0.2050 - accuracy: 0.92 - ETA: 0s - loss: 0.2097 - accuracy: 0.92 - ETA: 0s - loss: 0.2149 - accuracy: 0.92 - ETA: 0s - loss: 0.2141 - accuracy: 0.92 - ETA: 0s - loss: 0.2152 - accuracy: 0.92 - 1s 5ms/step - loss: 0.2148 - accuracy: 0.9227 - val_loss: 0.2444 - val_accuracy: 0.9159\n",
      "Epoch 32/1000\n",
      "125/125 [==============================] - ETA: 3s - loss: 0.2205 - accuracy: 0.90 - ETA: 0s - loss: 0.1901 - accuracy: 0.93 - ETA: 0s - loss: 0.1872 - accuracy: 0.93 - ETA: 0s - loss: 0.1922 - accuracy: 0.93 - ETA: 0s - loss: 0.1945 - accuracy: 0.93 - ETA: 0s - loss: 0.1993 - accuracy: 0.93 - ETA: 0s - loss: 0.2019 - accuracy: 0.93 - ETA: 0s - loss: 0.2077 - accuracy: 0.92 - ETA: 0s - loss: 0.2069 - accuracy: 0.92 - 1s 5ms/step - loss: 0.2071 - accuracy: 0.9262 - val_loss: 0.2424 - val_accuracy: 0.9189\n",
      "Epoch 33/1000\n",
      "125/125 [==============================] - ETA: 3s - loss: 0.1767 - accuracy: 0.93 - ETA: 0s - loss: 0.1875 - accuracy: 0.93 - ETA: 0s - loss: 0.1750 - accuracy: 0.94 - ETA: 0s - loss: 0.1857 - accuracy: 0.93 - ETA: 0s - loss: 0.1914 - accuracy: 0.93 - ETA: 0s - loss: 0.2009 - accuracy: 0.92 - ETA: 0s - loss: 0.2035 - accuracy: 0.92 - ETA: 0s - loss: 0.2094 - accuracy: 0.92 - ETA: 0s - loss: 0.2070 - accuracy: 0.92 - 1s 5ms/step - loss: 0.2066 - accuracy: 0.9249 - val_loss: 0.2585 - val_accuracy: 0.9109\n",
      "Epoch 34/1000\n",
      "125/125 [==============================] - ETA: 3s - loss: 0.2499 - accuracy: 0.84 - ETA: 0s - loss: 0.1945 - accuracy: 0.93 - ETA: 0s - loss: 0.1879 - accuracy: 0.93 - ETA: 0s - loss: 0.1893 - accuracy: 0.93 - ETA: 0s - loss: 0.1894 - accuracy: 0.93 - ETA: 0s - loss: 0.1960 - accuracy: 0.92 - ETA: 0s - loss: 0.1957 - accuracy: 0.93 - ETA: 0s - loss: 0.1993 - accuracy: 0.92 - ETA: 0s - loss: 0.1977 - accuracy: 0.92 - 1s 5ms/step - loss: 0.1975 - accuracy: 0.9289 - val_loss: 0.2298 - val_accuracy: 0.9249\n",
      "Epoch 35/1000\n",
      "125/125 [==============================] - ETA: 4s - loss: 0.2516 - accuracy: 0.90 - ETA: 0s - loss: 0.1930 - accuracy: 0.93 - ETA: 0s - loss: 0.1997 - accuracy: 0.92 - ETA: 0s - loss: 0.1981 - accuracy: 0.92 - ETA: 0s - loss: 0.1996 - accuracy: 0.92 - ETA: 0s - loss: 0.2028 - accuracy: 0.92 - ETA: 0s - loss: 0.2046 - accuracy: 0.92 - ETA: 0s - loss: 0.2105 - accuracy: 0.92 - ETA: 0s - loss: 0.2088 - accuracy: 0.92 - ETA: 0s - loss: 0.2042 - accuracy: 0.92 - 1s 5ms/step - loss: 0.2051 - accuracy: 0.9254 - val_loss: 0.2319 - val_accuracy: 0.9239\n",
      "Epoch 36/1000\n",
      "125/125 [==============================] - ETA: 3s - loss: 0.2502 - accuracy: 0.90 - ETA: 0s - loss: 0.1870 - accuracy: 0.92 - ETA: 0s - loss: 0.1737 - accuracy: 0.93 - ETA: 0s - loss: 0.1767 - accuracy: 0.93 - ETA: 0s - loss: 0.1794 - accuracy: 0.93 - ETA: 0s - loss: 0.1894 - accuracy: 0.92 - ETA: 0s - loss: 0.1952 - accuracy: 0.92 - ETA: 0s - loss: 0.1937 - accuracy: 0.92 - ETA: 0s - loss: 0.1936 - accuracy: 0.92 - 1s 5ms/step - loss: 0.1957 - accuracy: 0.9247 - val_loss: 0.2307 - val_accuracy: 0.9189\n",
      "Epoch 37/1000\n",
      "125/125 [==============================] - ETA: 3s - loss: 0.2225 - accuracy: 0.90 - ETA: 0s - loss: 0.1719 - accuracy: 0.95 - ETA: 0s - loss: 0.1714 - accuracy: 0.93 - ETA: 0s - loss: 0.1783 - accuracy: 0.93 - ETA: 0s - loss: 0.1803 - accuracy: 0.93 - ETA: 0s - loss: 0.1893 - accuracy: 0.93 - ETA: 0s - loss: 0.1924 - accuracy: 0.93 - ETA: 0s - loss: 0.1940 - accuracy: 0.93 - ETA: 0s - loss: 0.1921 - accuracy: 0.93 - 1s 5ms/step - loss: 0.1937 - accuracy: 0.9319 - val_loss: 0.2484 - val_accuracy: 0.9209\n",
      "Epoch 38/1000\n",
      "125/125 [==============================] - ETA: 3s - loss: 0.2264 - accuracy: 0.90 - ETA: 0s - loss: 0.1698 - accuracy: 0.93 - ETA: 0s - loss: 0.1609 - accuracy: 0.94 - ETA: 0s - loss: 0.1707 - accuracy: 0.94 - ETA: 0s - loss: 0.1780 - accuracy: 0.93 - ETA: 0s - loss: 0.1868 - accuracy: 0.93 - ETA: 0s - loss: 0.1934 - accuracy: 0.93 - ETA: 0s - loss: 0.1935 - accuracy: 0.93 - ETA: 0s - loss: 0.1905 - accuracy: 0.93 - 1s 5ms/step - loss: 0.1918 - accuracy: 0.9314 - val_loss: 0.2252 - val_accuracy: 0.9189\n",
      "Epoch 39/1000\n",
      "125/125 [==============================] - ETA: 3s - loss: 0.2126 - accuracy: 0.93 - ETA: 0s - loss: 0.1701 - accuracy: 0.94 - ETA: 0s - loss: 0.1672 - accuracy: 0.94 - ETA: 0s - loss: 0.1676 - accuracy: 0.94 - ETA: 0s - loss: 0.1715 - accuracy: 0.94 - ETA: 0s - loss: 0.1789 - accuracy: 0.93 - ETA: 0s - loss: 0.1831 - accuracy: 0.93 - ETA: 0s - loss: 0.1888 - accuracy: 0.93 - ETA: 0s - loss: 0.1914 - accuracy: 0.93 - 1s 5ms/step - loss: 0.1906 - accuracy: 0.9327 - val_loss: 0.2215 - val_accuracy: 0.9249\n",
      "Epoch 40/1000\n",
      "125/125 [==============================] - ETA: 3s - loss: 0.2484 - accuracy: 0.84 - ETA: 0s - loss: 0.1861 - accuracy: 0.93 - ETA: 0s - loss: 0.1702 - accuracy: 0.93 - ETA: 0s - loss: 0.1825 - accuracy: 0.93 - ETA: 0s - loss: 0.1821 - accuracy: 0.93 - ETA: 0s - loss: 0.1889 - accuracy: 0.93 - ETA: 0s - loss: 0.1936 - accuracy: 0.93 - ETA: 0s - loss: 0.1918 - accuracy: 0.93 - ETA: 0s - loss: 0.1903 - accuracy: 0.93 - 1s 5ms/step - loss: 0.1894 - accuracy: 0.9329 - val_loss: 0.2131 - val_accuracy: 0.9279\n",
      "Epoch 41/1000\n",
      "125/125 [==============================] - ETA: 3s - loss: 0.2130 - accuracy: 0.93 - ETA: 0s - loss: 0.1525 - accuracy: 0.95 - ETA: 0s - loss: 0.1532 - accuracy: 0.94 - ETA: 0s - loss: 0.1635 - accuracy: 0.94 - ETA: 0s - loss: 0.1731 - accuracy: 0.93 - ETA: 0s - loss: 0.1802 - accuracy: 0.93 - ETA: 0s - loss: 0.1862 - accuracy: 0.93 - ETA: 0s - loss: 0.1899 - accuracy: 0.93 - ETA: 0s - loss: 0.1911 - accuracy: 0.93 - 1s 5ms/step - loss: 0.1905 - accuracy: 0.9299 - val_loss: 0.2406 - val_accuracy: 0.9209\n",
      "Epoch 42/1000\n",
      "125/125 [==============================] - ETA: 3s - loss: 0.2499 - accuracy: 0.87 - ETA: 0s - loss: 0.1594 - accuracy: 0.95 - ETA: 0s - loss: 0.1556 - accuracy: 0.95 - ETA: 0s - loss: 0.1721 - accuracy: 0.94 - ETA: 0s - loss: 0.1672 - accuracy: 0.94 - ETA: 0s - loss: 0.1718 - accuracy: 0.93 - ETA: 0s - loss: 0.1768 - accuracy: 0.93 - ETA: 0s - loss: 0.1779 - accuracy: 0.93 - ETA: 0s - loss: 0.1770 - accuracy: 0.93 - 1s 5ms/step - loss: 0.1765 - accuracy: 0.9385 - val_loss: 0.2197 - val_accuracy: 0.9279\n",
      "Epoch 43/1000\n",
      "125/125 [==============================] - ETA: 3s - loss: 0.2076 - accuracy: 0.96 - ETA: 0s - loss: 0.1640 - accuracy: 0.93 - ETA: 0s - loss: 0.1560 - accuracy: 0.94 - ETA: 0s - loss: 0.1679 - accuracy: 0.94 - ETA: 0s - loss: 0.1673 - accuracy: 0.94 - ETA: 0s - loss: 0.1775 - accuracy: 0.93 - ETA: 0s - loss: 0.1828 - accuracy: 0.93 - ETA: 0s - loss: 0.1863 - accuracy: 0.93 - ETA: 0s - loss: 0.1820 - accuracy: 0.93 - 1s 5ms/step - loss: 0.1820 - accuracy: 0.9347 - val_loss: 0.2143 - val_accuracy: 0.9289\n",
      "Epoch 44/1000\n",
      "125/125 [==============================] - ETA: 3s - loss: 0.1954 - accuracy: 0.93 - ETA: 0s - loss: 0.1748 - accuracy: 0.93 - ETA: 0s - loss: 0.1727 - accuracy: 0.94 - ETA: 0s - loss: 0.1621 - accuracy: 0.94 - ETA: 0s - loss: 0.1726 - accuracy: 0.94 - ETA: 0s - loss: 0.1761 - accuracy: 0.93 - ETA: 0s - loss: 0.1815 - accuracy: 0.93 - ETA: 0s - loss: 0.1847 - accuracy: 0.93 - ETA: 0s - loss: 0.1802 - accuracy: 0.93 - ETA: 0s - loss: 0.1804 - accuracy: 0.93 - 1s 5ms/step - loss: 0.1805 - accuracy: 0.9370 - val_loss: 0.2360 - val_accuracy: 0.9219\n",
      "Epoch 45/1000\n",
      "125/125 [==============================] - ETA: 3s - loss: 0.1869 - accuracy: 0.90 - ETA: 0s - loss: 0.1699 - accuracy: 0.94 - ETA: 0s - loss: 0.1668 - accuracy: 0.94 - ETA: 0s - loss: 0.1695 - accuracy: 0.94 - ETA: 0s - loss: 0.1676 - accuracy: 0.94 - ETA: 0s - loss: 0.1744 - accuracy: 0.94 - ETA: 0s - loss: 0.1794 - accuracy: 0.93 - ETA: 0s - loss: 0.1815 - accuracy: 0.93 - ETA: 0s - loss: 0.1807 - accuracy: 0.93 - 1s 5ms/step - loss: 0.1813 - accuracy: 0.9360 - val_loss: 0.2346 - val_accuracy: 0.9169\n",
      "Epoch 46/1000\n",
      "125/125 [==============================] - ETA: 3s - loss: 0.1526 - accuracy: 0.96 - ETA: 0s - loss: 0.1681 - accuracy: 0.93 - ETA: 0s - loss: 0.1599 - accuracy: 0.94 - ETA: 0s - loss: 0.1575 - accuracy: 0.94 - ETA: 0s - loss: 0.1626 - accuracy: 0.93 - ETA: 0s - loss: 0.1630 - accuracy: 0.93 - ETA: 0s - loss: 0.1677 - accuracy: 0.93 - ETA: 0s - loss: 0.1706 - accuracy: 0.93 - ETA: 0s - loss: 0.1706 - accuracy: 0.93 - 1s 5ms/step - loss: 0.1694 - accuracy: 0.9385 - val_loss: 0.2246 - val_accuracy: 0.9219\n",
      "Epoch 47/1000\n",
      "125/125 [==============================] - ETA: 3s - loss: 0.1576 - accuracy: 0.96 - ETA: 0s - loss: 0.1541 - accuracy: 0.95 - ETA: 0s - loss: 0.1571 - accuracy: 0.94 - ETA: 0s - loss: 0.1515 - accuracy: 0.94 - ETA: 0s - loss: 0.1596 - accuracy: 0.94 - ETA: 0s - loss: 0.1601 - accuracy: 0.94 - ETA: 0s - loss: 0.1665 - accuracy: 0.94 - ETA: 0s - loss: 0.1718 - accuracy: 0.93 - ETA: 0s - loss: 0.1691 - accuracy: 0.94 - 1s 5ms/step - loss: 0.1671 - accuracy: 0.9410 - val_loss: 0.2223 - val_accuracy: 0.9249\n",
      "Epoch 48/1000\n",
      "125/125 [==============================] - ETA: 3s - loss: 0.2000 - accuracy: 0.90 - ETA: 0s - loss: 0.1577 - accuracy: 0.94 - ETA: 0s - loss: 0.1441 - accuracy: 0.95 - ETA: 0s - loss: 0.1511 - accuracy: 0.95 - ETA: 0s - loss: 0.1576 - accuracy: 0.94 - ETA: 0s - loss: 0.1651 - accuracy: 0.94 - ETA: 0s - loss: 0.1637 - accuracy: 0.94 - ETA: 0s - loss: 0.1664 - accuracy: 0.94 - ETA: 0s - loss: 0.1628 - accuracy: 0.94 - 1s 5ms/step - loss: 0.1643 - accuracy: 0.9415 - val_loss: 0.2123 - val_accuracy: 0.9329\n",
      "Epoch 49/1000\n",
      "125/125 [==============================] - ETA: 3s - loss: 0.1705 - accuracy: 0.90 - ETA: 0s - loss: 0.1982 - accuracy: 0.93 - ETA: 0s - loss: 0.1782 - accuracy: 0.93 - ETA: 0s - loss: 0.1779 - accuracy: 0.93 - ETA: 0s - loss: 0.1743 - accuracy: 0.93 - ETA: 0s - loss: 0.1791 - accuracy: 0.93 - ETA: 0s - loss: 0.1798 - accuracy: 0.93 - ETA: 0s - loss: 0.1796 - accuracy: 0.93 - ETA: 0s - loss: 0.1733 - accuracy: 0.93 - 1s 4ms/step - loss: 0.1732 - accuracy: 0.9367 - val_loss: 0.2317 - val_accuracy: 0.9229\n",
      "Epoch 50/1000\n",
      "125/125 [==============================] - ETA: 3s - loss: 0.1809 - accuracy: 0.90 - ETA: 0s - loss: 0.1508 - accuracy: 0.94 - ETA: 0s - loss: 0.1508 - accuracy: 0.94 - ETA: 0s - loss: 0.1570 - accuracy: 0.93 - ETA: 0s - loss: 0.1593 - accuracy: 0.93 - ETA: 0s - loss: 0.1721 - accuracy: 0.93 - ETA: 0s - loss: 0.1736 - accuracy: 0.93 - ETA: 0s - loss: 0.1766 - accuracy: 0.93 - ETA: 0s - loss: 0.1728 - accuracy: 0.93 - 1s 5ms/step - loss: 0.1723 - accuracy: 0.9342 - val_loss: 0.2245 - val_accuracy: 0.9229\n",
      "Epoch 51/1000\n",
      "125/125 [==============================] - ETA: 3s - loss: 0.1996 - accuracy: 0.96 - ETA: 0s - loss: 0.1627 - accuracy: 0.94 - ETA: 0s - loss: 0.1347 - accuracy: 0.95 - ETA: 0s - loss: 0.1459 - accuracy: 0.95 - ETA: 0s - loss: 0.1454 - accuracy: 0.94 - ETA: 0s - loss: 0.1525 - accuracy: 0.94 - ETA: 0s - loss: 0.1596 - accuracy: 0.94 - ETA: 0s - loss: 0.1611 - accuracy: 0.94 - ETA: 0s - loss: 0.1599 - accuracy: 0.94 - 1s 5ms/step - loss: 0.1610 - accuracy: 0.9440 - val_loss: 0.2283 - val_accuracy: 0.9309\n",
      "Epoch 52/1000\n",
      "125/125 [==============================] - ETA: 3s - loss: 0.1445 - accuracy: 0.93 - ETA: 0s - loss: 0.1345 - accuracy: 0.95 - ETA: 0s - loss: 0.1458 - accuracy: 0.94 - ETA: 0s - loss: 0.1547 - accuracy: 0.94 - ETA: 0s - loss: 0.1546 - accuracy: 0.94 - ETA: 0s - loss: 0.1590 - accuracy: 0.94 - ETA: 0s - loss: 0.1620 - accuracy: 0.94 - ETA: 0s - loss: 0.1632 - accuracy: 0.94 - ETA: 0s - loss: 0.1618 - accuracy: 0.94 - 1s 5ms/step - loss: 0.1613 - accuracy: 0.9445 - val_loss: 0.2083 - val_accuracy: 0.9279\n",
      "Epoch 53/1000\n",
      "125/125 [==============================] - ETA: 3s - loss: 0.2289 - accuracy: 0.90 - ETA: 0s - loss: 0.1406 - accuracy: 0.95 - ETA: 0s - loss: 0.1367 - accuracy: 0.95 - ETA: 0s - loss: 0.1443 - accuracy: 0.95 - ETA: 0s - loss: 0.1421 - accuracy: 0.95 - ETA: 0s - loss: 0.1491 - accuracy: 0.94 - ETA: 0s - loss: 0.1521 - accuracy: 0.94 - ETA: 0s - loss: 0.1556 - accuracy: 0.94 - ETA: 0s - loss: 0.1543 - accuracy: 0.94 - 1s 5ms/step - loss: 0.1553 - accuracy: 0.9442 - val_loss: 0.2229 - val_accuracy: 0.9259\n",
      "Epoch 54/1000\n",
      "125/125 [==============================] - ETA: 3s - loss: 0.1521 - accuracy: 0.93 - ETA: 0s - loss: 0.1462 - accuracy: 0.95 - ETA: 0s - loss: 0.1421 - accuracy: 0.95 - ETA: 0s - loss: 0.1429 - accuracy: 0.95 - ETA: 0s - loss: 0.1525 - accuracy: 0.94 - ETA: 0s - loss: 0.1577 - accuracy: 0.94 - ETA: 0s - loss: 0.1574 - accuracy: 0.94 - ETA: 0s - loss: 0.1587 - accuracy: 0.94 - ETA: 0s - loss: 0.1570 - accuracy: 0.94 - 1s 5ms/step - loss: 0.1558 - accuracy: 0.9467 - val_loss: 0.2172 - val_accuracy: 0.9279\n",
      "Epoch 55/1000\n",
      "125/125 [==============================] - ETA: 3s - loss: 0.2366 - accuracy: 0.93 - ETA: 0s - loss: 0.1404 - accuracy: 0.95 - ETA: 0s - loss: 0.1429 - accuracy: 0.95 - ETA: 0s - loss: 0.1484 - accuracy: 0.94 - ETA: 0s - loss: 0.1453 - accuracy: 0.94 - ETA: 0s - loss: 0.1523 - accuracy: 0.94 - ETA: 0s - loss: 0.1599 - accuracy: 0.94 - ETA: 0s - loss: 0.1621 - accuracy: 0.94 - ETA: 0s - loss: 0.1605 - accuracy: 0.94 - 1s 5ms/step - loss: 0.1624 - accuracy: 0.9432 - val_loss: 0.2495 - val_accuracy: 0.9189\n",
      "Epoch 56/1000\n",
      "125/125 [==============================] - ETA: 3s - loss: 0.2304 - accuracy: 0.93 - ETA: 0s - loss: 0.1437 - accuracy: 0.95 - ETA: 0s - loss: 0.1299 - accuracy: 0.95 - ETA: 0s - loss: 0.1294 - accuracy: 0.95 - ETA: 0s - loss: 0.1386 - accuracy: 0.94 - ETA: 0s - loss: 0.1448 - accuracy: 0.94 - ETA: 0s - loss: 0.1477 - accuracy: 0.94 - ETA: 0s - loss: 0.1525 - accuracy: 0.94 - ETA: 0s - loss: 0.1517 - accuracy: 0.94 - 1s 5ms/step - loss: 0.1523 - accuracy: 0.9417 - val_loss: 0.2184 - val_accuracy: 0.9319\n",
      "Epoch 57/1000\n",
      "125/125 [==============================] - ETA: 3s - loss: 0.1972 - accuracy: 0.87 - ETA: 0s - loss: 0.1367 - accuracy: 0.95 - ETA: 0s - loss: 0.1356 - accuracy: 0.95 - ETA: 0s - loss: 0.1395 - accuracy: 0.95 - ETA: 0s - loss: 0.1433 - accuracy: 0.95 - ETA: 0s - loss: 0.1568 - accuracy: 0.94 - ETA: 0s - loss: 0.1583 - accuracy: 0.94 - ETA: 0s - loss: 0.1582 - accuracy: 0.94 - ETA: 0s - loss: 0.1574 - accuracy: 0.94 - 1s 4ms/step - loss: 0.1583 - accuracy: 0.9412 - val_loss: 0.2267 - val_accuracy: 0.9279\n",
      "Epoch 58/1000\n",
      "125/125 [==============================] - ETA: 3s - loss: 0.1973 - accuracy: 0.93 - ETA: 0s - loss: 0.1388 - accuracy: 0.95 - ETA: 0s - loss: 0.1302 - accuracy: 0.95 - ETA: 0s - loss: 0.1443 - accuracy: 0.95 - ETA: 0s - loss: 0.1421 - accuracy: 0.95 - ETA: 0s - loss: 0.1491 - accuracy: 0.94 - ETA: 0s - loss: 0.1557 - accuracy: 0.94 - ETA: 0s - loss: 0.1563 - accuracy: 0.94 - ETA: 0s - loss: 0.1557 - accuracy: 0.94 - 1s 5ms/step - loss: 0.1548 - accuracy: 0.9470 - val_loss: 0.2234 - val_accuracy: 0.9309\n",
      "Epoch 59/1000\n",
      "125/125 [==============================] - ETA: 3s - loss: 0.1864 - accuracy: 0.90 - ETA: 0s - loss: 0.1207 - accuracy: 0.95 - ETA: 0s - loss: 0.1250 - accuracy: 0.95 - ETA: 0s - loss: 0.1268 - accuracy: 0.95 - ETA: 0s - loss: 0.1284 - accuracy: 0.94 - ETA: 0s - loss: 0.1392 - accuracy: 0.94 - ETA: 0s - loss: 0.1446 - accuracy: 0.94 - ETA: 0s - loss: 0.1495 - accuracy: 0.94 - ETA: 0s - loss: 0.1508 - accuracy: 0.94 - ETA: 0s - loss: 0.1482 - accuracy: 0.94 - 1s 5ms/step - loss: 0.1494 - accuracy: 0.9452 - val_loss: 0.2027 - val_accuracy: 0.9319\n",
      "Epoch 60/1000\n",
      "125/125 [==============================] - ETA: 3s - loss: 0.1321 - accuracy: 0.96 - ETA: 0s - loss: 0.1432 - accuracy: 0.94 - ETA: 0s - loss: 0.1513 - accuracy: 0.94 - ETA: 0s - loss: 0.1463 - accuracy: 0.94 - ETA: 0s - loss: 0.1450 - accuracy: 0.94 - ETA: 0s - loss: 0.1454 - accuracy: 0.94 - ETA: 0s - loss: 0.1459 - accuracy: 0.94 - ETA: 0s - loss: 0.1483 - accuracy: 0.94 - ETA: 0s - loss: 0.1491 - accuracy: 0.94 - ETA: 0s - loss: 0.1454 - accuracy: 0.94 - 1s 5ms/step - loss: 0.1469 - accuracy: 0.9480 - val_loss: 0.2088 - val_accuracy: 0.9349\n",
      "Epoch 61/1000\n"
     ]
    },
    {
     "name": "stdout",
     "output_type": "stream",
     "text": [
      "125/125 [==============================] - ETA: 3s - loss: 0.1923 - accuracy: 0.93 - ETA: 0s - loss: 0.1314 - accuracy: 0.95 - ETA: 0s - loss: 0.1308 - accuracy: 0.95 - ETA: 0s - loss: 0.1340 - accuracy: 0.95 - ETA: 0s - loss: 0.1332 - accuracy: 0.95 - ETA: 0s - loss: 0.1381 - accuracy: 0.95 - ETA: 0s - loss: 0.1399 - accuracy: 0.95 - ETA: 0s - loss: 0.1439 - accuracy: 0.94 - ETA: 0s - loss: 0.1427 - accuracy: 0.94 - 1s 5ms/step - loss: 0.1436 - accuracy: 0.9492 - val_loss: 0.2174 - val_accuracy: 0.9289\n",
      "Epoch 62/1000\n",
      "125/125 [==============================] - ETA: 3s - loss: 0.1310 - accuracy: 0.96 - ETA: 0s - loss: 0.1257 - accuracy: 0.95 - ETA: 0s - loss: 0.1187 - accuracy: 0.95 - ETA: 0s - loss: 0.1222 - accuracy: 0.95 - ETA: 0s - loss: 0.1232 - accuracy: 0.95 - ETA: 0s - loss: 0.1326 - accuracy: 0.94 - ETA: 0s - loss: 0.1362 - accuracy: 0.94 - ETA: 0s - loss: 0.1377 - accuracy: 0.94 - ETA: 0s - loss: 0.1369 - accuracy: 0.94 - 1s 5ms/step - loss: 0.1356 - accuracy: 0.9490 - val_loss: 0.2151 - val_accuracy: 0.9289\n",
      "Epoch 63/1000\n",
      "125/125 [==============================] - ETA: 3s - loss: 0.1680 - accuracy: 0.93 - ETA: 0s - loss: 0.1211 - accuracy: 0.96 - ETA: 0s - loss: 0.1179 - accuracy: 0.96 - ETA: 0s - loss: 0.1288 - accuracy: 0.95 - ETA: 0s - loss: 0.1300 - accuracy: 0.95 - ETA: 0s - loss: 0.1354 - accuracy: 0.95 - ETA: 0s - loss: 0.1434 - accuracy: 0.95 - ETA: 0s - loss: 0.1442 - accuracy: 0.95 - ETA: 0s - loss: 0.1432 - accuracy: 0.95 - 1s 4ms/step - loss: 0.1438 - accuracy: 0.9512 - val_loss: 0.2271 - val_accuracy: 0.9329\n",
      "Epoch 64/1000\n",
      "125/125 [==============================] - ETA: 3s - loss: 0.1275 - accuracy: 0.93 - ETA: 0s - loss: 0.1501 - accuracy: 0.94 - ETA: 0s - loss: 0.1410 - accuracy: 0.94 - ETA: 0s - loss: 0.1358 - accuracy: 0.94 - ETA: 0s - loss: 0.1378 - accuracy: 0.94 - ETA: 0s - loss: 0.1445 - accuracy: 0.94 - ETA: 0s - loss: 0.1459 - accuracy: 0.94 - ETA: 0s - loss: 0.1427 - accuracy: 0.94 - ETA: 0s - loss: 0.1383 - accuracy: 0.95 - 1s 5ms/step - loss: 0.1387 - accuracy: 0.9500 - val_loss: 0.2211 - val_accuracy: 0.9299\n",
      "Epoch 65/1000\n",
      "125/125 [==============================] - ETA: 4s - loss: 0.1432 - accuracy: 0.93 - ETA: 0s - loss: 0.1297 - accuracy: 0.94 - ETA: 0s - loss: 0.1154 - accuracy: 0.95 - ETA: 0s - loss: 0.1101 - accuracy: 0.95 - ETA: 0s - loss: 0.1211 - accuracy: 0.95 - ETA: 0s - loss: 0.1272 - accuracy: 0.95 - ETA: 0s - loss: 0.1349 - accuracy: 0.95 - ETA: 0s - loss: 0.1405 - accuracy: 0.95 - ETA: 0s - loss: 0.1388 - accuracy: 0.95 - ETA: 0s - loss: 0.1358 - accuracy: 0.95 - 1s 5ms/step - loss: 0.1368 - accuracy: 0.9522 - val_loss: 0.2218 - val_accuracy: 0.9339\n",
      "Epoch 66/1000\n",
      "125/125 [==============================] - ETA: 3s - loss: 0.1030 - accuracy: 1.00 - ETA: 0s - loss: 0.1158 - accuracy: 0.96 - ETA: 0s - loss: 0.1258 - accuracy: 0.95 - ETA: 0s - loss: 0.1290 - accuracy: 0.95 - ETA: 0s - loss: 0.1284 - accuracy: 0.95 - ETA: 0s - loss: 0.1304 - accuracy: 0.95 - ETA: 0s - loss: 0.1319 - accuracy: 0.95 - ETA: 0s - loss: 0.1352 - accuracy: 0.95 - ETA: 0s - loss: 0.1357 - accuracy: 0.95 - ETA: 0s - loss: 0.1349 - accuracy: 0.95 - 1s 5ms/step - loss: 0.1371 - accuracy: 0.9507 - val_loss: 0.2225 - val_accuracy: 0.9309\n",
      "Epoch 67/1000\n",
      "125/125 [==============================] - ETA: 3s - loss: 0.1885 - accuracy: 0.93 - ETA: 0s - loss: 0.1367 - accuracy: 0.94 - ETA: 0s - loss: 0.1188 - accuracy: 0.95 - ETA: 0s - loss: 0.1262 - accuracy: 0.95 - ETA: 0s - loss: 0.1271 - accuracy: 0.95 - ETA: 0s - loss: 0.1314 - accuracy: 0.95 - ETA: 0s - loss: 0.1341 - accuracy: 0.95 - ETA: 0s - loss: 0.1380 - accuracy: 0.95 - ETA: 0s - loss: 0.1376 - accuracy: 0.95 - 1s 5ms/step - loss: 0.1373 - accuracy: 0.9505 - val_loss: 0.2183 - val_accuracy: 0.9279\n",
      "Epoch 68/1000\n",
      "125/125 [==============================] - ETA: 3s - loss: 0.1857 - accuracy: 0.93 - ETA: 0s - loss: 0.1270 - accuracy: 0.95 - ETA: 0s - loss: 0.1211 - accuracy: 0.95 - ETA: 0s - loss: 0.1222 - accuracy: 0.95 - ETA: 0s - loss: 0.1231 - accuracy: 0.95 - ETA: 0s - loss: 0.1295 - accuracy: 0.94 - ETA: 0s - loss: 0.1315 - accuracy: 0.94 - ETA: 0s - loss: 0.1351 - accuracy: 0.94 - ETA: 0s - loss: 0.1335 - accuracy: 0.95 - 1s 5ms/step - loss: 0.1324 - accuracy: 0.9510 - val_loss: 0.2240 - val_accuracy: 0.9229\n",
      "Epoch 69/1000\n",
      "125/125 [==============================] - ETA: 3s - loss: 0.1421 - accuracy: 0.96 - ETA: 0s - loss: 0.1265 - accuracy: 0.95 - ETA: 0s - loss: 0.1283 - accuracy: 0.95 - ETA: 0s - loss: 0.1348 - accuracy: 0.94 - ETA: 0s - loss: 0.1303 - accuracy: 0.95 - ETA: 0s - loss: 0.1325 - accuracy: 0.95 - ETA: 0s - loss: 0.1369 - accuracy: 0.95 - ETA: 0s - loss: 0.1343 - accuracy: 0.95 - ETA: 0s - loss: 0.1317 - accuracy: 0.95 - 1s 4ms/step - loss: 0.1314 - accuracy: 0.9522 - val_loss: 0.2236 - val_accuracy: 0.9299\n"
     ]
    },
    {
     "data": {
      "text/html": [
       "<span style=\"color:#4527A0\"><h1 style=\"font-size:18px\">Trial complete</h1></span>"
      ],
      "text/plain": [
       "<IPython.core.display.HTML object>"
      ]
     },
     "metadata": {},
     "output_type": "display_data"
    },
    {
     "data": {
      "text/html": [
       "<span style=\"color:#4527A0\"><h1 style=\"font-size:18px\">Trial summary</h1></span>"
      ],
      "text/plain": [
       "<IPython.core.display.HTML object>"
      ]
     },
     "metadata": {},
     "output_type": "display_data"
    },
    {
     "data": {
      "text/html": [
       "<span style=\"color:cyan\"> |-Trial ID: a6f991879012dd7064c86d90ed66f39e</span>"
      ],
      "text/plain": [
       "<IPython.core.display.HTML object>"
      ]
     },
     "metadata": {},
     "output_type": "display_data"
    },
    {
     "data": {
      "text/html": [
       "<span style=\"color:cyan\"> |-Score: 0.20274963811971247</span>"
      ],
      "text/plain": [
       "<IPython.core.display.HTML object>"
      ]
     },
     "metadata": {},
     "output_type": "display_data"
    },
    {
     "data": {
      "text/html": [
       "<span style=\"color:cyan\"> |-Best step: 0</span>"
      ],
      "text/plain": [
       "<IPython.core.display.HTML object>"
      ]
     },
     "metadata": {},
     "output_type": "display_data"
    },
    {
     "data": {
      "text/html": [
       "<span style=\"color:#7E57C2\"><h2 style=\"font-size:16px\">Hyperparameters:</h2></span>"
      ],
      "text/plain": [
       "<IPython.core.display.HTML object>"
      ]
     },
     "metadata": {},
     "output_type": "display_data"
    },
    {
     "data": {
      "text/html": [
       "<span style=\"color:cyan\"> |-classification_head_1/dropout_rate: 0.5</span>"
      ],
      "text/plain": [
       "<IPython.core.display.HTML object>"
      ]
     },
     "metadata": {},
     "output_type": "display_data"
    },
    {
     "data": {
      "text/html": [
       "<span style=\"color:blue\"> |-classification_head_1/spatial_reduction_1/reduction_type: flatten</span>"
      ],
      "text/plain": [
       "<IPython.core.display.HTML object>"
      ]
     },
     "metadata": {},
     "output_type": "display_data"
    },
    {
     "data": {
      "text/html": [
       "<span style=\"color:cyan\"> |-classification_head_2/dropout_rate: 0</span>"
      ],
      "text/plain": [
       "<IPython.core.display.HTML object>"
      ]
     },
     "metadata": {},
     "output_type": "display_data"
    },
    {
     "data": {
      "text/html": [
       "<span style=\"color:blue\"> |-classification_head_2/spatial_reduction_1/reduction_type: global_avg</span>"
      ],
      "text/plain": [
       "<IPython.core.display.HTML object>"
      ]
     },
     "metadata": {},
     "output_type": "display_data"
    },
    {
     "data": {
      "text/html": [
       "<span style=\"color:cyan\"> |-dense_block_1/dropout_rate: 0</span>"
      ],
      "text/plain": [
       "<IPython.core.display.HTML object>"
      ]
     },
     "metadata": {},
     "output_type": "display_data"
    },
    {
     "data": {
      "text/html": [
       "<span style=\"color:blue\"> |-dense_block_1/num_layers: 1</span>"
      ],
      "text/plain": [
       "<IPython.core.display.HTML object>"
      ]
     },
     "metadata": {},
     "output_type": "display_data"
    },
    {
     "data": {
      "text/html": [
       "<span style=\"color:cyan\"> |-dense_block_1/units_0: 128</span>"
      ],
      "text/plain": [
       "<IPython.core.display.HTML object>"
      ]
     },
     "metadata": {},
     "output_type": "display_data"
    },
    {
     "data": {
      "text/html": [
       "<span style=\"color:blue\"> |-dense_block_1/use_batchnorm: False</span>"
      ],
      "text/plain": [
       "<IPython.core.display.HTML object>"
      ]
     },
     "metadata": {},
     "output_type": "display_data"
    },
    {
     "data": {
      "text/html": [
       "<span style=\"color:cyan\"> |-image_block_1/augment: False</span>"
      ],
      "text/plain": [
       "<IPython.core.display.HTML object>"
      ]
     },
     "metadata": {},
     "output_type": "display_data"
    },
    {
     "data": {
      "text/html": [
       "<span style=\"color:blue\"> |-image_block_1/block_type: vanilla</span>"
      ],
      "text/plain": [
       "<IPython.core.display.HTML object>"
      ]
     },
     "metadata": {},
     "output_type": "display_data"
    },
    {
     "data": {
      "text/html": [
       "<span style=\"color:cyan\"> |-image_block_1/conv_block_1/dropout_rate: 0.25</span>"
      ],
      "text/plain": [
       "<IPython.core.display.HTML object>"
      ]
     },
     "metadata": {},
     "output_type": "display_data"
    },
    {
     "data": {
      "text/html": [
       "<span style=\"color:blue\"> |-image_block_1/conv_block_1/filters_0_0: 32</span>"
      ],
      "text/plain": [
       "<IPython.core.display.HTML object>"
      ]
     },
     "metadata": {},
     "output_type": "display_data"
    },
    {
     "data": {
      "text/html": [
       "<span style=\"color:cyan\"> |-image_block_1/conv_block_1/filters_0_1: 64</span>"
      ],
      "text/plain": [
       "<IPython.core.display.HTML object>"
      ]
     },
     "metadata": {},
     "output_type": "display_data"
    },
    {
     "data": {
      "text/html": [
       "<span style=\"color:blue\"> |-image_block_1/conv_block_1/kernel_size: 3</span>"
      ],
      "text/plain": [
       "<IPython.core.display.HTML object>"
      ]
     },
     "metadata": {},
     "output_type": "display_data"
    },
    {
     "data": {
      "text/html": [
       "<span style=\"color:cyan\"> |-image_block_1/conv_block_1/max_pooling: True</span>"
      ],
      "text/plain": [
       "<IPython.core.display.HTML object>"
      ]
     },
     "metadata": {},
     "output_type": "display_data"
    },
    {
     "data": {
      "text/html": [
       "<span style=\"color:blue\"> |-image_block_1/conv_block_1/num_blocks: 1</span>"
      ],
      "text/plain": [
       "<IPython.core.display.HTML object>"
      ]
     },
     "metadata": {},
     "output_type": "display_data"
    },
    {
     "data": {
      "text/html": [
       "<span style=\"color:cyan\"> |-image_block_1/conv_block_1/num_layers: 2</span>"
      ],
      "text/plain": [
       "<IPython.core.display.HTML object>"
      ]
     },
     "metadata": {},
     "output_type": "display_data"
    },
    {
     "data": {
      "text/html": [
       "<span style=\"color:blue\"> |-image_block_1/conv_block_1/separable: False</span>"
      ],
      "text/plain": [
       "<IPython.core.display.HTML object>"
      ]
     },
     "metadata": {},
     "output_type": "display_data"
    },
    {
     "data": {
      "text/html": [
       "<span style=\"color:cyan\"> |-image_block_1/normalize: True</span>"
      ],
      "text/plain": [
       "<IPython.core.display.HTML object>"
      ]
     },
     "metadata": {},
     "output_type": "display_data"
    },
    {
     "data": {
      "text/html": [
       "<span style=\"color:blue\"> |-image_block_2/augment: False</span>"
      ],
      "text/plain": [
       "<IPython.core.display.HTML object>"
      ]
     },
     "metadata": {},
     "output_type": "display_data"
    },
    {
     "data": {
      "text/html": [
       "<span style=\"color:cyan\"> |-image_block_2/block_type: vanilla</span>"
      ],
      "text/plain": [
       "<IPython.core.display.HTML object>"
      ]
     },
     "metadata": {},
     "output_type": "display_data"
    },
    {
     "data": {
      "text/html": [
       "<span style=\"color:blue\"> |-image_block_2/conv_block_1/dropout_rate: 0</span>"
      ],
      "text/plain": [
       "<IPython.core.display.HTML object>"
      ]
     },
     "metadata": {},
     "output_type": "display_data"
    },
    {
     "data": {
      "text/html": [
       "<span style=\"color:cyan\"> |-image_block_2/conv_block_1/filters_0_0: 32</span>"
      ],
      "text/plain": [
       "<IPython.core.display.HTML object>"
      ]
     },
     "metadata": {},
     "output_type": "display_data"
    },
    {
     "data": {
      "text/html": [
       "<span style=\"color:blue\"> |-image_block_2/conv_block_1/filters_0_1: 32</span>"
      ],
      "text/plain": [
       "<IPython.core.display.HTML object>"
      ]
     },
     "metadata": {},
     "output_type": "display_data"
    },
    {
     "data": {
      "text/html": [
       "<span style=\"color:cyan\"> |-image_block_2/conv_block_1/filters_1_0: 32</span>"
      ],
      "text/plain": [
       "<IPython.core.display.HTML object>"
      ]
     },
     "metadata": {},
     "output_type": "display_data"
    },
    {
     "data": {
      "text/html": [
       "<span style=\"color:blue\"> |-image_block_2/conv_block_1/filters_1_1: 32</span>"
      ],
      "text/plain": [
       "<IPython.core.display.HTML object>"
      ]
     },
     "metadata": {},
     "output_type": "display_data"
    },
    {
     "data": {
      "text/html": [
       "<span style=\"color:cyan\"> |-image_block_2/conv_block_1/kernel_size: 3</span>"
      ],
      "text/plain": [
       "<IPython.core.display.HTML object>"
      ]
     },
     "metadata": {},
     "output_type": "display_data"
    },
    {
     "data": {
      "text/html": [
       "<span style=\"color:blue\"> |-image_block_2/conv_block_1/max_pooling: True</span>"
      ],
      "text/plain": [
       "<IPython.core.display.HTML object>"
      ]
     },
     "metadata": {},
     "output_type": "display_data"
    },
    {
     "data": {
      "text/html": [
       "<span style=\"color:cyan\"> |-image_block_2/conv_block_1/num_blocks: 2</span>"
      ],
      "text/plain": [
       "<IPython.core.display.HTML object>"
      ]
     },
     "metadata": {},
     "output_type": "display_data"
    },
    {
     "data": {
      "text/html": [
       "<span style=\"color:blue\"> |-image_block_2/conv_block_1/num_layers: 2</span>"
      ],
      "text/plain": [
       "<IPython.core.display.HTML object>"
      ]
     },
     "metadata": {},
     "output_type": "display_data"
    },
    {
     "data": {
      "text/html": [
       "<span style=\"color:cyan\"> |-image_block_2/conv_block_1/separable: False</span>"
      ],
      "text/plain": [
       "<IPython.core.display.HTML object>"
      ]
     },
     "metadata": {},
     "output_type": "display_data"
    },
    {
     "data": {
      "text/html": [
       "<span style=\"color:blue\"> |-image_block_2/normalize: False</span>"
      ],
      "text/plain": [
       "<IPython.core.display.HTML object>"
      ]
     },
     "metadata": {},
     "output_type": "display_data"
    },
    {
     "data": {
      "text/html": [
       "<span style=\"color:cyan\"> |-optimizer: adam</span>"
      ],
      "text/plain": [
       "<IPython.core.display.HTML object>"
      ]
     },
     "metadata": {},
     "output_type": "display_data"
    },
    {
     "name": "stdout",
     "output_type": "stream",
     "text": [
      "INFO:tensorflow:Oracle triggered exit\n",
      "Train for 157 steps, validate for 32 steps\n",
      "Epoch 1/1000\n",
      "157/157 [==============================] - ETA: 1:07 - loss: 0.6747 - accuracy: 0.62 - ETA: 4s - loss: 0.5754 - accuracy: 0.6458 - ETA: 2s - loss: 0.5897 - accuracy: 0.65 - ETA: 1s - loss: 0.5843 - accuracy: 0.66 - ETA: 1s - loss: 0.5799 - accuracy: 0.67 - ETA: 0s - loss: 0.5773 - accuracy: 0.67 - ETA: 0s - loss: 0.5752 - accuracy: 0.67 - ETA: 0s - loss: 0.5712 - accuracy: 0.67 - ETA: 0s - loss: 0.5705 - accuracy: 0.68 - ETA: 0s - loss: 0.5703 - accuracy: 0.68 - ETA: 0s - loss: 0.5705 - accuracy: 0.68 - ETA: 0s - loss: 0.5678 - accuracy: 0.68 - 1s 8ms/step - loss: 0.5660 - accuracy: 0.6855 - val_loss: 0.5268 - val_accuracy: 0.7257\n",
      "Epoch 2/1000\n",
      "157/157 [==============================] - ETA: 7s - loss: 0.3889 - accuracy: 0.84 - ETA: 0s - loss: 0.5130 - accuracy: 0.71 - ETA: 0s - loss: 0.5441 - accuracy: 0.70 - ETA: 0s - loss: 0.5423 - accuracy: 0.70 - ETA: 0s - loss: 0.5365 - accuracy: 0.71 - ETA: 0s - loss: 0.5336 - accuracy: 0.71 - ETA: 0s - loss: 0.5293 - accuracy: 0.72 - ETA: 0s - loss: 0.5306 - accuracy: 0.71 - ETA: 0s - loss: 0.5269 - accuracy: 0.72 - ETA: 0s - loss: 0.5269 - accuracy: 0.72 - ETA: 0s - loss: 0.5234 - accuracy: 0.73 - ETA: 0s - loss: 0.5213 - accuracy: 0.73 - 1s 5ms/step - loss: 0.5203 - accuracy: 0.7344 - val_loss: 0.4660 - val_accuracy: 0.7888\n",
      "Epoch 3/1000\n",
      "157/157 [==============================] - ETA: 7s - loss: 0.3670 - accuracy: 0.87 - ETA: 0s - loss: 0.4594 - accuracy: 0.76 - ETA: 0s - loss: 0.4729 - accuracy: 0.77 - ETA: 0s - loss: 0.4707 - accuracy: 0.77 - ETA: 0s - loss: 0.4680 - accuracy: 0.78 - ETA: 0s - loss: 0.4661 - accuracy: 0.78 - ETA: 0s - loss: 0.4618 - accuracy: 0.78 - ETA: 0s - loss: 0.4581 - accuracy: 0.78 - ETA: 0s - loss: 0.4568 - accuracy: 0.79 - ETA: 0s - loss: 0.4549 - accuracy: 0.79 - ETA: 0s - loss: 0.4513 - accuracy: 0.79 - ETA: 0s - loss: 0.4507 - accuracy: 0.79 - 1s 5ms/step - loss: 0.4490 - accuracy: 0.7970 - val_loss: 0.4153 - val_accuracy: 0.8028\n",
      "Epoch 4/1000\n",
      "157/157 [==============================] - ETA: 7s - loss: 0.2944 - accuracy: 0.84 - ETA: 0s - loss: 0.4164 - accuracy: 0.82 - ETA: 0s - loss: 0.4164 - accuracy: 0.83 - ETA: 0s - loss: 0.4080 - accuracy: 0.83 - ETA: 0s - loss: 0.4055 - accuracy: 0.83 - ETA: 0s - loss: 0.4084 - accuracy: 0.83 - ETA: 0s - loss: 0.4033 - accuracy: 0.83 - ETA: 0s - loss: 0.4073 - accuracy: 0.83 - ETA: 0s - loss: 0.4015 - accuracy: 0.83 - ETA: 0s - loss: 0.4042 - accuracy: 0.83 - ETA: 0s - loss: 0.4015 - accuracy: 0.83 - 1s 5ms/step - loss: 0.4010 - accuracy: 0.8345 - val_loss: 0.3622 - val_accuracy: 0.8428\n",
      "Epoch 5/1000\n",
      "157/157 [==============================] - ETA: 7s - loss: 0.2731 - accuracy: 0.87 - ETA: 0s - loss: 0.3613 - accuracy: 0.85 - ETA: 0s - loss: 0.3686 - accuracy: 0.85 - ETA: 0s - loss: 0.3636 - accuracy: 0.86 - ETA: 0s - loss: 0.3650 - accuracy: 0.85 - ETA: 0s - loss: 0.3669 - accuracy: 0.85 - ETA: 0s - loss: 0.3667 - accuracy: 0.85 - ETA: 0s - loss: 0.3660 - accuracy: 0.85 - ETA: 0s - loss: 0.3611 - accuracy: 0.85 - ETA: 0s - loss: 0.3655 - accuracy: 0.85 - ETA: 0s - loss: 0.3609 - accuracy: 0.85 - 1s 4ms/step - loss: 0.3624 - accuracy: 0.8553 - val_loss: 0.3519 - val_accuracy: 0.8378\n",
      "Epoch 6/1000\n",
      "157/157 [==============================] - ETA: 7s - loss: 0.2748 - accuracy: 0.87 - ETA: 0s - loss: 0.3659 - accuracy: 0.85 - ETA: 0s - loss: 0.3599 - accuracy: 0.85 - ETA: 0s - loss: 0.3459 - accuracy: 0.86 - ETA: 0s - loss: 0.3438 - accuracy: 0.86 - ETA: 0s - loss: 0.3458 - accuracy: 0.86 - ETA: 0s - loss: 0.3438 - accuracy: 0.86 - ETA: 0s - loss: 0.3443 - accuracy: 0.86 - ETA: 0s - loss: 0.3400 - accuracy: 0.86 - ETA: 0s - loss: 0.3455 - accuracy: 0.86 - ETA: 0s - loss: 0.3416 - accuracy: 0.86 - 1s 4ms/step - loss: 0.3406 - accuracy: 0.8647 - val_loss: 0.3196 - val_accuracy: 0.8569\n",
      "Epoch 7/1000\n",
      "157/157 [==============================] - ETA: 7s - loss: 0.2617 - accuracy: 0.90 - ETA: 0s - loss: 0.3214 - accuracy: 0.86 - ETA: 0s - loss: 0.3266 - accuracy: 0.87 - ETA: 0s - loss: 0.3223 - accuracy: 0.87 - ETA: 0s - loss: 0.3225 - accuracy: 0.87 - ETA: 0s - loss: 0.3247 - accuracy: 0.87 - ETA: 0s - loss: 0.3236 - accuracy: 0.87 - ETA: 0s - loss: 0.3238 - accuracy: 0.87 - ETA: 0s - loss: 0.3200 - accuracy: 0.87 - ETA: 0s - loss: 0.3226 - accuracy: 0.87 - ETA: 0s - loss: 0.3177 - accuracy: 0.87 - 1s 4ms/step - loss: 0.3170 - accuracy: 0.8767 - val_loss: 0.3150 - val_accuracy: 0.8619\n",
      "Epoch 8/1000\n",
      "157/157 [==============================] - ETA: 7s - loss: 0.2657 - accuracy: 0.87 - ETA: 0s - loss: 0.3132 - accuracy: 0.87 - ETA: 0s - loss: 0.3143 - accuracy: 0.88 - ETA: 0s - loss: 0.3126 - accuracy: 0.88 - ETA: 0s - loss: 0.3119 - accuracy: 0.88 - ETA: 0s - loss: 0.3130 - accuracy: 0.88 - ETA: 0s - loss: 0.3092 - accuracy: 0.88 - ETA: 0s - loss: 0.3105 - accuracy: 0.88 - ETA: 0s - loss: 0.3112 - accuracy: 0.88 - ETA: 0s - loss: 0.3103 - accuracy: 0.88 - ETA: 0s - loss: 0.3154 - accuracy: 0.87 - ETA: 0s - loss: 0.3104 - accuracy: 0.88 - 1s 5ms/step - loss: 0.3090 - accuracy: 0.8801 - val_loss: 0.2765 - val_accuracy: 0.8879\n",
      "Epoch 9/1000\n",
      "157/157 [==============================] - ETA: 7s - loss: 0.2862 - accuracy: 0.90 - ETA: 1s - loss: 0.2818 - accuracy: 0.89 - ETA: 0s - loss: 0.2907 - accuracy: 0.89 - ETA: 0s - loss: 0.2807 - accuracy: 0.89 - ETA: 0s - loss: 0.2840 - accuracy: 0.89 - ETA: 0s - loss: 0.2837 - accuracy: 0.89 - ETA: 0s - loss: 0.2867 - accuracy: 0.89 - ETA: 0s - loss: 0.2882 - accuracy: 0.89 - ETA: 0s - loss: 0.2844 - accuracy: 0.89 - ETA: 0s - loss: 0.2839 - accuracy: 0.89 - ETA: 0s - loss: 0.2898 - accuracy: 0.89 - ETA: 0s - loss: 0.2842 - accuracy: 0.89 - 1s 5ms/step - loss: 0.2833 - accuracy: 0.8955 - val_loss: 0.2658 - val_accuracy: 0.8909\n",
      "Epoch 10/1000\n",
      "157/157 [==============================] - ETA: 7s - loss: 0.2256 - accuracy: 0.87 - ETA: 1s - loss: 0.2704 - accuracy: 0.89 - ETA: 0s - loss: 0.2913 - accuracy: 0.89 - ETA: 0s - loss: 0.2864 - accuracy: 0.89 - ETA: 0s - loss: 0.2866 - accuracy: 0.89 - ETA: 0s - loss: 0.2866 - accuracy: 0.89 - ETA: 0s - loss: 0.2870 - accuracy: 0.89 - ETA: 0s - loss: 0.2874 - accuracy: 0.89 - ETA: 0s - loss: 0.2837 - accuracy: 0.89 - ETA: 0s - loss: 0.2830 - accuracy: 0.89 - ETA: 0s - loss: 0.2876 - accuracy: 0.89 - ETA: 0s - loss: 0.2821 - accuracy: 0.89 - 1s 5ms/step - loss: 0.2822 - accuracy: 0.8957 - val_loss: 0.2693 - val_accuracy: 0.8919\n",
      "Epoch 11/1000\n",
      "157/157 [==============================] - ETA: 8s - loss: 0.3041 - accuracy: 0.90 - ETA: 1s - loss: 0.2640 - accuracy: 0.91 - ETA: 0s - loss: 0.2724 - accuracy: 0.91 - ETA: 0s - loss: 0.2738 - accuracy: 0.90 - ETA: 0s - loss: 0.2769 - accuracy: 0.90 - ETA: 0s - loss: 0.2767 - accuracy: 0.89 - ETA: 0s - loss: 0.2774 - accuracy: 0.89 - ETA: 0s - loss: 0.2795 - accuracy: 0.89 - ETA: 0s - loss: 0.2737 - accuracy: 0.89 - ETA: 0s - loss: 0.2752 - accuracy: 0.89 - ETA: 0s - loss: 0.2766 - accuracy: 0.89 - ETA: 0s - loss: 0.2736 - accuracy: 0.89 - 1s 5ms/step - loss: 0.2744 - accuracy: 0.8987 - val_loss: 0.2743 - val_accuracy: 0.8909\n",
      "Epoch 12/1000\n",
      "157/157 [==============================] - ETA: 7s - loss: 0.2610 - accuracy: 0.90 - ETA: 0s - loss: 0.2702 - accuracy: 0.90 - ETA: 0s - loss: 0.2596 - accuracy: 0.90 - ETA: 0s - loss: 0.2501 - accuracy: 0.91 - ETA: 0s - loss: 0.2551 - accuracy: 0.90 - ETA: 0s - loss: 0.2556 - accuracy: 0.90 - ETA: 0s - loss: 0.2594 - accuracy: 0.90 - ETA: 0s - loss: 0.2647 - accuracy: 0.90 - ETA: 0s - loss: 0.2609 - accuracy: 0.90 - ETA: 0s - loss: 0.2622 - accuracy: 0.90 - ETA: 0s - loss: 0.2652 - accuracy: 0.90 - ETA: 0s - loss: 0.2606 - accuracy: 0.90 - 1s 5ms/step - loss: 0.2614 - accuracy: 0.9041 - val_loss: 0.2314 - val_accuracy: 0.9089\n",
      "Epoch 13/1000\n",
      "157/157 [==============================] - ETA: 7s - loss: 0.2733 - accuracy: 0.90 - ETA: 1s - loss: 0.2478 - accuracy: 0.91 - ETA: 0s - loss: 0.2507 - accuracy: 0.91 - ETA: 0s - loss: 0.2524 - accuracy: 0.91 - ETA: 0s - loss: 0.2568 - accuracy: 0.90 - ETA: 0s - loss: 0.2536 - accuracy: 0.90 - ETA: 0s - loss: 0.2571 - accuracy: 0.90 - ETA: 0s - loss: 0.2619 - accuracy: 0.90 - ETA: 0s - loss: 0.2581 - accuracy: 0.90 - ETA: 0s - loss: 0.2594 - accuracy: 0.90 - ETA: 0s - loss: 0.2627 - accuracy: 0.90 - ETA: 0s - loss: 0.2586 - accuracy: 0.90 - 1s 5ms/step - loss: 0.2578 - accuracy: 0.9071 - val_loss: 0.2217 - val_accuracy: 0.9169\n",
      "Epoch 14/1000\n",
      "157/157 [==============================] - ETA: 7s - loss: 0.2116 - accuracy: 0.93 - ETA: 0s - loss: 0.2332 - accuracy: 0.92 - ETA: 0s - loss: 0.2404 - accuracy: 0.92 - ETA: 0s - loss: 0.2398 - accuracy: 0.92 - ETA: 0s - loss: 0.2437 - accuracy: 0.91 - ETA: 0s - loss: 0.2493 - accuracy: 0.91 - ETA: 0s - loss: 0.2504 - accuracy: 0.91 - ETA: 0s - loss: 0.2523 - accuracy: 0.91 - ETA: 0s - loss: 0.2461 - accuracy: 0.91 - ETA: 0s - loss: 0.2485 - accuracy: 0.91 - ETA: 0s - loss: 0.2459 - accuracy: 0.91 - 1s 4ms/step - loss: 0.2470 - accuracy: 0.9117 - val_loss: 0.2453 - val_accuracy: 0.9019\n",
      "Epoch 15/1000\n",
      "157/157 [==============================] - ETA: 7s - loss: 0.2511 - accuracy: 0.93 - ETA: 0s - loss: 0.2438 - accuracy: 0.91 - ETA: 0s - loss: 0.2366 - accuracy: 0.91 - ETA: 0s - loss: 0.2343 - accuracy: 0.92 - ETA: 0s - loss: 0.2379 - accuracy: 0.91 - ETA: 0s - loss: 0.2415 - accuracy: 0.91 - ETA: 0s - loss: 0.2437 - accuracy: 0.91 - ETA: 0s - loss: 0.2461 - accuracy: 0.91 - ETA: 0s - loss: 0.2435 - accuracy: 0.91 - ETA: 0s - loss: 0.2420 - accuracy: 0.91 - ETA: 0s - loss: 0.2395 - accuracy: 0.91 - ETA: 0s - loss: 0.2392 - accuracy: 0.91 - 1s 5ms/step - loss: 0.2375 - accuracy: 0.9135 - val_loss: 0.2024 - val_accuracy: 0.9279\n",
      "Epoch 16/1000\n",
      "157/157 [==============================] - ETA: 7s - loss: 0.2251 - accuracy: 0.93 - ETA: 0s - loss: 0.2249 - accuracy: 0.91 - ETA: 0s - loss: 0.2193 - accuracy: 0.92 - ETA: 0s - loss: 0.2265 - accuracy: 0.92 - ETA: 0s - loss: 0.2303 - accuracy: 0.91 - ETA: 0s - loss: 0.2347 - accuracy: 0.91 - ETA: 0s - loss: 0.2412 - accuracy: 0.91 - ETA: 0s - loss: 0.2405 - accuracy: 0.91 - ETA: 0s - loss: 0.2372 - accuracy: 0.91 - ETA: 0s - loss: 0.2380 - accuracy: 0.91 - ETA: 0s - loss: 0.2355 - accuracy: 0.91 - 1s 5ms/step - loss: 0.2336 - accuracy: 0.9157 - val_loss: 0.2077 - val_accuracy: 0.9199\n",
      "Epoch 17/1000\n",
      "157/157 [==============================] - ETA: 6s - loss: 0.2385 - accuracy: 0.93 - ETA: 0s - loss: 0.2230 - accuracy: 0.92 - ETA: 0s - loss: 0.2220 - accuracy: 0.92 - ETA: 0s - loss: 0.2271 - accuracy: 0.92 - ETA: 0s - loss: 0.2308 - accuracy: 0.92 - ETA: 0s - loss: 0.2363 - accuracy: 0.91 - ETA: 0s - loss: 0.2396 - accuracy: 0.91 - ETA: 0s - loss: 0.2425 - accuracy: 0.91 - ETA: 0s - loss: 0.2366 - accuracy: 0.92 - ETA: 0s - loss: 0.2364 - accuracy: 0.91 - ETA: 0s - loss: 0.2310 - accuracy: 0.92 - 1s 4ms/step - loss: 0.2315 - accuracy: 0.9209 - val_loss: 0.1962 - val_accuracy: 0.9259\n",
      "Epoch 18/1000\n",
      "157/157 [==============================] - ETA: 7s - loss: 0.2306 - accuracy: 0.93 - ETA: 0s - loss: 0.2240 - accuracy: 0.93 - ETA: 0s - loss: 0.2116 - accuracy: 0.92 - ETA: 0s - loss: 0.2170 - accuracy: 0.92 - ETA: 0s - loss: 0.2212 - accuracy: 0.92 - ETA: 0s - loss: 0.2251 - accuracy: 0.92 - ETA: 0s - loss: 0.2283 - accuracy: 0.91 - ETA: 0s - loss: 0.2288 - accuracy: 0.91 - ETA: 0s - loss: 0.2255 - accuracy: 0.91 - ETA: 0s - loss: 0.2260 - accuracy: 0.91 - ETA: 0s - loss: 0.2243 - accuracy: 0.91 - ETA: 0s - loss: 0.2252 - accuracy: 0.91 - 1s 5ms/step - loss: 0.2232 - accuracy: 0.9175 - val_loss: 0.2080 - val_accuracy: 0.9119\n",
      "Epoch 19/1000\n",
      "157/157 [==============================] - ETA: 7s - loss: 0.2557 - accuracy: 0.93 - ETA: 0s - loss: 0.2287 - accuracy: 0.93 - ETA: 0s - loss: 0.2098 - accuracy: 0.93 - ETA: 0s - loss: 0.2121 - accuracy: 0.93 - ETA: 0s - loss: 0.2200 - accuracy: 0.92 - ETA: 0s - loss: 0.2216 - accuracy: 0.92 - ETA: 0s - loss: 0.2216 - accuracy: 0.92 - ETA: 0s - loss: 0.2266 - accuracy: 0.92 - ETA: 0s - loss: 0.2211 - accuracy: 0.92 - ETA: 0s - loss: 0.2197 - accuracy: 0.92 - ETA: 0s - loss: 0.2197 - accuracy: 0.92 - ETA: 0s - loss: 0.2169 - accuracy: 0.92 - 1s 5ms/step - loss: 0.2178 - accuracy: 0.9231 - val_loss: 0.1840 - val_accuracy: 0.9329\n",
      "Epoch 20/1000\n",
      "157/157 [==============================] - ETA: 7s - loss: 0.2164 - accuracy: 0.90 - ETA: 0s - loss: 0.1929 - accuracy: 0.94 - ETA: 0s - loss: 0.2018 - accuracy: 0.93 - ETA: 0s - loss: 0.2072 - accuracy: 0.93 - ETA: 0s - loss: 0.2158 - accuracy: 0.92 - ETA: 0s - loss: 0.2201 - accuracy: 0.92 - ETA: 0s - loss: 0.2224 - accuracy: 0.92 - ETA: 0s - loss: 0.2249 - accuracy: 0.91 - ETA: 0s - loss: 0.2206 - accuracy: 0.92 - ETA: 0s - loss: 0.2215 - accuracy: 0.92 - ETA: 0s - loss: 0.2179 - accuracy: 0.92 - 1s 4ms/step - loss: 0.2175 - accuracy: 0.9215 - val_loss: 0.1886 - val_accuracy: 0.9259\n",
      "Epoch 21/1000\n",
      "157/157 [==============================] - ETA: 7s - loss: 0.2245 - accuracy: 0.93 - ETA: 0s - loss: 0.1941 - accuracy: 0.93 - ETA: 0s - loss: 0.1897 - accuracy: 0.93 - ETA: 0s - loss: 0.2002 - accuracy: 0.93 - ETA: 0s - loss: 0.2033 - accuracy: 0.93 - ETA: 0s - loss: 0.2084 - accuracy: 0.92 - ETA: 0s - loss: 0.2131 - accuracy: 0.92 - ETA: 0s - loss: 0.2149 - accuracy: 0.92 - ETA: 0s - loss: 0.2112 - accuracy: 0.92 - ETA: 0s - loss: 0.2135 - accuracy: 0.92 - ETA: 0s - loss: 0.2099 - accuracy: 0.92 - 1s 5ms/step - loss: 0.2090 - accuracy: 0.9265 - val_loss: 0.2118 - val_accuracy: 0.9209\n",
      "Epoch 22/1000\n",
      "157/157 [==============================] - ETA: 8s - loss: 0.2184 - accuracy: 0.90 - ETA: 1s - loss: 0.1999 - accuracy: 0.92 - ETA: 1s - loss: 0.2027 - accuracy: 0.93 - ETA: 0s - loss: 0.1938 - accuracy: 0.93 - ETA: 0s - loss: 0.2024 - accuracy: 0.93 - ETA: 0s - loss: 0.2055 - accuracy: 0.93 - ETA: 0s - loss: 0.2078 - accuracy: 0.92 - ETA: 0s - loss: 0.2087 - accuracy: 0.92 - ETA: 0s - loss: 0.2155 - accuracy: 0.92 - ETA: 0s - loss: 0.2137 - accuracy: 0.92 - ETA: 0s - loss: 0.2103 - accuracy: 0.92 - ETA: 0s - loss: 0.2091 - accuracy: 0.92 - ETA: 0s - loss: 0.2103 - accuracy: 0.92 - 1s 5ms/step - loss: 0.2086 - accuracy: 0.9261 - val_loss: 0.1765 - val_accuracy: 0.9289\n",
      "Epoch 23/1000\n",
      "157/157 [==============================] - ETA: 7s - loss: 0.1650 - accuracy: 0.96 - ETA: 0s - loss: 0.1822 - accuracy: 0.93 - ETA: 0s - loss: 0.1858 - accuracy: 0.94 - ETA: 0s - loss: 0.1991 - accuracy: 0.93 - ETA: 0s - loss: 0.1987 - accuracy: 0.93 - ETA: 0s - loss: 0.2057 - accuracy: 0.93 - ETA: 0s - loss: 0.2148 - accuracy: 0.92 - ETA: 0s - loss: 0.2140 - accuracy: 0.92 - ETA: 0s - loss: 0.2088 - accuracy: 0.92 - ETA: 0s - loss: 0.2087 - accuracy: 0.92 - ETA: 0s - loss: 0.2048 - accuracy: 0.92 - 1s 4ms/step - loss: 0.2048 - accuracy: 0.9279 - val_loss: 0.1798 - val_accuracy: 0.9319\n",
      "Epoch 24/1000\n",
      "157/157 [==============================] - ETA: 6s - loss: 0.2370 - accuracy: 0.90 - ETA: 0s - loss: 0.1973 - accuracy: 0.92 - ETA: 0s - loss: 0.1801 - accuracy: 0.93 - ETA: 0s - loss: 0.1945 - accuracy: 0.93 - ETA: 0s - loss: 0.1944 - accuracy: 0.93 - ETA: 0s - loss: 0.2009 - accuracy: 0.93 - ETA: 0s - loss: 0.2040 - accuracy: 0.92 - ETA: 0s - loss: 0.2064 - accuracy: 0.92 - ETA: 0s - loss: 0.2027 - accuracy: 0.92 - ETA: 0s - loss: 0.2053 - accuracy: 0.92 - ETA: 0s - loss: 0.2027 - accuracy: 0.92 - 1s 4ms/step - loss: 0.2007 - accuracy: 0.9293 - val_loss: 0.1641 - val_accuracy: 0.9369\n",
      "Epoch 25/1000\n",
      "157/157 [==============================] - ETA: 7s - loss: 0.1716 - accuracy: 0.90 - ETA: 0s - loss: 0.1832 - accuracy: 0.93 - ETA: 0s - loss: 0.1796 - accuracy: 0.93 - ETA: 0s - loss: 0.1874 - accuracy: 0.93 - ETA: 0s - loss: 0.1927 - accuracy: 0.93 - ETA: 0s - loss: 0.2013 - accuracy: 0.93 - ETA: 0s - loss: 0.2019 - accuracy: 0.92 - ETA: 0s - loss: 0.2046 - accuracy: 0.92 - ETA: 0s - loss: 0.2004 - accuracy: 0.93 - ETA: 0s - loss: 0.1995 - accuracy: 0.93 - ETA: 0s - loss: 0.1959 - accuracy: 0.93 - 1s 5ms/step - loss: 0.1954 - accuracy: 0.9307 - val_loss: 0.1760 - val_accuracy: 0.9359\n",
      "Epoch 26/1000\n"
     ]
    },
    {
     "name": "stdout",
     "output_type": "stream",
     "text": [
      "157/157 [==============================] - ETA: 7s - loss: 0.1769 - accuracy: 0.93 - ETA: 0s - loss: 0.1771 - accuracy: 0.93 - ETA: 0s - loss: 0.1705 - accuracy: 0.93 - ETA: 0s - loss: 0.1802 - accuracy: 0.93 - ETA: 0s - loss: 0.1862 - accuracy: 0.93 - ETA: 0s - loss: 0.1938 - accuracy: 0.93 - ETA: 0s - loss: 0.1951 - accuracy: 0.93 - ETA: 0s - loss: 0.2015 - accuracy: 0.92 - ETA: 0s - loss: 0.2003 - accuracy: 0.93 - ETA: 0s - loss: 0.2004 - accuracy: 0.92 - ETA: 0s - loss: 0.1982 - accuracy: 0.93 - ETA: 0s - loss: 0.1991 - accuracy: 0.93 - 1s 5ms/step - loss: 0.1972 - accuracy: 0.9309 - val_loss: 0.1703 - val_accuracy: 0.9339\n",
      "Epoch 27/1000\n",
      "157/157 [==============================] - ETA: 7s - loss: 0.1703 - accuracy: 0.93 - ETA: 0s - loss: 0.1773 - accuracy: 0.93 - ETA: 0s - loss: 0.1719 - accuracy: 0.93 - ETA: 0s - loss: 0.1791 - accuracy: 0.93 - ETA: 0s - loss: 0.1844 - accuracy: 0.93 - ETA: 0s - loss: 0.1945 - accuracy: 0.93 - ETA: 0s - loss: 0.2006 - accuracy: 0.92 - ETA: 0s - loss: 0.1997 - accuracy: 0.93 - ETA: 0s - loss: 0.1958 - accuracy: 0.93 - ETA: 0s - loss: 0.2006 - accuracy: 0.92 - ETA: 0s - loss: 0.1968 - accuracy: 0.93 - 1s 4ms/step - loss: 0.1955 - accuracy: 0.9317 - val_loss: 0.1832 - val_accuracy: 0.9299\n",
      "Epoch 28/1000\n",
      "157/157 [==============================] - ETA: 7s - loss: 0.2365 - accuracy: 0.87 - ETA: 0s - loss: 0.2055 - accuracy: 0.92 - ETA: 0s - loss: 0.1860 - accuracy: 0.93 - ETA: 0s - loss: 0.1843 - accuracy: 0.93 - ETA: 0s - loss: 0.1880 - accuracy: 0.93 - ETA: 0s - loss: 0.1941 - accuracy: 0.93 - ETA: 0s - loss: 0.1976 - accuracy: 0.93 - ETA: 0s - loss: 0.2007 - accuracy: 0.92 - ETA: 0s - loss: 0.1981 - accuracy: 0.92 - ETA: 0s - loss: 0.1963 - accuracy: 0.92 - ETA: 0s - loss: 0.1935 - accuracy: 0.92 - 1s 4ms/step - loss: 0.1937 - accuracy: 0.9299 - val_loss: 0.1748 - val_accuracy: 0.9329\n",
      "Epoch 29/1000\n",
      "157/157 [==============================] - ETA: 7s - loss: 0.2119 - accuracy: 0.90 - ETA: 0s - loss: 0.1869 - accuracy: 0.94 - ETA: 0s - loss: 0.1798 - accuracy: 0.93 - ETA: 0s - loss: 0.1863 - accuracy: 0.93 - ETA: 0s - loss: 0.1835 - accuracy: 0.93 - ETA: 0s - loss: 0.1837 - accuracy: 0.93 - ETA: 0s - loss: 0.1888 - accuracy: 0.93 - ETA: 0s - loss: 0.1934 - accuracy: 0.93 - ETA: 0s - loss: 0.1898 - accuracy: 0.93 - ETA: 0s - loss: 0.1882 - accuracy: 0.93 - ETA: 0s - loss: 0.1871 - accuracy: 0.93 - ETA: 0s - loss: 0.1880 - accuracy: 0.93 - 1s 5ms/step - loss: 0.1854 - accuracy: 0.9335 - val_loss: 0.1696 - val_accuracy: 0.9339\n",
      "Epoch 30/1000\n",
      "157/157 [==============================] - ETA: 7s - loss: 0.1571 - accuracy: 0.93 - ETA: 0s - loss: 0.1793 - accuracy: 0.94 - ETA: 0s - loss: 0.1637 - accuracy: 0.94 - ETA: 0s - loss: 0.1736 - accuracy: 0.94 - ETA: 0s - loss: 0.1815 - accuracy: 0.93 - ETA: 0s - loss: 0.1870 - accuracy: 0.93 - ETA: 0s - loss: 0.1925 - accuracy: 0.93 - ETA: 0s - loss: 0.1941 - accuracy: 0.93 - ETA: 0s - loss: 0.1902 - accuracy: 0.93 - ETA: 0s - loss: 0.1917 - accuracy: 0.93 - ETA: 0s - loss: 0.1868 - accuracy: 0.93 - 1s 4ms/step - loss: 0.1867 - accuracy: 0.9333 - val_loss: 0.1569 - val_accuracy: 0.9389\n",
      "Epoch 31/1000\n",
      "157/157 [==============================] - ETA: 6s - loss: 0.2214 - accuracy: 0.93 - ETA: 0s - loss: 0.1811 - accuracy: 0.93 - ETA: 0s - loss: 0.1707 - accuracy: 0.94 - ETA: 0s - loss: 0.1734 - accuracy: 0.94 - ETA: 0s - loss: 0.1797 - accuracy: 0.93 - ETA: 0s - loss: 0.1873 - accuracy: 0.93 - ETA: 0s - loss: 0.1932 - accuracy: 0.93 - ETA: 0s - loss: 0.1900 - accuracy: 0.93 - ETA: 0s - loss: 0.1867 - accuracy: 0.93 - ETA: 0s - loss: 0.1885 - accuracy: 0.93 - ETA: 0s - loss: 0.1867 - accuracy: 0.93 - 1s 4ms/step - loss: 0.1847 - accuracy: 0.9345 - val_loss: 0.1625 - val_accuracy: 0.9379\n",
      "Epoch 32/1000\n",
      "157/157 [==============================] - ETA: 7s - loss: 0.1426 - accuracy: 0.90 - ETA: 0s - loss: 0.1626 - accuracy: 0.94 - ETA: 0s - loss: 0.1685 - accuracy: 0.94 - ETA: 0s - loss: 0.1815 - accuracy: 0.94 - ETA: 0s - loss: 0.1789 - accuracy: 0.94 - ETA: 0s - loss: 0.1851 - accuracy: 0.93 - ETA: 0s - loss: 0.1897 - accuracy: 0.93 - ETA: 0s - loss: 0.1894 - accuracy: 0.93 - ETA: 0s - loss: 0.1852 - accuracy: 0.93 - ETA: 0s - loss: 0.1855 - accuracy: 0.93 - ETA: 0s - loss: 0.1821 - accuracy: 0.93 - 1s 4ms/step - loss: 0.1828 - accuracy: 0.9369 - val_loss: 0.1780 - val_accuracy: 0.9299\n",
      "Epoch 33/1000\n",
      "157/157 [==============================] - ETA: 7s - loss: 0.2088 - accuracy: 0.90 - ETA: 0s - loss: 0.1852 - accuracy: 0.94 - ETA: 0s - loss: 0.1777 - accuracy: 0.94 - ETA: 0s - loss: 0.1789 - accuracy: 0.94 - ETA: 0s - loss: 0.1801 - accuracy: 0.94 - ETA: 0s - loss: 0.1815 - accuracy: 0.93 - ETA: 0s - loss: 0.1839 - accuracy: 0.93 - ETA: 0s - loss: 0.1872 - accuracy: 0.93 - ETA: 0s - loss: 0.1838 - accuracy: 0.93 - ETA: 0s - loss: 0.1815 - accuracy: 0.93 - ETA: 0s - loss: 0.1842 - accuracy: 0.93 - ETA: 0s - loss: 0.1803 - accuracy: 0.93 - 1s 5ms/step - loss: 0.1788 - accuracy: 0.9371 - val_loss: 0.1452 - val_accuracy: 0.9469\n",
      "Epoch 34/1000\n",
      "157/157 [==============================] - ETA: 7s - loss: 0.1510 - accuracy: 0.96 - ETA: 0s - loss: 0.1656 - accuracy: 0.94 - ETA: 0s - loss: 0.1543 - accuracy: 0.94 - ETA: 0s - loss: 0.1578 - accuracy: 0.94 - ETA: 0s - loss: 0.1651 - accuracy: 0.94 - ETA: 0s - loss: 0.1738 - accuracy: 0.93 - ETA: 0s - loss: 0.1763 - accuracy: 0.93 - ETA: 0s - loss: 0.1793 - accuracy: 0.93 - ETA: 0s - loss: 0.1752 - accuracy: 0.93 - ETA: 0s - loss: 0.1751 - accuracy: 0.93 - ETA: 0s - loss: 0.1742 - accuracy: 0.93 - ETA: 0s - loss: 0.1746 - accuracy: 0.93 - 1s 5ms/step - loss: 0.1732 - accuracy: 0.9369 - val_loss: 0.1323 - val_accuracy: 0.9610\n",
      "Epoch 35/1000\n",
      "157/157 [==============================] - ETA: 7s - loss: 0.1588 - accuracy: 0.93 - ETA: 0s - loss: 0.1465 - accuracy: 0.94 - ETA: 0s - loss: 0.1526 - accuracy: 0.93 - ETA: 0s - loss: 0.1632 - accuracy: 0.93 - ETA: 0s - loss: 0.1624 - accuracy: 0.94 - ETA: 0s - loss: 0.1718 - accuracy: 0.93 - ETA: 0s - loss: 0.1734 - accuracy: 0.93 - ETA: 0s - loss: 0.1782 - accuracy: 0.93 - ETA: 0s - loss: 0.1767 - accuracy: 0.93 - ETA: 0s - loss: 0.1747 - accuracy: 0.93 - ETA: 0s - loss: 0.1744 - accuracy: 0.93 - ETA: 0s - loss: 0.1747 - accuracy: 0.93 - 1s 5ms/step - loss: 0.1739 - accuracy: 0.9367 - val_loss: 0.1488 - val_accuracy: 0.9409\n",
      "Epoch 36/1000\n",
      "157/157 [==============================] - ETA: 7s - loss: 0.1914 - accuracy: 0.87 - ETA: 0s - loss: 0.1653 - accuracy: 0.94 - ETA: 0s - loss: 0.1520 - accuracy: 0.94 - ETA: 0s - loss: 0.1614 - accuracy: 0.94 - ETA: 0s - loss: 0.1655 - accuracy: 0.94 - ETA: 0s - loss: 0.1725 - accuracy: 0.93 - ETA: 0s - loss: 0.1727 - accuracy: 0.93 - ETA: 0s - loss: 0.1775 - accuracy: 0.93 - ETA: 0s - loss: 0.1763 - accuracy: 0.93 - ETA: 0s - loss: 0.1751 - accuracy: 0.93 - ETA: 0s - loss: 0.1757 - accuracy: 0.93 - ETA: 0s - loss: 0.1730 - accuracy: 0.94 - 1s 5ms/step - loss: 0.1720 - accuracy: 0.9402 - val_loss: 0.1753 - val_accuracy: 0.9329\n",
      "Epoch 37/1000\n",
      "157/157 [==============================] - ETA: 7s - loss: 0.2175 - accuracy: 0.90 - ETA: 0s - loss: 0.1742 - accuracy: 0.93 - ETA: 0s - loss: 0.1657 - accuracy: 0.93 - ETA: 0s - loss: 0.1631 - accuracy: 0.94 - ETA: 0s - loss: 0.1652 - accuracy: 0.94 - ETA: 0s - loss: 0.1735 - accuracy: 0.93 - ETA: 0s - loss: 0.1755 - accuracy: 0.93 - ETA: 0s - loss: 0.1769 - accuracy: 0.93 - ETA: 0s - loss: 0.1759 - accuracy: 0.93 - ETA: 0s - loss: 0.1755 - accuracy: 0.93 - ETA: 0s - loss: 0.1788 - accuracy: 0.93 - ETA: 0s - loss: 0.1755 - accuracy: 0.93 - 1s 5ms/step - loss: 0.1747 - accuracy: 0.9392 - val_loss: 0.1590 - val_accuracy: 0.9389\n",
      "Epoch 38/1000\n",
      "157/157 [==============================] - ETA: 7s - loss: 0.1914 - accuracy: 0.93 - ETA: 0s - loss: 0.1536 - accuracy: 0.94 - ETA: 0s - loss: 0.1426 - accuracy: 0.95 - ETA: 0s - loss: 0.1499 - accuracy: 0.95 - ETA: 0s - loss: 0.1547 - accuracy: 0.94 - ETA: 0s - loss: 0.1644 - accuracy: 0.94 - ETA: 0s - loss: 0.1726 - accuracy: 0.94 - ETA: 0s - loss: 0.1733 - accuracy: 0.94 - ETA: 0s - loss: 0.1696 - accuracy: 0.94 - ETA: 0s - loss: 0.1687 - accuracy: 0.94 - ETA: 0s - loss: 0.1651 - accuracy: 0.94 - 1s 5ms/step - loss: 0.1641 - accuracy: 0.9440 - val_loss: 0.1376 - val_accuracy: 0.9510\n",
      "Epoch 39/1000\n",
      "157/157 [==============================] - ETA: 8s - loss: 0.1925 - accuracy: 0.90 - ETA: 0s - loss: 0.1602 - accuracy: 0.95 - ETA: 0s - loss: 0.1489 - accuracy: 0.95 - ETA: 0s - loss: 0.1556 - accuracy: 0.94 - ETA: 0s - loss: 0.1520 - accuracy: 0.95 - ETA: 0s - loss: 0.1642 - accuracy: 0.94 - ETA: 0s - loss: 0.1706 - accuracy: 0.94 - ETA: 0s - loss: 0.1748 - accuracy: 0.94 - ETA: 0s - loss: 0.1718 - accuracy: 0.94 - ETA: 0s - loss: 0.1697 - accuracy: 0.94 - ETA: 0s - loss: 0.1671 - accuracy: 0.94 - 1s 5ms/step - loss: 0.1685 - accuracy: 0.9434 - val_loss: 0.1417 - val_accuracy: 0.9439\n",
      "Epoch 40/1000\n",
      "157/157 [==============================] - ETA: 7s - loss: 0.1871 - accuracy: 0.93 - ETA: 0s - loss: 0.1537 - accuracy: 0.95 - ETA: 0s - loss: 0.1407 - accuracy: 0.94 - ETA: 0s - loss: 0.1526 - accuracy: 0.94 - ETA: 0s - loss: 0.1515 - accuracy: 0.94 - ETA: 0s - loss: 0.1621 - accuracy: 0.94 - ETA: 0s - loss: 0.1703 - accuracy: 0.94 - ETA: 0s - loss: 0.1745 - accuracy: 0.94 - ETA: 0s - loss: 0.1710 - accuracy: 0.94 - ETA: 0s - loss: 0.1711 - accuracy: 0.94 - ETA: 0s - loss: 0.1666 - accuracy: 0.94 - 1s 5ms/step - loss: 0.1668 - accuracy: 0.9422 - val_loss: 0.1519 - val_accuracy: 0.9389\n",
      "Epoch 41/1000\n",
      "157/157 [==============================] - ETA: 7s - loss: 0.2062 - accuracy: 0.90 - ETA: 0s - loss: 0.1534 - accuracy: 0.94 - ETA: 0s - loss: 0.1473 - accuracy: 0.94 - ETA: 0s - loss: 0.1453 - accuracy: 0.94 - ETA: 0s - loss: 0.1519 - accuracy: 0.94 - ETA: 0s - loss: 0.1608 - accuracy: 0.94 - ETA: 0s - loss: 0.1668 - accuracy: 0.94 - ETA: 0s - loss: 0.1676 - accuracy: 0.94 - ETA: 0s - loss: 0.1660 - accuracy: 0.94 - ETA: 0s - loss: 0.1628 - accuracy: 0.94 - ETA: 0s - loss: 0.1603 - accuracy: 0.94 - 1s 4ms/step - loss: 0.1609 - accuracy: 0.9434 - val_loss: 0.1274 - val_accuracy: 0.9550\n",
      "Epoch 42/1000\n",
      "157/157 [==============================] - ETA: 7s - loss: 0.1455 - accuracy: 0.93 - ETA: 0s - loss: 0.1554 - accuracy: 0.95 - ETA: 0s - loss: 0.1454 - accuracy: 0.95 - ETA: 0s - loss: 0.1395 - accuracy: 0.95 - ETA: 0s - loss: 0.1461 - accuracy: 0.95 - ETA: 0s - loss: 0.1525 - accuracy: 0.94 - ETA: 0s - loss: 0.1572 - accuracy: 0.94 - ETA: 0s - loss: 0.1637 - accuracy: 0.94 - ETA: 0s - loss: 0.1606 - accuracy: 0.94 - ETA: 0s - loss: 0.1599 - accuracy: 0.94 - ETA: 0s - loss: 0.1603 - accuracy: 0.94 - ETA: 0s - loss: 0.1569 - accuracy: 0.94 - ETA: 0s - loss: 0.1590 - accuracy: 0.94 - 1s 5ms/step - loss: 0.1582 - accuracy: 0.9456 - val_loss: 0.1402 - val_accuracy: 0.9459\n",
      "Epoch 43/1000\n",
      "157/157 [==============================] - ETA: 7s - loss: 0.2006 - accuracy: 0.90 - ETA: 0s - loss: 0.1402 - accuracy: 0.95 - ETA: 0s - loss: 0.1359 - accuracy: 0.95 - ETA: 0s - loss: 0.1456 - accuracy: 0.94 - ETA: 0s - loss: 0.1526 - accuracy: 0.94 - ETA: 0s - loss: 0.1575 - accuracy: 0.94 - ETA: 0s - loss: 0.1624 - accuracy: 0.94 - ETA: 0s - loss: 0.1642 - accuracy: 0.94 - ETA: 0s - loss: 0.1605 - accuracy: 0.94 - ETA: 0s - loss: 0.1584 - accuracy: 0.94 - ETA: 0s - loss: 0.1606 - accuracy: 0.94 - ETA: 0s - loss: 0.1573 - accuracy: 0.94 - 1s 5ms/step - loss: 0.1562 - accuracy: 0.9446 - val_loss: 0.1355 - val_accuracy: 0.9499\n",
      "Epoch 44/1000\n",
      "157/157 [==============================] - ETA: 8s - loss: 0.1522 - accuracy: 0.93 - ETA: 1s - loss: 0.1374 - accuracy: 0.95 - ETA: 0s - loss: 0.1325 - accuracy: 0.95 - ETA: 0s - loss: 0.1372 - accuracy: 0.95 - ETA: 0s - loss: 0.1409 - accuracy: 0.95 - ETA: 0s - loss: 0.1513 - accuracy: 0.94 - ETA: 0s - loss: 0.1528 - accuracy: 0.94 - ETA: 0s - loss: 0.1571 - accuracy: 0.94 - ETA: 0s - loss: 0.1557 - accuracy: 0.94 - ETA: 0s - loss: 0.1546 - accuracy: 0.94 - ETA: 0s - loss: 0.1546 - accuracy: 0.94 - ETA: 0s - loss: 0.1508 - accuracy: 0.94 - 1s 5ms/step - loss: 0.1506 - accuracy: 0.9492 - val_loss: 0.1372 - val_accuracy: 0.9510\n",
      "Epoch 45/1000\n",
      "157/157 [==============================] - ETA: 7s - loss: 0.1794 - accuracy: 0.90 - ETA: 1s - loss: 0.1525 - accuracy: 0.94 - ETA: 0s - loss: 0.1516 - accuracy: 0.94 - ETA: 0s - loss: 0.1474 - accuracy: 0.94 - ETA: 0s - loss: 0.1511 - accuracy: 0.94 - ETA: 0s - loss: 0.1555 - accuracy: 0.94 - ETA: 0s - loss: 0.1601 - accuracy: 0.94 - ETA: 0s - loss: 0.1637 - accuracy: 0.94 - ETA: 0s - loss: 0.1589 - accuracy: 0.94 - ETA: 0s - loss: 0.1561 - accuracy: 0.94 - ETA: 0s - loss: 0.1582 - accuracy: 0.94 - ETA: 0s - loss: 0.1530 - accuracy: 0.94 - 1s 5ms/step - loss: 0.1529 - accuracy: 0.9474 - val_loss: 0.1439 - val_accuracy: 0.9459\n",
      "Epoch 46/1000\n",
      "157/157 [==============================] - ETA: 7s - loss: 0.1987 - accuracy: 0.93 - ETA: 1s - loss: 0.1638 - accuracy: 0.94 - ETA: 0s - loss: 0.1483 - accuracy: 0.94 - ETA: 0s - loss: 0.1440 - accuracy: 0.94 - ETA: 0s - loss: 0.1448 - accuracy: 0.94 - ETA: 0s - loss: 0.1517 - accuracy: 0.94 - ETA: 0s - loss: 0.1531 - accuracy: 0.94 - ETA: 0s - loss: 0.1571 - accuracy: 0.94 - ETA: 0s - loss: 0.1566 - accuracy: 0.94 - ETA: 0s - loss: 0.1548 - accuracy: 0.94 - ETA: 0s - loss: 0.1583 - accuracy: 0.94 - ETA: 0s - loss: 0.1545 - accuracy: 0.94 - 1s 5ms/step - loss: 0.1540 - accuracy: 0.9452 - val_loss: 0.1237 - val_accuracy: 0.9570\n",
      "Epoch 47/1000\n",
      "157/157 [==============================] - ETA: 7s - loss: 0.1201 - accuracy: 0.96 - ETA: 0s - loss: 0.1480 - accuracy: 0.95 - ETA: 0s - loss: 0.1347 - accuracy: 0.95 - ETA: 0s - loss: 0.1362 - accuracy: 0.95 - ETA: 0s - loss: 0.1411 - accuracy: 0.95 - ETA: 0s - loss: 0.1419 - accuracy: 0.95 - ETA: 0s - loss: 0.1430 - accuracy: 0.95 - ETA: 0s - loss: 0.1466 - accuracy: 0.95 - ETA: 0s - loss: 0.1446 - accuracy: 0.95 - ETA: 0s - loss: 0.1423 - accuracy: 0.95 - ETA: 0s - loss: 0.1447 - accuracy: 0.94 - ETA: 0s - loss: 0.1434 - accuracy: 0.94 - 1s 5ms/step - loss: 0.1437 - accuracy: 0.9486 - val_loss: 0.1220 - val_accuracy: 0.9580\n",
      "Epoch 48/1000\n",
      "157/157 [==============================] - ETA: 7s - loss: 0.1174 - accuracy: 0.96 - ETA: 0s - loss: 0.1337 - accuracy: 0.95 - ETA: 0s - loss: 0.1353 - accuracy: 0.94 - ETA: 0s - loss: 0.1465 - accuracy: 0.94 - ETA: 0s - loss: 0.1447 - accuracy: 0.94 - ETA: 0s - loss: 0.1533 - accuracy: 0.94 - ETA: 0s - loss: 0.1573 - accuracy: 0.94 - ETA: 0s - loss: 0.1590 - accuracy: 0.94 - ETA: 0s - loss: 0.1582 - accuracy: 0.94 - ETA: 0s - loss: 0.1569 - accuracy: 0.94 - ETA: 0s - loss: 0.1528 - accuracy: 0.94 - 1s 5ms/step - loss: 0.1535 - accuracy: 0.9454 - val_loss: 0.1135 - val_accuracy: 0.9600\n",
      "Epoch 49/1000\n",
      "157/157 [==============================] - ETA: 7s - loss: 0.1297 - accuracy: 0.93 - ETA: 0s - loss: 0.1368 - accuracy: 0.95 - ETA: 0s - loss: 0.1302 - accuracy: 0.95 - ETA: 0s - loss: 0.1325 - accuracy: 0.95 - ETA: 0s - loss: 0.1345 - accuracy: 0.95 - ETA: 0s - loss: 0.1405 - accuracy: 0.94 - ETA: 0s - loss: 0.1465 - accuracy: 0.94 - ETA: 0s - loss: 0.1509 - accuracy: 0.94 - ETA: 0s - loss: 0.1486 - accuracy: 0.94 - ETA: 0s - loss: 0.1452 - accuracy: 0.94 - ETA: 0s - loss: 0.1467 - accuracy: 0.94 - ETA: 0s - loss: 0.1437 - accuracy: 0.94 - 1s 5ms/step - loss: 0.1451 - accuracy: 0.9484 - val_loss: 0.1099 - val_accuracy: 0.9630\n",
      "Epoch 50/1000\n",
      "157/157 [==============================] - ETA: 7s - loss: 0.1435 - accuracy: 0.96 - ETA: 0s - loss: 0.1225 - accuracy: 0.96 - ETA: 0s - loss: 0.1265 - accuracy: 0.95 - ETA: 0s - loss: 0.1435 - accuracy: 0.95 - ETA: 0s - loss: 0.1473 - accuracy: 0.95 - ETA: 0s - loss: 0.1529 - accuracy: 0.95 - ETA: 0s - loss: 0.1551 - accuracy: 0.95 - ETA: 0s - loss: 0.1556 - accuracy: 0.95 - ETA: 0s - loss: 0.1552 - accuracy: 0.94 - ETA: 0s - loss: 0.1524 - accuracy: 0.95 - ETA: 0s - loss: 0.1496 - accuracy: 0.95 - ETA: 0s - loss: 0.1489 - accuracy: 0.95 - 1s 5ms/step - loss: 0.1482 - accuracy: 0.9520 - val_loss: 0.1304 - val_accuracy: 0.9499\n",
      "Epoch 51/1000\n"
     ]
    },
    {
     "name": "stdout",
     "output_type": "stream",
     "text": [
      "157/157 [==============================] - ETA: 7s - loss: 0.2050 - accuracy: 0.90 - ETA: 1s - loss: 0.1585 - accuracy: 0.95 - ETA: 0s - loss: 0.1434 - accuracy: 0.95 - ETA: 0s - loss: 0.1350 - accuracy: 0.95 - ETA: 0s - loss: 0.1408 - accuracy: 0.95 - ETA: 0s - loss: 0.1466 - accuracy: 0.95 - ETA: 0s - loss: 0.1497 - accuracy: 0.95 - ETA: 0s - loss: 0.1515 - accuracy: 0.95 - ETA: 0s - loss: 0.1488 - accuracy: 0.95 - ETA: 0s - loss: 0.1482 - accuracy: 0.95 - ETA: 0s - loss: 0.1464 - accuracy: 0.95 - ETA: 0s - loss: 0.1448 - accuracy: 0.95 - 1s 5ms/step - loss: 0.1428 - accuracy: 0.9524 - val_loss: 0.1486 - val_accuracy: 0.9419\n",
      "Epoch 52/1000\n",
      "157/157 [==============================] - ETA: 7s - loss: 0.1950 - accuracy: 0.93 - ETA: 0s - loss: 0.1561 - accuracy: 0.95 - ETA: 0s - loss: 0.1403 - accuracy: 0.95 - ETA: 0s - loss: 0.1407 - accuracy: 0.95 - ETA: 0s - loss: 0.1410 - accuracy: 0.95 - ETA: 0s - loss: 0.1494 - accuracy: 0.94 - ETA: 0s - loss: 0.1512 - accuracy: 0.94 - ETA: 0s - loss: 0.1533 - accuracy: 0.94 - ETA: 0s - loss: 0.1520 - accuracy: 0.94 - ETA: 0s - loss: 0.1499 - accuracy: 0.95 - ETA: 0s - loss: 0.1518 - accuracy: 0.94 - ETA: 0s - loss: 0.1469 - accuracy: 0.95 - 1s 5ms/step - loss: 0.1473 - accuracy: 0.9494 - val_loss: 0.1493 - val_accuracy: 0.9409\n",
      "Epoch 53/1000\n",
      "157/157 [==============================] - ETA: 7s - loss: 0.1222 - accuracy: 0.96 - ETA: 0s - loss: 0.1542 - accuracy: 0.94 - ETA: 0s - loss: 0.1438 - accuracy: 0.94 - ETA: 0s - loss: 0.1469 - accuracy: 0.94 - ETA: 0s - loss: 0.1419 - accuracy: 0.95 - ETA: 0s - loss: 0.1453 - accuracy: 0.95 - ETA: 0s - loss: 0.1478 - accuracy: 0.94 - ETA: 0s - loss: 0.1508 - accuracy: 0.94 - ETA: 0s - loss: 0.1476 - accuracy: 0.94 - ETA: 0s - loss: 0.1467 - accuracy: 0.95 - ETA: 0s - loss: 0.1440 - accuracy: 0.95 - 1s 4ms/step - loss: 0.1441 - accuracy: 0.9506 - val_loss: 0.1045 - val_accuracy: 0.9630\n",
      "Epoch 54/1000\n",
      "157/157 [==============================] - ETA: 7s - loss: 0.2323 - accuracy: 0.90 - ETA: 1s - loss: 0.1378 - accuracy: 0.94 - ETA: 0s - loss: 0.1270 - accuracy: 0.95 - ETA: 0s - loss: 0.1238 - accuracy: 0.95 - ETA: 0s - loss: 0.1332 - accuracy: 0.95 - ETA: 0s - loss: 0.1366 - accuracy: 0.95 - ETA: 0s - loss: 0.1368 - accuracy: 0.95 - ETA: 0s - loss: 0.1422 - accuracy: 0.94 - ETA: 0s - loss: 0.1400 - accuracy: 0.95 - ETA: 0s - loss: 0.1386 - accuracy: 0.95 - ETA: 0s - loss: 0.1408 - accuracy: 0.95 - ETA: 0s - loss: 0.1371 - accuracy: 0.95 - 1s 5ms/step - loss: 0.1363 - accuracy: 0.9512 - val_loss: 0.1574 - val_accuracy: 0.9369\n",
      "Epoch 55/1000\n",
      "157/157 [==============================] - ETA: 6s - loss: 0.2219 - accuracy: 0.93 - ETA: 0s - loss: 0.1375 - accuracy: 0.95 - ETA: 0s - loss: 0.1292 - accuracy: 0.95 - ETA: 0s - loss: 0.1294 - accuracy: 0.95 - ETA: 0s - loss: 0.1324 - accuracy: 0.95 - ETA: 0s - loss: 0.1380 - accuracy: 0.95 - ETA: 0s - loss: 0.1411 - accuracy: 0.95 - ETA: 0s - loss: 0.1443 - accuracy: 0.95 - ETA: 0s - loss: 0.1424 - accuracy: 0.94 - ETA: 0s - loss: 0.1402 - accuracy: 0.95 - ETA: 0s - loss: 0.1387 - accuracy: 0.95 - ETA: 0s - loss: 0.1384 - accuracy: 0.95 - 1s 5ms/step - loss: 0.1357 - accuracy: 0.9514 - val_loss: 0.1226 - val_accuracy: 0.9479\n",
      "Epoch 56/1000\n",
      "157/157 [==============================] - ETA: 7s - loss: 0.1910 - accuracy: 0.90 - ETA: 0s - loss: 0.1333 - accuracy: 0.95 - ETA: 0s - loss: 0.1188 - accuracy: 0.95 - ETA: 0s - loss: 0.1257 - accuracy: 0.95 - ETA: 0s - loss: 0.1301 - accuracy: 0.95 - ETA: 0s - loss: 0.1304 - accuracy: 0.95 - ETA: 0s - loss: 0.1333 - accuracy: 0.95 - ETA: 0s - loss: 0.1400 - accuracy: 0.94 - ETA: 0s - loss: 0.1394 - accuracy: 0.94 - ETA: 0s - loss: 0.1371 - accuracy: 0.95 - ETA: 0s - loss: 0.1374 - accuracy: 0.95 - ETA: 0s - loss: 0.1368 - accuracy: 0.95 - 1s 5ms/step - loss: 0.1361 - accuracy: 0.9508 - val_loss: 0.1359 - val_accuracy: 0.9459\n",
      "Epoch 57/1000\n",
      "157/157 [==============================] - ETA: 7s - loss: 0.2255 - accuracy: 0.90 - ETA: 0s - loss: 0.1463 - accuracy: 0.95 - ETA: 0s - loss: 0.1298 - accuracy: 0.95 - ETA: 0s - loss: 0.1251 - accuracy: 0.95 - ETA: 0s - loss: 0.1221 - accuracy: 0.95 - ETA: 0s - loss: 0.1283 - accuracy: 0.95 - ETA: 0s - loss: 0.1301 - accuracy: 0.95 - ETA: 0s - loss: 0.1350 - accuracy: 0.95 - ETA: 0s - loss: 0.1326 - accuracy: 0.95 - ETA: 0s - loss: 0.1299 - accuracy: 0.95 - ETA: 0s - loss: 0.1303 - accuracy: 0.95 - 1s 4ms/step - loss: 0.1305 - accuracy: 0.9532 - val_loss: 0.0947 - val_accuracy: 0.9670\n",
      "Epoch 58/1000\n",
      "157/157 [==============================] - ETA: 7s - loss: 0.1613 - accuracy: 0.93 - ETA: 0s - loss: 0.1344 - accuracy: 0.95 - ETA: 0s - loss: 0.1392 - accuracy: 0.95 - ETA: 0s - loss: 0.1310 - accuracy: 0.95 - ETA: 0s - loss: 0.1333 - accuracy: 0.95 - ETA: 0s - loss: 0.1390 - accuracy: 0.95 - ETA: 0s - loss: 0.1401 - accuracy: 0.94 - ETA: 0s - loss: 0.1419 - accuracy: 0.94 - ETA: 0s - loss: 0.1407 - accuracy: 0.95 - ETA: 0s - loss: 0.1399 - accuracy: 0.95 - ETA: 0s - loss: 0.1422 - accuracy: 0.95 - ETA: 0s - loss: 0.1407 - accuracy: 0.95 - 1s 5ms/step - loss: 0.1402 - accuracy: 0.9502 - val_loss: 0.1414 - val_accuracy: 0.9419\n",
      "Epoch 59/1000\n",
      "157/157 [==============================] - ETA: 7s - loss: 0.1932 - accuracy: 0.90 - ETA: 1s - loss: 0.1285 - accuracy: 0.95 - ETA: 0s - loss: 0.1214 - accuracy: 0.96 - ETA: 0s - loss: 0.1168 - accuracy: 0.96 - ETA: 0s - loss: 0.1214 - accuracy: 0.95 - ETA: 0s - loss: 0.1236 - accuracy: 0.95 - ETA: 0s - loss: 0.1298 - accuracy: 0.95 - ETA: 0s - loss: 0.1317 - accuracy: 0.95 - ETA: 0s - loss: 0.1328 - accuracy: 0.95 - ETA: 0s - loss: 0.1298 - accuracy: 0.95 - ETA: 0s - loss: 0.1317 - accuracy: 0.95 - ETA: 0s - loss: 0.1296 - accuracy: 0.95 - 1s 5ms/step - loss: 0.1297 - accuracy: 0.9550 - val_loss: 0.1081 - val_accuracy: 0.9620\n",
      "Epoch 60/1000\n",
      "157/157 [==============================] - ETA: 6s - loss: 0.1284 - accuracy: 0.93 - ETA: 0s - loss: 0.1317 - accuracy: 0.95 - ETA: 0s - loss: 0.1159 - accuracy: 0.96 - ETA: 0s - loss: 0.1117 - accuracy: 0.96 - ETA: 0s - loss: 0.1142 - accuracy: 0.96 - ETA: 0s - loss: 0.1219 - accuracy: 0.95 - ETA: 0s - loss: 0.1226 - accuracy: 0.95 - ETA: 0s - loss: 0.1262 - accuracy: 0.95 - ETA: 0s - loss: 0.1253 - accuracy: 0.95 - ETA: 0s - loss: 0.1265 - accuracy: 0.95 - ETA: 0s - loss: 0.1260 - accuracy: 0.95 - ETA: 0s - loss: 0.1260 - accuracy: 0.95 - 1s 5ms/step - loss: 0.1243 - accuracy: 0.9570 - val_loss: 0.0943 - val_accuracy: 0.9650\n",
      "Epoch 61/1000\n",
      "157/157 [==============================] - ETA: 7s - loss: 0.1296 - accuracy: 0.93 - ETA: 0s - loss: 0.1164 - accuracy: 0.95 - ETA: 0s - loss: 0.1193 - accuracy: 0.95 - ETA: 0s - loss: 0.1225 - accuracy: 0.95 - ETA: 0s - loss: 0.1233 - accuracy: 0.95 - ETA: 0s - loss: 0.1276 - accuracy: 0.95 - ETA: 0s - loss: 0.1281 - accuracy: 0.95 - ETA: 0s - loss: 0.1304 - accuracy: 0.95 - ETA: 0s - loss: 0.1297 - accuracy: 0.95 - ETA: 0s - loss: 0.1268 - accuracy: 0.95 - ETA: 0s - loss: 0.1262 - accuracy: 0.95 - 1s 5ms/step - loss: 0.1270 - accuracy: 0.9556 - val_loss: 0.0983 - val_accuracy: 0.9650\n",
      "Epoch 62/1000\n",
      "157/157 [==============================] - ETA: 7s - loss: 0.1569 - accuracy: 0.96 - ETA: 0s - loss: 0.1255 - accuracy: 0.95 - ETA: 0s - loss: 0.1097 - accuracy: 0.96 - ETA: 0s - loss: 0.1147 - accuracy: 0.96 - ETA: 0s - loss: 0.1180 - accuracy: 0.95 - ETA: 0s - loss: 0.1241 - accuracy: 0.95 - ETA: 0s - loss: 0.1285 - accuracy: 0.95 - ETA: 0s - loss: 0.1324 - accuracy: 0.95 - ETA: 0s - loss: 0.1290 - accuracy: 0.95 - ETA: 0s - loss: 0.1262 - accuracy: 0.95 - ETA: 0s - loss: 0.1254 - accuracy: 0.95 - 1s 5ms/step - loss: 0.1243 - accuracy: 0.9546 - val_loss: 0.0876 - val_accuracy: 0.9670\n",
      "Epoch 63/1000\n",
      "157/157 [==============================] - ETA: 7s - loss: 0.0711 - accuracy: 0.96 - ETA: 0s - loss: 0.1195 - accuracy: 0.96 - ETA: 0s - loss: 0.1175 - accuracy: 0.96 - ETA: 0s - loss: 0.1144 - accuracy: 0.96 - ETA: 0s - loss: 0.1222 - accuracy: 0.96 - ETA: 0s - loss: 0.1241 - accuracy: 0.96 - ETA: 0s - loss: 0.1257 - accuracy: 0.96 - ETA: 0s - loss: 0.1306 - accuracy: 0.95 - ETA: 0s - loss: 0.1303 - accuracy: 0.95 - ETA: 0s - loss: 0.1281 - accuracy: 0.95 - ETA: 0s - loss: 0.1287 - accuracy: 0.95 - ETA: 0s - loss: 0.1270 - accuracy: 0.95 - ETA: 0s - loss: 0.1288 - accuracy: 0.95 - 1s 5ms/step - loss: 0.1282 - accuracy: 0.9556 - val_loss: 0.0847 - val_accuracy: 0.9700\n",
      "Epoch 64/1000\n",
      "157/157 [==============================] - ETA: 7s - loss: 0.1544 - accuracy: 0.96 - ETA: 1s - loss: 0.1178 - accuracy: 0.95 - ETA: 0s - loss: 0.1152 - accuracy: 0.96 - ETA: 0s - loss: 0.1146 - accuracy: 0.96 - ETA: 0s - loss: 0.1145 - accuracy: 0.95 - ETA: 0s - loss: 0.1213 - accuracy: 0.95 - ETA: 0s - loss: 0.1215 - accuracy: 0.95 - ETA: 0s - loss: 0.1280 - accuracy: 0.95 - ETA: 0s - loss: 0.1273 - accuracy: 0.95 - ETA: 0s - loss: 0.1236 - accuracy: 0.95 - ETA: 0s - loss: 0.1266 - accuracy: 0.95 - ETA: 0s - loss: 0.1264 - accuracy: 0.95 - 1s 5ms/step - loss: 0.1264 - accuracy: 0.9574 - val_loss: 0.1096 - val_accuracy: 0.9540\n",
      "Epoch 65/1000\n",
      "157/157 [==============================] - ETA: 7s - loss: 0.1632 - accuracy: 0.93 - ETA: 1s - loss: 0.1198 - accuracy: 0.95 - ETA: 0s - loss: 0.1233 - accuracy: 0.96 - ETA: 0s - loss: 0.1186 - accuracy: 0.95 - ETA: 0s - loss: 0.1216 - accuracy: 0.95 - ETA: 0s - loss: 0.1234 - accuracy: 0.95 - ETA: 0s - loss: 0.1310 - accuracy: 0.95 - ETA: 0s - loss: 0.1327 - accuracy: 0.95 - ETA: 0s - loss: 0.1296 - accuracy: 0.95 - ETA: 0s - loss: 0.1266 - accuracy: 0.95 - ETA: 0s - loss: 0.1297 - accuracy: 0.95 - ETA: 0s - loss: 0.1242 - accuracy: 0.95 - 1s 5ms/step - loss: 0.1220 - accuracy: 0.9556 - val_loss: 0.0969 - val_accuracy: 0.9620\n",
      "Epoch 66/1000\n",
      "157/157 [==============================] - ETA: 7s - loss: 0.1045 - accuracy: 0.96 - ETA: 0s - loss: 0.1228 - accuracy: 0.95 - ETA: 0s - loss: 0.1199 - accuracy: 0.95 - ETA: 0s - loss: 0.1188 - accuracy: 0.95 - ETA: 0s - loss: 0.1192 - accuracy: 0.95 - ETA: 0s - loss: 0.1268 - accuracy: 0.95 - ETA: 0s - loss: 0.1250 - accuracy: 0.95 - ETA: 0s - loss: 0.1295 - accuracy: 0.95 - ETA: 0s - loss: 0.1255 - accuracy: 0.95 - ETA: 0s - loss: 0.1231 - accuracy: 0.95 - ETA: 0s - loss: 0.1236 - accuracy: 0.95 - ETA: 0s - loss: 0.1231 - accuracy: 0.95 - 1s 5ms/step - loss: 0.1220 - accuracy: 0.9554 - val_loss: 0.1178 - val_accuracy: 0.9520\n",
      "Epoch 67/1000\n",
      "157/157 [==============================] - ETA: 7s - loss: 0.1345 - accuracy: 0.90 - ETA: 1s - loss: 0.1319 - accuracy: 0.94 - ETA: 0s - loss: 0.1318 - accuracy: 0.94 - ETA: 0s - loss: 0.1237 - accuracy: 0.95 - ETA: 0s - loss: 0.1212 - accuracy: 0.95 - ETA: 0s - loss: 0.1243 - accuracy: 0.95 - ETA: 0s - loss: 0.1281 - accuracy: 0.95 - ETA: 0s - loss: 0.1319 - accuracy: 0.95 - ETA: 0s - loss: 0.1325 - accuracy: 0.95 - ETA: 0s - loss: 0.1311 - accuracy: 0.95 - ETA: 0s - loss: 0.1366 - accuracy: 0.95 - ETA: 0s - loss: 0.1312 - accuracy: 0.95 - 1s 5ms/step - loss: 0.1307 - accuracy: 0.9566 - val_loss: 0.1068 - val_accuracy: 0.9550\n",
      "Epoch 68/1000\n",
      "157/157 [==============================] - ETA: 7s - loss: 0.1560 - accuracy: 0.93 - ETA: 0s - loss: 0.1047 - accuracy: 0.95 - ETA: 0s - loss: 0.1122 - accuracy: 0.95 - ETA: 0s - loss: 0.1113 - accuracy: 0.95 - ETA: 0s - loss: 0.1089 - accuracy: 0.95 - ETA: 0s - loss: 0.1149 - accuracy: 0.95 - ETA: 0s - loss: 0.1180 - accuracy: 0.95 - ETA: 0s - loss: 0.1230 - accuracy: 0.95 - ETA: 0s - loss: 0.1228 - accuracy: 0.95 - ETA: 0s - loss: 0.1231 - accuracy: 0.95 - ETA: 0s - loss: 0.1217 - accuracy: 0.95 - ETA: 0s - loss: 0.1225 - accuracy: 0.95 - 1s 5ms/step - loss: 0.1216 - accuracy: 0.9530 - val_loss: 0.0775 - val_accuracy: 0.9770\n",
      "Epoch 69/1000\n",
      "157/157 [==============================] - ETA: 7s - loss: 0.0801 - accuracy: 0.96 - ETA: 0s - loss: 0.1108 - accuracy: 0.96 - ETA: 0s - loss: 0.1146 - accuracy: 0.96 - ETA: 0s - loss: 0.1240 - accuracy: 0.96 - ETA: 0s - loss: 0.1230 - accuracy: 0.95 - ETA: 0s - loss: 0.1223 - accuracy: 0.95 - ETA: 0s - loss: 0.1244 - accuracy: 0.95 - ETA: 0s - loss: 0.1249 - accuracy: 0.95 - ETA: 0s - loss: 0.1216 - accuracy: 0.95 - ETA: 0s - loss: 0.1190 - accuracy: 0.95 - ETA: 0s - loss: 0.1178 - accuracy: 0.95 - ETA: 0s - loss: 0.1170 - accuracy: 0.95 - 1s 5ms/step - loss: 0.1164 - accuracy: 0.9588 - val_loss: 0.0936 - val_accuracy: 0.9580\n",
      "Epoch 70/1000\n",
      "157/157 [==============================] - ETA: 7s - loss: 0.1369 - accuracy: 0.96 - ETA: 1s - loss: 0.1085 - accuracy: 0.95 - ETA: 0s - loss: 0.1042 - accuracy: 0.96 - ETA: 0s - loss: 0.1090 - accuracy: 0.96 - ETA: 0s - loss: 0.1142 - accuracy: 0.96 - ETA: 0s - loss: 0.1180 - accuracy: 0.96 - ETA: 0s - loss: 0.1205 - accuracy: 0.96 - ETA: 0s - loss: 0.1217 - accuracy: 0.95 - ETA: 0s - loss: 0.1208 - accuracy: 0.95 - ETA: 0s - loss: 0.1182 - accuracy: 0.96 - ETA: 0s - loss: 0.1193 - accuracy: 0.96 - ETA: 0s - loss: 0.1189 - accuracy: 0.95 - 1s 5ms/step - loss: 0.1186 - accuracy: 0.9592 - val_loss: 0.0918 - val_accuracy: 0.9660\n",
      "Epoch 71/1000\n",
      "157/157 [==============================] - ETA: 7s - loss: 0.1024 - accuracy: 0.96 - ETA: 0s - loss: 0.1090 - accuracy: 0.96 - ETA: 0s - loss: 0.1155 - accuracy: 0.96 - ETA: 0s - loss: 0.1061 - accuracy: 0.96 - ETA: 0s - loss: 0.1105 - accuracy: 0.96 - ETA: 0s - loss: 0.1160 - accuracy: 0.95 - ETA: 0s - loss: 0.1140 - accuracy: 0.95 - ETA: 0s - loss: 0.1165 - accuracy: 0.95 - ETA: 0s - loss: 0.1154 - accuracy: 0.95 - ETA: 0s - loss: 0.1141 - accuracy: 0.95 - ETA: 0s - loss: 0.1151 - accuracy: 0.95 - ETA: 0s - loss: 0.1134 - accuracy: 0.95 - 1s 5ms/step - loss: 0.1128 - accuracy: 0.9584 - val_loss: 0.0770 - val_accuracy: 0.9700\n",
      "Epoch 72/1000\n",
      "157/157 [==============================] - ETA: 7s - loss: 0.1351 - accuracy: 0.93 - ETA: 1s - loss: 0.0970 - accuracy: 0.96 - ETA: 0s - loss: 0.1103 - accuracy: 0.96 - ETA: 0s - loss: 0.1067 - accuracy: 0.96 - ETA: 0s - loss: 0.1095 - accuracy: 0.96 - ETA: 0s - loss: 0.1090 - accuracy: 0.95 - ETA: 0s - loss: 0.1227 - accuracy: 0.95 - ETA: 0s - loss: 0.1252 - accuracy: 0.95 - ETA: 0s - loss: 0.1237 - accuracy: 0.95 - ETA: 0s - loss: 0.1215 - accuracy: 0.95 - ETA: 0s - loss: 0.1178 - accuracy: 0.95 - ETA: 0s - loss: 0.1196 - accuracy: 0.95 - 1s 5ms/step - loss: 0.1190 - accuracy: 0.9580 - val_loss: 0.0877 - val_accuracy: 0.9730\n",
      "Epoch 73/1000\n",
      "157/157 [==============================] - ETA: 7s - loss: 0.1312 - accuracy: 0.90 - ETA: 0s - loss: 0.1076 - accuracy: 0.95 - ETA: 0s - loss: 0.1160 - accuracy: 0.95 - ETA: 0s - loss: 0.1154 - accuracy: 0.95 - ETA: 0s - loss: 0.1188 - accuracy: 0.95 - ETA: 0s - loss: 0.1162 - accuracy: 0.95 - ETA: 0s - loss: 0.1168 - accuracy: 0.95 - ETA: 0s - loss: 0.1177 - accuracy: 0.95 - ETA: 0s - loss: 0.1174 - accuracy: 0.95 - ETA: 0s - loss: 0.1161 - accuracy: 0.95 - ETA: 0s - loss: 0.1173 - accuracy: 0.95 - ETA: 0s - loss: 0.1165 - accuracy: 0.95 - 1s 5ms/step - loss: 0.1153 - accuracy: 0.9568 - val_loss: 0.0993 - val_accuracy: 0.9670\n",
      "Epoch 74/1000\n",
      "157/157 [==============================] - ETA: 7s - loss: 0.1287 - accuracy: 0.90 - ETA: 1s - loss: 0.1162 - accuracy: 0.94 - ETA: 0s - loss: 0.1112 - accuracy: 0.95 - ETA: 0s - loss: 0.1046 - accuracy: 0.95 - ETA: 0s - loss: 0.1065 - accuracy: 0.96 - ETA: 0s - loss: 0.1071 - accuracy: 0.95 - ETA: 0s - loss: 0.1107 - accuracy: 0.95 - ETA: 0s - loss: 0.1131 - accuracy: 0.95 - ETA: 0s - loss: 0.1133 - accuracy: 0.95 - ETA: 0s - loss: 0.1122 - accuracy: 0.95 - ETA: 0s - loss: 0.1131 - accuracy: 0.95 - ETA: 0s - loss: 0.1151 - accuracy: 0.95 - 1s 5ms/step - loss: 0.1139 - accuracy: 0.9576 - val_loss: 0.0851 - val_accuracy: 0.9660\n",
      "Epoch 75/1000\n"
     ]
    },
    {
     "name": "stdout",
     "output_type": "stream",
     "text": [
      "157/157 [==============================] - ETA: 7s - loss: 0.0898 - accuracy: 0.93 - ETA: 1s - loss: 0.0953 - accuracy: 0.96 - ETA: 0s - loss: 0.0957 - accuracy: 0.95 - ETA: 0s - loss: 0.0928 - accuracy: 0.95 - ETA: 0s - loss: 0.1016 - accuracy: 0.95 - ETA: 0s - loss: 0.1050 - accuracy: 0.95 - ETA: 0s - loss: 0.1120 - accuracy: 0.95 - ETA: 0s - loss: 0.1127 - accuracy: 0.95 - ETA: 0s - loss: 0.1113 - accuracy: 0.95 - ETA: 0s - loss: 0.1115 - accuracy: 0.96 - ETA: 0s - loss: 0.1124 - accuracy: 0.95 - ETA: 0s - loss: 0.1093 - accuracy: 0.95 - 1s 5ms/step - loss: 0.1095 - accuracy: 0.9592 - val_loss: 0.1112 - val_accuracy: 0.9650\n",
      "Epoch 76/1000\n",
      "157/157 [==============================] - ETA: 7s - loss: 0.1635 - accuracy: 0.93 - ETA: 0s - loss: 0.0992 - accuracy: 0.96 - ETA: 0s - loss: 0.0974 - accuracy: 0.96 - ETA: 0s - loss: 0.1033 - accuracy: 0.96 - ETA: 0s - loss: 0.1104 - accuracy: 0.96 - ETA: 0s - loss: 0.1109 - accuracy: 0.96 - ETA: 0s - loss: 0.1151 - accuracy: 0.95 - ETA: 0s - loss: 0.1189 - accuracy: 0.95 - ETA: 0s - loss: 0.1186 - accuracy: 0.95 - ETA: 0s - loss: 0.1157 - accuracy: 0.95 - ETA: 0s - loss: 0.1136 - accuracy: 0.95 - ETA: 0s - loss: 0.1125 - accuracy: 0.95 - 1s 5ms/step - loss: 0.1110 - accuracy: 0.9596 - val_loss: 0.0888 - val_accuracy: 0.9700\n",
      "Epoch 77/1000\n",
      "157/157 [==============================] - ETA: 7s - loss: 0.1100 - accuracy: 0.96 - ETA: 0s - loss: 0.1042 - accuracy: 0.95 - ETA: 0s - loss: 0.1021 - accuracy: 0.95 - ETA: 0s - loss: 0.0991 - accuracy: 0.96 - ETA: 0s - loss: 0.1035 - accuracy: 0.96 - ETA: 0s - loss: 0.1057 - accuracy: 0.96 - ETA: 0s - loss: 0.1051 - accuracy: 0.96 - ETA: 0s - loss: 0.1062 - accuracy: 0.96 - ETA: 0s - loss: 0.1061 - accuracy: 0.96 - ETA: 0s - loss: 0.1031 - accuracy: 0.96 - ETA: 0s - loss: 0.1052 - accuracy: 0.96 - ETA: 0s - loss: 0.1043 - accuracy: 0.96 - 1s 5ms/step - loss: 0.1059 - accuracy: 0.9608 - val_loss: 0.0994 - val_accuracy: 0.9690\n",
      "Epoch 78/1000\n",
      "157/157 [==============================] - ETA: 7s - loss: 0.1244 - accuracy: 0.93 - ETA: 0s - loss: 0.1172 - accuracy: 0.95 - ETA: 0s - loss: 0.1078 - accuracy: 0.96 - ETA: 0s - loss: 0.1073 - accuracy: 0.96 - ETA: 0s - loss: 0.1082 - accuracy: 0.96 - ETA: 0s - loss: 0.1099 - accuracy: 0.95 - ETA: 0s - loss: 0.1066 - accuracy: 0.96 - ETA: 0s - loss: 0.1102 - accuracy: 0.95 - ETA: 0s - loss: 0.1084 - accuracy: 0.96 - ETA: 0s - loss: 0.1067 - accuracy: 0.96 - ETA: 0s - loss: 0.1049 - accuracy: 0.96 - ETA: 0s - loss: 0.1065 - accuracy: 0.96 - 1s 5ms/step - loss: 0.1072 - accuracy: 0.9614 - val_loss: 0.0683 - val_accuracy: 0.9780\n",
      "Epoch 79/1000\n",
      "157/157 [==============================] - ETA: 7s - loss: 0.0798 - accuracy: 0.96 - ETA: 0s - loss: 0.1434 - accuracy: 0.94 - ETA: 0s - loss: 0.1330 - accuracy: 0.94 - ETA: 0s - loss: 0.1215 - accuracy: 0.95 - ETA: 0s - loss: 0.1301 - accuracy: 0.94 - ETA: 0s - loss: 0.1260 - accuracy: 0.95 - ETA: 0s - loss: 0.1250 - accuracy: 0.95 - ETA: 0s - loss: 0.1263 - accuracy: 0.95 - ETA: 0s - loss: 0.1238 - accuracy: 0.95 - ETA: 0s - loss: 0.1237 - accuracy: 0.95 - ETA: 0s - loss: 0.1214 - accuracy: 0.95 - ETA: 0s - loss: 0.1196 - accuracy: 0.95 - 1s 5ms/step - loss: 0.1184 - accuracy: 0.9554 - val_loss: 0.0805 - val_accuracy: 0.9690\n",
      "Epoch 80/1000\n",
      "157/157 [==============================] - ETA: 7s - loss: 0.0732 - accuracy: 0.96 - ETA: 0s - loss: 0.0958 - accuracy: 0.96 - ETA: 0s - loss: 0.1003 - accuracy: 0.95 - ETA: 0s - loss: 0.0947 - accuracy: 0.96 - ETA: 0s - loss: 0.0998 - accuracy: 0.96 - ETA: 0s - loss: 0.1036 - accuracy: 0.96 - ETA: 0s - loss: 0.1047 - accuracy: 0.95 - ETA: 0s - loss: 0.1072 - accuracy: 0.95 - ETA: 0s - loss: 0.1078 - accuracy: 0.95 - ETA: 0s - loss: 0.1074 - accuracy: 0.95 - ETA: 0s - loss: 0.1097 - accuracy: 0.95 - ETA: 0s - loss: 0.1085 - accuracy: 0.95 - 1s 5ms/step - loss: 0.1085 - accuracy: 0.9576 - val_loss: 0.0871 - val_accuracy: 0.9710\n",
      "Epoch 81/1000\n",
      "157/157 [==============================] - ETA: 7s - loss: 0.1267 - accuracy: 0.93 - ETA: 0s - loss: 0.1038 - accuracy: 0.95 - ETA: 0s - loss: 0.1054 - accuracy: 0.96 - ETA: 0s - loss: 0.1048 - accuracy: 0.96 - ETA: 0s - loss: 0.1059 - accuracy: 0.96 - ETA: 0s - loss: 0.1099 - accuracy: 0.96 - ETA: 0s - loss: 0.1074 - accuracy: 0.96 - ETA: 0s - loss: 0.1107 - accuracy: 0.96 - ETA: 0s - loss: 0.1078 - accuracy: 0.96 - ETA: 0s - loss: 0.1065 - accuracy: 0.96 - ETA: 0s - loss: 0.1061 - accuracy: 0.96 - ETA: 0s - loss: 0.1063 - accuracy: 0.96 - 1s 5ms/step - loss: 0.1058 - accuracy: 0.9630 - val_loss: 0.0947 - val_accuracy: 0.9700\n",
      "Epoch 82/1000\n",
      "157/157 [==============================] - ETA: 7s - loss: 0.1442 - accuracy: 0.96 - ETA: 0s - loss: 0.1618 - accuracy: 0.96 - ETA: 0s - loss: 0.1375 - accuracy: 0.96 - ETA: 0s - loss: 0.1285 - accuracy: 0.96 - ETA: 0s - loss: 0.1309 - accuracy: 0.95 - ETA: 0s - loss: 0.1275 - accuracy: 0.95 - ETA: 0s - loss: 0.1266 - accuracy: 0.95 - ETA: 0s - loss: 0.1226 - accuracy: 0.95 - ETA: 0s - loss: 0.1197 - accuracy: 0.96 - ETA: 0s - loss: 0.1174 - accuracy: 0.96 - ETA: 0s - loss: 0.1167 - accuracy: 0.95 - ETA: 0s - loss: 0.1128 - accuracy: 0.95 - 1s 5ms/step - loss: 0.1129 - accuracy: 0.9596 - val_loss: 0.1012 - val_accuracy: 0.9670\n",
      "Epoch 83/1000\n",
      "157/157 [==============================] - ETA: 7s - loss: 0.1871 - accuracy: 0.90 - ETA: 1s - loss: 0.1247 - accuracy: 0.95 - ETA: 0s - loss: 0.1135 - accuracy: 0.96 - ETA: 0s - loss: 0.1055 - accuracy: 0.96 - ETA: 0s - loss: 0.1062 - accuracy: 0.96 - ETA: 0s - loss: 0.1050 - accuracy: 0.96 - ETA: 0s - loss: 0.1099 - accuracy: 0.96 - ETA: 0s - loss: 0.1139 - accuracy: 0.95 - ETA: 0s - loss: 0.1128 - accuracy: 0.95 - ETA: 0s - loss: 0.1102 - accuracy: 0.95 - ETA: 0s - loss: 0.1086 - accuracy: 0.96 - ETA: 0s - loss: 0.1083 - accuracy: 0.96 - ETA: 0s - loss: 0.1074 - accuracy: 0.96 - 1s 5ms/step - loss: 0.1069 - accuracy: 0.9612 - val_loss: 0.0889 - val_accuracy: 0.9680\n",
      "Epoch 84/1000\n",
      "157/157 [==============================] - ETA: 9s - loss: 0.0923 - accuracy: 0.96 - ETA: 1s - loss: 0.1135 - accuracy: 0.95 - ETA: 1s - loss: 0.1332 - accuracy: 0.94 - ETA: 0s - loss: 0.1237 - accuracy: 0.95 - ETA: 0s - loss: 0.1298 - accuracy: 0.95 - ETA: 0s - loss: 0.1268 - accuracy: 0.95 - ETA: 0s - loss: 0.1235 - accuracy: 0.95 - ETA: 0s - loss: 0.1240 - accuracy: 0.95 - ETA: 0s - loss: 0.1245 - accuracy: 0.95 - ETA: 0s - loss: 0.1206 - accuracy: 0.95 - ETA: 0s - loss: 0.1186 - accuracy: 0.95 - ETA: 0s - loss: 0.1175 - accuracy: 0.95 - ETA: 0s - loss: 0.1141 - accuracy: 0.95 - 1s 5ms/step - loss: 0.1136 - accuracy: 0.9588 - val_loss: 0.0852 - val_accuracy: 0.9690\n",
      "Epoch 85/1000\n",
      "157/157 [==============================] - ETA: 7s - loss: 0.0555 - accuracy: 0.96 - ETA: 1s - loss: 0.0927 - accuracy: 0.96 - ETA: 0s - loss: 0.0992 - accuracy: 0.96 - ETA: 0s - loss: 0.1008 - accuracy: 0.96 - ETA: 0s - loss: 0.1018 - accuracy: 0.96 - ETA: 0s - loss: 0.1003 - accuracy: 0.96 - ETA: 0s - loss: 0.0990 - accuracy: 0.96 - ETA: 0s - loss: 0.1015 - accuracy: 0.96 - ETA: 0s - loss: 0.1012 - accuracy: 0.96 - ETA: 0s - loss: 0.1021 - accuracy: 0.96 - ETA: 0s - loss: 0.1005 - accuracy: 0.96 - ETA: 0s - loss: 0.1004 - accuracy: 0.96 - 1s 5ms/step - loss: 0.0988 - accuracy: 0.9648 - val_loss: 0.1141 - val_accuracy: 0.9590\n",
      "Epoch 86/1000\n",
      "157/157 [==============================] - ETA: 7s - loss: 0.1654 - accuracy: 0.93 - ETA: 0s - loss: 0.0968 - accuracy: 0.96 - ETA: 0s - loss: 0.0904 - accuracy: 0.97 - ETA: 0s - loss: 0.0998 - accuracy: 0.96 - ETA: 0s - loss: 0.0969 - accuracy: 0.96 - ETA: 0s - loss: 0.1044 - accuracy: 0.96 - ETA: 0s - loss: 0.1026 - accuracy: 0.96 - ETA: 0s - loss: 0.1056 - accuracy: 0.96 - ETA: 0s - loss: 0.1044 - accuracy: 0.96 - ETA: 0s - loss: 0.1038 - accuracy: 0.96 - ETA: 0s - loss: 0.1020 - accuracy: 0.96 - 1s 5ms/step - loss: 0.1036 - accuracy: 0.9616 - val_loss: 0.0821 - val_accuracy: 0.9700\n",
      "Epoch 87/1000\n",
      "157/157 [==============================] - ETA: 7s - loss: 0.1847 - accuracy: 0.93 - ETA: 0s - loss: 0.0915 - accuracy: 0.96 - ETA: 0s - loss: 0.1017 - accuracy: 0.96 - ETA: 0s - loss: 0.1010 - accuracy: 0.96 - ETA: 0s - loss: 0.0975 - accuracy: 0.96 - ETA: 0s - loss: 0.0992 - accuracy: 0.96 - ETA: 0s - loss: 0.0970 - accuracy: 0.96 - ETA: 0s - loss: 0.1001 - accuracy: 0.96 - ETA: 0s - loss: 0.1024 - accuracy: 0.96 - ETA: 0s - loss: 0.1007 - accuracy: 0.96 - ETA: 0s - loss: 0.1011 - accuracy: 0.96 - ETA: 0s - loss: 0.1003 - accuracy: 0.96 - 1s 5ms/step - loss: 0.0993 - accuracy: 0.9664 - val_loss: 0.0889 - val_accuracy: 0.9700\n",
      "Epoch 88/1000\n",
      "157/157 [==============================] - ETA: 6s - loss: 0.1791 - accuracy: 0.96 - ETA: 0s - loss: 0.0974 - accuracy: 0.96 - ETA: 0s - loss: 0.0982 - accuracy: 0.96 - ETA: 0s - loss: 0.1031 - accuracy: 0.96 - ETA: 0s - loss: 0.1011 - accuracy: 0.96 - ETA: 0s - loss: 0.1025 - accuracy: 0.96 - ETA: 0s - loss: 0.1051 - accuracy: 0.96 - ETA: 0s - loss: 0.1071 - accuracy: 0.96 - ETA: 0s - loss: 0.1034 - accuracy: 0.96 - ETA: 0s - loss: 0.1009 - accuracy: 0.96 - ETA: 0s - loss: 0.0986 - accuracy: 0.96 - 1s 5ms/step - loss: 0.0999 - accuracy: 0.9650 - val_loss: 0.0724 - val_accuracy: 0.9780\n",
      "[[1.]\n",
      " [0.]\n",
      " [0.]\n",
      " ...\n",
      " [1.]\n",
      " [0.]\n",
      " [1.]]\n",
      "WARNING:tensorflow:Unresolved object in checkpoint: (root).optimizer.iter\n",
      "WARNING:tensorflow:Unresolved object in checkpoint: (root).optimizer.beta_1\n",
      "WARNING:tensorflow:Unresolved object in checkpoint: (root).optimizer.beta_2\n",
      "WARNING:tensorflow:Unresolved object in checkpoint: (root).optimizer.decay\n",
      "WARNING:tensorflow:Unresolved object in checkpoint: (root).optimizer.learning_rate\n",
      "WARNING:tensorflow:A checkpoint was restored (e.g. tf.train.Checkpoint.restore or tf.keras.Model.load_weights) but not all checkpointed values were used. See above for specific issues. Use expect_partial() on the load status object, e.g. tf.train.Checkpoint.restore(...).expect_partial(), to silence these warnings, or use assert_consumed() to make the check explicit. See https://www.tensorflow.org/guide/checkpoint#loading_mechanics for details.\n",
      "WARNING:tensorflow:Unresolved object in checkpoint: (root).optimizer.iter\n",
      "WARNING:tensorflow:Unresolved object in checkpoint: (root).optimizer.beta_1\n",
      "WARNING:tensorflow:Unresolved object in checkpoint: (root).optimizer.beta_2\n",
      "WARNING:tensorflow:Unresolved object in checkpoint: (root).optimizer.decay\n",
      "WARNING:tensorflow:Unresolved object in checkpoint: (root).optimizer.learning_rate\n",
      "WARNING:tensorflow:A checkpoint was restored (e.g. tf.train.Checkpoint.restore or tf.keras.Model.load_weights) but not all checkpointed values were used. See above for specific issues. Use expect_partial() on the load status object, e.g. tf.train.Checkpoint.restore(...).expect_partial(), to silence these warnings, or use assert_consumed() to make the check explicit. See https://www.tensorflow.org/guide/checkpoint#loading_mechanics for details.\n",
      "40/40 [==============================] - ETA: 3s - loss: 0.1313 - accuracy: 0.93 - ETA: 0s - loss: 0.2570 - accuracy: 0.93 - 0s 4ms/step - loss: 0.2268 - accuracy: 0.9368\n",
      "[0.22675846896599977, 0.9368]\n"
     ]
    }
   ],
   "source": [
    "import autokeras as ak\n",
    "\n",
    "# Initialize the image classifier.\n",
    "clf = ak.ImageClassifier()\n",
    "# Feed the image classifier with training data.\n",
    "clf.fit(X_train, y_train)\n",
    "\n",
    "# Predict with the best model.\n",
    "predicted_y = clf.predict(X_test)\n",
    "print(predicted_y)\n",
    "\n",
    "# Evaluate the best model with testing data.\n",
    "print(clf.evaluate(X_test, y_test))"
   ]
  },
  {
   "cell_type": "code",
   "execution_count": 53,
   "metadata": {},
   "outputs": [
    {
     "name": "stdout",
     "output_type": "stream",
     "text": [
      "WARNING:tensorflow:Unresolved object in checkpoint: (root).optimizer.iter\n",
      "WARNING:tensorflow:Unresolved object in checkpoint: (root).optimizer.beta_1\n",
      "WARNING:tensorflow:Unresolved object in checkpoint: (root).optimizer.beta_2\n",
      "WARNING:tensorflow:Unresolved object in checkpoint: (root).optimizer.decay\n",
      "WARNING:tensorflow:Unresolved object in checkpoint: (root).optimizer.learning_rate\n",
      "WARNING:tensorflow:A checkpoint was restored (e.g. tf.train.Checkpoint.restore or tf.keras.Model.load_weights) but not all checkpointed values were used. See above for specific issues. Use expect_partial() on the load status object, e.g. tf.train.Checkpoint.restore(...).expect_partial(), to silence these warnings, or use assert_consumed() to make the check explicit. See https://www.tensorflow.org/guide/checkpoint#loading_mechanics for details.\n",
      "WARNING:tensorflow:Unresolved object in checkpoint: (root).optimizer.iter\n",
      "WARNING:tensorflow:Unresolved object in checkpoint: (root).optimizer.beta_1\n",
      "WARNING:tensorflow:Unresolved object in checkpoint: (root).optimizer.beta_2\n",
      "WARNING:tensorflow:Unresolved object in checkpoint: (root).optimizer.decay\n",
      "WARNING:tensorflow:Unresolved object in checkpoint: (root).optimizer.learning_rate\n",
      "WARNING:tensorflow:A checkpoint was restored (e.g. tf.train.Checkpoint.restore or tf.keras.Model.load_weights) but not all checkpointed values were used. See above for specific issues. Use expect_partial() on the load status object, e.g. tf.train.Checkpoint.restore(...).expect_partial(), to silence these warnings, or use assert_consumed() to make the check explicit. See https://www.tensorflow.org/guide/checkpoint#loading_mechanics for details.\n"
     ]
    }
   ],
   "source": [
    "model = clf.export_model()"
   ]
  },
  {
   "cell_type": "markdown",
   "metadata": {},
   "source": [
    "## GPU test"
   ]
  },
  {
   "cell_type": "code",
   "execution_count": null,
   "metadata": {},
   "outputs": [],
   "source": [
    "from tensorflow.python.client import device_lib\n",
    "print(device_lib.list_local_devices())"
   ]
  },
  {
   "cell_type": "code",
   "execution_count": null,
   "metadata": {},
   "outputs": [],
   "source": [
    "tf.config.list_physical_devices('GPU')"
   ]
  },
  {
   "cell_type": "code",
   "execution_count": null,
   "metadata": {},
   "outputs": [],
   "source": [
    "tf.test.is_built_with_cuda()"
   ]
  },
  {
   "cell_type": "code",
   "execution_count": null,
   "metadata": {},
   "outputs": [],
   "source": [
    "from keras import backend as K\n",
    "K.tensorflow_backend._get_available_gpus()"
   ]
  },
  {
   "cell_type": "code",
   "execution_count": null,
   "metadata": {},
   "outputs": [],
   "source": [
    "import tensorflow as tf\n",
    "sess = tf.Session(config=tf.ConfigProto(log_device_placement=True))"
   ]
  },
  {
   "cell_type": "code",
   "execution_count": null,
   "metadata": {},
   "outputs": [],
   "source": []
  }
 ],
 "metadata": {
  "kernelspec": {
   "display_name": "Python 3",
   "language": "python",
   "name": "python3"
  },
  "language_info": {
   "codemirror_mode": {
    "name": "ipython",
    "version": 3
   },
   "file_extension": ".py",
   "mimetype": "text/x-python",
   "name": "python",
   "nbconvert_exporter": "python",
   "pygments_lexer": "ipython3",
   "version": "3.7.6"
  }
 },
 "nbformat": 4,
 "nbformat_minor": 4
}
