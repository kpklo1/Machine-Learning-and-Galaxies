{
 "cells": [
  {
   "cell_type": "code",
   "execution_count": 9,
   "metadata": {},
   "outputs": [],
   "source": [
    "import keras\n",
    "import tensorflow as tf\n",
    "import glob\n",
    "from pathlib import Path\n",
    "from astropy.io import fits\n",
    "import numpy as np\n",
    "import pandas as pd\n",
    "from sklearn.model_selection import train_test_split\n",
    "from keras import Sequential\n",
    "from keras.layers import Dense\n",
    "from keras.models import Sequential\n",
    "from keras.layers import Dense, Flatten, Activation, Dropout\n",
    "import time"
   ]
  },
  {
   "cell_type": "code",
   "execution_count": 10,
   "metadata": {},
   "outputs": [
    {
     "name": "stdout",
     "output_type": "stream",
     "text": [
      "2.0.0\n"
     ]
    }
   ],
   "source": [
    "print(tf.__version__)"
   ]
  },
  {
   "cell_type": "markdown",
   "metadata": {},
   "source": [
    "# DFNN"
   ]
  },
  {
   "cell_type": "markdown",
   "metadata": {},
   "source": [
    "# CNN"
   ]
  },
  {
   "cell_type": "code",
   "execution_count": 11,
   "metadata": {},
   "outputs": [
    {
     "name": "stdout",
     "output_type": "stream",
     "text": [
      "3123\n",
      "Runtime 46.23882932400011 seconds\n"
     ]
    }
   ],
   "source": [
    "tic = time.perf_counter()\n",
    "galaxy = np.zeros((40,40))\n",
    "for filepath in glob.iglob('../Data/npycutouts/galaxyfits/*npy', recursive=True):\n",
    "    fp = Path(filepath)\n",
    "    array = np.load(fp)\n",
    "    galaxy = np.dstack((galaxy,array))\n",
    "galaxy = galaxy[:,:,1:]\n",
    "print(galaxy.shape[2])\n",
    "toc = time.perf_counter()\n",
    "print(f\"Runtime {toc - tic} seconds\")"
   ]
  },
  {
   "cell_type": "code",
   "execution_count": 12,
   "metadata": {},
   "outputs": [
    {
     "name": "stdout",
     "output_type": "stream",
     "text": [
      "40\n"
     ]
    }
   ],
   "source": [
    "from scipy.ndimage import rotate\n",
    "galaxy = np.dstack((galaxy, np.rot90(galaxy,1),np.rot90(galaxy,2),np.rot90(galaxy,3)))\n",
    "galaxy = np.dstack((galaxy,np.flip(galaxy,axis=0)))\n",
    "print(len(galaxy))"
   ]
  },
  {
   "cell_type": "code",
   "execution_count": 13,
   "metadata": {},
   "outputs": [
    {
     "name": "stdout",
     "output_type": "stream",
     "text": [
      "(40, 40, 24984)\n"
     ]
    }
   ],
   "source": [
    "print(galaxy.shape)"
   ]
  },
  {
   "cell_type": "code",
   "execution_count": 12,
   "metadata": {},
   "outputs": [
    {
     "data": {
      "text/plain": [
       "'\\ndatagen = ImageDataGenerator(\\n    featurewise_center=True,\\n    featurewise_std_normalization=True,\\n    rotation_range=20,\\n    width_shift_range=0.2,\\n    height_shift_range=0.2,\\n    horizontal_flip=True)\\n    '"
      ]
     },
     "execution_count": 12,
     "metadata": {},
     "output_type": "execute_result"
    }
   ],
   "source": [
    "'''\n",
    "datagen = ImageDataGenerator(\n",
    "    featurewise_center=True,\n",
    "    featurewise_std_normalization=True,\n",
    "    rotation_range=20,\n",
    "    width_shift_range=0.2,\n",
    "    height_shift_range=0.2,\n",
    "    horizontal_flip=True)\n",
    "    '''"
   ]
  },
  {
   "cell_type": "code",
   "execution_count": 14,
   "metadata": {},
   "outputs": [
    {
     "name": "stdout",
     "output_type": "stream",
     "text": [
      "(40, 40, 24984)\n",
      "Runtime 2872.2398550420003 seconds\n"
     ]
    }
   ],
   "source": [
    "tic = time.perf_counter()\n",
    "star = np.zeros((40,40))\n",
    "count = 0\n",
    "for filepath in glob.iglob('../Data/npycutouts/starfits/*npy', recursive=True):\n",
    "    fp = Path(filepath)\n",
    "    array = np.load(fp)\n",
    "    star = np.dstack((star,array))\n",
    "    count += 1\n",
    "    if count == galaxy.shape[2]:\n",
    "        break\n",
    "star = star[:,:,1:]\n",
    "print(star.shape)\n",
    "toc = time.perf_counter()\n",
    "print(f\"Runtime {toc - tic} seconds\")"
   ]
  },
  {
   "cell_type": "code",
   "execution_count": 15,
   "metadata": {},
   "outputs": [
    {
     "name": "stdout",
     "output_type": "stream",
     "text": [
      "(40, 40, 49968)\n"
     ]
    }
   ],
   "source": [
    "X = np.dstack((galaxy,star))\n",
    "y = np.dstack((np.ones((1,1,galaxy.shape[2])),np.zeros((1,1,star.shape[2]))))\n",
    "print(X.shape)"
   ]
  },
  {
   "cell_type": "code",
   "execution_count": 16,
   "metadata": {},
   "outputs": [],
   "source": [
    "X = np.moveaxis(X, -1, 0)\n",
    "y = np.moveaxis(y, -1, 0)"
   ]
  },
  {
   "cell_type": "code",
   "execution_count": 17,
   "metadata": {},
   "outputs": [
    {
     "name": "stdout",
     "output_type": "stream",
     "text": [
      "(49968, 1, 1)\n"
     ]
    }
   ],
   "source": [
    "print(y.shape)"
   ]
  },
  {
   "cell_type": "code",
   "execution_count": 18,
   "metadata": {},
   "outputs": [],
   "source": [
    "X_train, X_test, y_train, y_test = train_test_split(X, y, test_size=0.2)"
   ]
  },
  {
   "cell_type": "code",
   "execution_count": 19,
   "metadata": {},
   "outputs": [],
   "source": [
    "y_train = y_train.reshape(-1, 1)\n",
    "y_test = y_test.reshape(-1, 1)"
   ]
  },
  {
   "cell_type": "code",
   "execution_count": 20,
   "metadata": {},
   "outputs": [],
   "source": [
    "X_train = X_train.reshape(len(X_train),40,40,1)\n",
    "X_test = X_test.reshape(len(X_test),40,40,1)"
   ]
  },
  {
   "cell_type": "code",
   "execution_count": null,
   "metadata": {},
   "outputs": [],
   "source": [
    "from keras.models import Sequential\n",
    "from keras.layers import Dense, Conv2D, Flatten, MaxPooling2D\n",
    "#create model\n",
    "model = Sequential()\n",
    "#add model layers\n",
    "model.add(Conv2D(16, kernel_size=5, activation='relu', input_shape=(40,40,1)))\n",
    "model.add(MaxPooling2D(pool_size=(2, 2)))\n",
    "model.add(Conv2D(32, kernel_size=3, activation='relu'))\n",
    "model.add(MaxPooling2D(pool_size=(2, 2)))\n",
    "model.add(Conv2D(64, kernel_size=3, activation='relu'))\n",
    "model.add(MaxPooling2D(pool_size=(2, 2)))\n",
    "model.add(Dropout(0.25))\n",
    "model.add(Flatten())\n",
    "model.add(Dense(256, activation='relu', kernel_initializer='random_normal'))\n",
    "model.add(Dropout(0.5))\n",
    "model.add(Dense(1, activation='sigmoid'))\n",
    "#Compiling the neural network\n",
    "model.compile(optimizer ='Adadelta',loss='binary_crossentropy', metrics =['accuracy'])\n",
    "#Fitting the data to the training dataset\n",
    "model.fit(X_train,y_train, batch_size=32, epochs=1024, shuffle=True, use_multiprocessing=True)"
   ]
  },
  {
   "cell_type": "code",
   "execution_count": null,
   "metadata": {},
   "outputs": [
    {
     "name": "stdout",
     "output_type": "stream",
     "text": [
      "Epoch 1/1024\n",
      "39974/39974 [==============================] - 126s 3ms/step - loss: 2.1681 - accuracy: 0.7317\n",
      "Epoch 2/1024\n",
      "39974/39974 [==============================] - 125s 3ms/step - loss: 0.4785 - accuracy: 0.7827\n",
      "Epoch 3/1024\n",
      "39974/39974 [==============================] - 126s 3ms/step - loss: 0.4540 - accuracy: 0.7948\n",
      "Epoch 4/1024\n",
      "39974/39974 [==============================] - 125s 3ms/step - loss: 0.4295 - accuracy: 0.8049\n",
      "Epoch 5/1024\n",
      "39974/39974 [==============================] - 125s 3ms/step - loss: 0.4155 - accuracy: 0.8107\n",
      "Epoch 6/1024\n",
      "39974/39974 [==============================] - 125s 3ms/step - loss: 0.4035 - accuracy: 0.8203\n",
      "Epoch 7/1024\n",
      "39974/39974 [==============================] - 125s 3ms/step - loss: 0.3978 - accuracy: 0.8238\n",
      "Epoch 8/1024\n",
      "39974/39974 [==============================] - 125s 3ms/step - loss: 0.3849 - accuracy: 0.8315\n",
      "Epoch 9/1024\n",
      "39974/39974 [==============================] - 125s 3ms/step - loss: 0.3808 - accuracy: 0.8356\n",
      "Epoch 10/1024\n",
      "39974/39974 [==============================] - 126s 3ms/step - loss: 0.3702 - accuracy: 0.8403\n",
      "Epoch 11/1024\n",
      "39974/39974 [==============================] - 125s 3ms/step - loss: 0.3619 - accuracy: 0.8465\n",
      "Epoch 12/1024\n",
      "39974/39974 [==============================] - 125s 3ms/step - loss: 0.3546 - accuracy: 0.8500\n",
      "Epoch 13/1024\n",
      "39974/39974 [==============================] - 125s 3ms/step - loss: 0.3488 - accuracy: 0.8545\n",
      "Epoch 14/1024\n",
      "39974/39974 [==============================] - 126s 3ms/step - loss: 0.3424 - accuracy: 0.8568\n",
      "Epoch 15/1024\n",
      "39974/39974 [==============================] - 126s 3ms/step - loss: 0.3360 - accuracy: 0.8615\n",
      "Epoch 16/1024\n",
      "39974/39974 [==============================] - 126s 3ms/step - loss: 0.3322 - accuracy: 0.8631\n",
      "Epoch 17/1024\n",
      "39974/39974 [==============================] - 126s 3ms/step - loss: 0.3261 - accuracy: 0.8663\n",
      "Epoch 18/1024\n",
      "39974/39974 [==============================] - 125s 3ms/step - loss: 0.3250 - accuracy: 0.8668\n",
      "Epoch 19/1024\n",
      "39974/39974 [==============================] - 126s 3ms/step - loss: 0.3214 - accuracy: 0.8702\n",
      "Epoch 20/1024\n",
      "39974/39974 [==============================] - 126s 3ms/step - loss: 0.3168 - accuracy: 0.8740\n",
      "Epoch 21/1024\n",
      "39974/39974 [==============================] - 126s 3ms/step - loss: 0.3132 - accuracy: 0.8742\n",
      "Epoch 22/1024\n",
      "39974/39974 [==============================] - 126s 3ms/step - loss: 0.3096 - accuracy: 0.8770\n",
      "Epoch 23/1024\n",
      "39974/39974 [==============================] - 126s 3ms/step - loss: 0.3022 - accuracy: 0.8797\n",
      "Epoch 24/1024\n",
      "39974/39974 [==============================] - 125s 3ms/step - loss: 0.3017 - accuracy: 0.8814\n",
      "Epoch 25/1024\n",
      "39974/39974 [==============================] - 126s 3ms/step - loss: 0.2980 - accuracy: 0.8822\n",
      "Epoch 26/1024\n",
      "39974/39974 [==============================] - 126s 3ms/step - loss: 0.2927 - accuracy: 0.8834\n",
      "Epoch 27/1024\n",
      "39974/39974 [==============================] - 126s 3ms/step - loss: 0.2916 - accuracy: 0.8849\n",
      "Epoch 28/1024\n",
      "39974/39974 [==============================] - 126s 3ms/step - loss: 0.2941 - accuracy: 0.8852\n",
      "Epoch 29/1024\n",
      "39974/39974 [==============================] - 126s 3ms/step - loss: 0.2867 - accuracy: 0.8875\n",
      "Epoch 30/1024\n",
      "39974/39974 [==============================] - 126s 3ms/step - loss: 0.2853 - accuracy: 0.8880\n",
      "Epoch 31/1024\n",
      "39974/39974 [==============================] - 126s 3ms/step - loss: 0.2816 - accuracy: 0.8925\n",
      "Epoch 32/1024\n",
      "39974/39974 [==============================] - 126s 3ms/step - loss: 0.2821 - accuracy: 0.8905\n",
      "Epoch 33/1024\n",
      "39974/39974 [==============================] - 126s 3ms/step - loss: 0.2792 - accuracy: 0.8920\n",
      "Epoch 34/1024\n",
      "39974/39974 [==============================] - 127s 3ms/step - loss: 0.2733 - accuracy: 0.8949\n",
      "Epoch 35/1024\n",
      "39974/39974 [==============================] - 126s 3ms/step - loss: 0.2735 - accuracy: 0.8950\n",
      "Epoch 36/1024\n",
      "39974/39974 [==============================] - 126s 3ms/step - loss: 0.2731 - accuracy: 0.8934\n",
      "Epoch 37/1024\n",
      "39974/39974 [==============================] - 126s 3ms/step - loss: 0.2661 - accuracy: 0.8965\n",
      "Epoch 38/1024\n",
      "39974/39974 [==============================] - 126s 3ms/step - loss: 0.2680 - accuracy: 0.8964\n",
      "Epoch 39/1024\n",
      "39974/39974 [==============================] - 126s 3ms/step - loss: 0.2665 - accuracy: 0.8986\n",
      "Epoch 40/1024\n",
      "39974/39974 [==============================] - 126s 3ms/step - loss: 0.2655 - accuracy: 0.8967\n",
      "Epoch 41/1024\n",
      "39974/39974 [==============================] - 126s 3ms/step - loss: 0.2689 - accuracy: 0.8995\n",
      "Epoch 42/1024\n",
      "39974/39974 [==============================] - 126s 3ms/step - loss: 0.2586 - accuracy: 0.9020\n",
      "Epoch 43/1024\n",
      "39974/39974 [==============================] - 126s 3ms/step - loss: 0.2602 - accuracy: 0.9004\n",
      "Epoch 44/1024\n",
      "39974/39974 [==============================] - 126s 3ms/step - loss: 0.2548 - accuracy: 0.9024\n",
      "Epoch 45/1024\n",
      "39974/39974 [==============================] - 126s 3ms/step - loss: 0.2544 - accuracy: 0.9035\n",
      "Epoch 46/1024\n",
      "39974/39974 [==============================] - 126s 3ms/step - loss: 0.2522 - accuracy: 0.9028\n",
      "Epoch 47/1024\n",
      "39974/39974 [==============================] - 126s 3ms/step - loss: 0.2526 - accuracy: 0.9033\n",
      "Epoch 48/1024\n",
      "39974/39974 [==============================] - 126s 3ms/step - loss: 0.2506 - accuracy: 0.9051\n",
      "Epoch 49/1024\n",
      "39974/39974 [==============================] - 126s 3ms/step - loss: 0.2474 - accuracy: 0.9075\n",
      "Epoch 50/1024\n",
      "39974/39974 [==============================] - 126s 3ms/step - loss: 0.2424 - accuracy: 0.9079\n",
      "Epoch 51/1024\n",
      "39974/39974 [==============================] - 126s 3ms/step - loss: 0.2470 - accuracy: 0.9064\n",
      "Epoch 52/1024\n",
      "39974/39974 [==============================] - 126s 3ms/step - loss: 0.2429 - accuracy: 0.9079\n",
      "Epoch 53/1024\n",
      "39974/39974 [==============================] - 126s 3ms/step - loss: 0.2428 - accuracy: 0.9088\n",
      "Epoch 54/1024\n",
      "39974/39974 [==============================] - 126s 3ms/step - loss: 0.2395 - accuracy: 0.9094\n",
      "Epoch 55/1024\n",
      "39974/39974 [==============================] - 126s 3ms/step - loss: 0.2392 - accuracy: 0.9089\n",
      "Epoch 56/1024\n",
      "39974/39974 [==============================] - 126s 3ms/step - loss: 0.2398 - accuracy: 0.9110\n",
      "Epoch 57/1024\n",
      "39974/39974 [==============================] - 126s 3ms/step - loss: 0.2385 - accuracy: 0.9107\n",
      "Epoch 58/1024\n",
      "39974/39974 [==============================] - 126s 3ms/step - loss: 0.2367 - accuracy: 0.9101\n",
      "Epoch 59/1024\n",
      "39974/39974 [==============================] - 126s 3ms/step - loss: 0.2373 - accuracy: 0.9113\n",
      "Epoch 60/1024\n",
      "39974/39974 [==============================] - 126s 3ms/step - loss: 0.2329 - accuracy: 0.9129\n",
      "Epoch 61/1024\n",
      "39974/39974 [==============================] - 126s 3ms/step - loss: 0.2335 - accuracy: 0.9115\n",
      "Epoch 62/1024\n",
      "39974/39974 [==============================] - 126s 3ms/step - loss: 0.2360 - accuracy: 0.9138\n",
      "Epoch 63/1024\n",
      "39974/39974 [==============================] - 126s 3ms/step - loss: 0.2296 - accuracy: 0.9141\n",
      "Epoch 64/1024\n",
      "39974/39974 [==============================] - 126s 3ms/step - loss: 0.2306 - accuracy: 0.9129\n",
      "Epoch 65/1024\n",
      "39974/39974 [==============================] - 126s 3ms/step - loss: 0.2309 - accuracy: 0.9144\n",
      "Epoch 66/1024\n",
      "39974/39974 [==============================] - 126s 3ms/step - loss: 0.2280 - accuracy: 0.9150\n",
      "Epoch 67/1024\n",
      "39974/39974 [==============================] - 126s 3ms/step - loss: 0.2237 - accuracy: 0.9160\n",
      "Epoch 68/1024\n",
      "39974/39974 [==============================] - 126s 3ms/step - loss: 0.2245 - accuracy: 0.9169\n",
      "Epoch 69/1024\n",
      "39974/39974 [==============================] - 126s 3ms/step - loss: 0.2260 - accuracy: 0.9165\n",
      "Epoch 70/1024\n",
      "39974/39974 [==============================] - 126s 3ms/step - loss: 0.2231 - accuracy: 0.9173\n",
      "Epoch 71/1024\n",
      "39974/39974 [==============================] - 126s 3ms/step - loss: 0.2226 - accuracy: 0.9168\n",
      "Epoch 72/1024\n",
      "39974/39974 [==============================] - 126s 3ms/step - loss: 0.2195 - accuracy: 0.9187\n",
      "Epoch 73/1024\n",
      "39974/39974 [==============================] - 126s 3ms/step - loss: 0.2225 - accuracy: 0.9176\n",
      "Epoch 74/1024\n",
      "39974/39974 [==============================] - 126s 3ms/step - loss: 0.2212 - accuracy: 0.9167\n",
      "Epoch 75/1024\n",
      "39974/39974 [==============================] - 126s 3ms/step - loss: 0.2226 - accuracy: 0.9173\n",
      "Epoch 76/1024\n"
     ]
    },
    {
     "name": "stdout",
     "output_type": "stream",
     "text": [
      "39974/39974 [==============================] - 126s 3ms/step - loss: 0.2159 - accuracy: 0.9209\n",
      "Epoch 77/1024\n",
      "39974/39974 [==============================] - 126s 3ms/step - loss: 0.2163 - accuracy: 0.9203\n",
      "Epoch 78/1024\n",
      "39974/39974 [==============================] - 126s 3ms/step - loss: 0.2124 - accuracy: 0.9206\n",
      "Epoch 79/1024\n",
      "39974/39974 [==============================] - 126s 3ms/step - loss: 0.2142 - accuracy: 0.9212\n",
      "Epoch 80/1024\n",
      "39974/39974 [==============================] - 126s 3ms/step - loss: 0.2128 - accuracy: 0.9217\n",
      "Epoch 81/1024\n",
      "39974/39974 [==============================] - 126s 3ms/step - loss: 0.2139 - accuracy: 0.9208\n",
      "Epoch 82/1024\n",
      "39974/39974 [==============================] - 126s 3ms/step - loss: 0.2110 - accuracy: 0.9218\n",
      "Epoch 83/1024\n",
      "39974/39974 [==============================] - 126s 3ms/step - loss: 0.2109 - accuracy: 0.9224\n",
      "Epoch 84/1024\n",
      "39974/39974 [==============================] - 126s 3ms/step - loss: 0.2138 - accuracy: 0.9208\n",
      "Epoch 85/1024\n",
      "39974/39974 [==============================] - 126s 3ms/step - loss: 0.2112 - accuracy: 0.9227\n",
      "Epoch 86/1024\n",
      "39974/39974 [==============================] - 125s 3ms/step - loss: 0.2110 - accuracy: 0.9219\n",
      "Epoch 87/1024\n",
      "39974/39974 [==============================] - 126s 3ms/step - loss: 0.2104 - accuracy: 0.9232\n",
      "Epoch 88/1024\n",
      "39974/39974 [==============================] - 126s 3ms/step - loss: 0.2112 - accuracy: 0.9217\n",
      "Epoch 89/1024\n",
      "39974/39974 [==============================] - 126s 3ms/step - loss: 0.2078 - accuracy: 0.9232\n",
      "Epoch 90/1024\n",
      "39974/39974 [==============================] - 126s 3ms/step - loss: 0.2167 - accuracy: 0.9183\n",
      "Epoch 91/1024\n",
      "39974/39974 [==============================] - 126s 3ms/step - loss: 0.2092 - accuracy: 0.9224\n",
      "Epoch 92/1024\n",
      "39974/39974 [==============================] - 126s 3ms/step - loss: 0.2068 - accuracy: 0.9241\n",
      "Epoch 93/1024\n",
      "39974/39974 [==============================] - 126s 3ms/step - loss: 0.2061 - accuracy: 0.9245\n",
      "Epoch 94/1024\n",
      "39974/39974 [==============================] - 126s 3ms/step - loss: 0.2030 - accuracy: 0.9257\n",
      "Epoch 95/1024\n",
      "39974/39974 [==============================] - 126s 3ms/step - loss: 0.2028 - accuracy: 0.9247\n",
      "Epoch 96/1024\n",
      "39974/39974 [==============================] - 126s 3ms/step - loss: 0.2022 - accuracy: 0.9265\n",
      "Epoch 97/1024\n",
      "39974/39974 [==============================] - 126s 3ms/step - loss: 0.1991 - accuracy: 0.9263\n",
      "Epoch 98/1024\n",
      "39974/39974 [==============================] - 125s 3ms/step - loss: 0.1988 - accuracy: 0.9269\n",
      "Epoch 99/1024\n",
      "39974/39974 [==============================] - 126s 3ms/step - loss: 0.2018 - accuracy: 0.9256\n",
      "Epoch 100/1024\n",
      "39974/39974 [==============================] - 125s 3ms/step - loss: 0.1992 - accuracy: 0.9257\n",
      "Epoch 101/1024\n",
      "39974/39974 [==============================] - 125s 3ms/step - loss: 0.1986 - accuracy: 0.9277\n",
      "Epoch 102/1024\n",
      "39974/39974 [==============================] - 126s 3ms/step - loss: 0.1951 - accuracy: 0.9283\n",
      "Epoch 103/1024\n",
      "39974/39974 [==============================] - 125s 3ms/step - loss: 0.1972 - accuracy: 0.9280\n",
      "Epoch 104/1024\n",
      "39974/39974 [==============================] - 125s 3ms/step - loss: 0.1970 - accuracy: 0.9273\n",
      "Epoch 105/1024\n",
      "39974/39974 [==============================] - 125s 3ms/step - loss: 0.1952 - accuracy: 0.9286\n",
      "Epoch 106/1024\n",
      "39974/39974 [==============================] - 126s 3ms/step - loss: 0.1951 - accuracy: 0.9286\n",
      "Epoch 107/1024\n",
      "39974/39974 [==============================] - 125s 3ms/step - loss: 0.1956 - accuracy: 0.9283\n",
      "Epoch 108/1024\n",
      "39974/39974 [==============================] - 125s 3ms/step - loss: 0.1886 - accuracy: 0.9322\n",
      "Epoch 109/1024\n",
      "39974/39974 [==============================] - 126s 3ms/step - loss: 0.1930 - accuracy: 0.9301\n",
      "Epoch 110/1024\n",
      "39974/39974 [==============================] - 125s 3ms/step - loss: 0.1961 - accuracy: 0.9300\n",
      "Epoch 111/1024\n",
      "39974/39974 [==============================] - 125s 3ms/step - loss: 0.1919 - accuracy: 0.9301\n",
      "Epoch 112/1024\n",
      "39974/39974 [==============================] - 127s 3ms/step - loss: 0.1923 - accuracy: 0.9291\n",
      "Epoch 113/1024\n",
      "39974/39974 [==============================] - 125s 3ms/step - loss: 0.1918 - accuracy: 0.9301\n",
      "Epoch 114/1024\n",
      "39974/39974 [==============================] - 125s 3ms/step - loss: 0.1905 - accuracy: 0.9303\n",
      "Epoch 115/1024\n",
      "39974/39974 [==============================] - 125s 3ms/step - loss: 0.1913 - accuracy: 0.9310\n",
      "Epoch 116/1024\n",
      "39974/39974 [==============================] - 126s 3ms/step - loss: 0.1917 - accuracy: 0.9298\n",
      "Epoch 117/1024\n",
      "39974/39974 [==============================] - 126s 3ms/step - loss: 0.1878 - accuracy: 0.9314\n",
      "Epoch 118/1024\n",
      "39974/39974 [==============================] - 126s 3ms/step - loss: 0.1841 - accuracy: 0.9321\n",
      "Epoch 119/1024\n",
      "39974/39974 [==============================] - 125s 3ms/step - loss: 0.1879 - accuracy: 0.9318\n",
      "Epoch 120/1024\n",
      "39974/39974 [==============================] - 125s 3ms/step - loss: 0.1858 - accuracy: 0.9323\n",
      "Epoch 121/1024\n",
      "39974/39974 [==============================] - 125s 3ms/step - loss: 0.1885 - accuracy: 0.9312\n",
      "Epoch 122/1024\n",
      "39974/39974 [==============================] - 125s 3ms/step - loss: 0.1863 - accuracy: 0.9324\n",
      "Epoch 123/1024\n",
      "39974/39974 [==============================] - 126s 3ms/step - loss: 0.1847 - accuracy: 0.9339\n",
      "Epoch 124/1024\n",
      "39974/39974 [==============================] - 125s 3ms/step - loss: 0.1837 - accuracy: 0.9321\n",
      "Epoch 125/1024\n",
      "39974/39974 [==============================] - 126s 3ms/step - loss: 0.1845 - accuracy: 0.9317\n",
      "Epoch 126/1024\n",
      "39974/39974 [==============================] - 125s 3ms/step - loss: 0.1816 - accuracy: 0.9330\n",
      "Epoch 127/1024\n",
      "39974/39974 [==============================] - 125s 3ms/step - loss: 0.1810 - accuracy: 0.9327\n",
      "Epoch 128/1024\n",
      "39974/39974 [==============================] - 125s 3ms/step - loss: 0.1815 - accuracy: 0.9346\n",
      "Epoch 129/1024\n",
      "39974/39974 [==============================] - 125s 3ms/step - loss: 0.1823 - accuracy: 0.9339\n",
      "Epoch 130/1024\n",
      "39974/39974 [==============================] - 126s 3ms/step - loss: 0.1817 - accuracy: 0.9333\n",
      "Epoch 131/1024\n",
      "39974/39974 [==============================] - 126s 3ms/step - loss: 0.1814 - accuracy: 0.9333\n",
      "Epoch 132/1024\n",
      "39974/39974 [==============================] - 125s 3ms/step - loss: 0.1795 - accuracy: 0.9353\n",
      "Epoch 133/1024\n",
      "39974/39974 [==============================] - 125s 3ms/step - loss: 0.1764 - accuracy: 0.9356\n",
      "Epoch 134/1024\n",
      "39974/39974 [==============================] - 126s 3ms/step - loss: 0.1785 - accuracy: 0.9355\n",
      "Epoch 135/1024\n",
      "39974/39974 [==============================] - 125s 3ms/step - loss: 0.1788 - accuracy: 0.9357\n",
      "Epoch 136/1024\n",
      "39974/39974 [==============================] - 125s 3ms/step - loss: 0.1772 - accuracy: 0.9337\n",
      "Epoch 137/1024\n",
      "39974/39974 [==============================] - 126s 3ms/step - loss: 0.1753 - accuracy: 0.9358\n",
      "Epoch 138/1024\n",
      "39974/39974 [==============================] - 126s 3ms/step - loss: 0.1764 - accuracy: 0.9356\n",
      "Epoch 139/1024\n",
      "39974/39974 [==============================] - 125s 3ms/step - loss: 0.1768 - accuracy: 0.9353\n",
      "Epoch 140/1024\n",
      "39974/39974 [==============================] - 126s 3ms/step - loss: 0.1741 - accuracy: 0.9370\n",
      "Epoch 141/1024\n",
      "39974/39974 [==============================] - 126s 3ms/step - loss: 0.1774 - accuracy: 0.9363\n",
      "Epoch 142/1024\n",
      "39974/39974 [==============================] - 126s 3ms/step - loss: 0.1746 - accuracy: 0.9360\n",
      "Epoch 143/1024\n",
      "39974/39974 [==============================] - 126s 3ms/step - loss: 0.1759 - accuracy: 0.9368\n",
      "Epoch 144/1024\n",
      "39974/39974 [==============================] - 126s 3ms/step - loss: 0.1742 - accuracy: 0.9368\n",
      "Epoch 145/1024\n",
      "39974/39974 [==============================] - 126s 3ms/step - loss: 0.1728 - accuracy: 0.9369\n",
      "Epoch 146/1024\n",
      "39974/39974 [==============================] - 126s 3ms/step - loss: 0.1710 - accuracy: 0.9380\n",
      "Epoch 147/1024\n",
      "39974/39974 [==============================] - 126s 3ms/step - loss: 0.1707 - accuracy: 0.9371\n",
      "Epoch 148/1024\n",
      "39974/39974 [==============================] - 126s 3ms/step - loss: 0.1719 - accuracy: 0.9382\n",
      "Epoch 149/1024\n",
      "39974/39974 [==============================] - 126s 3ms/step - loss: 0.1718 - accuracy: 0.9382\n",
      "Epoch 150/1024\n"
     ]
    },
    {
     "name": "stdout",
     "output_type": "stream",
     "text": [
      "39974/39974 [==============================] - 126s 3ms/step - loss: 0.1726 - accuracy: 0.9375\n",
      "Epoch 151/1024\n",
      "39974/39974 [==============================] - 125s 3ms/step - loss: 0.1726 - accuracy: 0.9379\n",
      "Epoch 152/1024\n",
      "39974/39974 [==============================] - 125s 3ms/step - loss: 0.1701 - accuracy: 0.9385\n",
      "Epoch 153/1024\n",
      "39974/39974 [==============================] - 126s 3ms/step - loss: 0.1686 - accuracy: 0.9390\n",
      "Epoch 154/1024\n",
      "39974/39974 [==============================] - 125s 3ms/step - loss: 0.1710 - accuracy: 0.9383\n",
      "Epoch 155/1024\n",
      "39974/39974 [==============================] - 126s 3ms/step - loss: 0.1670 - accuracy: 0.9389\n",
      "Epoch 156/1024\n",
      "39974/39974 [==============================] - 126s 3ms/step - loss: 0.1667 - accuracy: 0.9398\n",
      "Epoch 157/1024\n",
      "39974/39974 [==============================] - 126s 3ms/step - loss: 0.1670 - accuracy: 0.9396\n",
      "Epoch 158/1024\n",
      "39974/39974 [==============================] - 125s 3ms/step - loss: 0.1667 - accuracy: 0.9390\n",
      "Epoch 159/1024\n",
      "39974/39974 [==============================] - 126s 3ms/step - loss: 0.1702 - accuracy: 0.9382\n",
      "Epoch 160/1024\n",
      "39974/39974 [==============================] - 126s 3ms/step - loss: 0.1653 - accuracy: 0.9390\n",
      "Epoch 161/1024\n",
      "39974/39974 [==============================] - 126s 3ms/step - loss: 0.1659 - accuracy: 0.9408\n",
      "Epoch 162/1024\n",
      "39974/39974 [==============================] - 126s 3ms/step - loss: 0.1684 - accuracy: 0.9401\n",
      "Epoch 163/1024\n",
      "39974/39974 [==============================] - 126s 3ms/step - loss: 0.1676 - accuracy: 0.9386\n",
      "Epoch 164/1024\n",
      "39974/39974 [==============================] - 126s 3ms/step - loss: 0.1636 - accuracy: 0.9403\n",
      "Epoch 165/1024\n",
      "39974/39974 [==============================] - 125s 3ms/step - loss: 0.1632 - accuracy: 0.9421\n",
      "Epoch 166/1024\n",
      "39974/39974 [==============================] - 126s 3ms/step - loss: 0.1632 - accuracy: 0.9417\n",
      "Epoch 167/1024\n",
      "39974/39974 [==============================] - 126s 3ms/step - loss: 0.1654 - accuracy: 0.9398\n",
      "Epoch 168/1024\n",
      "39974/39974 [==============================] - 126s 3ms/step - loss: 0.1603 - accuracy: 0.9407\n",
      "Epoch 169/1024\n",
      "39974/39974 [==============================] - 126s 3ms/step - loss: 0.1612 - accuracy: 0.9411\n",
      "Epoch 170/1024\n",
      "39974/39974 [==============================] - 126s 3ms/step - loss: 0.1643 - accuracy: 0.9406\n",
      "Epoch 171/1024\n",
      "39974/39974 [==============================] - 126s 3ms/step - loss: 0.1627 - accuracy: 0.9417\n",
      "Epoch 172/1024\n",
      "39974/39974 [==============================] - 126s 3ms/step - loss: 0.1608 - accuracy: 0.9415\n",
      "Epoch 173/1024\n",
      "39974/39974 [==============================] - 126s 3ms/step - loss: 0.1596 - accuracy: 0.9438\n",
      "Epoch 174/1024\n",
      "39974/39974 [==============================] - 126s 3ms/step - loss: 0.1622 - accuracy: 0.9404\n",
      "Epoch 175/1024\n",
      "39974/39974 [==============================] - 126s 3ms/step - loss: 0.1615 - accuracy: 0.9411\n",
      "Epoch 176/1024\n",
      "39974/39974 [==============================] - 126s 3ms/step - loss: 0.1621 - accuracy: 0.9410\n",
      "Epoch 177/1024\n",
      "39974/39974 [==============================] - 126s 3ms/step - loss: 0.1612 - accuracy: 0.9423\n",
      "Epoch 178/1024\n",
      "39974/39974 [==============================] - 126s 3ms/step - loss: 0.1568 - accuracy: 0.9431\n",
      "Epoch 179/1024\n",
      "39974/39974 [==============================] - 126s 3ms/step - loss: 0.1581 - accuracy: 0.9425\n",
      "Epoch 180/1024\n",
      "39974/39974 [==============================] - 126s 3ms/step - loss: 0.1561 - accuracy: 0.9434\n",
      "Epoch 181/1024\n",
      "39974/39974 [==============================] - 126s 3ms/step - loss: 0.1614 - accuracy: 0.9406\n",
      "Epoch 182/1024\n",
      "39974/39974 [==============================] - 126s 3ms/step - loss: 0.1610 - accuracy: 0.9412\n",
      "Epoch 183/1024\n",
      "39974/39974 [==============================] - 126s 3ms/step - loss: 0.1600 - accuracy: 0.9416\n",
      "Epoch 184/1024\n",
      "39974/39974 [==============================] - 126s 3ms/step - loss: 0.1610 - accuracy: 0.9410\n",
      "Epoch 185/1024\n",
      "39974/39974 [==============================] - 126s 3ms/step - loss: 0.1546 - accuracy: 0.9424\n",
      "Epoch 186/1024\n",
      "39974/39974 [==============================] - 126s 3ms/step - loss: 0.1578 - accuracy: 0.9425\n",
      "Epoch 187/1024\n",
      "39974/39974 [==============================] - 126s 3ms/step - loss: 0.1581 - accuracy: 0.9422\n",
      "Epoch 188/1024\n",
      "39974/39974 [==============================] - 126s 3ms/step - loss: 0.1546 - accuracy: 0.9437\n",
      "Epoch 189/1024\n",
      "39974/39974 [==============================] - 126s 3ms/step - loss: 0.1553 - accuracy: 0.9433\n",
      "Epoch 190/1024\n",
      "39974/39974 [==============================] - 126s 3ms/step - loss: 0.1591 - accuracy: 0.9416\n",
      "Epoch 191/1024\n",
      "39974/39974 [==============================] - 126s 3ms/step - loss: 0.1526 - accuracy: 0.9443\n",
      "Epoch 192/1024\n",
      "39974/39974 [==============================] - 126s 3ms/step - loss: 0.1555 - accuracy: 0.9440\n",
      "Epoch 193/1024\n",
      "39974/39974 [==============================] - 126s 3ms/step - loss: 0.1498 - accuracy: 0.9447\n",
      "Epoch 194/1024\n",
      "39974/39974 [==============================] - 126s 3ms/step - loss: 0.1561 - accuracy: 0.9427\n",
      "Epoch 195/1024\n",
      "39974/39974 [==============================] - 126s 3ms/step - loss: 0.1577 - accuracy: 0.9425\n",
      "Epoch 196/1024\n",
      "39974/39974 [==============================] - 126s 3ms/step - loss: 0.1563 - accuracy: 0.9429\n",
      "Epoch 197/1024\n",
      "39974/39974 [==============================] - 126s 3ms/step - loss: 0.1539 - accuracy: 0.9448\n",
      "Epoch 198/1024\n",
      "39974/39974 [==============================] - 127s 3ms/step - loss: 0.1489 - accuracy: 0.9465\n",
      "Epoch 199/1024\n",
      "39974/39974 [==============================] - 126s 3ms/step - loss: 0.1506 - accuracy: 0.9458\n",
      "Epoch 200/1024\n",
      "39974/39974 [==============================] - 126s 3ms/step - loss: 0.1541 - accuracy: 0.9439\n",
      "Epoch 201/1024\n",
      "39974/39974 [==============================] - 126s 3ms/step - loss: 0.1497 - accuracy: 0.9448\n",
      "Epoch 202/1024\n",
      "39974/39974 [==============================] - 126s 3ms/step - loss: 0.1512 - accuracy: 0.9445\n",
      "Epoch 203/1024\n",
      "39974/39974 [==============================] - 126s 3ms/step - loss: 0.1509 - accuracy: 0.9440\n",
      "Epoch 204/1024\n",
      "39974/39974 [==============================] - 126s 3ms/step - loss: 0.1517 - accuracy: 0.9447\n",
      "Epoch 205/1024\n",
      "39974/39974 [==============================] - 126s 3ms/step - loss: 0.1497 - accuracy: 0.9453\n",
      "Epoch 206/1024\n",
      "39974/39974 [==============================] - 127s 3ms/step - loss: 0.1475 - accuracy: 0.9457\n",
      "Epoch 207/1024\n",
      "39974/39974 [==============================] - 127s 3ms/step - loss: 0.1475 - accuracy: 0.9468\n",
      "Epoch 208/1024\n",
      "39974/39974 [==============================] - 126s 3ms/step - loss: 0.1450 - accuracy: 0.9464\n",
      "Epoch 209/1024\n",
      "39974/39974 [==============================] - 126s 3ms/step - loss: 0.1503 - accuracy: 0.9451\n",
      "Epoch 210/1024\n",
      "39974/39974 [==============================] - 126s 3ms/step - loss: 0.1474 - accuracy: 0.9461\n",
      "Epoch 211/1024\n",
      "39974/39974 [==============================] - 126s 3ms/step - loss: 0.1468 - accuracy: 0.9472\n",
      "Epoch 212/1024\n",
      "39974/39974 [==============================] - 126s 3ms/step - loss: 0.1485 - accuracy: 0.9462\n",
      "Epoch 213/1024\n",
      "39974/39974 [==============================] - 126s 3ms/step - loss: 0.1465 - accuracy: 0.9471\n",
      "Epoch 214/1024\n",
      "39974/39974 [==============================] - 126s 3ms/step - loss: 0.1491 - accuracy: 0.9456\n",
      "Epoch 215/1024\n",
      "39974/39974 [==============================] - 126s 3ms/step - loss: 0.1474 - accuracy: 0.9454\n",
      "Epoch 216/1024\n",
      "39974/39974 [==============================] - 126s 3ms/step - loss: 0.1501 - accuracy: 0.9461\n",
      "Epoch 217/1024\n",
      "39974/39974 [==============================] - 126s 3ms/step - loss: 0.1430 - accuracy: 0.9480\n",
      "Epoch 218/1024\n",
      "39974/39974 [==============================] - 127s 3ms/step - loss: 0.1480 - accuracy: 0.9465\n",
      "Epoch 219/1024\n",
      "39974/39974 [==============================] - 127s 3ms/step - loss: 0.1430 - accuracy: 0.9479\n",
      "Epoch 220/1024\n",
      "39974/39974 [==============================] - 126s 3ms/step - loss: 0.1463 - accuracy: 0.9457\n",
      "Epoch 221/1024\n",
      "39974/39974 [==============================] - 126s 3ms/step - loss: 0.1448 - accuracy: 0.9487\n",
      "Epoch 222/1024\n",
      "39974/39974 [==============================] - 127s 3ms/step - loss: 0.1457 - accuracy: 0.9478\n",
      "Epoch 223/1024\n",
      "39974/39974 [==============================] - 126s 3ms/step - loss: 0.1456 - accuracy: 0.9469\n",
      "Epoch 224/1024\n"
     ]
    },
    {
     "name": "stdout",
     "output_type": "stream",
     "text": [
      "39974/39974 [==============================] - 126s 3ms/step - loss: 0.1447 - accuracy: 0.9481\n",
      "Epoch 225/1024\n",
      "39974/39974 [==============================] - 126s 3ms/step - loss: 0.1445 - accuracy: 0.9469\n",
      "Epoch 226/1024\n",
      "39974/39974 [==============================] - 126s 3ms/step - loss: 0.1453 - accuracy: 0.9476\n",
      "Epoch 227/1024\n",
      "39974/39974 [==============================] - 126s 3ms/step - loss: 0.1383 - accuracy: 0.9501\n",
      "Epoch 228/1024\n",
      "39974/39974 [==============================] - 126s 3ms/step - loss: 0.1430 - accuracy: 0.9476\n",
      "Epoch 229/1024\n",
      "39974/39974 [==============================] - 126s 3ms/step - loss: 0.1413 - accuracy: 0.9484\n",
      "Epoch 230/1024\n",
      "39974/39974 [==============================] - 126s 3ms/step - loss: 0.1420 - accuracy: 0.9481\n",
      "Epoch 231/1024\n",
      "39974/39974 [==============================] - 126s 3ms/step - loss: 0.1413 - accuracy: 0.9487\n",
      "Epoch 232/1024\n",
      "39974/39974 [==============================] - 126s 3ms/step - loss: 0.1452 - accuracy: 0.9462\n",
      "Epoch 233/1024\n",
      "39974/39974 [==============================] - 126s 3ms/step - loss: 0.1434 - accuracy: 0.9478\n",
      "Epoch 234/1024\n",
      "39974/39974 [==============================] - 126s 3ms/step - loss: 0.1411 - accuracy: 0.9491\n",
      "Epoch 235/1024\n",
      "39974/39974 [==============================] - 126s 3ms/step - loss: 0.1404 - accuracy: 0.9485\n",
      "Epoch 236/1024\n",
      "39974/39974 [==============================] - 126s 3ms/step - loss: 0.1395 - accuracy: 0.9493\n",
      "Epoch 237/1024\n",
      "39974/39974 [==============================] - 126s 3ms/step - loss: 0.1404 - accuracy: 0.9502\n",
      "Epoch 238/1024\n",
      "39974/39974 [==============================] - 126s 3ms/step - loss: 0.1379 - accuracy: 0.9497\n",
      "Epoch 239/1024\n",
      "39974/39974 [==============================] - 126s 3ms/step - loss: 0.1528 - accuracy: 0.9447\n",
      "Epoch 240/1024\n",
      "39974/39974 [==============================] - 126s 3ms/step - loss: 0.1395 - accuracy: 0.9486\n",
      "Epoch 241/1024\n",
      "39974/39974 [==============================] - 126s 3ms/step - loss: 0.1353 - accuracy: 0.9496\n",
      "Epoch 242/1024\n",
      "39974/39974 [==============================] - 126s 3ms/step - loss: 0.1384 - accuracy: 0.9497\n",
      "Epoch 243/1024\n",
      "39974/39974 [==============================] - 126s 3ms/step - loss: 0.1389 - accuracy: 0.9493\n",
      "Epoch 244/1024\n",
      "39974/39974 [==============================] - 131s 3ms/step - loss: 0.1414 - accuracy: 0.9487\n",
      "Epoch 245/1024\n",
      "39974/39974 [==============================] - 128s 3ms/step - loss: 0.1395 - accuracy: 0.9494\n",
      "Epoch 246/1024\n",
      "39974/39974 [==============================] - 129s 3ms/step - loss: 0.1378 - accuracy: 0.9491\n",
      "Epoch 247/1024\n",
      "39974/39974 [==============================] - 134s 3ms/step - loss: 0.1369 - accuracy: 0.9493\n",
      "Epoch 248/1024\n",
      "39974/39974 [==============================] - 129s 3ms/step - loss: 0.1423 - accuracy: 0.9472\n",
      "Epoch 249/1024\n",
      "39974/39974 [==============================] - 128s 3ms/step - loss: 0.1406 - accuracy: 0.9487\n",
      "Epoch 250/1024\n",
      "39974/39974 [==============================] - 128s 3ms/step - loss: 0.1373 - accuracy: 0.9503\n",
      "Epoch 251/1024\n",
      "39974/39974 [==============================] - 127s 3ms/step - loss: 0.1367 - accuracy: 0.9500\n",
      "Epoch 252/1024\n",
      "39974/39974 [==============================] - 127s 3ms/step - loss: 0.1342 - accuracy: 0.9501\n",
      "Epoch 253/1024\n",
      "39974/39974 [==============================] - 127s 3ms/step - loss: 0.1395 - accuracy: 0.9482\n",
      "Epoch 254/1024\n",
      "39974/39974 [==============================] - 126s 3ms/step - loss: 0.1353 - accuracy: 0.9503\n",
      "Epoch 255/1024\n",
      "39974/39974 [==============================] - 126s 3ms/step - loss: 0.1359 - accuracy: 0.9512\n",
      "Epoch 256/1024\n",
      "39974/39974 [==============================] - 141s 4ms/step - loss: 0.1359 - accuracy: 0.9505\n",
      "Epoch 257/1024\n",
      "39974/39974 [==============================] - 138s 3ms/step - loss: 0.1343 - accuracy: 0.95020s - loss: 0.1342 - accura\n",
      "Epoch 258/1024\n",
      "39974/39974 [==============================] - 134s 3ms/step - loss: 0.1343 - accuracy: 0.9505\n",
      "Epoch 259/1024\n",
      "39974/39974 [==============================] - 136s 3ms/step - loss: 0.1365 - accuracy: 0.9497\n",
      "Epoch 260/1024\n",
      "39974/39974 [==============================] - 135s 3ms/step - loss: 0.1348 - accuracy: 0.9503\n",
      "Epoch 261/1024\n",
      "39974/39974 [==============================] - 134s 3ms/step - loss: 0.1325 - accuracy: 0.9521\n",
      "Epoch 262/1024\n",
      "39974/39974 [==============================] - 132s 3ms/step - loss: 0.1343 - accuracy: 0.9509\n",
      "Epoch 263/1024\n",
      "39974/39974 [==============================] - 132s 3ms/step - loss: 0.1334 - accuracy: 0.9504\n",
      "Epoch 264/1024\n",
      "39974/39974 [==============================] - 132s 3ms/step - loss: 0.1300 - accuracy: 0.9524\n",
      "Epoch 265/1024\n",
      "39974/39974 [==============================] - 132s 3ms/step - loss: 0.1341 - accuracy: 0.9504\n",
      "Epoch 266/1024\n",
      "39974/39974 [==============================] - 135s 3ms/step - loss: 0.1326 - accuracy: 0.9513\n",
      "Epoch 267/1024\n",
      "39974/39974 [==============================] - 130s 3ms/step - loss: 0.1304 - accuracy: 0.9521\n",
      "Epoch 268/1024\n",
      "39974/39974 [==============================] - 132s 3ms/step - loss: 0.1327 - accuracy: 0.9511\n",
      "Epoch 269/1024\n",
      "39974/39974 [==============================] - 131s 3ms/step - loss: 0.1331 - accuracy: 0.9508\n",
      "Epoch 270/1024\n",
      "39974/39974 [==============================] - 140s 3ms/step - loss: 0.1335 - accuracy: 0.9507\n",
      "Epoch 271/1024\n",
      "39974/39974 [==============================] - 133s 3ms/step - loss: 0.1330 - accuracy: 0.9521\n",
      "Epoch 272/1024\n",
      "39974/39974 [==============================] - 131s 3ms/step - loss: 0.1345 - accuracy: 0.9505\n",
      "Epoch 273/1024\n",
      "39974/39974 [==============================] - 133s 3ms/step - loss: 0.1319 - accuracy: 0.9518\n",
      "Epoch 274/1024\n",
      "39974/39974 [==============================] - 130s 3ms/step - loss: 0.1323 - accuracy: 0.9510\n",
      "Epoch 275/1024\n",
      "39974/39974 [==============================] - 131s 3ms/step - loss: 0.1348 - accuracy: 0.9510\n",
      "Epoch 276/1024\n",
      "39974/39974 [==============================] - 135s 3ms/step - loss: 0.1291 - accuracy: 0.9527\n",
      "Epoch 277/1024\n",
      "39974/39974 [==============================] - 136s 3ms/step - loss: 0.1270 - accuracy: 0.9543\n",
      "Epoch 278/1024\n",
      "39974/39974 [==============================] - 133s 3ms/step - loss: 0.1276 - accuracy: 0.9525\n",
      "Epoch 279/1024\n",
      "39974/39974 [==============================] - 137s 3ms/step - loss: 0.1291 - accuracy: 0.9519\n",
      "Epoch 280/1024\n",
      "39974/39974 [==============================] - 153s 4ms/step - loss: 0.1272 - accuracy: 0.9530\n",
      "Epoch 281/1024\n",
      "39974/39974 [==============================] - 135s 3ms/step - loss: 0.1304 - accuracy: 0.9521\n",
      "Epoch 282/1024\n",
      "39974/39974 [==============================] - 129s 3ms/step - loss: 0.1278 - accuracy: 0.9529\n",
      "Epoch 283/1024\n",
      "39974/39974 [==============================] - 128s 3ms/step - loss: 0.1282 - accuracy: 0.9528\n",
      "Epoch 284/1024\n",
      "39974/39974 [==============================] - 128s 3ms/step - loss: 0.1292 - accuracy: 0.9531\n",
      "Epoch 285/1024\n",
      "39974/39974 [==============================] - 128s 3ms/step - loss: 0.1308 - accuracy: 0.9523\n",
      "Epoch 286/1024\n",
      "39974/39974 [==============================] - 130s 3ms/step - loss: 0.1288 - accuracy: 0.9517\n",
      "Epoch 287/1024\n",
      "39974/39974 [==============================] - 130s 3ms/step - loss: 0.1289 - accuracy: 0.9518\n",
      "Epoch 288/1024\n",
      "39974/39974 [==============================] - 131s 3ms/step - loss: 0.1254 - accuracy: 0.9531\n",
      "Epoch 289/1024\n",
      "39974/39974 [==============================] - 128s 3ms/step - loss: 0.1278 - accuracy: 0.9537\n",
      "Epoch 290/1024\n",
      "39974/39974 [==============================] - 127s 3ms/step - loss: 0.1280 - accuracy: 0.9530\n",
      "Epoch 291/1024\n",
      "39974/39974 [==============================] - 127s 3ms/step - loss: 0.1268 - accuracy: 0.9535\n",
      "Epoch 292/1024\n",
      "39974/39974 [==============================] - 127s 3ms/step - loss: 0.1259 - accuracy: 0.9538\n",
      "Epoch 293/1024\n",
      "19168/39974 [=============>................] - ETA: 1:06 - loss: 0.1312 - accuracy: 0.9516"
     ]
    }
   ],
   "source": [
    "from keras import optimizers\n",
    "from keras.models import Sequential\n",
    "from keras.layers import Dense, Conv2D, Flatten, MaxPooling2D\n",
    "#create model\n",
    "model = Sequential()\n",
    "#add model layers\n",
    "model.add(Conv2D(32, kernel_size=3, activation='relu', input_shape=(40,40,1)))\n",
    "model.add(Conv2D(32, kernel_size=3, activation='relu'))\n",
    "model.add(Conv2D(32, kernel_size=5, activation='relu',strides=(2,2)))\n",
    "model.add(Dropout(0.4))\n",
    "model.add(Conv2D(64, kernel_size=3, activation='relu'))\n",
    "model.add(Conv2D(64, kernel_size=3, activation='relu'))\n",
    "model.add(Conv2D(64, kernel_size=5, activation='relu',strides=(2,2)))\n",
    "model.add(Dropout(0.4))\n",
    "model.add(Flatten())\n",
    "model.add(Dense(128, activation='relu', kernel_initializer='random_normal'))\n",
    "model.add(Dropout(0.4))\n",
    "model.add(Dense(1, activation='sigmoid'))\n",
    "#Compiling the neural network\n",
    "model.compile(optimizer =optimizers.Adam(amsgrad=True),loss='binary_crossentropy', metrics =['accuracy'])\n",
    "#Fitting the data to the training dataset\n",
    "history = model.fit(X_train,y_train, batch_size=32, epochs=1024, shuffle=True, use_multiprocessing=True)"
   ]
  },
  {
   "cell_type": "code",
<<<<<<< HEAD
   "execution_count": 30,
   "metadata": {},
   "outputs": [
    {
     "data": {
      "image/png": "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\n",
      "text/plain": [
       "<Figure size 432x288 with 1 Axes>"
      ]
     },
     "metadata": {
      "needs_background": "light"
     },
     "output_type": "display_data"
    }
   ],
=======
   "execution_count": 19,
   "metadata": {},
   "outputs": [
    {
     "name": "stdout",
     "output_type": "stream",
     "text": [
      "{'loss': [1.3569059150738279, 0.42428966149610975, 0.3932865221570955, 0.37639109414571664, 0.3523866596150411, 0.3367994757072901, 0.32364883910794323, 0.30924839981680496, 0.29446538898546076, 0.29523310030378075, 0.2789766810349432, 0.2820472923114575, 0.27207972413145054, 0.2666166394385329, 0.26171009380515947, 0.2637414573369105, 0.2662456844885663, 0.26001761454139966, 0.2535205616079807, 0.2620049939733762, 0.25630708995412704, 0.25349282424641795, 0.2529768664021737, 0.2498266767219694, 0.26526551470509024, 0.2732925797729839, 0.24420100400117062, 0.24792279668464343, 0.2732022386419831, 0.24833832988715396, 0.24096741417463244, 0.24156946512196847, 0.24869519680277705, 0.2587937611059363, 0.26750511736126537, 0.24942816900903983, 0.23563979464349324, 0.2668432127224914, 0.2468693182002838, 0.2333991577162054, 0.2966167067803896, 0.25501799527817576, 0.23190362492482397, 0.22318437741279554, 0.2429902915079442, 0.24508023465258855, 0.2657131154017289, 0.251793342926864, 0.26282960865051097, 0.22865479578428868, 0.22918776905589736, 0.2554852810790876, 0.2388064022681399, 0.2458034246025242, 0.24973700083309472, 0.25125089044561855, 0.3985278236282685, 0.3872902869049471, 0.28821826820919394, 0.26542800391958565, 0.2548691170214533, 0.29307600872080164, 0.25070258758076075, 0.2856049091332121, 0.258888478550372, 0.26958649541591656, 0.2760417563862647, 0.23082519531422965, 0.24334371162178386, 0.2621176527908972, 0.24965796015987807, 0.24323674654344404, 0.35947394566066676, 0.2960012860094057, 0.26078293457188917, 0.31121671285647823, 0.2971857983030742, 0.24985724465516412, 0.242609764777011, 0.26704879144604854, 0.2617405456012596, 0.2809743524259759, 0.2916481604792825, 0.4002093447166082, 0.4787739459851102, 0.30446244857736743, 0.2763650829314756, 0.3232169180382316, 0.28561667285256814, 0.26094463354685526, 0.23270357615454354, 0.24494509283974547, 0.2699523276854952, 0.27381553234172845, 0.3093520639334814, 0.3198923034505023, 0.2418649990202732, 0.29949826706807897, 0.24016992676435228, 0.2914317791217526, 0.28239896236081763, 0.2797796735799574, 0.2548739203469818, 1.1541594913962867, 0.5139963193373247, 0.31979553071306616, 0.3003663122659553, 0.2789718631324889, 0.2863884998273246, 0.4223915481522501, 0.5379017334771191, 0.366607445204527, 0.3710233175483766, 0.5265392074650808, 0.3506144377395832, 0.33856552391301226, 0.7352393694110515, 0.4815984406250035, 0.4439851000026042, 0.46095783392013734, 0.47875421292911735, 1.0884552939547578, 0.5441569119383194, 0.4328390625888162, 0.47753207150768623, 0.4367954735192409, 0.5028717641135718, 0.49827285343634337, 0.4562459973794616, 0.5154466675744024, 0.509054313471159, 0.5568331294803626, 0.7835590765815836, 0.5190708146357349, 0.4722667669542568, 1.038588292260427, 0.6327103531267583, 0.500601291671405, 0.48899894744022104, 0.5566451141524352, 0.4743634767313338, 0.4812903147977916, 0.5119299958423454, 0.5364049935690391, 0.47973986009906827, 1.7336724406842527, 0.7007500405708094, 0.6968822797415833, 0.6137378914393091, 0.5457786838062506, 0.5257837883276312, 0.7089763024817497, 0.5466577142869191, 0.5716839364722879, 0.5529824991966251, 2.9263491030541466, 0.7058747233707848, 1.021365937630411, 0.6414094012257288, 0.7114523930672965, 1.2963077717270066, 0.5581816285647321, 0.537360931326129, 0.5300344575541132, 0.5387550492982005, 0.6585895033600678, 0.6187964832585325, 0.8466349256165706, 0.7028290950357929, 0.6298382999901536, 0.5433117241113178, 0.9622438597889083, 0.6354047141903223, 0.8068432150860704, 0.6101787568760972, 0.6299356892753424, 0.6859767250863931, 0.6596380889269614, 0.6576771249588967, 0.5805842740417523, 0.5512055026952278, 0.5657806518634085, 0.5633916624590092, 0.6737226414520636, 0.7617424718493989, 0.6392851496116165, 0.65145333287607, 0.6897734750317389, 0.7033122573391758, 0.7523735418722654, 0.6986009445288006, 1.3916917768510983, 0.6423665037142984, 0.8723739992476586, 0.6392568106522953, 0.6237027665717884, 0.620952721172797, 0.823342919552458, 0.6990907327620772, 0.698465584551536, 0.6970810294509167, 0.6974300705856337, 0.6963260966577853, 0.704817312308427, 0.6966097056075417, 0.6957801318624316, 0.6955381258900935, 0.6955112354277181, 0.6954960193463214, 0.6951801658583276, 0.6909151807037488, 0.6525429865904423, 0.7977476814572483, 1.4478564699725462, 0.6895238162071152, 0.6852541789706987, 0.6833588278877518, 0.6680284312209533, 1.8489306853091538, 0.6386375315757644, 0.633747844335918, 0.6322440820094101, 0.6220333617952781, 0.6320909598986991, 0.626878386844169, 0.634111214594837, 16.876109228229225, 0.6411196223378641, 0.9043239757635585, 0.6433132645300952, 0.6781495937042848, 1.3853410790673597, 0.6813533967358524, 0.7297368329915801, 2.7743084456788574, 0.6800971421465638, 0.7220787793456056, 1.5276827531274348, 0.6608592109082668, 0.6612637801305621, 0.6589403352241432, 0.6595810356812676, 0.6579159646428603, 0.6967099576527941, 0.6805774625934082, 0.6729814138414623, 0.6595195306959604, 0.6614575708867336, 0.6596672511681696, 0.6593957828170405, 0.6595413163382611, 4.670012200448884, 0.696537285955193, 0.6968012052276109, 0.6952659130788299, 0.6957203467426528, 0.6952702579374471, 0.6950638763494345, 0.6943738611796467, 0.6944520492476651, 0.6947339681178136, 0.6942597821868545, 0.6941409630606542, 0.694231126288401, 0.6942928499026029, 0.694106407876954, 0.6940105102034432, 0.6937591214514472, 0.6940349062828577, 0.6941530068311826, 0.6939211622981698, 0.6939269271620744, 0.6938296362959725, 0.6935456342722671, 0.6937622045119123, 0.6936026359771056, 0.6937604023504026, 0.6934554060958257, 0.6934981376906372, 0.6933301974155239, 1.0737294200279406, 0.6936165716993199, 0.6933996871597634, 0.6933085443336907, 0.6932937678331944, 0.693354124292137, 0.6932329873244962, 0.6931899990870607, 0.6933361085936671, 0.693282177883431, 0.6932837450856796, 0.6933294546671553, 0.6933125631515908, 0.6931644734866552, 0.6933051514107844, 0.6932341699489999, 0.6932347731377463, 0.6930820887888116, 0.6932335187413416, 0.6932507999550379, 0.6931782095883305, 0.6932175670121248, 0.693195317624395, 0.6932042178977882, 0.6931559149372146, 0.6931916617068413, 0.693185394379986, 0.6931628952593218, 0.693166998466687, 0.6931795345518393, 0.6931230363566933, 0.6931906675823623, 0.6931661375736637, 0.6931801048442613, 0.6931712806818275, 0.6931574617891306, 0.6931890851710434, 0.6931781756899967, 0.6931696194845423, 0.6931761658948555, 0.6931640471167709, 0.6931889681238276, 0.6931821897095842, 0.6931738964361517, 0.6931673396031519, 0.6931835635777095, 0.6931880482076829, 0.6931905807624281, 0.6931666483061736, 0.6931744668597891, 0.6931756533640969, 0.6931761903695302, 0.6931884825966241, 0.6931624716002306, 0.6931648569818721, 0.6931796207276245, 0.6931855087462305, 0.6931861134409731, 0.6931776462234909, 0.6931826310529474, 0.6931722243837652, 0.6931732784737318, 0.6931558839017647, 0.6931767567433799, 0.6931771618295123, 0.6931801447188651, 0.6931790131073725, 0.6931712915458752, 0.6931753973745683, 0.6931826372260406, 0.6931845545828381, 0.6931899762466157, 0.6931721115354457, 0.6931737902052687, 0.6931793896541317, 0.6931592867403884, 0.6931757715355911, 0.6931811460691437, 0.6931856511985581, 0.6931741948589863, 0.69317856080155, 0.6931890015390497, 0.6931863424179999, 0.6931726422097306, 0.693184570972848, 0.6931858985576849, 0.6931841586877557, 0.6931815798437577, 0.6931770143820488, 0.6931715814009336, 0.6931641317537561, 0.6931878372608599, 0.6931781247962724, 0.6931665478338622, 0.6931788078386024, 0.6931797578567775, 0.6931589420909264, 0.6931924649634523, 0.693189689200762, 0.6931850584026764, 0.6931899413522369, 0.6931751657434096, 0.6931857697279128, 0.6931722329575059, 0.6931658569036909, 0.6931779829165216, 0.6931759675238461, 0.6931867848528376, 0.6931733784987175, 0.6931776390662814, 0.6931689194796257, 0.6931830424374241, 0.6931781169382527, 0.6931761565546971, 0.693187818216718, 0.693171732778898, 0.6931777984811955, 0.6931755179616207, 0.6931871850869783, 0.6931883695097308, 0.693177551053479, 0.6931586104288177, 0.6931865705182686, 0.6931823551246258, 0.6931827589701752, 0.6931758492569225, 0.6931745691243851, 0.6931828577754532, 0.6931813172338103, 0.6931731599354306, 0.6931751560334619, 0.6931631524089148, 0.6931649409776907, 0.6931880168471763, 0.6931798644216636, 0.6931788857806145, 0.6931785788317538, 0.6931887993687549, 0.6931754905912585, 0.6931818951904108, 0.6931820351257865, 0.6931809426016046, 0.6931929313958172, 0.6931755778615004, 0.6931801705951598, 0.6931721335229899, 0.6931783196632314, 0.6931841514202058, 0.6931779740654391, 0.6931846203993444, 0.6931695822998565, 0.6931686175944908, 0.6931867609000429, 0.6931893339675763, 0.6931837608989949, 0.6931953376735284, 0.6931668231985535, 0.6931817687255001, 0.6931789188320118, 0.6931891956664303, 0.6931871722010189, 0.6931778968808984, 0.6931718241854106, 0.6931696240025308, 0.6931730062164623, 0.6931751108863805, 0.6931726017446571, 0.6931831087102025, 0.6931774780409949, 0.6931857666473304, 0.6931826726333528, 0.6931812611839129, 0.6931791696892247, 0.6931840222653771, 0.6931785101642924, 0.693186489525496, 0.6931529122551953, 0.6931797121013332, 0.6931701753611513, 0.6931787981107617, 0.6931874130202453, 0.6931537298053502, 0.6931684792903626, 0.6931835381576869, 0.6931821091015116, 0.6931980900738938, 0.6931793549297367, 0.6931859883747005, 0.69318823290544, 0.6931721506794176, 0.6931863078993747, 0.6931815980469274, 0.69317450112493, 0.6931869326999118, 0.6931835382471521, 0.6931865059363811, 0.6931814618989085, 0.6931756822613304, 0.6931831850060564, 0.6931715645844734, 0.6931787993752021, 0.6931839150503779, 0.693160703044802, 0.6931498286311001, 0.6931916070108495, 0.6931802660007632, 0.6931798392879294, 0.6931698969785034, 0.6931812387072928, 0.6931802758717481, 0.6931804767805848, 0.6931824869067469, 0.693164225244806, 0.6931550479307417, 0.6931784798684208, 0.6931905599528413, 0.6931802433332841, 0.6931639581019592, 0.6932004078139405, 0.6931764088791379, 0.6931796263669092, 0.6931850670867573, 0.693178917874735, 0.6931682649557936, 0.6931851546611806, 0.6931521136835743, 0.693200374846044, 0.6931923514113405, 0.6931767272348013, 0.6931808524923362, 0.6931917623163325, 0.6931832479895005, 0.6931762949632013, 0.693186056660444, 0.6931773265228686, 0.69319407147071, 0.6931860311032415, 0.6931756532984891, 0.6931762045646624, 0.693176927708241, 0.6931651015854731, 0.6931777038599031, 0.6931870919746641, 0.6931783267190471, 0.6931759958127169, 0.6931802209192895, 0.6931770686575547, 0.6931405328681997, 0.6931924218770508, 0.6931753822430344, 0.6931778070310788, 0.6931883717553053, 0.6931840860540074, 0.6931862423631925, 0.6931800525071664, 0.69318047963154, 0.6931879514332632, 0.6931576315641057, 0.693181062857636, 0.693166223433339, 0.6931764699838145, 0.693182482015987, 0.6931821522535209, 0.6931788287615116, 0.6931857035684569, 0.6931737194264306, 0.6931772697542681, 0.69316681376893, 0.6931756975181155, 0.6931869445778975, 0.6931859726288394, 0.693184394225558, 0.6931872086729659, 0.6931741252789808, 0.6931307123386944, 0.6932042723671351, 0.69318144574449, 0.6931811999450386, 0.6931744676470822, 0.6931712322245366, 0.6931913427308865, 0.6931670639998869, 0.6931791783405017, 0.693176593559002, 0.6931810487788084, 0.6931648338700496, 0.693177909772822, 0.6931790032483164, 0.6931741653265504, 0.6931800295951493, 0.693183915697509, 0.693178607791613, 0.6931627973367663, 0.6931905202840073, 0.6931721251251973, 0.6931810938573, 0.6931786083641898, 0.6931883507936278, 0.6931855982024034, 0.6931784522803601, 0.6931711786677339, 0.6931791288275224, 0.693171037050414, 0.6931837884572338, 0.6931856785182234, 0.6931759573546442, 0.6931847189242983, 0.6931756020976012, 0.6931728233944906, 0.6931690497229467, 0.6931624317554486, 0.6931824385180458, 0.6931553163439932, 0.6931859734459541, 0.6931701946677241, 0.6931826132762281, 0.6931786074218238, 0.6931874375187773, 0.6931844675780094, 0.6931753501399673, 0.6931803483534057, 0.6931901183589758, 0.6931776434053396, 0.6931811785658573, 0.6931791592098769, 0.6931713228169166, 0.6931860528850159, 0.6931733988013353, 0.6931675809442582, 0.6931680583390823, 0.6931910481550518, 0.6931814013697908, 0.6931888967783769, 0.6931751925590881, 0.693183336667327, 0.69318213437839, 0.6931731681811325, 0.6931811629899799, 0.693178288672514, 0.6931803708747585, 0.693183000651249, 0.6931815339958661, 0.6931807927326186, 0.6931747554325143, 0.6931863922381428, 0.6931894470186836, 0.693182808474208, 0.6931767610675273, 0.6931586435458227, 0.6931841228748684, 0.6931863614442487, 0.6931838173604318, 0.6931777791209437, 0.6931886202029244, 0.6931806147715851, 0.6931394119090206, 0.693194788187711, 0.6931763728574987, 0.6931724662825375, 0.6931784317809191, 0.693170471475786, 0.693186840884842, 0.6931609412248075, 0.6931753835790468, 0.6931821121791116, 0.6931812143638337, 0.6931896713345777, 0.6931858116631964, 0.6931707376166235, 0.6931650041997084, 0.6931755958976684, 0.6931678277844873, 0.6931966440819713, 0.6931733076304142, 0.6931813638689949, 0.6931784213194645, 0.6931840936287208, 0.6931784004919846, 0.6931751705894369, 0.6931851714418549, 0.6931862930213253, 0.6931612263918937, 0.6931907734017055, 0.6931646970152563, 0.6931709175369432, 0.693159133492603, 0.6931796230686286, 0.6931813554890953, 0.69317947598499, 0.6931791322957869, 0.6931891881871464, 0.6931844228573784, 0.6931856437580424, 0.6931722570444983, 0.693192615786733, 0.6931815998123724, 0.6931826374228639, 0.693165619135225, 0.6931694139503589, 0.6931778074277075, 0.6931755732272071, 0.693191009204921, 0.6931738780451052, 0.6931807352005824, 0.6931789031368476, 0.6931927584657055, 0.6931452946312915, 0.6932008520857953, 0.6931840939150091, 0.6931768692785716, 0.6931853313219877, 0.6931780751043629, 0.6931951646330764, 0.6931817965312592, 0.6931691818211777, 0.693183186449427, 0.6931849013049087, 0.693184599911832, 0.6931827008804732, 0.693178701983473, 0.6931696905735262, 0.6931861700545008, 0.6931752496527451, 0.6931825327069236, 0.6931730454588458, 0.6931817838301945, 0.6931787029914467, 0.6931796854407276, 0.6931878682187733, 0.6931779939386243, 0.6931834495693255, 0.693179667010913, 0.6931783408962864, 0.6931832748678046, 0.6931718511710728, 0.6931699304295116, 0.693177991189063, 0.6931743525442416, 0.6931778112329573, 0.6931845509088039, 0.6931852363726564, 0.6931857691076213, 0.6931853471364386, 0.6931841507671105, 0.693182593999477, 0.6931556566991294, 0.6931605160507737, 0.693158006643637, 0.6931576074443095, 0.6931718096860969, 0.693187584220698, 0.6931716014411204, 0.6931818195744919, 0.6931899227166526, 0.6931856191104019, 0.6931777469582333, 0.6931829434353229, 0.693183886707828, 0.6931618585643567, 0.6931992604834265, 0.693181526776031, 0.6931861741520032, 0.6931786622848173, 0.6931709037951008, 0.693170043590959, 0.6931802690753812, 0.6931803668398816, 0.693177866922012, 0.6931760947551747, 0.6931725082715002, 0.6931849961826679, 0.6931915979629437, 0.6931705308299285, 0.693173195974963, 0.6931888198652137, 0.6931566232295835, 0.6931749525838159, 0.6931653214072361, 0.6931822132329463, 0.6931791375324785, 0.6931769999692181, 0.6931767007024291, 0.6931781712495446, 0.6931728082450638, 0.6931867021989958, 0.6931735484108724, 0.6931642832301321, 0.6931835432363235, 0.6931714674939435, 0.6931861190951687, 0.6931808938997757, 0.6931939414331588, 0.6931850837451625, 0.6931890262045831, 0.6931814672638335, 0.693179978107973, 0.6931775100993294, 0.693165645977743, 0.6931965282962137, 0.6931731298572574, 0.6931864790312374, 0.6931733743803399, 0.6931957198595723, 0.6931773871026832, 0.693176737049125, 0.6931781836344993, 0.6931859057626091, 0.6931831887665736, 0.6931662186737946, 0.6931799925893938, 0.6931686009062639, 0.6931734950777326, 0.6931873458051011, 0.6931771596376168, 0.6931785637956495, 0.6931804231671208, 0.693176540837207, 0.6931889486442889, 0.6931484197224697, 0.693197614623445, 0.6931823646556432, 0.6931882418280945, 0.6931802595771677, 0.6931670240298538, 0.6931822662708513, 0.693173762336884, 0.6931541068262745, 0.693163605934445, 0.6931866545349623, 0.6931790792877036, 0.6931722707296794, 0.6931881235373135, 0.6931801626685502, 0.6931802850210477, 0.6931751818948458, 0.693169741771432, 0.6931812427272588, 0.6931520322285651, 0.6931868564905409, 0.6931810285000479, 0.693168764600593, 0.6931835388346397, 0.6931678580684302, 0.6931713453859841, 0.693180948673304, 0.6931921660753989, 0.693174131959043, 0.6931857497354407, 0.6931587024496574, 0.6931726468380595, 0.6931891284840899, 0.6931535725167236, 0.6931829013151447, 0.6931758856990479, 0.6931806052614429, 0.6931875723307837, 0.693191693034544, 0.6931777732639606, 0.693185322640889, 0.6931727238377057, 0.6931859104475993, 0.6931771886571194, 0.6931855222256419, 0.6931675051225695, 0.6931729148010032, 0.6931844991920004, 0.6931849313085277, 0.6931837983878621, 0.6931726962228054, 0.6931772583743049, 0.6931796537670932, 0.6931659936600726, 0.6931866996373113, 0.6931715283600465, 0.6931769778772979, 0.6931794636775717, 0.6931808922536175, 0.6931842057106224, 0.6931878509788448, 0.6931970063530797, 0.6931486487859794, 0.6931636174187842, 0.6931820145995059, 0.6931716817002791, 0.6931560545087654, 0.693180935375805, 0.6931798264168808, 0.6931763725443707, 0.6931827795411883, 0.6931768862888729, 0.6931789690398368, 0.6931762327879254, 0.6931803463106189, 0.6931789826295884, 0.6931783051728642, 0.6931933920904856, 0.6931707515970396, 0.6931879917850142, 0.693181632675893, 0.6931776182358194, 0.6932028560865788, 0.6931720864553905, 0.693177431015146, 0.6931652204905813, 0.6931865037236105, 0.693174227984938, 0.6931802941643829, 0.6931848247585525, 0.6931601875885339, 0.693185792905343, 0.6931822184278876, 0.693194718932762, 0.6931618504230308, 0.6931828090736243, 0.6931776512037159, 0.6931820802340997, 0.6931804868782145, 0.6931733886112582, 0.6931643892761205, 0.6931462426245728, 0.6931833173786472, 0.6931749642112993, 0.69318401766687, 0.6931682122668026, 0.6931778335455581, 0.6931775922760238, 0.6931862482291222, 0.6931920800487222, 0.6931756476621866, 0.693186438324608, 0.6931731720847939, 0.6931708377012527, 0.6931599804827466, 0.6931857214883204, 0.6931877426455316, 0.6931763863249814, 0.693177181991968, 0.693173762721584, 0.6931821344350513, 0.6931824902169562, 0.6931672433386833, 0.6931638672113621, 0.6931894034402238, 0.6931913914297332, 0.6931736232931774, 0.6931787757444818, 0.6931765156468116, 0.6931896449751712, 0.6931843436747832, 0.6931931254546079, 0.6931885955493197, 0.6931799214288377, 0.6931771601535324, 0.6931777083570164, 0.6931686729644533, 0.6931894990635257, 0.6931943711132525, 0.6931666776745902, 0.6931875243416936, 0.693181736360002, 0.6931818746492194, 0.6931741729668717, 0.6931789812816473, 0.6931867539575496, 0.6931837171833554, 0.6931860398410015, 0.6931841253172661, 0.6931732327391626, 0.6931857057007089, 0.6931888093649908, 0.693185395006242, 0.6931752901983373, 0.6931852579933936, 0.693172092491304, 0.6931790984213104, 0.6931576650121317, 0.6931872634375478, 0.6931759533466069, 0.6931611386445045, 0.693184921389828, 0.6931843421986088, 0.6931773553037975, 0.693187387883529, 0.6931789955901021, 0.6931743664739608, 0.6931833437320892, 0.6931560163966245, 0.6932022741159766, 0.6931702733284394, 0.6931594285903175, 0.6931897746459155, 0.6931701350183468, 0.6931909092783468, 0.69318255630484, 0.6931711258087592, 0.6931858449024705, 0.693186135160122, 0.6931813004024391, 0.6931912756439755, 0.6931812508566559, 0.6931543559090959, 0.6931887713363507, 0.6931814749190656, 0.6931772417904539, 0.6931684171150867, 0.6931896740036203, 0.6931917533698205, 0.693174676300616, 0.6931601248943603, 0.6931663162474361, 0.693175557636419, 0.6931865778186224, 0.6931780162273677, 0.693180350437943, 0.6931643062196856, 0.6931852456501892, 0.6931756236169446, 0.6931804927173048, 0.6931863360898338, 0.6931550119776924, 0.6932002887000804, 0.6932007427355619, 0.6931900815649543, 0.6931651628810086, 0.6931809099796399, 0.693187818476167, 0.6931830194240133, 0.693182226980753, 0.6931777374510733, 0.6931852363249417, 0.6931802935768953, 0.6931815013053114, 0.6931856529461101, 0.6931766340628437, 0.6931773286759958, 0.6931624833827869, 0.6931904575659764, 0.6931784922175895, 0.6931751277744129, 0.6931827620746148, 0.693165364326636, 0.6931890440976071, 0.6931874324371585, 0.6931863208062092], 'accuracy': [0.73690397, 0.80867565, 0.8282884, 0.83746934, 0.8521539, 0.8626607, 0.87091607, 0.87732023, 0.8857507, 0.8867514, 0.89285535, 0.89150447, 0.89595735, 0.8988843, 0.90266174, 0.9003602, 0.9013359, 0.9038375, 0.9047631, 0.9044379, 0.9048131, 0.90756494, 0.9059639, 0.9066143, 0.90058535, 0.89823383, 0.9095662, 0.9078651, 0.90038526, 0.91011655, 0.91186774, 0.9104918, 0.90959126, 0.90543854, 0.8994346, 0.9083654, 0.9146195, 0.9047631, 0.91024166, 0.91577023, 0.896858, 0.9066143, 0.91542, 0.91912246, 0.9140691, 0.91361886, 0.90316206, 0.91071695, 0.9078651, 0.916846, 0.9196228, 0.9055386, 0.91542, 0.9098664, 0.9113424, 0.9064392, 0.83376694, 0.83899534, 0.89160454, 0.9049132, 0.91024166, 0.89298046, 0.9139691, 0.9020363, 0.9066143, 0.9023615, 0.9044379, 0.918497, 0.9135688, 0.9089408, 0.90909094, 0.91279334, 0.866138, 0.88947815, 0.90658927, 0.8924551, 0.8942563, 0.9097664, 0.91577023, 0.9093661, 0.9097664, 0.9041127, 0.8997598, 0.8466503, 0.8460499, 0.89400613, 0.9039376, 0.90766495, 0.90441287, 0.9093661, 0.9188973, 0.91496974, 0.90761495, 0.9044379, 0.89945966, 0.89483166, 0.91839695, 0.90223646, 0.9170711, 0.90178615, 0.9083404, 0.9038875, 0.9154951, 0.7633962, 0.7472107, 0.8864762, 0.8988843, 0.90511334, 0.9013859, 0.84204733, 0.85958374, 0.87521887, 0.87179166, 0.8191575, 0.8741432, 0.8835243, 0.7867614, 0.7957422, 0.8356682, 0.8275629, 0.82145894, 0.78160805, 0.7527643, 0.81052685, 0.7856857, 0.79776853, 0.7760044, 0.764647, 0.7879622, 0.78586084, 0.75416523, 0.79391605, 0.5611147, 0.78618604, 0.80960125, 0.7857357, 0.7442337, 0.79589236, 0.80992645, 0.77175164, 0.8115525, 0.82080853, 0.7948667, 0.7981438, 0.81713116, 0.7760795, 0.7487367, 0.7932406, 0.7917647, 0.7883875, 0.7879872, 0.8095512, 0.7789563, 0.74098164, 0.73395205, 0.7147896, 0.7135388, 0.7265973, 0.676915, 0.7248962, 0.73978084, 0.76036924, 0.779957, 0.7746785, 0.7733777, 0.73958075, 0.7849602, 0.62875867, 0.5006504, 0.6298594, 0.77790564, 0.67804074, 0.70510834, 0.721519, 0.66498226, 0.71641564, 0.5880572, 0.6104968, 0.7253215, 0.7412818, 0.7660729, 0.7387302, 0.77192676, 0.6678841, 0.59716314, 0.60729474, 0.58345425, 0.5125331, 0.56874466, 0.6207285, 0.52424073, 0.64356834, 0.6191524, 0.6060189, 0.6316856, 0.6619803, 0.6730625, 0.5640416, 0.49954972, 0.5005503, 0.50172615, 0.50080055, 0.5042027, 0.49849904, 0.4966228, 0.49852404, 0.5001501, 0.4966228, 0.49832392, 0.50285184, 0.50885576, 0.63708913, 0.670761, 0.55133337, 0.52556664, 0.5335968, 0.5357232, 0.5930855, 0.6271576, 0.6596788, 0.6688097, 0.6733377, 0.6899985, 0.68992347, 0.6804173, 0.6648321, 0.64837146, 0.6509982, 0.68131787, 0.65935355, 0.6387652, 0.52644217, 0.5389253, 0.6100966, 0.5910342, 0.5363236, 0.6027668, 0.65560114, 0.6098214, 0.6098214, 0.613874, 0.6141742, 0.61677593, 0.5362986, 0.5321459, 0.5561365, 0.595362, 0.5872567, 0.59080905, 0.5935108, 0.59396106, 0.53407216, 0.50215137, 0.49802372, 0.50257665, 0.5003252, 0.49974984, 0.50057536, 0.5060039, 0.50215137, 0.49612248, 0.50450295, 0.49979988, 0.4978736, 0.50172615, 0.49914944, 0.50100064, 0.50390255, 0.4990744, 0.4959974, 0.49554712, 0.49872416, 0.5008255, 0.50182617, 0.4972232, 0.5003252, 0.49842396, 0.50542855, 0.50117576, 0.49992496, 0.5010507, 0.49469656, 0.49637264, 0.5021264, 0.5010757, 0.49522188, 0.5062791, 0.50297695, 0.5001001, 0.4958473, 0.49764848, 0.49912444, 0.49634764, 0.5044779, 0.49587232, 0.49717316, 0.49979988, 0.5054535, 0.49902436, 0.4956972, 0.49859908, 0.49702308, 0.5019012, 0.5021264, 0.5022765, 0.49727324, 0.49887428, 0.5029269, 0.5003252, 0.4975484, 0.50520337, 0.49714816, 0.5012508, 0.49794868, 0.50005, 0.50205135, 0.49804872, 0.49929956, 0.49979988, 0.49819884, 0.5018012, 0.49679792, 0.49484664, 0.49734828, 0.5011007, 0.49684796, 0.49774852, 0.49704808, 0.5006504, 0.4981488, 0.49789864, 0.49579728, 0.5, 0.5023015, 0.50160104, 0.49914944, 0.49749836, 0.49764848, 0.49709812, 0.49984992, 0.5005003, 0.5, 0.5030019, 0.49884924, 0.5011507, 0.4978486, 0.50080055, 0.49639764, 0.49839896, 0.4981488, 0.49649772, 0.49664783, 0.50005, 0.50095063, 0.49919948, 0.49869916, 0.5017011, 0.49819884, 0.4990994, 0.49799868, 0.49859908, 0.4975484, 0.493846, 0.49974984, 0.49959973, 0.49914944, 0.49699804, 0.5013009, 0.49809876, 0.4990494, 0.50155103, 0.49859908, 0.4935458, 0.5001501, 0.49704808, 0.49794868, 0.5023515, 0.49489668, 0.49809876, 0.49494672, 0.49769852, 0.50085056, 0.49834892, 0.49959973, 0.50165105, 0.50080055, 0.49729824, 0.4962976, 0.50040025, 0.5005503, 0.5005003, 0.496948, 0.498449, 0.49929956, 0.49714816, 0.50080055, 0.4959974, 0.49809876, 0.49514684, 0.49644768, 0.49799868, 0.50265175, 0.49774852, 0.4962976, 0.49619752, 0.49699804, 0.50005, 0.4990994, 0.49489668, 0.5006004, 0.49794868, 0.50225145, 0.5010507, 0.49989992, 0.4958473, 0.49984992, 0.49849904, 0.4993996, 0.5011007, 0.49709812, 0.49554712, 0.49729824, 0.4932456, 0.50005, 0.4981488, 0.4987492, 0.5013009, 0.4950968, 0.49859908, 0.49744835, 0.49779856, 0.50095063, 0.49944964, 0.4965978, 0.5005503, 0.49574724, 0.5006004, 0.50040025, 0.49974984, 0.49519688, 0.49894932, 0.49829888, 0.5, 0.4996998, 0.49779856, 0.5004503, 0.49829888, 0.49399608, 0.49634764, 0.49719816, 0.49749836, 0.4990494, 0.5013009, 0.496948, 0.5024016, 0.49744835, 0.5023015, 0.49794868, 0.50040025, 0.4987492, 0.49524692, 0.5017011, 0.49954972, 0.4987992, 0.49749836, 0.49609748, 0.49959973, 0.49624756, 0.49579728, 0.496948, 0.49524692, 0.49769852, 0.50020015, 0.49914944, 0.49794868, 0.49264523, 0.4990994, 0.49919948, 0.49789864, 0.49829888, 0.49749836, 0.49884924, 0.5018012, 0.5031521, 0.49709812, 0.49959973, 0.498449, 0.50080055, 0.49989992, 0.49834892, 0.49524692, 0.49544704, 0.49899936, 0.50215137, 0.4990494, 0.49744835, 0.49829888, 0.503052, 0.49194476, 0.49859908, 0.49609748, 0.49594736, 0.49799868, 0.5001501, 0.49709812, 0.50400263, 0.498449, 0.49459648, 0.49894932, 0.49994996, 0.49669784, 0.49649772, 0.49699804, 0.49869916, 0.49869916, 0.49614748, 0.49864912, 0.49944964, 0.49744835, 0.50160104, 0.50080055, 0.49929956, 0.4956972, 0.49794868, 0.5001501, 0.49734828, 0.49329564, 0.49954972, 0.49894932, 0.49929956, 0.49854904, 0.49589732, 0.49339572, 0.49759844, 0.49759844, 0.49704808, 0.49674788, 0.50220144, 0.49574724, 0.4990994, 0.4993996, 0.49644768, 0.49734828, 0.49579728, 0.49889928, 0.49934956, 0.4987492, 0.50225145, 0.49989992, 0.4978486, 0.4932456, 0.4990494, 0.49254516, 0.49934956, 0.50265175, 0.50145096, 0.4987492, 0.4950468, 0.5, 0.49829888, 0.49769852, 0.5006504, 0.49924952, 0.50030017, 0.5, 0.49989992, 0.49974984, 0.50040025, 0.49799868, 0.49549708, 0.4981488, 0.49769852, 0.49829888, 0.49869916, 0.49924952, 0.49794868, 0.49749836, 0.49729824, 0.49739832, 0.4965978, 0.50020015, 0.49824888, 0.49749836, 0.49644768, 0.49404612, 0.49649772, 0.496948, 0.49819884, 0.4993996, 0.50210136, 0.5006504, 0.5005003, 0.5013009, 0.49884924, 0.5012008, 0.49954972, 0.49679792, 0.49794868, 0.49714816, 0.5, 0.49929956, 0.49734828, 0.49749836, 0.49614748, 0.4978486, 0.50090057, 0.496948, 0.50020015, 0.49989992, 0.49944964, 0.4965978, 0.49774852, 0.49609748, 0.4972482, 0.49949968, 0.49964976, 0.49899936, 0.496898, 0.49699804, 0.49984992, 0.49934956, 0.49949968, 0.4981488, 0.49799868, 0.49704808, 0.4936959, 0.49929956, 0.49959973, 0.5029519, 0.49714816, 0.49839896, 0.49789864, 0.49974984, 0.49849904, 0.4959974, 0.5042027, 0.49729824, 0.49894932, 0.5005003, 0.49889928, 0.50165105, 0.495397, 0.5025016, 0.49994996, 0.49714816, 0.49699804, 0.49469656, 0.49799868, 0.498449, 0.5, 0.4993996, 0.49929956, 0.49704808, 0.49869916, 0.49894932, 0.49789864, 0.49819884, 0.49624756, 0.49869916, 0.49789864, 0.49624756, 0.49889928, 0.49644768, 0.50210136, 0.5013009, 0.5024016, 0.49564716, 0.49544704, 0.49994996, 0.49869916, 0.4962976, 0.49934956, 0.49789864, 0.50145096, 0.49549708, 0.4996998, 0.4987992, 0.49729824, 0.5012508, 0.49894932, 0.49854904, 0.4950968, 0.49979988, 0.49949968, 0.49729824, 0.49499676, 0.50280184, 0.49804872, 0.49534696, 0.49799868, 0.49859908, 0.49709812, 0.49589732, 0.49524692, 0.5018512, 0.49609748, 0.49779856, 0.4975484, 0.49624756, 0.4978486, 0.4981488, 0.49639764, 0.49699804, 0.49919948, 0.49964976, 0.49809876, 0.49914944, 0.49769852, 0.49769852, 0.49869916, 0.49889928, 0.49914944, 0.49959973, 0.49669784, 0.50160104, 0.5004503, 0.49919948, 0.49719816, 0.49884924, 0.49499676, 0.4950468, 0.49644768, 0.49624756, 0.49589732, 0.49664783, 0.5014009, 0.503102, 0.50340223, 0.5019513, 0.50025016, 0.49334568, 0.4996998, 0.49949968, 0.4987492, 0.49564716, 0.49634764, 0.4965978, 0.49699804, 0.5017511, 0.49594736, 0.50095063, 0.49854904, 0.49889928, 0.50155103, 0.49849904, 0.4987992, 0.49849904, 0.49974984, 0.49574724, 0.50095063, 0.49799868, 0.49574724, 0.4996998, 0.50155103, 0.49394608, 0.50155103, 0.50090057, 0.5007505, 0.49494672, 0.50030017, 0.49829888, 0.49809876, 0.49669784, 0.50030017, 0.49919948, 0.5013009, 0.5023515, 0.49769852, 0.5012008, 0.49804872, 0.49764848, 0.49489668, 0.493846, 0.49609748, 0.49709812, 0.50005, 0.49979988, 0.50025016, 0.49809876, 0.50030017, 0.49494672, 0.50100064, 0.4925952, 0.49804872, 0.50040025, 0.49344575, 0.4990994, 0.49984992, 0.49649772, 0.49769852, 0.49954972, 0.50005, 0.49674788, 0.5005503, 0.49674788, 0.49849904, 0.50035024, 0.49484664, 0.5, 0.49949968, 0.49359584, 0.49339572, 0.498449, 0.5013009, 0.4981488, 0.49734828, 0.5036023, 0.50225145, 0.50020015, 0.4956972, 0.5013509, 0.49574724, 0.50080055, 0.49779856, 0.5001501, 0.5001001, 0.49729824, 0.5038025, 0.4981488, 0.49764848, 0.49984992, 0.49894932, 0.5001501, 0.49934956, 0.4996998, 0.49429628, 0.49769852, 0.49714816, 0.49924952, 0.50020015, 0.49579728, 0.5023515, 0.4987992, 0.49989992, 0.49869916, 0.496948, 0.49284536, 0.49519688, 0.49759844, 0.50165105, 0.4958473, 0.4990994, 0.49654776, 0.4987492, 0.49964976, 0.5001001, 0.49274528, 0.49989992, 0.49809876, 0.49624756, 0.49709812, 0.5017511, 0.49869916, 0.49979988, 0.49884924, 0.49929956, 0.4959974, 0.49524692, 0.495397, 0.49799868, 0.50215137, 0.5013009, 0.49669784, 0.4981488, 0.50265175, 0.49974984, 0.49749836, 0.49809876, 0.49824888, 0.49889928, 0.49789864, 0.4993996, 0.49564716, 0.49809876, 0.49819884, 0.49254516, 0.5006004, 0.49399608, 0.4990994, 0.49964976, 0.49559712, 0.50155103, 0.49824888, 0.49984992, 0.49794868, 0.49609748, 0.49864912, 0.5011507, 0.50025016, 0.49759844, 0.49534696, 0.49424627, 0.50340223, 0.49549708, 0.4990994, 0.5005503, 0.49739832, 0.50035024, 0.50160104, 0.50270176, 0.49759844, 0.4993996, 0.49994996, 0.4987492, 0.49644768, 0.4965978, 0.4987492, 0.49424627, 0.49934956, 0.496898, 0.49984992, 0.49819884, 0.5018012, 0.5006004, 0.49669784, 0.50160104, 0.5010507, 0.49829888, 0.4987492, 0.49779856, 0.49739832, 0.5007005, 0.49804872, 0.496898, 0.49744835, 0.49859908, 0.49979988, 0.49729824, 0.49469656, 0.49674788, 0.49774852, 0.5006004, 0.4993996, 0.49839896, 0.4972482, 0.49729824, 0.49634764, 0.50035024, 0.4936959, 0.49839896, 0.49769852, 0.4993996, 0.49959973, 0.49669784, 0.49944964, 0.49644768, 0.49809876, 0.49954972, 0.4965978, 0.49779856, 0.4958473, 0.50085056, 0.49804872, 0.50080055, 0.49389604, 0.50270176, 0.49739832, 0.49789864, 0.50155103, 0.49929956, 0.49739832, 0.49829888, 0.49739832, 0.50095063, 0.5006504, 0.49809876, 0.50085056, 0.49849904, 0.49944964, 0.5029519, 0.49594736, 0.49819884, 0.49664783, 0.49899936, 0.5004503, 0.4944464, 0.49604744, 0.498449, 0.49499676, 0.4987992, 0.5038525, 0.4981488, 0.4990494, 0.49819884, 0.50020015, 0.49279532, 0.49269524, 0.4990494, 0.5001501, 0.50155103, 0.50080055, 0.49574724, 0.50090057, 0.49824888, 0.5005003, 0.49804872, 0.50035024, 0.49944964, 0.4975484, 0.50220144, 0.4978486, 0.4929454, 0.49699804, 0.5012008, 0.4981488, 0.49799868, 0.49604744, 0.49964976, 0.49889928, 0.49929956, 0.49834892, 0.49889928, 0.49769852, 0.49759844, 0.49774852, 0.50215137, 0.49699804, 0.49959973, 0.49914944, 0.49774852, 0.50165105, 0.49574724, 0.49829888, 0.49699804]}\n"
     ]
    }
   ],
   "source": [
    "print(history.history)"
   ]
  },
  {
   "cell_type": "code",
   "execution_count": null,
   "metadata": {},
   "outputs": [],
>>>>>>> 3cf4be44e6e01d70d771908c97d4f61dae11731e
   "source": [
    "# Plot training & validation accuracy values\n",
    "import matplotlib.pyplot as plt \n",
    "plt.plot(history.history['accuracy'])\n",
    "plt.title('Model accuracy')\n",
    "plt.ylabel('Accuracy')\n",
    "plt.xlabel('Epoch')\n",
    "plt.savefig('../Figures/CNN_accuracy_augment.png')\n",
    "plt.show()"
   ]
  },
  {
   "cell_type": "code",
   "execution_count": null,
   "metadata": {},
   "outputs": [],
   "source": [
    "model.summary()"
   ]
  },
  {
   "cell_type": "code",
<<<<<<< HEAD
   "execution_count": 32,
   "metadata": {},
   "outputs": [
    {
     "ename": "ImportError",
     "evalue": "Failed to import `pydot`. Please install `pydot`. For example with `pip install pydot`.",
     "output_type": "error",
     "traceback": [
      "\u001b[1;31m---------------------------------------------------------------------------\u001b[0m",
      "\u001b[1;31mImportError\u001b[0m                               Traceback (most recent call last)",
      "\u001b[1;32m<ipython-input-32-fc5e5d0fc304>\u001b[0m in \u001b[0;36m<module>\u001b[1;34m\u001b[0m\n\u001b[0;32m      1\u001b[0m \u001b[1;32mfrom\u001b[0m \u001b[0mkeras\u001b[0m\u001b[1;33m.\u001b[0m\u001b[0mutils\u001b[0m \u001b[1;32mimport\u001b[0m \u001b[0mplot_model\u001b[0m\u001b[1;33m\u001b[0m\u001b[1;33m\u001b[0m\u001b[0m\n\u001b[1;32m----> 2\u001b[1;33m \u001b[0mplot_model\u001b[0m\u001b[1;33m(\u001b[0m\u001b[0mmodel\u001b[0m\u001b[1;33m,\u001b[0m \u001b[0mto_file\u001b[0m\u001b[1;33m=\u001b[0m\u001b[1;34m'../Figure/CNN_model.png'\u001b[0m\u001b[1;33m)\u001b[0m\u001b[1;33m\u001b[0m\u001b[1;33m\u001b[0m\u001b[0m\n\u001b[0m",
      "\u001b[1;32m~\\anaconda3\\lib\\site-packages\\keras\\utils\\vis_utils.py\u001b[0m in \u001b[0;36mplot_model\u001b[1;34m(model, to_file, show_shapes, show_layer_names, rankdir, expand_nested, dpi)\u001b[0m\n\u001b[0;32m    238\u001b[0m     \"\"\"\n\u001b[0;32m    239\u001b[0m     dot = model_to_dot(model, show_shapes, show_layer_names, rankdir,\n\u001b[1;32m--> 240\u001b[1;33m                        expand_nested, dpi)\n\u001b[0m\u001b[0;32m    241\u001b[0m     \u001b[0m_\u001b[0m\u001b[1;33m,\u001b[0m \u001b[0mextension\u001b[0m \u001b[1;33m=\u001b[0m \u001b[0mos\u001b[0m\u001b[1;33m.\u001b[0m\u001b[0mpath\u001b[0m\u001b[1;33m.\u001b[0m\u001b[0msplitext\u001b[0m\u001b[1;33m(\u001b[0m\u001b[0mto_file\u001b[0m\u001b[1;33m)\u001b[0m\u001b[1;33m\u001b[0m\u001b[1;33m\u001b[0m\u001b[0m\n\u001b[0;32m    242\u001b[0m     \u001b[1;32mif\u001b[0m \u001b[1;32mnot\u001b[0m \u001b[0mextension\u001b[0m\u001b[1;33m:\u001b[0m\u001b[1;33m\u001b[0m\u001b[1;33m\u001b[0m\u001b[0m\n",
      "\u001b[1;32m~\\anaconda3\\lib\\site-packages\\keras\\utils\\vis_utils.py\u001b[0m in \u001b[0;36mmodel_to_dot\u001b[1;34m(model, show_shapes, show_layer_names, rankdir, expand_nested, dpi, subgraph)\u001b[0m\n\u001b[0;32m     77\u001b[0m     \u001b[1;32mfrom\u001b[0m \u001b[1;33m.\u001b[0m\u001b[1;33m.\u001b[0m\u001b[0mmodels\u001b[0m \u001b[1;32mimport\u001b[0m \u001b[0mSequential\u001b[0m\u001b[1;33m\u001b[0m\u001b[1;33m\u001b[0m\u001b[0m\n\u001b[0;32m     78\u001b[0m \u001b[1;33m\u001b[0m\u001b[0m\n\u001b[1;32m---> 79\u001b[1;33m     \u001b[0m_check_pydot\u001b[0m\u001b[1;33m(\u001b[0m\u001b[1;33m)\u001b[0m\u001b[1;33m\u001b[0m\u001b[1;33m\u001b[0m\u001b[0m\n\u001b[0m\u001b[0;32m     80\u001b[0m     \u001b[1;32mif\u001b[0m \u001b[0msubgraph\u001b[0m\u001b[1;33m:\u001b[0m\u001b[1;33m\u001b[0m\u001b[1;33m\u001b[0m\u001b[0m\n\u001b[0;32m     81\u001b[0m         \u001b[0mdot\u001b[0m \u001b[1;33m=\u001b[0m \u001b[0mpydot\u001b[0m\u001b[1;33m.\u001b[0m\u001b[0mCluster\u001b[0m\u001b[1;33m(\u001b[0m\u001b[0mstyle\u001b[0m\u001b[1;33m=\u001b[0m\u001b[1;34m'dashed'\u001b[0m\u001b[1;33m,\u001b[0m \u001b[0mgraph_name\u001b[0m\u001b[1;33m=\u001b[0m\u001b[0mmodel\u001b[0m\u001b[1;33m.\u001b[0m\u001b[0mname\u001b[0m\u001b[1;33m)\u001b[0m\u001b[1;33m\u001b[0m\u001b[1;33m\u001b[0m\u001b[0m\n",
      "\u001b[1;32m~\\anaconda3\\lib\\site-packages\\keras\\utils\\vis_utils.py\u001b[0m in \u001b[0;36m_check_pydot\u001b[1;34m()\u001b[0m\n\u001b[0;32m     20\u001b[0m     \u001b[1;32mif\u001b[0m \u001b[0mpydot\u001b[0m \u001b[1;32mis\u001b[0m \u001b[1;32mNone\u001b[0m\u001b[1;33m:\u001b[0m\u001b[1;33m\u001b[0m\u001b[1;33m\u001b[0m\u001b[0m\n\u001b[0;32m     21\u001b[0m         raise ImportError(\n\u001b[1;32m---> 22\u001b[1;33m             \u001b[1;34m'Failed to import `pydot`. '\u001b[0m\u001b[1;33m\u001b[0m\u001b[1;33m\u001b[0m\u001b[0m\n\u001b[0m\u001b[0;32m     23\u001b[0m             \u001b[1;34m'Please install `pydot`. '\u001b[0m\u001b[1;33m\u001b[0m\u001b[1;33m\u001b[0m\u001b[0m\n\u001b[0;32m     24\u001b[0m             'For example with `pip install pydot`.')\n",
      "\u001b[1;31mImportError\u001b[0m: Failed to import `pydot`. Please install `pydot`. For example with `pip install pydot`."
     ]
    }
   ],
   "source": [
    "from keras.utils import plot_model\n",
    "plot_model(model, to_file='../Figure/CNN_model_augment.png')"
   ]
  },
  {
   "cell_type": "code",
   "execution_count": 33,
   "metadata": {},
   "outputs": [
    {
     "name": "stdout",
     "output_type": "stream",
     "text": [
      "39974/39974 [==============================] - ETA:  - ETA:  - ETA:  - ETA:  - ETA:  - ETA:  - ETA:  - ETA:  - ETA:  - ETA:  - ETA:  - ETA:  - ETA:  - ETA:  - ETA:  - ETA:  - ETA:  - ETA:  - ETA:  - ETA:  - ETA:  - ETA:  - ETA:  - ETA:  - ETA:  - ETA:  - ETA:  - ETA:  - ETA:  - ETA:  - ETA:  - ETA:  - ETA:  - ETA:  - ETA:  - ETA:  - ETA:  - ETA:  - ETA:  - ETA:  - ETA:  - ETA:  - ETA:  - ETA:  - ETA:  - ETA:  - ETA:  - ETA:  - 2s 61us/step\n"
     ]
    }
   ],
=======
   "execution_count": null,
   "metadata": {},
   "outputs": [],
>>>>>>> 3cf4be44e6e01d70d771908c97d4f61dae11731e
   "source": [
    "eval_model=model.evaluate(X_train, y_train)\n",
    "eval_model\n",
    "y_pred=model.predict(X_test)\n",
    "y_pred =(y_pred>0.5)"
   ]
  },
  {
   "cell_type": "code",
<<<<<<< HEAD
   "execution_count": 34,
   "metadata": {},
   "outputs": [
    {
     "name": "stdout",
     "output_type": "stream",
     "text": [
      "[[4767  237]\n",
      " [ 351 4639]]\n"
     ]
    }
   ],
=======
   "execution_count": null,
   "metadata": {},
   "outputs": [],
>>>>>>> 3cf4be44e6e01d70d771908c97d4f61dae11731e
   "source": [
    "from sklearn.metrics import confusion_matrix\n",
    "cm = confusion_matrix(y_test, y_pred)\n",
    "print(cm)"
   ]
  },
  {
   "cell_type": "code",
<<<<<<< HEAD
   "execution_count": 35,
   "metadata": {},
   "outputs": [
    {
     "name": "stdout",
     "output_type": "stream",
     "text": [
      "237\n"
     ]
    }
   ],
=======
   "execution_count": null,
   "metadata": {},
   "outputs": [],
>>>>>>> 3cf4be44e6e01d70d771908c97d4f61dae11731e
   "source": [
    "print(cm[0,1])"
   ]
  },
  {
   "cell_type": "code",
<<<<<<< HEAD
   "execution_count": 36,
=======
   "execution_count": null,
>>>>>>> 3cf4be44e6e01d70d771908c97d4f61dae11731e
   "metadata": {},
   "outputs": [],
   "source": [
    "def MCC(matrix):\n",
    "    '''\n",
    "    Calcualtes the Matthews Correlation Coefficient from a confusion matrix\n",
    "    '''\n",
    "    return ((matrix[0,0]*matrix[1,1])-(matrix[1,0]*matrix[0,1]))/np.sqrt((cm[0,0]+cm[1,0])*(cm[0,0]+cm[0,1])*(cm[1,1]+cm[1,0])*(cm[1,1]+cm[0,1]))"
   ]
  },
  {
   "cell_type": "code",
<<<<<<< HEAD
   "execution_count": 37,
   "metadata": {},
   "outputs": [
    {
     "name": "stdout",
     "output_type": "stream",
     "text": [
      "Error Rate:5.884%\n",
      "Accuracy:94.116%\n",
      "Sensitivity:95.264%\n",
      "Specificity :92.966%\n",
      "Precision:93.142%\n",
      "False Positive Rate:7.034%\n",
      "Matthews Correlation Coefficient:88.256%\n"
     ]
    }
   ],
=======
   "execution_count": null,
   "metadata": {},
   "outputs": [],
>>>>>>> 3cf4be44e6e01d70d771908c97d4f61dae11731e
   "source": [
    "print(\"Error Rate:\"+'{:.3%}'.format((cm[0,1]+cm[1,0])/np.sum(cm)))\n",
    "print(\"Accuracy:\"+'{:.3%}'.format((cm[0,0]+cm[1,1])/np.sum(cm)))\n",
    "print(\"Sensitivity:\"+'{:.3%}'.format((cm[0,0])/np.sum(cm[0,:])))\n",
    "print(\"Specificity :\"+'{:.3%}'.format((cm[1,1])/np.sum(cm[1,:])))\n",
    "print(\"Precision:\"+'{:.3%}'.format((cm[0,0])/np.sum(cm[:,0])))\n",
    "print(\"False Positive Rate:\"+'{:.3%}'.format(1-((cm[1,1])/np.sum(cm[1,:]))))\n",
    "print(\"Matthews Correlation Coefficient:\"+'{:.3%}'.format(MCC(cm)))"
   ]
  },
  {
   "cell_type": "code",
   "execution_count": 39,
   "metadata": {},
   "outputs": [],
   "source": [
    "model.save('../Models/CNN_model_augment.h5')"
   ]
  },
  {
   "cell_type": "markdown",
   "metadata": {},
   "source": [
    "## Sanity Check"
   ]
  },
  {
   "cell_type": "code",
   "execution_count": null,
   "metadata": {},
   "outputs": [],
   "source": [
    "for filepath in glob.iglob('../Data/cutouts/starfits/*fits', recursive=True):\n",
    "    fp = Path(filepath)\n",
    "    hdulist = fits.open(fp)\n",
    "    scidata = hdulist[0].data\n",
    "    "
   ]
  },
  {
   "cell_type": "code",
   "execution_count": 179,
   "metadata": {},
   "outputs": [],
   "source": [
    "filepath = '../Data/cutouts/starfits/starfits-256.fits'\n",
    "fp = Path(filepath)\n",
    "hdulist = fits.open(fp)\n",
    "scidata = hdulist[0].data"
   ]
  },
  {
   "cell_type": "code",
   "execution_count": 181,
   "metadata": {},
   "outputs": [
    {
     "data": {
      "text/plain": [
       "array([[0.36742818]], dtype=float32)"
      ]
     },
     "execution_count": 181,
     "metadata": {},
     "output_type": "execute_result"
    }
   ],
   "source": [
    "# Stars should return 0, galaxies return 1\n",
    "model.predict(scidata.reshape(1,40,40,1))"
   ]
  },
  {
   "cell_type": "code",
   "execution_count": 30,
   "metadata": {},
   "outputs": [
    {
     "data": {
      "text/plain": [
       "'2.1.0'"
      ]
     },
     "execution_count": 30,
     "metadata": {},
     "output_type": "execute_result"
    }
   ],
   "source": [
    "tf.__version__"
   ]
  },
  {
   "cell_type": "code",
   "execution_count": 28,
   "metadata": {},
   "outputs": [
    {
     "name": "stdout",
     "output_type": "stream",
     "text": [
      "[[[ 2.66089351e+01  6.08204231e+01  3.04102116e+01 ...  3.04102116e+01\n",
      "   -4.56153173e+01  5.32178702e+01]\n",
      "  [-1.52051058e+01 -3.80127645e+00 -3.80127645e+00 ... -3.80127645e+00\n",
      "   -1.52051058e+01  7.60255289e+00]\n",
      "  [ 4.18140409e+01 -2.28076587e+01 -3.80127645e+00 ... -7.60255289e+00\n",
      "    2.28076587e+01  2.28076587e+01]\n",
      "  ...\n",
      "  [ 3.42114880e+01 -2.28076587e+01  7.60255289e+01 ... -2.28076587e+01\n",
      "    4.94165938e+01  7.60255289e+01]\n",
      "  [ 5.70191467e+01 -6.84229760e+01  8.36280818e+01 ...  1.14038293e+01\n",
      "    7.60255289e+00 -2.66089351e+01]\n",
      "  [-5.70191467e+01  1.14038293e+01 -1.14038293e+01 ...  7.22242525e+01\n",
      "    6.08204231e+01 -1.90063822e+01]]\n",
      "\n",
      " [[ 6.46216996e+01  2.28076587e+01 -1.14038293e+01 ... -4.18140409e+01\n",
      "    1.14038293e+01 -2.66089351e+01]\n",
      "  [ 3.04102116e+01  1.52051058e+01 -1.90063822e+01 ... -2.28076587e+01\n",
      "   -3.80127645e+00 -3.80127645e+01]\n",
      "  [-3.80127645e+00  3.04102116e+01 -1.52051058e+01 ... -4.18140409e+01\n",
      "    7.60255289e+01 -2.28076587e+01]\n",
      "  ...\n",
      "  [-1.52051058e+01  3.42114880e+01  4.18140409e+01 ...  3.80127645e+01\n",
      "   -7.60255289e+00  6.46216996e+01]\n",
      "  [ 7.60255289e+00 -2.28076587e+01 -1.14038293e+01 ... -1.52051058e+01\n",
      "    4.99866815e-12 -1.14038293e+01]\n",
      "  [ 5.70191467e+01  6.46216996e+01 -7.60255289e+00 ...  2.66089351e+01\n",
      "   -7.60255289e+00 -3.80127645e+01]]\n",
      "\n",
      " [[ 4.87807980e+01  1.15300068e+02 -8.86923599e+01 ...  4.43461800e+00\n",
      "    3.10423260e+01 -7.09538879e+01]\n",
      "  [ 4.87807980e+01 -3.99115620e+01 -3.55271368e-15 ...  8.86923599e+00\n",
      "    3.54769440e+01 -3.10423260e+01]\n",
      "  [-8.86923599e+00  4.43461800e+00 -4.87807980e+01 ... -1.33038540e+01\n",
      "   -7.09538879e+01 -1.10865450e+02]\n",
      "  ...\n",
      "  [-1.28603922e+02 -1.33038540e+01 -6.65192699e+01 ... -8.86923599e+00\n",
      "   -7.09538879e+01  8.86923599e+00]\n",
      "  [-7.53885059e+01 -4.87807980e+01 -5.76500340e+01 ... -7.53885059e+01\n",
      "    2.66077080e+01 -6.20846519e+01]\n",
      "  [ 3.99115620e+01 -1.77384720e+01 -1.33038540e+01 ... -4.87807980e+01\n",
      "   -5.32154160e+01 -3.10423260e+01]]\n",
      "\n",
      " ...\n",
      "\n",
      " [[ 3.22441006e+01 -3.22441006e+01  5.00222086e-12 ... -4.65748119e+01\n",
      "   -1.43307114e+01  2.14960670e+01]\n",
      "  [ 2.14960670e+01  2.86614227e+01  5.01574898e+01 ...  3.94094563e+01\n",
      "    4.29921341e+01 -3.22441006e+01]\n",
      "  [ 2.50787449e+01  1.43307114e+01 -2.86614227e+01 ...  2.14960670e+01\n",
      "   -1.07480335e+01 -3.58267784e+01]\n",
      "  ...\n",
      "  [-3.22441006e+01  5.00222086e-12  1.79133892e+01 ... -1.79133892e+01\n",
      "   -1.07480335e+01  3.94094563e+01]\n",
      "  [ 7.16535568e+01  7.16535568e+00  2.50787449e+01 ... -4.65748119e+01\n",
      "    2.14960670e+01  5.73228455e+01]\n",
      "  [ 5.00222086e-12 -1.79133892e+01  3.22441006e+01 ...  7.16535568e+00\n",
      "    3.22441006e+01  3.58267784e+00]]\n",
      "\n",
      " [[ 2.86614227e+01 -5.37401676e+01 -7.88189125e+01 ... -2.14960670e+01\n",
      "    7.16535568e+00 -3.58267784e+01]\n",
      "  [-7.16535568e+00  5.01574898e+01  4.65748119e+01 ... -4.29921341e+01\n",
      "    5.00222086e-12 -1.07480335e+01]\n",
      "  [ 1.79133892e+01  5.01574898e+01  3.58267784e+00 ... -7.16535568e+00\n",
      "    3.22441006e+01  7.16535568e+00]\n",
      "  ...\n",
      "  [-1.07480335e+01 -1.07480335e+01  2.14960670e+01 ... -3.58267784e+00\n",
      "    1.43307114e+01  1.43307114e+01]\n",
      "  [ 3.58267784e+00 -6.09055233e+01  1.43307114e+01 ...  1.43307114e+01\n",
      "   -3.58267784e+00 -7.16535568e+00]\n",
      "  [ 7.16535568e+01  2.14960670e+01  5.00222086e-12 ... -1.43307114e+01\n",
      "   -7.16535568e+00 -7.16535568e+00]]\n",
      "\n",
      " [[ 1.43307114e+01 -7.16535568e+00 -5.73228455e+01 ...  3.94094563e+01\n",
      "   -4.29921341e+01  5.73228455e+01]\n",
      "  [ 5.01574898e+01 -3.94094563e+01 -2.50787449e+01 ...  3.58267784e+00\n",
      "    1.43307114e+01 -7.16535568e+01]\n",
      "  [-7.16535568e+01 -7.16535568e+00  3.58267784e+00 ...  1.07480335e+01\n",
      "    1.43307114e+01 -1.79133892e+01]\n",
      "  ...\n",
      "  [ 3.58267784e+00  3.58267784e+00  6.80708790e+01 ...  3.58267784e+01\n",
      "    3.58267784e+00  3.58267784e+01]\n",
      "  [ 1.07480335e+01  2.50787449e+01 -1.07480335e+01 ...  7.16535568e+01\n",
      "    7.16535568e+00 -2.86614227e+01]\n",
      "  [ 1.43307114e+01 -3.58267784e+01 -4.65748119e+01 ...  1.43307114e+01\n",
      "   -3.58267784e+00  3.22441006e+01]]]\n"
     ]
    }
   ],
   "source": [
    "print(X)"
   ]
  },
  {
   "cell_type": "markdown",
   "metadata": {},
   "source": [
    "# Autokeras"
   ]
  },
  {
   "cell_type": "code",
   "execution_count": 1,
   "metadata": {},
   "outputs": [
    {
     "ename": "NameError",
     "evalue": "name 'X_train' is not defined",
     "output_type": "error",
     "traceback": [
      "\u001b[1;31m---------------------------------------------------------------------------\u001b[0m",
      "\u001b[1;31mNameError\u001b[0m                                 Traceback (most recent call last)",
      "\u001b[1;32m<ipython-input-1-fe63bc7a6758>\u001b[0m in \u001b[0;36m<module>\u001b[1;34m\u001b[0m\n\u001b[0;32m      4\u001b[0m \u001b[0mclf\u001b[0m \u001b[1;33m=\u001b[0m \u001b[0mak\u001b[0m\u001b[1;33m.\u001b[0m\u001b[0mImageClassifier\u001b[0m\u001b[1;33m(\u001b[0m\u001b[1;33m)\u001b[0m\u001b[1;33m\u001b[0m\u001b[1;33m\u001b[0m\u001b[0m\n\u001b[0;32m      5\u001b[0m \u001b[1;31m# Feed the image classifier with training data.\u001b[0m\u001b[1;33m\u001b[0m\u001b[1;33m\u001b[0m\u001b[1;33m\u001b[0m\u001b[0m\n\u001b[1;32m----> 6\u001b[1;33m \u001b[0mclf\u001b[0m\u001b[1;33m.\u001b[0m\u001b[0mfit\u001b[0m\u001b[1;33m(\u001b[0m\u001b[0mX_train\u001b[0m\u001b[1;33m,\u001b[0m \u001b[0my_train\u001b[0m\u001b[1;33m)\u001b[0m\u001b[1;33m\u001b[0m\u001b[1;33m\u001b[0m\u001b[0m\n\u001b[0m\u001b[0;32m      7\u001b[0m \u001b[1;33m\u001b[0m\u001b[0m\n\u001b[0;32m      8\u001b[0m \u001b[1;31m# Predict with the best model.\u001b[0m\u001b[1;33m\u001b[0m\u001b[1;33m\u001b[0m\u001b[1;33m\u001b[0m\u001b[0m\n",
      "\u001b[1;31mNameError\u001b[0m: name 'X_train' is not defined"
     ]
    }
   ],
   "source": [
    "import autokeras as ak\n",
    "\n",
    "# Initialize the image classifier.\n",
    "clf = ak.ImageClassifier()\n",
    "# Feed the image classifier with training data.\n",
    "clf.fit(X_train, y_train)\n",
    "\n",
    "# Predict with the best model.\n",
    "predicted_y = clf.predict(X_test)\n",
    "print(predicted_y)\n",
    "\n",
    "# Evaluate the best model with testing data.\n",
    "print(clf.evaluate(X_test, y_test))"
   ]
  },
  {
   "cell_type": "code",
   "execution_count": 53,
   "metadata": {},
   "outputs": [
    {
     "name": "stdout",
     "output_type": "stream",
     "text": [
      "WARNING:tensorflow:Unresolved object in checkpoint: (root).optimizer.iter\n",
      "WARNING:tensorflow:Unresolved object in checkpoint: (root).optimizer.beta_1\n",
      "WARNING:tensorflow:Unresolved object in checkpoint: (root).optimizer.beta_2\n",
      "WARNING:tensorflow:Unresolved object in checkpoint: (root).optimizer.decay\n",
      "WARNING:tensorflow:Unresolved object in checkpoint: (root).optimizer.learning_rate\n",
      "WARNING:tensorflow:A checkpoint was restored (e.g. tf.train.Checkpoint.restore or tf.keras.Model.load_weights) but not all checkpointed values were used. See above for specific issues. Use expect_partial() on the load status object, e.g. tf.train.Checkpoint.restore(...).expect_partial(), to silence these warnings, or use assert_consumed() to make the check explicit. See https://www.tensorflow.org/guide/checkpoint#loading_mechanics for details.\n",
      "WARNING:tensorflow:Unresolved object in checkpoint: (root).optimizer.iter\n",
      "WARNING:tensorflow:Unresolved object in checkpoint: (root).optimizer.beta_1\n",
      "WARNING:tensorflow:Unresolved object in checkpoint: (root).optimizer.beta_2\n",
      "WARNING:tensorflow:Unresolved object in checkpoint: (root).optimizer.decay\n",
      "WARNING:tensorflow:Unresolved object in checkpoint: (root).optimizer.learning_rate\n",
      "WARNING:tensorflow:A checkpoint was restored (e.g. tf.train.Checkpoint.restore or tf.keras.Model.load_weights) but not all checkpointed values were used. See above for specific issues. Use expect_partial() on the load status object, e.g. tf.train.Checkpoint.restore(...).expect_partial(), to silence these warnings, or use assert_consumed() to make the check explicit. See https://www.tensorflow.org/guide/checkpoint#loading_mechanics for details.\n"
     ]
    }
   ],
   "source": [
    "model = clf.export_model()"
   ]
  },
  {
   "cell_type": "markdown",
   "metadata": {},
   "source": [
    "## GPU test"
   ]
  },
  {
   "cell_type": "code",
   "execution_count": null,
   "metadata": {},
   "outputs": [],
   "source": [
    "from tensorflow.python.client import device_lib\n",
    "print(device_lib.list_local_devices())"
   ]
  },
  {
   "cell_type": "code",
   "execution_count": null,
   "metadata": {},
   "outputs": [],
   "source": [
    "tf.config.list_physical_devices('GPU')"
   ]
  },
  {
   "cell_type": "code",
   "execution_count": null,
   "metadata": {},
   "outputs": [],
   "source": [
    "tf.test.is_built_with_cuda()"
   ]
  },
  {
   "cell_type": "code",
   "execution_count": null,
   "metadata": {},
   "outputs": [],
   "source": [
    "from keras import backend as K\n",
    "K.tensorflow_backend._get_available_gpus()"
   ]
  },
  {
   "cell_type": "code",
   "execution_count": null,
   "metadata": {},
   "outputs": [],
   "source": [
    "import tensorflow as tf\n",
    "sess = tf.Session(config=tf.ConfigProto(log_device_placement=True))"
   ]
  },
  {
   "cell_type": "code",
   "execution_count": null,
   "metadata": {},
   "outputs": [],
   "source": []
  }
 ],
 "metadata": {
  "kernelspec": {
   "display_name": "Python 3",
   "language": "python",
   "name": "python3"
  },
  "language_info": {
   "codemirror_mode": {
    "name": "ipython",
    "version": 3
   },
   "file_extension": ".py",
   "mimetype": "text/x-python",
   "name": "python",
   "nbconvert_exporter": "python",
   "pygments_lexer": "ipython3",
   "version": "3.7.6"
  }
 },
 "nbformat": 4,
 "nbformat_minor": 4
}
