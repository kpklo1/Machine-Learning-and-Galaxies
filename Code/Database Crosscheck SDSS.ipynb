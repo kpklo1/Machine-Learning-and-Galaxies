{
 "cells": [
  {
   "cell_type": "markdown",
   "metadata": {},
   "source": [
    "# Database Crosscheck"
   ]
  },
  {
   "cell_type": "code",
   "execution_count": 11,
   "metadata": {},
   "outputs": [],
   "source": [
    "from astroquery.sdss import SDSS"
   ]
  },
  {
   "cell_type": "code",
   "execution_count": 12,
   "metadata": {},
   "outputs": [
    {
     "name": "stdout",
     "output_type": "stream",
     "text": [
      "{'star_O': 0, 'star_OB': 1, 'star_B': 2, 'star_A': [3, 4], 'star_FA': 5, 'star_F': [6, 7], 'star_G': [8, 9], 'star_K': 10, 'star_M1': 11, 'star_M3': 12, 'star_M5': 13, 'star_M8': 14, 'star_L1': 15, 'star_wd': [16, 20, 21], 'star_carbon': [17, 18, 19], 'star_Ksubdwarf': 22, 'galaxy_early': 23, 'galaxy': [24, 25, 26], 'galaxy_late': 27, 'galaxy_lrg': 28, 'qso': 29, 'qso_bal': [30, 31], 'qso_bright': 32}\n"
     ]
    }
   ],
   "source": [
    "print(SDSS.AVAILABLE_TEMPLATES)"
   ]
  },
  {
   "cell_type": "code",
   "execution_count": 13,
   "metadata": {},
   "outputs": [
    {
     "ename": "SyntaxError",
     "evalue": "invalid syntax (<ipython-input-13-7220f06c50ce>, line 1)",
     "output_type": "error",
     "traceback": [
      "\u001b[0;36m  File \u001b[0;32m\"<ipython-input-13-7220f06c50ce>\"\u001b[0;36m, line \u001b[0;32m1\u001b[0m\n\u001b[0;31m    SELECT ra,dec\u001b[0m\n\u001b[0m            ^\u001b[0m\n\u001b[0;31mSyntaxError\u001b[0m\u001b[0;31m:\u001b[0m invalid syntax\n"
     ]
    }
   ],
   "source": [
    "SELECT ra,dec\n",
    "FROM Galaxy\n",
    "WHERE ra between 149.50840570883662 and 153.27977271595987\n",
    "AND dec between 40.370446924001904 and 42.45577724210457\n",
    "AND g > 20"
   ]
  },
  {
   "cell_type": "code",
   "execution_count": 16,
   "metadata": {},
   "outputs": [],
   "source": [
    "query = \"\"\"\n",
    "SELECT ra,dec\n",
    "FROM Galaxy\n",
    "WHERE ra between 149.50840570883662 and 153.27977271595987\n",
    "AND dec between 40.370446924001904 and 42.45577724210457\n",
    "AND g < 20\n",
    "\"\"\"\n",
    "res = SDSS.query_sql(query)"
   ]
  },
  {
   "cell_type": "code",
   "execution_count": 19,
   "metadata": {},
   "outputs": [
    {
     "name": "stdout",
     "output_type": "stream",
     "text": [
      "       ra              dec       \n",
      "---------------- ----------------\n",
      "149.573175602818 40.8946023676976\n",
      "149.573296305347 40.4812242697767\n",
      "149.690806632887 41.3370914896135\n",
      "149.691790877466 41.0682894518569\n",
      "149.796799205599 41.0310298752514\n",
      "150.017333898785 42.3147279732037\n",
      "150.314866994723 41.9308625372712\n",
      "150.412805538073 41.7019269638938\n",
      "150.414363715653 40.7497345147597\n",
      "150.415227382911 41.0414953053784\n",
      "             ...              ...\n",
      "152.738526650178 42.0843191148272\n",
      "152.739243962106 41.3570642588779\n",
      "  152.8423731882 41.8487858967056\n",
      "152.842377181711 41.2575763388234\n",
      "152.842614763299  40.399814253346\n",
      "152.843688600772 41.8453825876668\n",
      "152.844305974311 40.6251037168645\n",
      "152.951088556743 42.2591205882588\n",
      "152.951982733484 41.1825244444775\n",
      "153.154906818867  41.908981402823\n",
      "153.258919151125 41.8596807123236\n",
      "Length = 2612 rows\n"
     ]
    }
   ],
   "source": [
    "print(res)"
   ]
  },
  {
   "cell_type": "code",
   "execution_count": 20,
   "metadata": {},
   "outputs": [],
   "source": [
    "galaxies = res.to_pandas()"
   ]
  },
  {
   "cell_type": "code",
   "execution_count": 21,
   "metadata": {},
   "outputs": [],
   "source": [
    "query = \"\"\"\n",
    "SELECT ra,dec\n",
    "FROM Star\n",
    "WHERE ra between 149.50840570883662 and 153.27977271595987\n",
    "AND dec between 40.370446924001904 and 42.45577724210457\n",
    "AND g < 20\n",
    "\"\"\"\n",
    "res = SDSS.query_sql(query)"
   ]
  },
  {
   "cell_type": "code",
   "execution_count": 22,
   "metadata": {},
   "outputs": [
    {
     "name": "stdout",
     "output_type": "stream",
     "text": [
      "       ra              dec       \n",
      "---------------- ----------------\n",
      "149.532710844102 41.9880206568296\n",
      "149.534120622171 40.8106419338044\n",
      "149.534136729349 41.1655632407266\n",
      "149.534284458342 41.9296159722561\n",
      "149.534418874239 41.0300064711628\n",
      "149.534954276065 41.5189688799433\n",
      "149.749003158302 40.7811475678023\n",
      "149.749321140037 41.9997227083388\n",
      "149.749329371969 41.7515653779591\n",
      "149.749409688238 41.6804681417546\n",
      "             ...              ...\n",
      "153.040359053865 42.3178792629951\n",
      "153.041041818593 41.2513988770502\n",
      "153.142100087425 41.4402127945055\n",
      "153.142375986249 40.6551887792305\n",
      "153.142678734704 41.6974543787388\n",
      "153.142916324316 42.0066125942352\n",
      "153.143806018389 40.6821009524499\n",
      "153.246141861532 42.1928794252612\n",
      " 153.24614402501 40.5717291535066\n",
      "153.246506738758 41.5404948859016\n",
      "153.246759337817  41.939279510572\n",
      "Length = 6257 rows\n"
     ]
    }
   ],
   "source": [
    "print(res)"
   ]
  },
  {
   "cell_type": "code",
   "execution_count": 23,
   "metadata": {},
   "outputs": [],
   "source": [
    "stars = res.to_pandas()"
   ]
  },
  {
   "cell_type": "code",
   "execution_count": 26,
   "metadata": {},
   "outputs": [
    {
     "name": "stdout",
     "output_type": "stream",
     "text": [
      "              ra        dec\n",
      "0     149.532711  41.988021\n",
      "1     149.534121  40.810642\n",
      "2     149.534137  41.165563\n",
      "3     149.534284  41.929616\n",
      "4     149.534419  41.030006\n",
      "...          ...        ...\n",
      "6252  153.143806  40.682101\n",
      "6253  153.246142  42.192879\n",
      "6254  153.246144  40.571729\n",
      "6255  153.246507  41.540495\n",
      "6256  153.246759  41.939280\n",
      "\n",
      "[6257 rows x 2 columns]\n"
     ]
    }
   ],
   "source": [
    "print(stars)"
   ]
  },
  {
   "cell_type": "code",
   "execution_count": 1,
   "metadata": {},
   "outputs": [],
   "source": [
    "from astropy.io import fits\n",
    "from astropy import wcs\n",
    "fits_image_filename = '../Data/newfits/calexp-1-108438.fits'\n",
    "\n",
    "hdu_list = fits.open(fits_image_filename)\n",
    "hdu = fits.open(fits_image_filename)[1]\n",
    "w = wcs.WCS(hdu.header)"
   ]
  },
  {
   "cell_type": "code",
   "execution_count": 2,
   "metadata": {},
   "outputs": [
    {
     "name": "stdout",
     "output_type": "stream",
     "text": [
      "<class 'numpy.ndarray'>\n",
      "(6132, 8176)\n"
     ]
    }
   ],
   "source": [
    "image_data = fits.getdata(fits_image_filename,0)\n",
    "print(type(image_data))\n",
    "print(image_data.shape)"
   ]
  },
  {
   "cell_type": "code",
   "execution_count": 3,
   "metadata": {},
   "outputs": [
    {
     "name": "stdout",
     "output_type": "stream",
     "text": [
      "WCS Keywords\n",
      "\n",
      "Number of WCS axes: 2\n",
      "CTYPE : 'RA---TAN-SIP'  'DEC--TAN-SIP'  \n",
      "CRVAL : 151.891410835415  41.777202445749  \n",
      "CRPIX : 4074.320544  3065.826822  \n",
      "CD1_1 CD1_2  : -9.05112531824021e-07  -0.000347023189685797  \n",
      "CD2_1 CD2_2  : 0.000346982413101619  -9.20137431574141e-07  \n",
      "NAXIS : 8176  6132\n"
     ]
    }
   ],
   "source": [
    "from astropy.coordinates import SkyCoord\n",
    "print(w)"
   ]
  },
  {
   "cell_type": "code",
   "execution_count": 8,
   "metadata": {},
   "outputs": [],
   "source": [
    "lon, lat = w.all_pix2world(6132, 8176, 0)"
   ]
  },
  {
   "cell_type": "code",
   "execution_count": 9,
   "metadata": {},
   "outputs": [
    {
     "name": "stdout",
     "output_type": "stream",
     "text": [
      "149.50840570883662 42.45577724210457\n"
     ]
    }
   ],
   "source": [
    "print(lon,lat)"
   ]
  },
  {
   "cell_type": "code",
   "execution_count": null,
   "metadata": {},
   "outputs": [],
   "source": []
  }
 ],
 "metadata": {
  "kernelspec": {
   "display_name": "Python 3",
   "language": "python",
   "name": "python3"
  },
  "language_info": {
   "codemirror_mode": {
    "name": "ipython",
    "version": 3
   },
   "file_extension": ".py",
   "mimetype": "text/x-python",
   "name": "python",
   "nbconvert_exporter": "python",
   "pygments_lexer": "ipython3",
   "version": "3.7.6"
  }
 },
 "nbformat": 4,
 "nbformat_minor": 4
}
