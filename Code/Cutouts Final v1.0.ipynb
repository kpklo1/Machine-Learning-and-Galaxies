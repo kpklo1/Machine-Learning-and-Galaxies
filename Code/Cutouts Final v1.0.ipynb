{
 "cells": [
  {
   "cell_type": "markdown",
   "metadata": {},
   "source": [
    "# Source detction"
   ]
  },
  {
   "cell_type": "code",
   "execution_count": null,
   "metadata": {},
   "outputs": [],
   "source": [
    "import numpy as np\n",
    "import matplotlib\n",
    "from matplotlib.colors import LogNorm\n",
    "import matplotlib.pyplot as plt\n",
    "from astroquery.sdss import SDSS"
   ]
  },
  {
   "cell_type": "code",
   "execution_count": null,
   "metadata": {},
   "outputs": [],
   "source": [
    "from astropy.io import fits\n",
    "from astropy import wcs\n",
    "fits_image_filename = '../Data/newfits/calexp-1-108438.fits'\n",
    "\n",
    "hdu_list = fits.open(fits_image_filename)\n",
    "hdu = fits.open(fits_image_filename)[1]\n",
    "w = wcs.WCS(hdu.header)"
   ]
  },
  {
   "cell_type": "code",
   "execution_count": null,
   "metadata": {},
   "outputs": [],
   "source": [
    "image_data = fits.getdata(fits_image_filename,0)\n",
    "print(type(image_data))\n",
    "print(image_data.shape)\n",
    "# Parse the WCS keywords in the primary HDU\n",
    "print(w)"
   ]
  },
  {
   "cell_type": "code",
   "execution_count": null,
   "metadata": {},
   "outputs": [],
   "source": [
    "from astropy.convolution import Gaussian2DKernel\n",
    "from photutils import Background2D, MedianBackground\n",
    "from photutils import detect_threshold, detect_sources\n",
    "data = image_data\n",
    "bkg_estimator = MedianBackground()\n",
    "bkg = Background2D(data, (50, 50), filter_size=(3, 3), bkg_estimator=bkg_estimator)\n",
    "threshold = bkg.background + (10. * bkg.background_rms)"
   ]
  },
  {
   "cell_type": "code",
   "execution_count": null,
   "metadata": {},
   "outputs": [],
   "source": [
    "from astropy.stats import gaussian_fwhm_to_sigma\n",
    "sigma = 3.0 * gaussian_fwhm_to_sigma  # FWHM = 3.\n",
    "kernel = Gaussian2DKernel(sigma, x_size=3, y_size=3)\n",
    "kernel.normalize()\n",
    "npixels = 5\n",
    "segm = detect_sources(data, threshold, npixels=npixels,filter_kernel=kernel)\n",
    "#segm_deblend = deblend_sources(data, segm, npixels=npixels,filter_kernel=kernel, nlevels=32,contrast=0.001)"
   ]
  },
  {
   "cell_type": "code",
   "execution_count": null,
   "metadata": {},
   "outputs": [],
   "source": [
    "from photutils import source_properties\n",
    "cat = source_properties(data, segm, wcs=w)\n",
    "df = tbl.to_pandas()"
   ]
  },
  {
   "cell_type": "code",
   "execution_count": null,
   "metadata": {},
   "outputs": [],
   "source": [
    "indexNames = df[df['xcentroid'] < 400].index\n",
    "dfsel = df.drop(indexNames)\n",
    "indexNames = dfsel[dfsel['xcentroid'] > 7776].index\n",
    "dfsel = dfsel.drop(indexNames)\n",
    "indexNames = dfsel[dfsel['ycentroid'] < 300].index\n",
    "dfsel = dfsel.drop(indexNames)\n",
    "indexNames = dfsel[dfsel['ycentroid'] > 5832].index\n",
    "dfsel = dfsel.drop(indexNames)\n",
    "indexNames = dfsel[dfsel['elongation'] > 10].index\n",
    "dfsel = dfsel.drop(indexNames)\n",
    "print(dfsel)\n",
    "dfsel = dfsel[['xcentroid','ycentroid','sky_centroid.ra','sky_centroid.dec','elongation','equivalent_radius','area']]"
   ]
  },
  {
   "cell_type": "code",
   "execution_count": null,
   "metadata": {},
   "outputs": [],
   "source": [
    "coords = list(zip(dfsel.xcentroid, dfsel.ycentroid))\n",
    "print(coords)\n",
    "dfsel['coords'] = coords"
   ]
  },
  {
   "cell_type": "markdown",
   "metadata": {},
   "source": [
    "# Cross Referencing"
   ]
  },
  {
   "cell_type": "code",
   "execution_count": null,
   "metadata": {},
   "outputs": [],
   "source": [
    "lon1, lat1 = w.all_pix2world(0, 0, 0)\n",
    "lon2, lat2 = w.all_pix2world(6132, 8176, 0)\n",
    "maxlon = max(lon1,lon2)\n",
    "minlon = min(lon1,lon2)\n",
    "maxlat = max(lat1,lat2)\n",
    "minlat = min(lat1,lat2)"
   ]
  },
  {
   "cell_type": "code",
   "execution_count": null,
   "metadata": {},
   "outputs": [],
   "source": [
    "query = f\"\"\"\n",
    "SELECT ra,dec\n",
    "FROM Galaxy\n",
    "WHERE ra between {minlon} and {maxlon}\n",
    "AND dec between {minlat} and {maxlat}\n",
    "AND g < 20\n",
    "\"\"\"\n",
    "res = SDSS.query_sql(query)\n",
    "galaxies = res.to_pandas()"
   ]
  },
  {
   "cell_type": "code",
   "execution_count": null,
   "metadata": {},
   "outputs": [],
   "source": [
    "query = f\"\"\"\n",
    "SELECT ra,dec\n",
    "FROM Star\n",
    "WHERE ra between {minlon} and {maxlon}\n",
    "AND dec between {minlat} and {maxlat}\n",
    "AND g < 20\n",
    "\"\"\"\n",
    "res = SDSS.query_sql(query)\n",
    "stars = res.to_pandas()"
   ]
  },
  {
   "cell_type": "code",
   "execution_count": 12,
   "metadata": {},
   "outputs": [],
   "source": [
    "def threesecapprox(x,y):\n",
    "    \"\"\"\n",
    "    compares if x and y are within 3 arcseconds of each other\n",
    "    \n",
    "    Arguments:\n",
    "    x (float): one value in degrees\n",
    "    \n",
    "    y (float): another value in degrees\n",
    "    \"\"\"\n",
    "    truth = x*206265 > y*206265-3 and x*206265 < y*206265+3\n",
    "    \n",
    "    return truth"
   ]
  },
  {
   "cell_type": "code",
   "execution_count": null,
   "metadata": {},
   "outputs": [],
   "source": []
  },
  {
   "cell_type": "markdown",
   "metadata": {},
   "source": [
    "# Cutting out"
   ]
  },
  {
   "cell_type": "code",
   "execution_count": null,
   "metadata": {},
   "outputs": [],
   "source": [
    "# Make the cutout, including the WCS\n",
    "cutout = Cutout2D(image_data, position=coords[1000], size=size, wcs=w)\n",
    "\n",
    "# Put the cutout image in the FITS HDU\n",
    "hdu = fits.PrimaryHDU(cutout.data)\n",
    "\n",
    "# Update the FITS header with the cutout WCS\n",
    "hdu.header.update(cutout.wcs.to_header(relax=False))\n",
    "\n",
    "\n",
    "# Write the cutout to a new FITS file\n",
    "cutout_filename = '004.fits'\n",
    "hdu.writeto(cutout_filename, overwrite=True)"
   ]
  }
 ],
 "metadata": {
  "kernelspec": {
   "display_name": "Python 3",
   "language": "python",
   "name": "python3"
  },
  "language_info": {
   "codemirror_mode": {
    "name": "ipython",
    "version": 3
   },
   "file_extension": ".py",
   "mimetype": "text/x-python",
   "name": "python",
   "nbconvert_exporter": "python",
   "pygments_lexer": "ipython3",
   "version": "3.7.6"
  }
 },
 "nbformat": 4,
 "nbformat_minor": 4
}
