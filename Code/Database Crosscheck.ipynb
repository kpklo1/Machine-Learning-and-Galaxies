{
 "cells": [
  {
   "cell_type": "markdown",
   "metadata": {},
   "source": [
    "# Database Crosscheck"
   ]
  },
  {
   "cell_type": "code",
   "execution_count": 2,
   "metadata": {},
   "outputs": [],
   "source": [
    "from astroquery.sdss import SDSS"
   ]
  },
  {
   "cell_type": "code",
   "execution_count": 3,
   "metadata": {},
   "outputs": [
    {
     "name": "stdout",
     "output_type": "stream",
     "text": [
      "{'star_O': 0, 'star_OB': 1, 'star_B': 2, 'star_A': [3, 4], 'star_FA': 5, 'star_F': [6, 7], 'star_G': [8, 9], 'star_K': 10, 'star_M1': 11, 'star_M3': 12, 'star_M5': 13, 'star_M8': 14, 'star_L1': 15, 'star_wd': [16, 20, 21], 'star_carbon': [17, 18, 19], 'star_Ksubdwarf': 22, 'galaxy_early': 23, 'galaxy': [24, 25, 26], 'galaxy_late': 27, 'galaxy_lrg': 28, 'qso': 29, 'qso_bal': [30, 31], 'qso_bright': 32}\n"
     ]
    }
   ],
   "source": [
    "print(SDSS.AVAILABLE_TEMPLATES)"
   ]
  },
  {
   "cell_type": "code",
   "execution_count": null,
   "metadata": {},
   "outputs": [],
   "source": [
    "SELECT ra,dec\n",
    "FROM Galaxy\n",
    "WHERE ra between 107.23536444893622 and 111.63706480539425\n",
    "AND dec between 48.981276188333865 and 51.066737075645605\n",
    "AND g > 20"
   ]
  },
  {
   "cell_type": "code",
   "execution_count": 29,
   "metadata": {},
   "outputs": [],
   "source": [
    "query = \"\"\"\n",
    "SELECT ra,dec\n",
    "FROM Galaxy\n",
    "WHERE ra between 107.23536444893622 and 111.63706480539425\n",
    "AND dec between 44 and 45\n",
    "AND g <14\n",
    "\"\"\"\n",
    "res = SDSS.query_sql(query)"
   ]
  },
  {
   "cell_type": "code",
   "execution_count": 30,
   "metadata": {},
   "outputs": [
    {
     "name": "stdout",
     "output_type": "stream",
     "text": [
      "       ra              dec       \n",
      "---------------- ----------------\n",
      "111.487090453715 44.0685578618502\n",
      "111.421583094121 44.7052255742422\n",
      " 111.18278415612 44.5522209778749\n"
     ]
    }
   ],
   "source": [
    "print(res)"
   ]
  },
  {
   "cell_type": "code",
   "execution_count": 25,
   "metadata": {},
   "outputs": [],
   "source": [
    "query = \"\"\"\n",
    "SELECT ra,dec\n",
    "FROM Star\n",
    "WHERE ra between 107.23536444893622 and 111.63706480539425\n",
    "AND dec between 48.981276188333865 and 51.066737075645605\n",
    "\"\"\"\n",
    "res = SDSS.query_sql(query)"
   ]
  },
  {
   "cell_type": "code",
   "execution_count": 28,
   "metadata": {},
   "outputs": [
    {
     "name": "stdout",
     "output_type": "stream",
     "text": [
      "None\n",
      "\n",
      "SELECT ra,dec\n",
      "FROM Star\n",
      "WHERE ra between 107.23536444893622 and 111.63706480539425\n",
      "AND dec between 48.981276188333865 and 51.066737075645605\n",
      "\n"
     ]
    }
   ],
   "source": [
    "print(res)"
   ]
  },
  {
   "cell_type": "code",
   "execution_count": 4,
   "metadata": {},
   "outputs": [],
   "source": [
    "from astropy.io import fits\n",
    "from astropy import wcs\n",
    "fits_image_filename = '../Data/fits/calexp-1-136326.fits'\n",
    "\n",
    "hdu_list = fits.open(fits_image_filename)\n",
    "hdu = fits.open(fits_image_filename)[1]\n",
    "w = wcs.WCS(hdu.header)"
   ]
  },
  {
   "cell_type": "code",
   "execution_count": 15,
   "metadata": {},
   "outputs": [
    {
     "name": "stdout",
     "output_type": "stream",
     "text": [
      "<class 'numpy.ndarray'>\n",
      "(6132, 8176)\n"
     ]
    }
   ],
   "source": [
    "image_data = fits.getdata(fits_image_filename,0)\n",
    "print(type(image_data))\n",
    "print(image_data.shape)"
   ]
  },
  {
   "cell_type": "code",
   "execution_count": 6,
   "metadata": {},
   "outputs": [
    {
     "name": "stdout",
     "output_type": "stream",
     "text": [
      "WCS Keywords\n",
      "\n",
      "Number of WCS axes: 2\n",
      "CTYPE : 'RA---TAN-SIP'  'DEC--TAN-SIP'  \n",
      "CRVAL : 110.023098651493  50.3970383595424  \n",
      "CRPIX : 4085.970136  3079.529769  \n",
      "CD1_1 CD1_2  : -1.6539238537465e-07  -0.000346982198809907  \n",
      "CD2_1 CD2_2  : 0.000346910845999464  -1.37876659879343e-07  \n",
      "NAXIS : 8176  6132\n"
     ]
    }
   ],
   "source": [
    "from astropy.coordinates import SkyCoord\n",
    "print(w)"
   ]
  },
  {
   "cell_type": "code",
   "execution_count": 16,
   "metadata": {},
   "outputs": [],
   "source": [
    "lon, lat = w.all_pix2world(6132, 8176, 0)"
   ]
  },
  {
   "cell_type": "code",
   "execution_count": 17,
   "metadata": {},
   "outputs": [
    {
     "name": "stdout",
     "output_type": "stream",
     "text": [
      "107.23536444893622 51.066737075645605\n"
     ]
    }
   ],
   "source": [
    "print(lon,lat)"
   ]
  },
  {
   "cell_type": "code",
   "execution_count": null,
   "metadata": {},
   "outputs": [],
   "source": []
  }
 ],
 "metadata": {
  "kernelspec": {
   "display_name": "Python 3",
   "language": "python",
   "name": "python3"
  },
  "language_info": {
   "codemirror_mode": {
    "name": "ipython",
    "version": 3
   },
   "file_extension": ".py",
   "mimetype": "text/x-python",
   "name": "python",
   "nbconvert_exporter": "python",
   "pygments_lexer": "ipython3",
   "version": "3.7.6"
  }
 },
 "nbformat": 4,
 "nbformat_minor": 4
}
